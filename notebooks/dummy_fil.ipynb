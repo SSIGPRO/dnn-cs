{
 "cells": [
  {
   "cell_type": "code",
   "execution_count": 3,
   "metadata": {},
   "outputs": [],
   "source": [
    "import torch\n",
    "import torch.nn as nn\n",
    " \n",
    "import os\n",
    "import numpy as np"
   ]
  },
  {
   "cell_type": "markdown",
   "metadata": {},
   "source": [
    "# Dummy UNET"
   ]
  },
  {
   "cell_type": "code",
   "execution_count": null,
   "metadata": {},
   "outputs": [],
   "source": [
    "class DoubleConv(nn.Module):\n",
    "    def __init__(self, in_channels, out_channels, kernel_size=(1, 3)):\n",
    "        super().__init__()\n",
    "\n",
    "        padding = (1, 1)\n",
    "\n",
    "        if not kernel_size[0]:\n",
    "            padding[0] = 0\n",
    "\n",
    "        self.conv_op = nn.Sequential(\n",
    "            nn.Conv2d(in_channels, out_channels, kernel_size=kernel_size, padding=padding),\n",
    "            nn.ReLU(inplace=True),\n",
    "            nn.Conv2d(out_channels, out_channels, kernel_size=kernel_size, padding=padding),\n",
    "            nn.ReLU(inplace=True)\n",
    "        )\n",
    "\n",
    "    def forward(self, x):\n",
    "        return self.conv_op(x)\n",
    "\n",
    "\n",
    "class DownSample(nn.Module):\n",
    "    def __init__(self, in_channels, out_channels, kernel_size=None, pool_kernel_size=None):\n",
    "        super().__init__()\n",
    "        self.conv = DoubleConv(in_channel, out_channel, kernel_size=kernel_size)\n",
    "        self.pool = nn.MaxPool2d(kernel_size=pool_kernel_size)\n",
    "\n",
    "    def forward(self, x):\n",
    "        down = self.conv(x)\n",
    "        p = self.pool(down)\n",
    "\n",
    "        return down, p\n",
    "\n",
    "\n",
    "class UpSample(nn.Module):\n",
    "    def __init__(self, in_channels, out_channels, kernel_size=None, pool_kernel_size=None):\n",
    "        super().__init__()\n",
    "\n",
    "        if kernel_size is None:\n",
    "            kernel_size = (1, 3)\n",
    "\n",
    "        self.up = nn.ConvTranspose2d(in_channels, in_channels//2, kernel_size=kernel_size)\n",
    "        self.conv = DoubleConv(in_channels, out_channels, kernel_size)\n",
    "\n",
    "    def forward(self, x1, x2):\n",
    "        x1 = self.up(x1)\n",
    "        x = torch.cat([x1, x2], 1)\n",
    "        return self.conv(x)\n",
    "\n",
    "\n",
    "class UNet(nn.Module):\n",
    "    def __init__(self, in_channels, num_classes, channels, kernel_size=None):\n",
    "        super().__init__()\n",
    "        self.down_convolution_1 = DownSample(in_channels, channels, kernel_size)\n",
    "        self.down_convolution_2 = DownSample(channels, channels*2, kernel_size)\n",
    "        self.down_convolution_3 = DownSample(channels*2, channels*4, kernel_size)\n",
    "        self.down_convolution_4 = DownSample(channels*4, channels*8, kernel_size)\n",
    "\n",
    "        self.bottle_neck = DoubleConv(channels*8, channels*16, kernel_size)\n",
    "\n",
    "        self.up_convolution_1 = UpSample(channels*16, channels*8, kernel_size)\n",
    "        self.up_convolution_2 = UpSample(channels*8, channels*4, kernel_size)\n",
    "        self.up_convolution_3 = UpSample(channels*4, channels*2, kernel_size)\n",
    "        self.up_convolution_4 = UpSample(channels*2, channels, kernel_size)\n",
    "\n",
    "        self.out = nn.Conv2d(in_channels=channels, out_channels=num_classes, kernel_size=1)\n",
    "\n",
    "    def forward(self, x):\n",
    "        print(x.shape)\n",
    "\n",
    "        down_1, p1 = self.down_convolution_1(x)\n",
    "        print(f'down_1 = {down_1.shape}, p1 = {p1.shape}')\n",
    "\n",
    "        down_2, p2 = self.down_convolution_2(p1)\n",
    "        print(f'down_2 = {down_2.shape}, p2 = {p2.shape}')\n",
    "\n",
    "        down_3, p3 = self.down_convolution_3(p2)\n",
    "        print(f'down_3 = {down_3.shape}, p3 = {p3.shape}')\n",
    "        \n",
    "        down_4, p4 = self.down_convolution_4(p3)\n",
    "        print(f'down_4 = {down_4.shape}, p4 = {p4.shape}')\n",
    "\n",
    "\n",
    "\n",
    "        b = self.bottle_neck(p4)\n",
    "        print(f'b = {b.shape}')\n",
    "\n",
    "\n",
    "\n",
    "        up_1 = self.up_convolution_1(b, down_4)\n",
    "        print(f'up_1 = {up_1.shape}')\n",
    "\n",
    "        up_2 = self.up_convolution_2(up_1, down_3)\n",
    "        print(f'up_2 = {up_2.shape}')\n",
    "\n",
    "        up_3 = self.up_convolution_3(up_2, down_2)\n",
    "        print(f'up_3 = {up_3.shape}')\n",
    "\n",
    "        up_4 = self.up_convolution_4(up_3, down_1)\n",
    "        print(f'up_4 = {up_4.shape}')\n",
    "\n",
    "        out = self.out(up_4)\n",
    "        return out"
   ]
  },
  {
   "cell_type": "code",
   "execution_count": 9,
   "metadata": {},
   "outputs": [
    {
     "name": "stdout",
     "output_type": "stream",
     "text": [
      "torch.Size([1, 1, 1, 128])\n",
      "down_1 = torch.Size([1, 16, 5, 128]), p1 = torch.Size([1, 16, 2, 64])\n",
      "down_2 = torch.Size([1, 32, 6, 64]), p2 = torch.Size([1, 32, 3, 32])\n",
      "down_3 = torch.Size([1, 64, 7, 32]), p3 = torch.Size([1, 64, 3, 16])\n",
      "down_4 = torch.Size([1, 128, 7, 16]), p4 = torch.Size([1, 128, 3, 8])\n",
      "b = torch.Size([1, 256, 7, 8])\n"
     ]
    },
    {
     "ename": "RuntimeError",
     "evalue": "Sizes of tensors must match except in dimension 1. Expected size 14 but got size 7 for tensor number 1 in the list.",
     "output_type": "error",
     "traceback": [
      "\u001b[0;31m---------------------------------------------------------------------------\u001b[0m",
      "\u001b[0;31mRuntimeError\u001b[0m                              Traceback (most recent call last)",
      "Cell \u001b[0;32mIn[9], line 8\u001b[0m\n\u001b[1;32m      5\u001b[0m input_image \u001b[38;5;241m=\u001b[39m torch\u001b[38;5;241m.\u001b[39mrand(inp_shape)\n\u001b[1;32m      7\u001b[0m model \u001b[38;5;241m=\u001b[39m UNet(\u001b[38;5;241m1\u001b[39m, \u001b[38;5;241m10\u001b[39m, channels\u001b[38;5;241m=\u001b[39m\u001b[38;5;241m16\u001b[39m, kernel_size\u001b[38;5;241m=\u001b[39m(\u001b[38;5;241m1\u001b[39m, \u001b[38;5;241m3\u001b[39m))\n\u001b[0;32m----> 8\u001b[0m output \u001b[38;5;241m=\u001b[39m \u001b[43mmodel\u001b[49m\u001b[43m(\u001b[49m\u001b[43minput_image\u001b[49m\u001b[43m)\u001b[49m\n\u001b[1;32m      9\u001b[0m \u001b[38;5;28mprint\u001b[39m(output\u001b[38;5;241m.\u001b[39msize())\n\u001b[1;32m     10\u001b[0m \u001b[38;5;66;03m# You should get torch.Size([1, 10, 512, 512]) as a result\u001b[39;00m\n",
      "File \u001b[0;32m~/miniconda3/envs/xtorch/lib/python3.10/site-packages/torch/nn/modules/module.py:1194\u001b[0m, in \u001b[0;36mModule._call_impl\u001b[0;34m(self, *input, **kwargs)\u001b[0m\n\u001b[1;32m   1190\u001b[0m \u001b[38;5;66;03m# If we don't have any hooks, we want to skip the rest of the logic in\u001b[39;00m\n\u001b[1;32m   1191\u001b[0m \u001b[38;5;66;03m# this function, and just call forward.\u001b[39;00m\n\u001b[1;32m   1192\u001b[0m \u001b[38;5;28;01mif\u001b[39;00m \u001b[38;5;129;01mnot\u001b[39;00m (\u001b[38;5;28mself\u001b[39m\u001b[38;5;241m.\u001b[39m_backward_hooks \u001b[38;5;129;01mor\u001b[39;00m \u001b[38;5;28mself\u001b[39m\u001b[38;5;241m.\u001b[39m_forward_hooks \u001b[38;5;129;01mor\u001b[39;00m \u001b[38;5;28mself\u001b[39m\u001b[38;5;241m.\u001b[39m_forward_pre_hooks \u001b[38;5;129;01mor\u001b[39;00m _global_backward_hooks\n\u001b[1;32m   1193\u001b[0m         \u001b[38;5;129;01mor\u001b[39;00m _global_forward_hooks \u001b[38;5;129;01mor\u001b[39;00m _global_forward_pre_hooks):\n\u001b[0;32m-> 1194\u001b[0m     \u001b[38;5;28;01mreturn\u001b[39;00m \u001b[43mforward_call\u001b[49m\u001b[43m(\u001b[49m\u001b[38;5;241;43m*\u001b[39;49m\u001b[38;5;28;43minput\u001b[39;49m\u001b[43m,\u001b[49m\u001b[43m \u001b[49m\u001b[38;5;241;43m*\u001b[39;49m\u001b[38;5;241;43m*\u001b[39;49m\u001b[43mkwargs\u001b[49m\u001b[43m)\u001b[49m\n\u001b[1;32m   1195\u001b[0m \u001b[38;5;66;03m# Do not call functions when jit is used\u001b[39;00m\n\u001b[1;32m   1196\u001b[0m full_backward_hooks, non_full_backward_hooks \u001b[38;5;241m=\u001b[39m [], []\n",
      "Cell \u001b[0;32mIn[8], line 74\u001b[0m, in \u001b[0;36mUNet.forward\u001b[0;34m(self, x)\u001b[0m\n\u001b[1;32m     71\u001b[0m b \u001b[38;5;241m=\u001b[39m \u001b[38;5;28mself\u001b[39m\u001b[38;5;241m.\u001b[39mbottle_neck(p4)\n\u001b[1;32m     72\u001b[0m \u001b[38;5;28mprint\u001b[39m(\u001b[38;5;124mf\u001b[39m\u001b[38;5;124m'\u001b[39m\u001b[38;5;124mb = \u001b[39m\u001b[38;5;132;01m{\u001b[39;00mb\u001b[38;5;241m.\u001b[39mshape\u001b[38;5;132;01m}\u001b[39;00m\u001b[38;5;124m'\u001b[39m)\n\u001b[0;32m---> 74\u001b[0m up_1 \u001b[38;5;241m=\u001b[39m \u001b[38;5;28;43mself\u001b[39;49m\u001b[38;5;241;43m.\u001b[39;49m\u001b[43mup_convolution_1\u001b[49m\u001b[43m(\u001b[49m\u001b[43mb\u001b[49m\u001b[43m,\u001b[49m\u001b[43m \u001b[49m\u001b[43mdown_4\u001b[49m\u001b[43m)\u001b[49m\n\u001b[1;32m     75\u001b[0m \u001b[38;5;28mprint\u001b[39m(\u001b[38;5;124mf\u001b[39m\u001b[38;5;124m'\u001b[39m\u001b[38;5;124mup_1 = \u001b[39m\u001b[38;5;132;01m{\u001b[39;00mup_1\u001b[38;5;241m.\u001b[39mshape\u001b[38;5;132;01m}\u001b[39;00m\u001b[38;5;124m'\u001b[39m)\n\u001b[1;32m     76\u001b[0m up_2 \u001b[38;5;241m=\u001b[39m \u001b[38;5;28mself\u001b[39m\u001b[38;5;241m.\u001b[39mup_convolution_2(up_1, down_3)\n",
      "File \u001b[0;32m~/miniconda3/envs/xtorch/lib/python3.10/site-packages/torch/nn/modules/module.py:1194\u001b[0m, in \u001b[0;36mModule._call_impl\u001b[0;34m(self, *input, **kwargs)\u001b[0m\n\u001b[1;32m   1190\u001b[0m \u001b[38;5;66;03m# If we don't have any hooks, we want to skip the rest of the logic in\u001b[39;00m\n\u001b[1;32m   1191\u001b[0m \u001b[38;5;66;03m# this function, and just call forward.\u001b[39;00m\n\u001b[1;32m   1192\u001b[0m \u001b[38;5;28;01mif\u001b[39;00m \u001b[38;5;129;01mnot\u001b[39;00m (\u001b[38;5;28mself\u001b[39m\u001b[38;5;241m.\u001b[39m_backward_hooks \u001b[38;5;129;01mor\u001b[39;00m \u001b[38;5;28mself\u001b[39m\u001b[38;5;241m.\u001b[39m_forward_hooks \u001b[38;5;129;01mor\u001b[39;00m \u001b[38;5;28mself\u001b[39m\u001b[38;5;241m.\u001b[39m_forward_pre_hooks \u001b[38;5;129;01mor\u001b[39;00m _global_backward_hooks\n\u001b[1;32m   1193\u001b[0m         \u001b[38;5;129;01mor\u001b[39;00m _global_forward_hooks \u001b[38;5;129;01mor\u001b[39;00m _global_forward_pre_hooks):\n\u001b[0;32m-> 1194\u001b[0m     \u001b[38;5;28;01mreturn\u001b[39;00m \u001b[43mforward_call\u001b[49m\u001b[43m(\u001b[49m\u001b[38;5;241;43m*\u001b[39;49m\u001b[38;5;28;43minput\u001b[39;49m\u001b[43m,\u001b[49m\u001b[43m \u001b[49m\u001b[38;5;241;43m*\u001b[39;49m\u001b[38;5;241;43m*\u001b[39;49m\u001b[43mkwargs\u001b[49m\u001b[43m)\u001b[49m\n\u001b[1;32m   1195\u001b[0m \u001b[38;5;66;03m# Do not call functions when jit is used\u001b[39;00m\n\u001b[1;32m   1196\u001b[0m full_backward_hooks, non_full_backward_hooks \u001b[38;5;241m=\u001b[39m [], []\n",
      "Cell \u001b[0;32mIn[8], line 36\u001b[0m, in \u001b[0;36mUpSample.forward\u001b[0;34m(self, x1, x2)\u001b[0m\n\u001b[1;32m     34\u001b[0m \u001b[38;5;28;01mdef\u001b[39;00m \u001b[38;5;21mforward\u001b[39m(\u001b[38;5;28mself\u001b[39m, x1, x2):\n\u001b[1;32m     35\u001b[0m     x1 \u001b[38;5;241m=\u001b[39m \u001b[38;5;28mself\u001b[39m\u001b[38;5;241m.\u001b[39mup(x1)\n\u001b[0;32m---> 36\u001b[0m     x \u001b[38;5;241m=\u001b[39m \u001b[43mtorch\u001b[49m\u001b[38;5;241;43m.\u001b[39;49m\u001b[43mcat\u001b[49m\u001b[43m(\u001b[49m\u001b[43m[\u001b[49m\u001b[43mx1\u001b[49m\u001b[43m,\u001b[49m\u001b[43m \u001b[49m\u001b[43mx2\u001b[49m\u001b[43m]\u001b[49m\u001b[43m,\u001b[49m\u001b[43m \u001b[49m\u001b[38;5;241;43m1\u001b[39;49m\u001b[43m)\u001b[49m\n\u001b[1;32m     37\u001b[0m     \u001b[38;5;28;01mreturn\u001b[39;00m \u001b[38;5;28mself\u001b[39m\u001b[38;5;241m.\u001b[39mconv(x)\n",
      "\u001b[0;31mRuntimeError\u001b[0m: Sizes of tensors must match except in dimension 1. Expected size 14 but got size 7 for tensor number 1 in the list."
     ]
    }
   ],
   "source": [
    "n = 128\n",
    "\n",
    "inp_shape = (1, 1, 1, n)\n",
    "\n",
    "input_image = torch.rand(inp_shape)\n",
    "\n",
    "model = UNet(1, 10, channels=16, kernel_size=(1, 3))\n",
    "output = model(input_image)\n",
    "print(output.size())\n",
    "# You should get torch.Size([1, 10, 512, 512]) as a result"
   ]
  },
  {
   "cell_type": "code",
   "execution_count": 11,
   "metadata": {},
   "outputs": [],
   "source": [
    "x = torch.ones((1, 1, 1, n))"
   ]
  },
  {
   "cell_type": "code",
   "execution_count": 17,
   "metadata": {},
   "outputs": [
    {
     "data": {
      "text/plain": [
       "torch.Size([1, 4, 3, 128])"
      ]
     },
     "execution_count": 17,
     "metadata": {},
     "output_type": "execute_result"
    }
   ],
   "source": [
    "in_channels, out_channels = 1, 4\n",
    "kernel_size = (1, 3)\n",
    "padding_size = (1, 1)\n",
    "padding_size = 1\n",
    "\n",
    "lconv = nn.Conv2d(in_channels, out_channels, kernel_size=kernel_size, padding=padding_size)\n",
    "lconv(x).shape\n",
    "\n"
   ]
  },
  {
   "cell_type": "code",
   "execution_count": null,
   "metadata": {},
   "outputs": [],
   "source": []
  }
 ],
 "metadata": {
  "kernelspec": {
   "display_name": "xtorch",
   "language": "python",
   "name": "python3"
  },
  "language_info": {
   "codemirror_mode": {
    "name": "ipython",
    "version": 3
   },
   "file_extension": ".py",
   "mimetype": "text/x-python",
   "name": "python",
   "nbconvert_exporter": "python",
   "pygments_lexer": "ipython3",
   "version": "3.10.9"
  }
 },
 "nbformat": 4,
 "nbformat_minor": 2
}
