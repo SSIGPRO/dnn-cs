{
 "cells": [
  {
   "cell_type": "markdown",
   "metadata": {},
   "source": [
    "# Dummy UNET"
   ]
  },
  {
   "cell_type": "markdown",
   "metadata": {},
   "source": [
    "## Imports"
   ]
  },
  {
   "cell_type": "code",
   "execution_count": null,
   "metadata": {},
   "outputs": [],
   "source": [
    "import torch\n",
    "import torch.nn as nn\n",
    "from torch.optim.lr_scheduler import ReduceLROnPlateau\n",
    "import torch.utils\n",
    "import torch.utils.data\n",
    "from torch.utils.data import DataLoader, random_split\n",
    "\n",
    "import time\n",
    "from tqdm import tqdm\n",
    "\n",
    " \n",
    "import os\n",
    "import pickle as pkl\n",
    "import numpy as np\n",
    "import pandas as pd\n",
    "\n",
    "import sys ; sys.path.append('..')  # useful if you're running locally\n",
    "\n",
    "from matplotlib import pyplot as plt\n"
   ]
  },
  {
   "cell_type": "code",
   "execution_count": null,
   "metadata": {},
   "outputs": [],
   "source": [
    "# import of local modules\n",
    "root = os.path.dirname(os.path.dirname(os.path.realpath('__file__')))\n",
    "sys.path.insert(0, os.path.join(root, 'src'))\n",
    "\n",
    "from dataset import dataset_dir\n",
    "from cs import CompressedSensing, generate_sensing_matrix\n",
    "from cs.utils import compute_rsnr\n",
    "from models.unet import UNet"
   ]
  },
  {
   "cell_type": "markdown",
   "metadata": {},
   "source": [
    "#### Set GPUs"
   ]
  },
  {
   "cell_type": "code",
   "execution_count": 2,
   "metadata": {},
   "outputs": [],
   "source": [
    "os.environ[\"CUDA_DEVICE_ORDER\"]=\"PCI_BUS_ID\"\n",
    "os.environ[\"CUDA_VISIBLE_DEVICES\"]=\"7\"\n",
    "\n",
    "os.environ['SCIPY_USE_PROPACK'] = \"True\"\n",
    " \n",
    "threads = \"64\"\n",
    "os.environ[\"OMP_NUM_THREADS\"] = threads\n",
    "os.environ[\"OPENBLAS_NUM_THREADS\"] = threads\n",
    "os.environ[\"MKL_NUM_THREADS\"] = threads\n",
    "os.environ[\"VECLIB_MAXIMUM_THREADS\"] = threads\n",
    "os.environ[\"NUMEXPR_NUM_THREADS\"] = threads"
   ]
  },
  {
   "cell_type": "markdown",
   "metadata": {},
   "source": [
    "## Parameters"
   ]
  },
  {
   "cell_type": "code",
   "execution_count": 58,
   "metadata": {},
   "outputs": [],
   "source": [
    "N = 10_000\n",
    "n = 128\n",
    "m = 48\n",
    "fs = 256\n",
    "hr = [60, 100]\n",
    "isnr = 35 # dB\n",
    "seed = 0\n",
    "\n",
    "supp_method = 'TSOC2'\n",
    "mode_A = 'standard'\n",
    "orth = True"
   ]
  },
  {
   "cell_type": "markdown",
   "metadata": {},
   "source": [
    "## DATASET"
   ]
  },
  {
   "cell_type": "code",
   "execution_count": null,
   "metadata": {},
   "outputs": [],
   "source": [
    "root = os.path.join('..', '..','newpenny','dnn-cs','tsoc','data')\n",
    "str_ecg_setting = f'ecg_N={N}_n={n}_fs={fs}_hr={hr[0]}-{hr[1]}_isnr={isnr}_seed={seed}'\n",
    "\n",
    "path_ecg = os.path.join(root, str_ecg_setting + '.pkl')\n",
    "path_s_GR = os.path.join(root, str_ecg_setting, 'supports_method=GR_eta=0.9999.pkl')\n",
    "path_s_standard = os.path.join(root, str_ecg_setting, f'supports_method={supp_method}_mode={mode_A}_m={m}_orth={orth}_seed={seed}.pkl')\n",
    "path_corr = os.path.join('..', '..','newpenny','dnn-cs','tsoc','data','correlation', '96af96a7ddfcb2f6059092c250e18f2a.pkl')"
   ]
  },
  {
   "cell_type": "code",
   "execution_count": null,
   "metadata": {},
   "outputs": [],
   "source": [
    "with open(path_ecg, 'rb') as f:\n",
    "    ecg = pkl.load(f)\n",
    "with open(path_s_standard, 'rb') as f:\n",
    "    s = pkl.load(f)\n",
    "with open(path_corr, 'rb') as f:\n",
    "    corr = pkl.load(f)"
   ]
  },
  {
   "cell_type": "code",
   "execution_count": null,
   "metadata": {},
   "outputs": [],
   "source": [
    "train_size = int(0.7 * len(ecg))\n",
    "val_size = int(0.1 * len(ecg))\n",
    "test_size = int(0.2 * len(ecg))\n",
    "train_dataset, val_dataset, test_dataset = random_split(ecg, [train_size, val_size, test_size])"
   ]
  },
  {
   "cell_type": "code",
   "execution_count": null,
   "metadata": {},
   "outputs": [],
   "source": [
    "# with open('mnist1d_data.pkl', 'rb') as f:\n",
    "#     dataset = pkl.load(f)\n",
    "#     x_train = dataset['x'][..., np.newaxis]\n",
    "#     x_test = dataset['x_test'][..., np.newaxis]\n"
   ]
  },
  {
   "cell_type": "markdown",
   "metadata": {},
   "source": [
    "### A generation"
   ]
  },
  {
   "cell_type": "code",
   "execution_count": null,
   "metadata": {},
   "outputs": [],
   "source": [
    "A = np.random.normal(0, 1, (m, n))"
   ]
  },
  {
   "cell_type": "code",
   "execution_count": 5,
   "metadata": {},
   "outputs": [],
   "source": [
    "def derive_things(x, xbar_index=[1], return_x=True, return_y=True):\n",
    "\n",
    "    if x.shape[-1] != 1:\n",
    "        x = np.swapaxes(x, -1, -2)\n",
    "    y = A @ x\n",
    "\n",
    "    outputs = []\n",
    "    if return_x:\n",
    "        outputs += [x]\n",
    "    if return_y:\n",
    "        outputs += [y]\n",
    "\n",
    "    if 1 in xbar_index:\n",
    "        outputs += [A.T @ y]\n",
    "    if 2 in xbar_index:\n",
    "        xbar2 =+ [np.linalg.pinv(A) @ y]\n",
    "\n",
    "    if x.shape[-1] == 1:\n",
    "        outputs = [np.swapaxes(i, -1, -2) for i in outputs]\n",
    "\n",
    "    return outputs"
   ]
  },
  {
   "cell_type": "code",
   "execution_count": 6,
   "metadata": {},
   "outputs": [
    {
     "data": {
      "text/plain": [
       "(4000, 40, 1)"
      ]
     },
     "execution_count": 6,
     "metadata": {},
     "output_type": "execute_result"
    }
   ],
   "source": [
    "x_train.shape"
   ]
  },
  {
   "cell_type": "code",
   "execution_count": 7,
   "metadata": {},
   "outputs": [
    {
     "name": "stdout",
     "output_type": "stream",
     "text": [
      "x shape: (4000, 1, 40) \n",
      "y shape: (4000, 1, 15) \n",
      "xbar shape: (4000, 1, 40)\n"
     ]
    }
   ],
   "source": [
    "x_train, y_train, xbar_train = derive_things(x_train)\n",
    "x_val, y_val, xbar_val = derive_things(x_val)\n",
    "x_test, y_test, xbar_test = derive_things(x_test)\n",
    "\n",
    "channels = x_train.shape[-2]\n",
    "print('x shape:', x_train.shape, '\\ny shape:', y_train.shape, '\\nxbar shape:', xbar_train.shape)"
   ]
  },
  {
   "cell_type": "markdown",
   "metadata": {},
   "source": [
    "## DATA LOADER"
   ]
  },
  {
   "cell_type": "code",
   "execution_count": 8,
   "metadata": {},
   "outputs": [],
   "source": [
    "class Dataset_aug(torch.utils.data.Dataset):\n",
    "    def __init__(self, train_input, train_output,mode='train'):\n",
    "        self.train_input = train_input\n",
    "        self.train_output = train_output\n",
    "        self.mode = mode\n",
    "        \n",
    "    def __len__(self):\n",
    "        return len(self.train_input)\n",
    "    \n",
    "    def _augmentations(self,input_data, target_data):\n",
    "        #flip\n",
    "        if np.random.rand()<0.5:    \n",
    "            input_data = input_data[::-1]\n",
    "            target_data = target_data[::-1]\n",
    "        return input_data, target_data\n",
    "    \n",
    "    def __getitem__(self, idx):\n",
    "        x = self.train_input[idx]\n",
    "        y = self.train_output[idx]\n",
    "        if self.mode =='train_aug':\n",
    "            x,y = self._augmentations(x,y)\n",
    "\n",
    "        out_y = torch.tensor(y.copy(), dtype=torch.float)\n",
    "        out_x = torch.tensor(x.copy(), dtype=torch.float)\n",
    "        \n",
    "        # out_x = torch.tensor(np.transpose(x.copy(),(1,0)), dtype=torch.float)\n",
    "        # out_y = torch.tensor(np.transpose(y.copy(),(1,0)), dtype=torch.float)\n",
    "        return out_x, out_y"
   ]
  },
  {
   "cell_type": "code",
   "execution_count": 9,
   "metadata": {},
   "outputs": [],
   "source": [
    "batch_size = 64\n",
    "train = Dataset_aug(xbar_train, x_train, mode='train')\n",
    "valid = Dataset_aug(xbar_val, x_val, mode='valid')\n",
    "test = Dataset_aug(xbar_test, x_test, mode='test')\n",
    "\n",
    "train_loader = torch.utils.data.DataLoader(train, batch_size=batch_size, shuffle=True)\n",
    "val_loader = torch.utils.data.DataLoader(valid, batch_size=batch_size, shuffle=False)\n",
    "test_loader = torch.utils.data.DataLoader(test, batch_size=batch_size, shuffle=False)"
   ]
  },
  {
   "cell_type": "markdown",
   "metadata": {},
   "source": [
    "Early stopping parameters"
   ]
  },
  {
   "cell_type": "code",
   "execution_count": 10,
   "metadata": {},
   "outputs": [],
   "source": [
    "early_stopping_patience = 20\n",
    "best_val_loss = float('inf')\n",
    "patience_counter = 0"
   ]
  },
  {
   "cell_type": "markdown",
   "metadata": {},
   "source": [
    "GPU selection"
   ]
  },
  {
   "cell_type": "code",
   "execution_count": 11,
   "metadata": {},
   "outputs": [
    {
     "name": "stdout",
     "output_type": "stream",
     "text": [
      "Using cpu device\n"
     ]
    }
   ],
   "source": [
    "use_cuda = torch.cuda.is_available()\n",
    "cuda_index = torch.cuda.device_count() - 1\n",
    "device = torch.device(f\"cuda:{cuda_index}\" if use_cuda else \"cpu\")\n",
    "print(f\"Using {device} device\")"
   ]
  },
  {
   "cell_type": "markdown",
   "metadata": {},
   "source": [
    "## MODEL"
   ]
  },
  {
   "cell_type": "code",
   "execution_count": null,
   "metadata": {},
   "outputs": [],
   "source": [
    "model = UNet(in_channels=channels, num_classes=channels,\n",
    "                  channels=8, steps_num=2, kernel_size=3, residual=False,\n",
    "                  use_batch_norm=False, simple_pool=True)\n",
    "\n",
    "criterion = nn.CrossEntropyLoss()\n",
    "optimizer = torch.optim.Adam(model.parameters(), lr=0.001)"
   ]
  },
  {
   "cell_type": "markdown",
   "metadata": {},
   "source": [
    "#### to(GPU)"
   ]
  },
  {
   "cell_type": "code",
   "execution_count": 13,
   "metadata": {},
   "outputs": [],
   "source": [
    "model = model.to(device)\n",
    "for inputs, targets in train_loader:\n",
    "    \n",
    "    inputs, targets = inputs.to(device), targets.to(device)\n",
    "    \n",
    "    outputs = model(inputs)"
   ]
  },
  {
   "cell_type": "markdown",
   "metadata": {},
   "source": [
    "## TRAINING"
   ]
  },
  {
   "cell_type": "code",
   "execution_count": 14,
   "metadata": {},
   "outputs": [
    {
     "data": {
      "text/plain": [
       "(torch.Size([32, 1, 40]), torch.Size([32, 1, 40]), torch.Size([32, 1, 40]))"
      ]
     },
     "execution_count": 14,
     "metadata": {},
     "output_type": "execute_result"
    }
   ],
   "source": [
    "outputs.shape, targets.shape, inputs.shape"
   ]
  },
  {
   "cell_type": "code",
   "execution_count": 17,
   "metadata": {},
   "outputs": [
    {
     "name": "stderr",
     "output_type": "stream",
     "text": [
      "100%|██████████| 100/100 [01:11<00:00,  1.40it/s]\n"
     ]
    }
   ],
   "source": [
    "num_epochs = 100\n",
    "patience_counter = 0\n",
    "\n",
    "for epoch in tqdm(range(num_epochs)):\n",
    "    model.train()\n",
    "    train_loss = 0.0\n",
    "    \n",
    "    for data in train_loader:\n",
    "        inputs, targets = data\n",
    "        inputs, targets = inputs.to(device), targets.to(device)\n",
    "        \n",
    "        optimizer.zero_grad()\n",
    "        outputs = model(inputs)\n",
    "        loss = criterion(outputs, targets)\n",
    "        loss.backward()\n",
    "        optimizer.step()\n",
    "        train_loss += loss.item()\n",
    "\n",
    "    # calculate validation loss\n",
    "    model.eval()\n",
    "    val_loss = 0.0\n",
    "    val_loss_list = []\n",
    "    val_correct_predictions = 0\n",
    "    val_total_predictions = 0\n",
    "    \n",
    "    with torch.no_grad():\n",
    "        for data in val_loader:\n",
    "            inputs, targets = data\n",
    "            inputs, targets = inputs.to(device), targets.to(device)\n",
    "            \n",
    "            outputs = model(inputs)\n",
    "            loss = criterion(outputs, targets)\n",
    "            val_loss += loss.item()\n",
    "\n",
    "            val_loss_list += [val_loss]\n",
    "\n",
    "\n",
    "    train_loss /= len(train_loader)\n",
    "    val_loss /= len(val_loader)\n",
    "    \n",
    "    #print(f'Epoch [{epoch + 1}/{num_epochs}], Train Loss: {train_loss:.4f}, Val Loss: {val_loss:.4f}')\n",
    "    print(f'Epoch [{epoch + 1}/{num_epochs}], Train Loss: {train_loss:.4f}, Val Loss: {val_loss:.4f}, ')\n",
    "        #   f'Train SNR: {train_SNR:.2f}%, Val Accuracy: {val_SNR:.2f}%')\n",
    "    \n",
    "    # early stopping check\n",
    "    if val_loss < best_val_loss:\n",
    "        best_val_loss = val_loss\n",
    "        patience_counter = 0\n",
    "    else:\n",
    "        patience_counter += 1\n",
    "        if patience_counter >= early_stopping_patience:\n",
    "            print(\"Early stopping: Validation loss hasn't improved for\", early_stopping_patience, \"epochs.\")\n",
    "            break\n"
   ]
  },
  {
   "cell_type": "code",
   "execution_count": 20,
   "metadata": {},
   "outputs": [
    {
     "data": {
      "text/plain": [
       "[<matplotlib.lines.Line2D at 0x7f0dad154c70>]"
      ]
     },
     "execution_count": 20,
     "metadata": {},
     "output_type": "execute_result"
    },
    {
     "data": {
      "image/png": "[encoded data removed]",
      "text/plain": [
       "<Figure size 640x480 with 1 Axes>"
      ]
     },
     "metadata": {},
     "output_type": "display_data"
    }
   ],
   "source": [
    "plt.plot(val_loss_list)"
   ]
  },
  {
   "cell_type": "code",
   "execution_count": null,
   "metadata": {},
   "outputs": [],
   "source": []
  },
  {
   "cell_type": "code",
   "execution_count": null,
   "metadata": {},
   "outputs": [],
   "source": []
  },
  {
   "cell_type": "code",
   "execution_count": null,
   "metadata": {},
   "outputs": [],
   "source": [
    "## Hyperparameter\n",
    "n_epochs = 100\n",
    "lr = 0.001\n",
    "\n",
    "##Loss function\n",
    "loss_fn = torch.nn.MSELoss()\n",
    "\n",
    "#Build model, initial weight and optimizer\n",
    "model = model.to(device)\n",
    "optimizer = torch.optim.Adam(model.parameters(), lr = lr,weight_decay=1e-5) # Using Adam optimizer\n",
    "scheduler = ReduceLROnPlateau(optimizer, 'min', patience=10, factor=0.2, min_lr=1e-8) # Using ReduceLROnPlateau schedule\n",
    "temp_val_loss = 1e5\n"
   ]
  },
  {
   "cell_type": "code",
   "execution_count": null,
   "metadata": {},
   "outputs": [],
   "source": [
    "\n",
    "\n",
    "for epoch in range(n_epochs):\n",
    "    \n",
    "    start_time = time.time()\n",
    "    model.train()\n",
    "    avg_loss = 0.\n",
    "    for i, (x_batch, y_batch) in enumerate(train_loader):\n",
    "        y_pred = model(x_batch.cuda())\n",
    "        \n",
    "        loss = loss_fn(y_pred.cpu(), y_batch)\n",
    "        \n",
    "        optimizer.zero_grad()\n",
    "        loss.backward()\n",
    "\n",
    "        optimizer.step()\n",
    "        avg_loss += loss.item()/len(train_loader)\n",
    "\n",
    "        # pred = F.softmax(y_pred, 1).detach().cpu().numpy().argmax(axis=1)\n",
    "        # train_preds[i * batch_size*train_input.shape[1]:(i+1) * batch_size*train_input.shape[1]] = pred.reshape((-1))\n",
    "        # train_targets[i * batch_size*train_input.shape[1]:(i+1) * batch_size*train_input.shape[1]] = y_batch.detach().cpu().argmax(axis=1).reshape((-1))\n",
    "        del y_pred, loss, x_batch, y_batch, pred\n",
    "        \n",
    "        \n",
    "    model.eval()\n",
    "\n",
    "    avg_val_loss = 0.\n",
    "    for i, (x_batch, y_batch) in enumerate(valid_loader):\n",
    "        y_pred = model(x_batch.cuda()).detach()\n",
    "\n",
    "        avg_val_loss += loss_fn(y_pred.cpu(), y_batch).item() / len(valid_loader)\n",
    "        pred = F.softmax(y_pred, 1).detach().cpu().numpy().argmax(axis=1)\n",
    "        val_preds[i * batch_size*val_input.shape[1]:(i+1) * batch_size*val_input.shape[1]] = pred.reshape((-1))\n",
    "        del y_pred, x_batch, y_batch, pred\n",
    "        \n",
    "    if avg_val_loss<temp_val_loss:\n",
    "        #print ('checkpoint_save')\n",
    "        temp_val_loss = avg_val_loss\n",
    "        torch.save(model.state_dict(), 'ION_train_checkpoint.pt')\n",
    "        \n",
    "    train_score = f1_score(train_targets,train_preds,average = 'macro')\n",
    "    val_score = f1_score(val_target.argmax(axis=2).reshape((-1)),val_preds,average = 'macro')\n",
    "    \n",
    "    elapsed_time = time.time() - start_time \n",
    "    scheduler.step(avg_val_loss)\n",
    "    \n",
    "    print('Epoch {}/{} \\t loss={:.4f} \\t train_f1={:.4f} \\t val_loss={:.4f} \\t val_f1={:.4f} \\t time={:.2f}s'.format(\n",
    "        epoch + 1, n_epochs, avg_loss,train_score, avg_val_loss,val_score, elapsed_time))"
   ]
  },
  {
   "cell_type": "code",
   "execution_count": null,
   "metadata": {},
   "outputs": [],
   "source": []
  },
  {
   "cell_type": "code",
   "execution_count": null,
   "metadata": {},
   "outputs": [
    {
     "name": "stdout",
     "output_type": "stream",
     "text": [
      "output shape torch.Size([1, 3, 128])\n"
     ]
    }
   ],
   "source": [
    "n = 128\n",
    "\n",
    "inp_shape = (1, 3, n)\n",
    "\n",
    "input_image = torch.rand(inp_shape)\n",
    "\n",
    "\n",
    "output = model(input_image)\n",
    "print('output shape', output.size())"
   ]
  },
  {
   "cell_type": "code",
   "execution_count": null,
   "metadata": {},
   "outputs": [
    {
     "data": {
      "text/plain": [
       "torch.Size([1, 4, 2])"
      ]
     },
     "execution_count": 4,
     "metadata": {},
     "output_type": "execute_result"
    }
   ],
   "source": [
    "x = torch.ones((1, 2, 4))\n",
    "padding, out_padding = 0, 0\n",
    "dilation = 1\n",
    "nn.Conv1d(\n",
    "    in_channels=2,\n",
    "    out_channels=4,\n",
    "    kernel_size=2,\n",
    "    stride=2)(x).shape"
   ]
  },
  {
   "cell_type": "code",
   "execution_count": null,
   "metadata": {},
   "outputs": [
    {
     "data": {
      "text/plain": [
       "torch.Size([1, 2, 8, 8])"
      ]
     },
     "execution_count": 45,
     "metadata": {},
     "output_type": "execute_result"
    }
   ],
   "source": [
    "x = torch.ones((1, 2, 4, 4))\n",
    "padding, out_padding = 0, 0\n",
    "dilation = 1\n",
    "nn.ConvTranspose2d(\n",
    "    in_channels=2,\n",
    "    out_channels=2, \n",
    "    padding=padding, \n",
    "    dilation=dilation, \n",
    "    kernel_size=2, \n",
    "    stride=2,\n",
    "    output_padding=out_padding)(x).shape"
   ]
  },
  {
   "cell_type": "code",
   "execution_count": null,
   "metadata": {},
   "outputs": [
    {
     "data": {
      "text/plain": [
       "torch.Size([1, 4, 3, 128])"
      ]
     },
     "execution_count": 17,
     "metadata": {},
     "output_type": "execute_result"
    }
   ],
   "source": [
    "in_channels, out_channels = 1, 4\n",
    "kernel_size = (1, 3)\n",
    "padding_size = (1, 1)\n",
    "padding_size = 1\n",
    "\n",
    "lconv = nn.Conv2d(in_channels, out_channels, kernel_size=kernel_size, padding=padding_size)\n",
    "lconv(x).shape\n",
    "\n"
   ]
  },
  {
   "cell_type": "code",
   "execution_count": null,
   "metadata": {},
   "outputs": [],
   "source": []
  }
 ],
 "metadata": {
  "kernelspec": {
   "display_name": "xtorch",
   "language": "python",
   "name": "python3"
  },
  "language_info": {
   "codemirror_mode": {
    "name": "ipython",
    "version": 3
   },
   "file_extension": ".py",
   "mimetype": "text/x-python",
   "name": "python",
   "nbconvert_exporter": "python",
   "pygments_lexer": "ipython3",
   "version": "3.10.9"
  }
 },
 "nbformat": 4,
 "nbformat_minor": 2
}
