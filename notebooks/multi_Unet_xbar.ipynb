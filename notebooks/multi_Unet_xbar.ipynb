{
 "cells": [
  {
   "cell_type": "markdown",
   "metadata": {},
   "source": [
    "# Imports"
   ]
  },
  {
   "cell_type": "markdown",
   "metadata": {},
   "source": [
    "### Import modules"
   ]
  },
  {
   "cell_type": "code",
   "execution_count": 1,
   "metadata": {},
   "outputs": [],
   "source": [
    "import os\n",
    "from tqdm import tqdm\n",
    "import pickle as pkl\n",
    "import itertools as iter\n",
    "from matplotlib import pyplot as plt\n",
    "import sys; sys.path.append('..')\n",
    "from experiments.functions_Filippo import *\n",
    "import warnings\n",
    "import itertools\n",
    "from IPython.display import Markdown\n",
    "import io\n",
    "\n",
    "import torch\n",
    "torch.manual_seed(0);\n",
    "import torch.nn as nn\n",
    "from torch.optim.lr_scheduler import ReduceLROnPlateau\n",
    "import torch.utils\n",
    "import torch.utils.data\n",
    "from torch.utils.data import DataLoader, random_split\n",
    "\n"
   ]
  },
  {
   "cell_type": "markdown",
   "metadata": {},
   "source": [
    "### Import local modules"
   ]
  },
  {
   "cell_type": "code",
   "execution_count": 2,
   "metadata": {},
   "outputs": [],
   "source": [
    "root = os.path.dirname(os.path.dirname(os.path.realpath('__file__')))\n",
    "sys.path.insert(0, os.path.join(root, 'src'))\n",
    "\n",
    "\n",
    "from dataset import dataset_dir\n",
    "from cs import generate_sensing_matrix\n",
    "from cs.utils import compute_rsnr\n",
    "from models.unet import UNet"
   ]
  },
  {
   "cell_type": "markdown",
   "metadata": {},
   "source": [
    "### Hardware settings"
   ]
  },
  {
   "cell_type": "code",
   "execution_count": 3,
   "metadata": {},
   "outputs": [],
   "source": [
    "os.environ[\"CUDA_DEVICE_ORDER\"]=\"PCI_BUS_ID\"\n",
    "os.environ[\"CUDA_VISIBLE_DEVICES\"]=\"5\"\n",
    "\n",
    "os.environ['SCIPY_USE_PROPACK'] = \"True\"\n",
    "\n",
    "# limit number of parallel threads numpy spawns\n",
    "workers_mp = 1 # number of workers for mp.pool\n",
    "threads_np = \"1\" # number of threads np generates for every worker\n",
    "\n",
    "os.environ[\"OMP_NUM_THREADS\"] = threads_np\n",
    "os.environ[\"OPENBLAS_NUM_THREADS\"] = threads_np\n",
    "os.environ[\"MKL_NUM_THREADS\"] = threads_np\n",
    "os.environ[\"VECLIB_MAXIMUM_THREADS\"] = threads_np\n",
    "os.environ[\"NUMEXPR_NUM_THREADS\"] = threads_np\n",
    "import numpy as np"
   ]
  },
  {
   "cell_type": "code",
   "execution_count": 4,
   "metadata": {},
   "outputs": [],
   "source": [
    "def cell_vars(pop=None, verbose=False):\n",
    "    _bundle = get_cell_vars_as_dict(ipy=get_ipython(), out=io.StringIO(), glob=globals(), offset=0)\n",
    "    \n",
    "    if pop is not None and pop in _bundle.keys():\n",
    "        _bundle.pop(pop)\n",
    "\n",
    "    for k, v in _bundle.items():\n",
    "        _b = _bundle.copy()\n",
    "        _b.pop(k)\n",
    "        if v==_b or v=={}:\n",
    "            _bundle.pop(k)\n",
    "            break;\n",
    "    \n",
    "    if verbose: [print(k) for k in _bundle]\n",
    "    return _bundle"
   ]
  },
  {
   "cell_type": "markdown",
   "metadata": {},
   "source": [
    "# Multi Unet Exploration"
   ]
  },
  {
   "cell_type": "code",
   "execution_count": 5,
   "metadata": {},
   "outputs": [],
   "source": [
    "bundle_param = {}"
   ]
  },
  {
   "cell_type": "markdown",
   "metadata": {},
   "source": [
    "### Dataset parameters"
   ]
  },
  {
   "cell_type": "code",
   "execution_count": 6,
   "metadata": {},
   "outputs": [],
   "source": [
    "# N = 10_000\n",
    "# N = 2_000_000\n",
    "N = 100_000\n",
    "n = 128\n",
    "seed_ecg = 42\n",
    "fs = 256 # sampling freq\n",
    "hr0 = 60 # heart rate low\n",
    "hr1 = 100 # hear rate high\n",
    "isnr = 35 # dB (intrinsic snr)\n",
    "\n",
    "_b = cell_vars(pop='_b')"
   ]
  },
  {
   "cell_type": "code",
   "execution_count": 7,
   "metadata": {},
   "outputs": [],
   "source": [
    "bundle_param = bundle_param | _b"
   ]
  },
  {
   "cell_type": "markdown",
   "metadata": {},
   "source": [
    "### A parameters"
   ]
  },
  {
   "cell_type": "code",
   "execution_count": 8,
   "metadata": {},
   "outputs": [],
   "source": [
    "m = 48\n",
    "mode_A = ['standard', 'rakeness']\n",
    "seed_A = 0\n",
    "index_A = 0\n",
    "orth = True\n",
    "str_corr = '96af96a7ddfcb2f6059092c250e18f2a'\n",
    "N_try_A = 1_000\n",
    "loc = 0.25 # localization for rakeness\n",
    "\n",
    "_b = cell_vars(pop='_b')"
   ]
  },
  {
   "cell_type": "code",
   "execution_count": 9,
   "metadata": {},
   "outputs": [],
   "source": [
    "bundle_param = bundle_param | _b"
   ]
  },
  {
   "cell_type": "markdown",
   "metadata": {},
   "source": [
    "### Unet parameters"
   ]
  },
  {
   "cell_type": "code",
   "execution_count": 10,
   "metadata": {},
   "outputs": [],
   "source": [
    "in_channels = 1\n",
    "# expanded_channels = [64, 32, 16]\n",
    "expanded_channels = [64, 32, 16, 8]\n",
    "# step_number = [4, 3, 2]\n",
    "step_number = [4, 3]\n",
    "# kernel_size = [3, 5, 7]\n",
    "kernel_size = [3, 5]\n",
    "residual = True\n",
    "use_batch_norm = False\n",
    "simple_pool = False\n",
    "# seed_torch = 0\n",
    "seed_torch = [1, 2, 3]\n",
    "# seed_torch = [0, 1, 2, 3]\n",
    "\n",
    "_b = cell_vars(pop='_b')"
   ]
  },
  {
   "cell_type": "code",
   "execution_count": 11,
   "metadata": {},
   "outputs": [],
   "source": [
    "bundle_param = bundle_param | _b"
   ]
  },
  {
   "cell_type": "markdown",
   "metadata": {},
   "source": [
    "### Dataset for A generation"
   ]
  },
  {
   "cell_type": "code",
   "execution_count": 12,
   "metadata": {},
   "outputs": [],
   "source": [
    "_ecg_N_forA = 10_000\n",
    "_n_forA = 128\n",
    "_fs_forA = 256\n",
    "_hr0_forA = 60\n",
    "_hr1_forA = 100\n",
    "_isnr_forA = 35\n",
    "_seed_forA = 0\n",
    "\n",
    "_b = cell_vars(pop='_b')"
   ]
  },
  {
   "cell_type": "code",
   "execution_count": 13,
   "metadata": {},
   "outputs": [],
   "source": [
    "bundle_param_A_dataset = _b.copy()\n",
    "bundle_param = bundle_param_A_dataset | bundle_param"
   ]
  },
  {
   "cell_type": "code",
   "execution_count": 14,
   "metadata": {},
   "outputs": [
    {
     "data": {
      "text/plain": [
       "{'_ecg_N_forA': 10000,\n",
       " '_n_forA': 128,\n",
       " '_fs_forA': 256,\n",
       " '_hr0_forA': 60,\n",
       " '_hr1_forA': 100,\n",
       " '_isnr_forA': 35,\n",
       " '_seed_forA': 0,\n",
       " 'N': 100000,\n",
       " 'n': 128,\n",
       " 'seed_ecg': 42,\n",
       " 'fs': 256,\n",
       " 'hr0': 60,\n",
       " 'hr1': 100,\n",
       " 'isnr': 35,\n",
       " 'm': 48,\n",
       " 'mode_A': ['standard', 'rakeness'],\n",
       " 'seed_A': 0,\n",
       " 'index_A': 0,\n",
       " 'orth': True,\n",
       " 'str_corr': '96af96a7ddfcb2f6059092c250e18f2a',\n",
       " 'N_try_A': 1000,\n",
       " 'loc': 0.25,\n",
       " 'in_channels': 1,\n",
       " 'expanded_channels': [64, 32, 16, 8],\n",
       " 'step_number': [4, 3],\n",
       " 'kernel_size': [3, 5],\n",
       " 'residual': True,\n",
       " 'use_batch_norm': False,\n",
       " 'simple_pool': False,\n",
       " 'seed_torch': [1, 2, 3]}"
      ]
     },
     "execution_count": 14,
     "metadata": {},
     "output_type": "execute_result"
    }
   ],
   "source": [
    "bundle_param"
   ]
  },
  {
   "cell_type": "markdown",
   "metadata": {},
   "source": [
    "#### Select GPU"
   ]
  },
  {
   "cell_type": "code",
   "execution_count": 15,
   "metadata": {},
   "outputs": [
    {
     "name": "stdout",
     "output_type": "stream",
     "text": [
      "Using cuda:0 device\n"
     ]
    }
   ],
   "source": [
    "use_cuda = torch.cuda.is_available()\n",
    "cuda_index = torch.cuda.device_count() - 1\n",
    "device = torch.device(f\"cuda:{cuda_index}\" if use_cuda else \"cpu\")\n",
    "print(f\"Using {device} device\")"
   ]
  },
  {
   "cell_type": "markdown",
   "metadata": {},
   "source": [
    "### Path and Loading"
   ]
  },
  {
   "cell_type": "code",
   "execution_count": 16,
   "metadata": {},
   "outputs": [
    {
     "name": "stdout",
     "output_type": "stream",
     "text": [
      "LOADED: /srv/newpenny/dnn-cs/tsoc/data/../trained_models/dummy_unet/N=100000_n=128_m=48_isnr=35_seedecg=42_modeA=standard_seedtorch=1_orth=True_corr=96af96a7ddfcb2f6059092c250e18f2a_inchannels=1_expandedchannels=64_stepnumber=4_kernelsize=3_residual=True_usebatchnorm=False_simplepool=False.pt\n",
      "LOADED: /srv/newpenny/dnn-cs/tsoc/data/../trained_models/dummy_unet/N=100000_n=128_m=48_isnr=35_seedecg=42_modeA=standard_seedtorch=2_orth=True_corr=96af96a7ddfcb2f6059092c250e18f2a_inchannels=1_expandedchannels=64_stepnumber=4_kernelsize=3_residual=True_usebatchnorm=False_simplepool=False.pt\n",
      "LOADED: /srv/newpenny/dnn-cs/tsoc/data/../trained_models/dummy_unet/N=100000_n=128_m=48_isnr=35_seedecg=42_modeA=standard_seedtorch=3_orth=True_corr=96af96a7ddfcb2f6059092c250e18f2a_inchannels=1_expandedchannels=64_stepnumber=4_kernelsize=3_residual=True_usebatchnorm=False_simplepool=False.pt\n",
      "LOADED: /srv/newpenny/dnn-cs/tsoc/data/../trained_models/dummy_unet/N=100000_n=128_m=48_isnr=35_seedecg=42_modeA=standard_seedtorch=1_orth=True_corr=96af96a7ddfcb2f6059092c250e18f2a_inchannels=1_expandedchannels=64_stepnumber=4_kernelsize=5_residual=True_usebatchnorm=False_simplepool=False.pt\n",
      "LOADED: /srv/newpenny/dnn-cs/tsoc/data/../trained_models/dummy_unet/N=100000_n=128_m=48_isnr=35_seedecg=42_modeA=standard_seedtorch=2_orth=True_corr=96af96a7ddfcb2f6059092c250e18f2a_inchannels=1_expandedchannels=64_stepnumber=4_kernelsize=5_residual=True_usebatchnorm=False_simplepool=False.pt\n",
      "LOADED: /srv/newpenny/dnn-cs/tsoc/data/../trained_models/dummy_unet/N=100000_n=128_m=48_isnr=35_seedecg=42_modeA=standard_seedtorch=3_orth=True_corr=96af96a7ddfcb2f6059092c250e18f2a_inchannels=1_expandedchannels=64_stepnumber=4_kernelsize=5_residual=True_usebatchnorm=False_simplepool=False.pt\n",
      "LOADED: /srv/newpenny/dnn-cs/tsoc/data/../trained_models/dummy_unet/N=100000_n=128_m=48_isnr=35_seedecg=42_modeA=standard_seedtorch=1_orth=True_corr=96af96a7ddfcb2f6059092c250e18f2a_inchannels=1_expandedchannels=64_stepnumber=3_kernelsize=3_residual=True_usebatchnorm=False_simplepool=False.pt\n",
      "LOADED: /srv/newpenny/dnn-cs/tsoc/data/../trained_models/dummy_unet/N=100000_n=128_m=48_isnr=35_seedecg=42_modeA=standard_seedtorch=2_orth=True_corr=96af96a7ddfcb2f6059092c250e18f2a_inchannels=1_expandedchannels=64_stepnumber=3_kernelsize=3_residual=True_usebatchnorm=False_simplepool=False.pt\n",
      "LOADED: /srv/newpenny/dnn-cs/tsoc/data/../trained_models/dummy_unet/N=100000_n=128_m=48_isnr=35_seedecg=42_modeA=standard_seedtorch=3_orth=True_corr=96af96a7ddfcb2f6059092c250e18f2a_inchannels=1_expandedchannels=64_stepnumber=3_kernelsize=3_residual=True_usebatchnorm=False_simplepool=False.pt\n",
      "LOADED: /srv/newpenny/dnn-cs/tsoc/data/../trained_models/dummy_unet/N=100000_n=128_m=48_isnr=35_seedecg=42_modeA=standard_seedtorch=1_orth=True_corr=96af96a7ddfcb2f6059092c250e18f2a_inchannels=1_expandedchannels=64_stepnumber=3_kernelsize=5_residual=True_usebatchnorm=False_simplepool=False.pt\n",
      "LOADED: /srv/newpenny/dnn-cs/tsoc/data/../trained_models/dummy_unet/N=100000_n=128_m=48_isnr=35_seedecg=42_modeA=standard_seedtorch=2_orth=True_corr=96af96a7ddfcb2f6059092c250e18f2a_inchannels=1_expandedchannels=64_stepnumber=3_kernelsize=5_residual=True_usebatchnorm=False_simplepool=False.pt\n",
      "LOADED: /srv/newpenny/dnn-cs/tsoc/data/../trained_models/dummy_unet/N=100000_n=128_m=48_isnr=35_seedecg=42_modeA=standard_seedtorch=3_orth=True_corr=96af96a7ddfcb2f6059092c250e18f2a_inchannels=1_expandedchannels=64_stepnumber=3_kernelsize=5_residual=True_usebatchnorm=False_simplepool=False.pt\n",
      "LOADED: /srv/newpenny/dnn-cs/tsoc/data/../trained_models/dummy_unet/N=100000_n=128_m=48_isnr=35_seedecg=42_modeA=standard_seedtorch=1_orth=True_corr=96af96a7ddfcb2f6059092c250e18f2a_inchannels=1_expandedchannels=32_stepnumber=4_kernelsize=3_residual=True_usebatchnorm=False_simplepool=False.pt\n",
      "LOADED: /srv/newpenny/dnn-cs/tsoc/data/../trained_models/dummy_unet/N=100000_n=128_m=48_isnr=35_seedecg=42_modeA=standard_seedtorch=2_orth=True_corr=96af96a7ddfcb2f6059092c250e18f2a_inchannels=1_expandedchannels=32_stepnumber=4_kernelsize=3_residual=True_usebatchnorm=False_simplepool=False.pt\n",
      "LOADED: /srv/newpenny/dnn-cs/tsoc/data/../trained_models/dummy_unet/N=100000_n=128_m=48_isnr=35_seedecg=42_modeA=standard_seedtorch=3_orth=True_corr=96af96a7ddfcb2f6059092c250e18f2a_inchannels=1_expandedchannels=32_stepnumber=4_kernelsize=3_residual=True_usebatchnorm=False_simplepool=False.pt\n",
      "LOADED: /srv/newpenny/dnn-cs/tsoc/data/../trained_models/dummy_unet/N=100000_n=128_m=48_isnr=35_seedecg=42_modeA=standard_seedtorch=1_orth=True_corr=96af96a7ddfcb2f6059092c250e18f2a_inchannels=1_expandedchannels=32_stepnumber=4_kernelsize=5_residual=True_usebatchnorm=False_simplepool=False.pt\n",
      "LOADED: /srv/newpenny/dnn-cs/tsoc/data/../trained_models/dummy_unet/N=100000_n=128_m=48_isnr=35_seedecg=42_modeA=standard_seedtorch=2_orth=True_corr=96af96a7ddfcb2f6059092c250e18f2a_inchannels=1_expandedchannels=32_stepnumber=4_kernelsize=5_residual=True_usebatchnorm=False_simplepool=False.pt\n",
      "LOADED: /srv/newpenny/dnn-cs/tsoc/data/../trained_models/dummy_unet/N=100000_n=128_m=48_isnr=35_seedecg=42_modeA=standard_seedtorch=3_orth=True_corr=96af96a7ddfcb2f6059092c250e18f2a_inchannels=1_expandedchannels=32_stepnumber=4_kernelsize=5_residual=True_usebatchnorm=False_simplepool=False.pt\n",
      "LOADED: /srv/newpenny/dnn-cs/tsoc/data/../trained_models/dummy_unet/N=100000_n=128_m=48_isnr=35_seedecg=42_modeA=standard_seedtorch=1_orth=True_corr=96af96a7ddfcb2f6059092c250e18f2a_inchannels=1_expandedchannels=32_stepnumber=3_kernelsize=3_residual=True_usebatchnorm=False_simplepool=False.pt\n",
      "LOADED: /srv/newpenny/dnn-cs/tsoc/data/../trained_models/dummy_unet/N=100000_n=128_m=48_isnr=35_seedecg=42_modeA=standard_seedtorch=2_orth=True_corr=96af96a7ddfcb2f6059092c250e18f2a_inchannels=1_expandedchannels=32_stepnumber=3_kernelsize=3_residual=True_usebatchnorm=False_simplepool=False.pt\n",
      "LOADED: /srv/newpenny/dnn-cs/tsoc/data/../trained_models/dummy_unet/N=100000_n=128_m=48_isnr=35_seedecg=42_modeA=standard_seedtorch=3_orth=True_corr=96af96a7ddfcb2f6059092c250e18f2a_inchannels=1_expandedchannels=32_stepnumber=3_kernelsize=3_residual=True_usebatchnorm=False_simplepool=False.pt\n",
      "LOADED: /srv/newpenny/dnn-cs/tsoc/data/../trained_models/dummy_unet/N=100000_n=128_m=48_isnr=35_seedecg=42_modeA=standard_seedtorch=1_orth=True_corr=96af96a7ddfcb2f6059092c250e18f2a_inchannels=1_expandedchannels=32_stepnumber=3_kernelsize=5_residual=True_usebatchnorm=False_simplepool=False.pt\n",
      "LOADED: /srv/newpenny/dnn-cs/tsoc/data/../trained_models/dummy_unet/N=100000_n=128_m=48_isnr=35_seedecg=42_modeA=standard_seedtorch=2_orth=True_corr=96af96a7ddfcb2f6059092c250e18f2a_inchannels=1_expandedchannels=32_stepnumber=3_kernelsize=5_residual=True_usebatchnorm=False_simplepool=False.pt\n",
      "LOADED: /srv/newpenny/dnn-cs/tsoc/data/../trained_models/dummy_unet/N=100000_n=128_m=48_isnr=35_seedecg=42_modeA=standard_seedtorch=3_orth=True_corr=96af96a7ddfcb2f6059092c250e18f2a_inchannels=1_expandedchannels=32_stepnumber=3_kernelsize=5_residual=True_usebatchnorm=False_simplepool=False.pt\n",
      "LOADED: /srv/newpenny/dnn-cs/tsoc/data/../trained_models/dummy_unet/N=100000_n=128_m=48_isnr=35_seedecg=42_modeA=standard_seedtorch=1_orth=True_corr=96af96a7ddfcb2f6059092c250e18f2a_inchannels=1_expandedchannels=16_stepnumber=4_kernelsize=3_residual=True_usebatchnorm=False_simplepool=False.pt\n",
      "LOADED: /srv/newpenny/dnn-cs/tsoc/data/../trained_models/dummy_unet/N=100000_n=128_m=48_isnr=35_seedecg=42_modeA=standard_seedtorch=2_orth=True_corr=96af96a7ddfcb2f6059092c250e18f2a_inchannels=1_expandedchannels=16_stepnumber=4_kernelsize=3_residual=True_usebatchnorm=False_simplepool=False.pt\n",
      "LOADED: /srv/newpenny/dnn-cs/tsoc/data/../trained_models/dummy_unet/N=100000_n=128_m=48_isnr=35_seedecg=42_modeA=standard_seedtorch=3_orth=True_corr=96af96a7ddfcb2f6059092c250e18f2a_inchannels=1_expandedchannels=16_stepnumber=4_kernelsize=3_residual=True_usebatchnorm=False_simplepool=False.pt\n",
      "LOADED: /srv/newpenny/dnn-cs/tsoc/data/../trained_models/dummy_unet/N=100000_n=128_m=48_isnr=35_seedecg=42_modeA=standard_seedtorch=1_orth=True_corr=96af96a7ddfcb2f6059092c250e18f2a_inchannels=1_expandedchannels=16_stepnumber=4_kernelsize=5_residual=True_usebatchnorm=False_simplepool=False.pt\n",
      "LOADED: /srv/newpenny/dnn-cs/tsoc/data/../trained_models/dummy_unet/N=100000_n=128_m=48_isnr=35_seedecg=42_modeA=standard_seedtorch=2_orth=True_corr=96af96a7ddfcb2f6059092c250e18f2a_inchannels=1_expandedchannels=16_stepnumber=4_kernelsize=5_residual=True_usebatchnorm=False_simplepool=False.pt\n",
      "LOADED: /srv/newpenny/dnn-cs/tsoc/data/../trained_models/dummy_unet/N=100000_n=128_m=48_isnr=35_seedecg=42_modeA=standard_seedtorch=3_orth=True_corr=96af96a7ddfcb2f6059092c250e18f2a_inchannels=1_expandedchannels=16_stepnumber=4_kernelsize=5_residual=True_usebatchnorm=False_simplepool=False.pt\n",
      "LOADED: /srv/newpenny/dnn-cs/tsoc/data/../trained_models/dummy_unet/N=100000_n=128_m=48_isnr=35_seedecg=42_modeA=standard_seedtorch=1_orth=True_corr=96af96a7ddfcb2f6059092c250e18f2a_inchannels=1_expandedchannels=16_stepnumber=3_kernelsize=3_residual=True_usebatchnorm=False_simplepool=False.pt\n",
      "LOADED: /srv/newpenny/dnn-cs/tsoc/data/../trained_models/dummy_unet/N=100000_n=128_m=48_isnr=35_seedecg=42_modeA=standard_seedtorch=2_orth=True_corr=96af96a7ddfcb2f6059092c250e18f2a_inchannels=1_expandedchannels=16_stepnumber=3_kernelsize=3_residual=True_usebatchnorm=False_simplepool=False.pt\n",
      "LOADED: /srv/newpenny/dnn-cs/tsoc/data/../trained_models/dummy_unet/N=100000_n=128_m=48_isnr=35_seedecg=42_modeA=standard_seedtorch=3_orth=True_corr=96af96a7ddfcb2f6059092c250e18f2a_inchannels=1_expandedchannels=16_stepnumber=3_kernelsize=3_residual=True_usebatchnorm=False_simplepool=False.pt\n",
      "LOADED: /srv/newpenny/dnn-cs/tsoc/data/../trained_models/dummy_unet/N=100000_n=128_m=48_isnr=35_seedecg=42_modeA=standard_seedtorch=1_orth=True_corr=96af96a7ddfcb2f6059092c250e18f2a_inchannels=1_expandedchannels=16_stepnumber=3_kernelsize=5_residual=True_usebatchnorm=False_simplepool=False.pt\n",
      "LOADED: /srv/newpenny/dnn-cs/tsoc/data/../trained_models/dummy_unet/N=100000_n=128_m=48_isnr=35_seedecg=42_modeA=standard_seedtorch=2_orth=True_corr=96af96a7ddfcb2f6059092c250e18f2a_inchannels=1_expandedchannels=16_stepnumber=3_kernelsize=5_residual=True_usebatchnorm=False_simplepool=False.pt\n",
      "LOADED: /srv/newpenny/dnn-cs/tsoc/data/../trained_models/dummy_unet/N=100000_n=128_m=48_isnr=35_seedecg=42_modeA=standard_seedtorch=3_orth=True_corr=96af96a7ddfcb2f6059092c250e18f2a_inchannels=1_expandedchannels=16_stepnumber=3_kernelsize=5_residual=True_usebatchnorm=False_simplepool=False.pt\n",
      "LOADED: /srv/newpenny/dnn-cs/tsoc/data/../trained_models/dummy_unet/N=100000_n=128_m=48_isnr=35_seedecg=42_modeA=standard_seedtorch=1_orth=True_corr=96af96a7ddfcb2f6059092c250e18f2a_inchannels=1_expandedchannels=8_stepnumber=4_kernelsize=3_residual=True_usebatchnorm=False_simplepool=False.pt\n",
      "LOADED: /srv/newpenny/dnn-cs/tsoc/data/../trained_models/dummy_unet/N=100000_n=128_m=48_isnr=35_seedecg=42_modeA=standard_seedtorch=2_orth=True_corr=96af96a7ddfcb2f6059092c250e18f2a_inchannels=1_expandedchannels=8_stepnumber=4_kernelsize=3_residual=True_usebatchnorm=False_simplepool=False.pt\n",
      "LOADED: /srv/newpenny/dnn-cs/tsoc/data/../trained_models/dummy_unet/N=100000_n=128_m=48_isnr=35_seedecg=42_modeA=standard_seedtorch=3_orth=True_corr=96af96a7ddfcb2f6059092c250e18f2a_inchannels=1_expandedchannels=8_stepnumber=4_kernelsize=3_residual=True_usebatchnorm=False_simplepool=False.pt\n",
      "LOADED: /srv/newpenny/dnn-cs/tsoc/data/../trained_models/dummy_unet/N=100000_n=128_m=48_isnr=35_seedecg=42_modeA=standard_seedtorch=1_orth=True_corr=96af96a7ddfcb2f6059092c250e18f2a_inchannels=1_expandedchannels=8_stepnumber=4_kernelsize=5_residual=True_usebatchnorm=False_simplepool=False.pt\n",
      "LOADED: /srv/newpenny/dnn-cs/tsoc/data/../trained_models/dummy_unet/N=100000_n=128_m=48_isnr=35_seedecg=42_modeA=standard_seedtorch=2_orth=True_corr=96af96a7ddfcb2f6059092c250e18f2a_inchannels=1_expandedchannels=8_stepnumber=4_kernelsize=5_residual=True_usebatchnorm=False_simplepool=False.pt\n",
      "LOADED: /srv/newpenny/dnn-cs/tsoc/data/../trained_models/dummy_unet/N=100000_n=128_m=48_isnr=35_seedecg=42_modeA=standard_seedtorch=3_orth=True_corr=96af96a7ddfcb2f6059092c250e18f2a_inchannels=1_expandedchannels=8_stepnumber=4_kernelsize=5_residual=True_usebatchnorm=False_simplepool=False.pt\n",
      "LOADED: /srv/newpenny/dnn-cs/tsoc/data/../trained_models/dummy_unet/N=100000_n=128_m=48_isnr=35_seedecg=42_modeA=standard_seedtorch=1_orth=True_corr=96af96a7ddfcb2f6059092c250e18f2a_inchannels=1_expandedchannels=8_stepnumber=3_kernelsize=3_residual=True_usebatchnorm=False_simplepool=False.pt\n",
      "LOADED: /srv/newpenny/dnn-cs/tsoc/data/../trained_models/dummy_unet/N=100000_n=128_m=48_isnr=35_seedecg=42_modeA=standard_seedtorch=2_orth=True_corr=96af96a7ddfcb2f6059092c250e18f2a_inchannels=1_expandedchannels=8_stepnumber=3_kernelsize=3_residual=True_usebatchnorm=False_simplepool=False.pt\n",
      "LOADED: /srv/newpenny/dnn-cs/tsoc/data/../trained_models/dummy_unet/N=100000_n=128_m=48_isnr=35_seedecg=42_modeA=standard_seedtorch=3_orth=True_corr=96af96a7ddfcb2f6059092c250e18f2a_inchannels=1_expandedchannels=8_stepnumber=3_kernelsize=3_residual=True_usebatchnorm=False_simplepool=False.pt\n",
      "LOADED: /srv/newpenny/dnn-cs/tsoc/data/../trained_models/dummy_unet/N=100000_n=128_m=48_isnr=35_seedecg=42_modeA=standard_seedtorch=1_orth=True_corr=96af96a7ddfcb2f6059092c250e18f2a_inchannels=1_expandedchannels=8_stepnumber=3_kernelsize=5_residual=True_usebatchnorm=False_simplepool=False.pt\n",
      "LOADED: /srv/newpenny/dnn-cs/tsoc/data/../trained_models/dummy_unet/N=100000_n=128_m=48_isnr=35_seedecg=42_modeA=standard_seedtorch=2_orth=True_corr=96af96a7ddfcb2f6059092c250e18f2a_inchannels=1_expandedchannels=8_stepnumber=3_kernelsize=5_residual=True_usebatchnorm=False_simplepool=False.pt\n",
      "LOADED: /srv/newpenny/dnn-cs/tsoc/data/../trained_models/dummy_unet/N=100000_n=128_m=48_isnr=35_seedecg=42_modeA=standard_seedtorch=3_orth=True_corr=96af96a7ddfcb2f6059092c250e18f2a_inchannels=1_expandedchannels=8_stepnumber=3_kernelsize=5_residual=True_usebatchnorm=False_simplepool=False.pt\n",
      "LOADED: /srv/newpenny/dnn-cs/tsoc/data/../trained_models/dummy_unet/N=100000_n=128_m=48_isnr=35_seedecg=42_modeA=rakeness_seedtorch=1_orth=True_corr=96af96a7ddfcb2f6059092c250e18f2a_inchannels=1_expandedchannels=64_stepnumber=4_kernelsize=3_residual=True_usebatchnorm=False_simplepool=False.pt\n",
      "LOADED: /srv/newpenny/dnn-cs/tsoc/data/../trained_models/dummy_unet/N=100000_n=128_m=48_isnr=35_seedecg=42_modeA=rakeness_seedtorch=2_orth=True_corr=96af96a7ddfcb2f6059092c250e18f2a_inchannels=1_expandedchannels=64_stepnumber=4_kernelsize=3_residual=True_usebatchnorm=False_simplepool=False.pt\n",
      "LOADED: /srv/newpenny/dnn-cs/tsoc/data/../trained_models/dummy_unet/N=100000_n=128_m=48_isnr=35_seedecg=42_modeA=rakeness_seedtorch=3_orth=True_corr=96af96a7ddfcb2f6059092c250e18f2a_inchannels=1_expandedchannels=64_stepnumber=4_kernelsize=3_residual=True_usebatchnorm=False_simplepool=False.pt\n",
      "LOADED: /srv/newpenny/dnn-cs/tsoc/data/../trained_models/dummy_unet/N=100000_n=128_m=48_isnr=35_seedecg=42_modeA=rakeness_seedtorch=1_orth=True_corr=96af96a7ddfcb2f6059092c250e18f2a_inchannels=1_expandedchannels=64_stepnumber=4_kernelsize=5_residual=True_usebatchnorm=False_simplepool=False.pt\n",
      "LOADED: /srv/newpenny/dnn-cs/tsoc/data/../trained_models/dummy_unet/N=100000_n=128_m=48_isnr=35_seedecg=42_modeA=rakeness_seedtorch=2_orth=True_corr=96af96a7ddfcb2f6059092c250e18f2a_inchannels=1_expandedchannels=64_stepnumber=4_kernelsize=5_residual=True_usebatchnorm=False_simplepool=False.pt\n",
      "LOADED: /srv/newpenny/dnn-cs/tsoc/data/../trained_models/dummy_unet/N=100000_n=128_m=48_isnr=35_seedecg=42_modeA=rakeness_seedtorch=3_orth=True_corr=96af96a7ddfcb2f6059092c250e18f2a_inchannels=1_expandedchannels=64_stepnumber=4_kernelsize=5_residual=True_usebatchnorm=False_simplepool=False.pt\n",
      "LOADED: /srv/newpenny/dnn-cs/tsoc/data/../trained_models/dummy_unet/N=100000_n=128_m=48_isnr=35_seedecg=42_modeA=rakeness_seedtorch=1_orth=True_corr=96af96a7ddfcb2f6059092c250e18f2a_inchannels=1_expandedchannels=64_stepnumber=3_kernelsize=3_residual=True_usebatchnorm=False_simplepool=False.pt\n",
      "LOADED: /srv/newpenny/dnn-cs/tsoc/data/../trained_models/dummy_unet/N=100000_n=128_m=48_isnr=35_seedecg=42_modeA=rakeness_seedtorch=2_orth=True_corr=96af96a7ddfcb2f6059092c250e18f2a_inchannels=1_expandedchannels=64_stepnumber=3_kernelsize=3_residual=True_usebatchnorm=False_simplepool=False.pt\n",
      "LOADED: /srv/newpenny/dnn-cs/tsoc/data/../trained_models/dummy_unet/N=100000_n=128_m=48_isnr=35_seedecg=42_modeA=rakeness_seedtorch=3_orth=True_corr=96af96a7ddfcb2f6059092c250e18f2a_inchannels=1_expandedchannels=64_stepnumber=3_kernelsize=3_residual=True_usebatchnorm=False_simplepool=False.pt\n",
      "LOADED: /srv/newpenny/dnn-cs/tsoc/data/../trained_models/dummy_unet/N=100000_n=128_m=48_isnr=35_seedecg=42_modeA=rakeness_seedtorch=1_orth=True_corr=96af96a7ddfcb2f6059092c250e18f2a_inchannels=1_expandedchannels=64_stepnumber=3_kernelsize=5_residual=True_usebatchnorm=False_simplepool=False.pt\n",
      "LOADED: /srv/newpenny/dnn-cs/tsoc/data/../trained_models/dummy_unet/N=100000_n=128_m=48_isnr=35_seedecg=42_modeA=rakeness_seedtorch=2_orth=True_corr=96af96a7ddfcb2f6059092c250e18f2a_inchannels=1_expandedchannels=64_stepnumber=3_kernelsize=5_residual=True_usebatchnorm=False_simplepool=False.pt\n",
      "LOADED: /srv/newpenny/dnn-cs/tsoc/data/../trained_models/dummy_unet/N=100000_n=128_m=48_isnr=35_seedecg=42_modeA=rakeness_seedtorch=3_orth=True_corr=96af96a7ddfcb2f6059092c250e18f2a_inchannels=1_expandedchannels=64_stepnumber=3_kernelsize=5_residual=True_usebatchnorm=False_simplepool=False.pt\n",
      "LOADED: /srv/newpenny/dnn-cs/tsoc/data/../trained_models/dummy_unet/N=100000_n=128_m=48_isnr=35_seedecg=42_modeA=rakeness_seedtorch=1_orth=True_corr=96af96a7ddfcb2f6059092c250e18f2a_inchannels=1_expandedchannels=32_stepnumber=4_kernelsize=3_residual=True_usebatchnorm=False_simplepool=False.pt\n",
      "LOADED: /srv/newpenny/dnn-cs/tsoc/data/../trained_models/dummy_unet/N=100000_n=128_m=48_isnr=35_seedecg=42_modeA=rakeness_seedtorch=2_orth=True_corr=96af96a7ddfcb2f6059092c250e18f2a_inchannels=1_expandedchannels=32_stepnumber=4_kernelsize=3_residual=True_usebatchnorm=False_simplepool=False.pt\n",
      "LOADED: /srv/newpenny/dnn-cs/tsoc/data/../trained_models/dummy_unet/N=100000_n=128_m=48_isnr=35_seedecg=42_modeA=rakeness_seedtorch=3_orth=True_corr=96af96a7ddfcb2f6059092c250e18f2a_inchannels=1_expandedchannels=32_stepnumber=4_kernelsize=3_residual=True_usebatchnorm=False_simplepool=False.pt\n",
      "LOADED: /srv/newpenny/dnn-cs/tsoc/data/../trained_models/dummy_unet/N=100000_n=128_m=48_isnr=35_seedecg=42_modeA=rakeness_seedtorch=1_orth=True_corr=96af96a7ddfcb2f6059092c250e18f2a_inchannels=1_expandedchannels=32_stepnumber=4_kernelsize=5_residual=True_usebatchnorm=False_simplepool=False.pt\n",
      "LOADED: /srv/newpenny/dnn-cs/tsoc/data/../trained_models/dummy_unet/N=100000_n=128_m=48_isnr=35_seedecg=42_modeA=rakeness_seedtorch=2_orth=True_corr=96af96a7ddfcb2f6059092c250e18f2a_inchannels=1_expandedchannels=32_stepnumber=4_kernelsize=5_residual=True_usebatchnorm=False_simplepool=False.pt\n",
      "LOADED: /srv/newpenny/dnn-cs/tsoc/data/../trained_models/dummy_unet/N=100000_n=128_m=48_isnr=35_seedecg=42_modeA=rakeness_seedtorch=3_orth=True_corr=96af96a7ddfcb2f6059092c250e18f2a_inchannels=1_expandedchannels=32_stepnumber=4_kernelsize=5_residual=True_usebatchnorm=False_simplepool=False.pt\n",
      "LOADED: /srv/newpenny/dnn-cs/tsoc/data/../trained_models/dummy_unet/N=100000_n=128_m=48_isnr=35_seedecg=42_modeA=rakeness_seedtorch=1_orth=True_corr=96af96a7ddfcb2f6059092c250e18f2a_inchannels=1_expandedchannels=32_stepnumber=3_kernelsize=3_residual=True_usebatchnorm=False_simplepool=False.pt\n",
      "LOADED: /srv/newpenny/dnn-cs/tsoc/data/../trained_models/dummy_unet/N=100000_n=128_m=48_isnr=35_seedecg=42_modeA=rakeness_seedtorch=2_orth=True_corr=96af96a7ddfcb2f6059092c250e18f2a_inchannels=1_expandedchannels=32_stepnumber=3_kernelsize=3_residual=True_usebatchnorm=False_simplepool=False.pt\n",
      "LOADED: /srv/newpenny/dnn-cs/tsoc/data/../trained_models/dummy_unet/N=100000_n=128_m=48_isnr=35_seedecg=42_modeA=rakeness_seedtorch=3_orth=True_corr=96af96a7ddfcb2f6059092c250e18f2a_inchannels=1_expandedchannels=32_stepnumber=3_kernelsize=3_residual=True_usebatchnorm=False_simplepool=False.pt\n",
      "LOADED: /srv/newpenny/dnn-cs/tsoc/data/../trained_models/dummy_unet/N=100000_n=128_m=48_isnr=35_seedecg=42_modeA=rakeness_seedtorch=1_orth=True_corr=96af96a7ddfcb2f6059092c250e18f2a_inchannels=1_expandedchannels=32_stepnumber=3_kernelsize=5_residual=True_usebatchnorm=False_simplepool=False.pt\n",
      "LOADED: /srv/newpenny/dnn-cs/tsoc/data/../trained_models/dummy_unet/N=100000_n=128_m=48_isnr=35_seedecg=42_modeA=rakeness_seedtorch=2_orth=True_corr=96af96a7ddfcb2f6059092c250e18f2a_inchannels=1_expandedchannels=32_stepnumber=3_kernelsize=5_residual=True_usebatchnorm=False_simplepool=False.pt\n",
      "LOADED: /srv/newpenny/dnn-cs/tsoc/data/../trained_models/dummy_unet/N=100000_n=128_m=48_isnr=35_seedecg=42_modeA=rakeness_seedtorch=3_orth=True_corr=96af96a7ddfcb2f6059092c250e18f2a_inchannels=1_expandedchannels=32_stepnumber=3_kernelsize=5_residual=True_usebatchnorm=False_simplepool=False.pt\n",
      "LOADED: /srv/newpenny/dnn-cs/tsoc/data/../trained_models/dummy_unet/N=100000_n=128_m=48_isnr=35_seedecg=42_modeA=rakeness_seedtorch=1_orth=True_corr=96af96a7ddfcb2f6059092c250e18f2a_inchannels=1_expandedchannels=16_stepnumber=4_kernelsize=3_residual=True_usebatchnorm=False_simplepool=False.pt\n",
      "LOADED: /srv/newpenny/dnn-cs/tsoc/data/../trained_models/dummy_unet/N=100000_n=128_m=48_isnr=35_seedecg=42_modeA=rakeness_seedtorch=2_orth=True_corr=96af96a7ddfcb2f6059092c250e18f2a_inchannels=1_expandedchannels=16_stepnumber=4_kernelsize=3_residual=True_usebatchnorm=False_simplepool=False.pt\n",
      "LOADED: /srv/newpenny/dnn-cs/tsoc/data/../trained_models/dummy_unet/N=100000_n=128_m=48_isnr=35_seedecg=42_modeA=rakeness_seedtorch=3_orth=True_corr=96af96a7ddfcb2f6059092c250e18f2a_inchannels=1_expandedchannels=16_stepnumber=4_kernelsize=3_residual=True_usebatchnorm=False_simplepool=False.pt\n",
      "LOADED: /srv/newpenny/dnn-cs/tsoc/data/../trained_models/dummy_unet/N=100000_n=128_m=48_isnr=35_seedecg=42_modeA=rakeness_seedtorch=1_orth=True_corr=96af96a7ddfcb2f6059092c250e18f2a_inchannels=1_expandedchannels=16_stepnumber=4_kernelsize=5_residual=True_usebatchnorm=False_simplepool=False.pt\n",
      "LOADED: /srv/newpenny/dnn-cs/tsoc/data/../trained_models/dummy_unet/N=100000_n=128_m=48_isnr=35_seedecg=42_modeA=rakeness_seedtorch=2_orth=True_corr=96af96a7ddfcb2f6059092c250e18f2a_inchannels=1_expandedchannels=16_stepnumber=4_kernelsize=5_residual=True_usebatchnorm=False_simplepool=False.pt\n",
      "LOADED: /srv/newpenny/dnn-cs/tsoc/data/../trained_models/dummy_unet/N=100000_n=128_m=48_isnr=35_seedecg=42_modeA=rakeness_seedtorch=3_orth=True_corr=96af96a7ddfcb2f6059092c250e18f2a_inchannels=1_expandedchannels=16_stepnumber=4_kernelsize=5_residual=True_usebatchnorm=False_simplepool=False.pt\n",
      "LOADED: /srv/newpenny/dnn-cs/tsoc/data/../trained_models/dummy_unet/N=100000_n=128_m=48_isnr=35_seedecg=42_modeA=rakeness_seedtorch=1_orth=True_corr=96af96a7ddfcb2f6059092c250e18f2a_inchannels=1_expandedchannels=16_stepnumber=3_kernelsize=3_residual=True_usebatchnorm=False_simplepool=False.pt\n",
      "LOADED: /srv/newpenny/dnn-cs/tsoc/data/../trained_models/dummy_unet/N=100000_n=128_m=48_isnr=35_seedecg=42_modeA=rakeness_seedtorch=2_orth=True_corr=96af96a7ddfcb2f6059092c250e18f2a_inchannels=1_expandedchannels=16_stepnumber=3_kernelsize=3_residual=True_usebatchnorm=False_simplepool=False.pt\n",
      "LOADED: /srv/newpenny/dnn-cs/tsoc/data/../trained_models/dummy_unet/N=100000_n=128_m=48_isnr=35_seedecg=42_modeA=rakeness_seedtorch=3_orth=True_corr=96af96a7ddfcb2f6059092c250e18f2a_inchannels=1_expandedchannels=16_stepnumber=3_kernelsize=3_residual=True_usebatchnorm=False_simplepool=False.pt\n",
      "LOADED: /srv/newpenny/dnn-cs/tsoc/data/../trained_models/dummy_unet/N=100000_n=128_m=48_isnr=35_seedecg=42_modeA=rakeness_seedtorch=1_orth=True_corr=96af96a7ddfcb2f6059092c250e18f2a_inchannels=1_expandedchannels=16_stepnumber=3_kernelsize=5_residual=True_usebatchnorm=False_simplepool=False.pt\n",
      "LOADED: /srv/newpenny/dnn-cs/tsoc/data/../trained_models/dummy_unet/N=100000_n=128_m=48_isnr=35_seedecg=42_modeA=rakeness_seedtorch=2_orth=True_corr=96af96a7ddfcb2f6059092c250e18f2a_inchannels=1_expandedchannels=16_stepnumber=3_kernelsize=5_residual=True_usebatchnorm=False_simplepool=False.pt\n",
      "LOADED: /srv/newpenny/dnn-cs/tsoc/data/../trained_models/dummy_unet/N=100000_n=128_m=48_isnr=35_seedecg=42_modeA=rakeness_seedtorch=3_orth=True_corr=96af96a7ddfcb2f6059092c250e18f2a_inchannels=1_expandedchannels=16_stepnumber=3_kernelsize=5_residual=True_usebatchnorm=False_simplepool=False.pt\n",
      "LOADED: /srv/newpenny/dnn-cs/tsoc/data/../trained_models/dummy_unet/N=100000_n=128_m=48_isnr=35_seedecg=42_modeA=rakeness_seedtorch=1_orth=True_corr=96af96a7ddfcb2f6059092c250e18f2a_inchannels=1_expandedchannels=8_stepnumber=4_kernelsize=3_residual=True_usebatchnorm=False_simplepool=False.pt\n",
      "LOADED: /srv/newpenny/dnn-cs/tsoc/data/../trained_models/dummy_unet/N=100000_n=128_m=48_isnr=35_seedecg=42_modeA=rakeness_seedtorch=2_orth=True_corr=96af96a7ddfcb2f6059092c250e18f2a_inchannels=1_expandedchannels=8_stepnumber=4_kernelsize=3_residual=True_usebatchnorm=False_simplepool=False.pt\n",
      "LOADED: /srv/newpenny/dnn-cs/tsoc/data/../trained_models/dummy_unet/N=100000_n=128_m=48_isnr=35_seedecg=42_modeA=rakeness_seedtorch=3_orth=True_corr=96af96a7ddfcb2f6059092c250e18f2a_inchannels=1_expandedchannels=8_stepnumber=4_kernelsize=3_residual=True_usebatchnorm=False_simplepool=False.pt\n",
      "LOADED: /srv/newpenny/dnn-cs/tsoc/data/../trained_models/dummy_unet/N=100000_n=128_m=48_isnr=35_seedecg=42_modeA=rakeness_seedtorch=1_orth=True_corr=96af96a7ddfcb2f6059092c250e18f2a_inchannels=1_expandedchannels=8_stepnumber=4_kernelsize=5_residual=True_usebatchnorm=False_simplepool=False.pt\n",
      "LOADED: /srv/newpenny/dnn-cs/tsoc/data/../trained_models/dummy_unet/N=100000_n=128_m=48_isnr=35_seedecg=42_modeA=rakeness_seedtorch=2_orth=True_corr=96af96a7ddfcb2f6059092c250e18f2a_inchannels=1_expandedchannels=8_stepnumber=4_kernelsize=5_residual=True_usebatchnorm=False_simplepool=False.pt\n",
      "LOADED: /srv/newpenny/dnn-cs/tsoc/data/../trained_models/dummy_unet/N=100000_n=128_m=48_isnr=35_seedecg=42_modeA=rakeness_seedtorch=3_orth=True_corr=96af96a7ddfcb2f6059092c250e18f2a_inchannels=1_expandedchannels=8_stepnumber=4_kernelsize=5_residual=True_usebatchnorm=False_simplepool=False.pt\n",
      "LOADED: /srv/newpenny/dnn-cs/tsoc/data/../trained_models/dummy_unet/N=100000_n=128_m=48_isnr=35_seedecg=42_modeA=rakeness_seedtorch=1_orth=True_corr=96af96a7ddfcb2f6059092c250e18f2a_inchannels=1_expandedchannels=8_stepnumber=3_kernelsize=3_residual=True_usebatchnorm=False_simplepool=False.pt\n",
      "LOADED: /srv/newpenny/dnn-cs/tsoc/data/../trained_models/dummy_unet/N=100000_n=128_m=48_isnr=35_seedecg=42_modeA=rakeness_seedtorch=2_orth=True_corr=96af96a7ddfcb2f6059092c250e18f2a_inchannels=1_expandedchannels=8_stepnumber=3_kernelsize=3_residual=True_usebatchnorm=False_simplepool=False.pt\n",
      "LOADED: /srv/newpenny/dnn-cs/tsoc/data/../trained_models/dummy_unet/N=100000_n=128_m=48_isnr=35_seedecg=42_modeA=rakeness_seedtorch=3_orth=True_corr=96af96a7ddfcb2f6059092c250e18f2a_inchannels=1_expandedchannels=8_stepnumber=3_kernelsize=3_residual=True_usebatchnorm=False_simplepool=False.pt\n",
      "LOADED: /srv/newpenny/dnn-cs/tsoc/data/../trained_models/dummy_unet/N=100000_n=128_m=48_isnr=35_seedecg=42_modeA=rakeness_seedtorch=1_orth=True_corr=96af96a7ddfcb2f6059092c250e18f2a_inchannels=1_expandedchannels=8_stepnumber=3_kernelsize=5_residual=True_usebatchnorm=False_simplepool=False.pt\n",
      "LOADED: /srv/newpenny/dnn-cs/tsoc/data/../trained_models/dummy_unet/N=100000_n=128_m=48_isnr=35_seedecg=42_modeA=rakeness_seedtorch=2_orth=True_corr=96af96a7ddfcb2f6059092c250e18f2a_inchannels=1_expandedchannels=8_stepnumber=3_kernelsize=5_residual=True_usebatchnorm=False_simplepool=False.pt\n",
      "LOADED: /srv/newpenny/dnn-cs/tsoc/data/../trained_models/dummy_unet/N=100000_n=128_m=48_isnr=35_seedecg=42_modeA=rakeness_seedtorch=3_orth=True_corr=96af96a7ddfcb2f6059092c250e18f2a_inchannels=1_expandedchannels=8_stepnumber=3_kernelsize=5_residual=True_usebatchnorm=False_simplepool=False.pt\n",
      "       number of models: 96\n",
      "\n",
      "LOADED number of models: 96\n",
      "\n"
     ]
    },
    {
     "data": {
      "text/markdown": [
       "<span style='color: #00ffff'>LOADED:  </span>{'mode_A': 'standard', 'expanded_channels': 64, 'step_number': 4, 'kernel_size': 3, 'seed_torch': 1}"
      ],
      "text/plain": [
       "<IPython.core.display.Markdown object>"
      ]
     },
     "metadata": {},
     "output_type": "display_data"
    },
    {
     "data": {
      "text/markdown": [
       "<span style='color: #00ffff'>LOADED:  </span>{'mode_A': 'standard', 'expanded_channels': 64, 'step_number': 4, 'kernel_size': 3, 'seed_torch': 2}"
      ],
      "text/plain": [
       "<IPython.core.display.Markdown object>"
      ]
     },
     "metadata": {},
     "output_type": "display_data"
    },
    {
     "data": {
      "text/markdown": [
       "<span style='color: #00ffff'>LOADED:  </span>{'mode_A': 'standard', 'expanded_channels': 64, 'step_number': 4, 'kernel_size': 3, 'seed_torch': 3}"
      ],
      "text/plain": [
       "<IPython.core.display.Markdown object>"
      ]
     },
     "metadata": {},
     "output_type": "display_data"
    },
    {
     "data": {
      "text/markdown": [
       "<span style='color: #00ffff'>LOADED:  </span>{'mode_A': 'standard', 'expanded_channels': 64, 'step_number': 4, 'kernel_size': 5, 'seed_torch': 1}"
      ],
      "text/plain": [
       "<IPython.core.display.Markdown object>"
      ]
     },
     "metadata": {},
     "output_type": "display_data"
    },
    {
     "data": {
      "text/markdown": [
       "<span style='color: #00ffff'>LOADED:  </span>{'mode_A': 'standard', 'expanded_channels': 64, 'step_number': 4, 'kernel_size': 5, 'seed_torch': 2}"
      ],
      "text/plain": [
       "<IPython.core.display.Markdown object>"
      ]
     },
     "metadata": {},
     "output_type": "display_data"
    },
    {
     "data": {
      "text/markdown": [
       "<span style='color: #00ffff'>LOADED:  </span>{'mode_A': 'standard', 'expanded_channels': 64, 'step_number': 4, 'kernel_size': 5, 'seed_torch': 3}"
      ],
      "text/plain": [
       "<IPython.core.display.Markdown object>"
      ]
     },
     "metadata": {},
     "output_type": "display_data"
    },
    {
     "data": {
      "text/markdown": [
       "<span style='color: #00ffff'>LOADED:  </span>{'mode_A': 'standard', 'expanded_channels': 64, 'step_number': 3, 'kernel_size': 3, 'seed_torch': 1}"
      ],
      "text/plain": [
       "<IPython.core.display.Markdown object>"
      ]
     },
     "metadata": {},
     "output_type": "display_data"
    },
    {
     "data": {
      "text/markdown": [
       "<span style='color: #00ffff'>LOADED:  </span>{'mode_A': 'standard', 'expanded_channels': 64, 'step_number': 3, 'kernel_size': 3, 'seed_torch': 2}"
      ],
      "text/plain": [
       "<IPython.core.display.Markdown object>"
      ]
     },
     "metadata": {},
     "output_type": "display_data"
    },
    {
     "data": {
      "text/markdown": [
       "<span style='color: #00ffff'>LOADED:  </span>{'mode_A': 'standard', 'expanded_channels': 64, 'step_number': 3, 'kernel_size': 3, 'seed_torch': 3}"
      ],
      "text/plain": [
       "<IPython.core.display.Markdown object>"
      ]
     },
     "metadata": {},
     "output_type": "display_data"
    },
    {
     "data": {
      "text/markdown": [
       "<span style='color: #00ffff'>LOADED:  </span>{'mode_A': 'standard', 'expanded_channels': 64, 'step_number': 3, 'kernel_size': 5, 'seed_torch': 1}"
      ],
      "text/plain": [
       "<IPython.core.display.Markdown object>"
      ]
     },
     "metadata": {},
     "output_type": "display_data"
    },
    {
     "data": {
      "text/markdown": [
       "<span style='color: #00ffff'>LOADED:  </span>{'mode_A': 'standard', 'expanded_channels': 64, 'step_number': 3, 'kernel_size': 5, 'seed_torch': 2}"
      ],
      "text/plain": [
       "<IPython.core.display.Markdown object>"
      ]
     },
     "metadata": {},
     "output_type": "display_data"
    },
    {
     "data": {
      "text/markdown": [
       "<span style='color: #00ffff'>LOADED:  </span>{'mode_A': 'standard', 'expanded_channels': 64, 'step_number': 3, 'kernel_size': 5, 'seed_torch': 3}"
      ],
      "text/plain": [
       "<IPython.core.display.Markdown object>"
      ]
     },
     "metadata": {},
     "output_type": "display_data"
    },
    {
     "data": {
      "text/markdown": [
       "<span style='color: #00ffff'>LOADED:  </span>{'mode_A': 'standard', 'expanded_channels': 32, 'step_number': 4, 'kernel_size': 3, 'seed_torch': 1}"
      ],
      "text/plain": [
       "<IPython.core.display.Markdown object>"
      ]
     },
     "metadata": {},
     "output_type": "display_data"
    },
    {
     "data": {
      "text/markdown": [
       "<span style='color: #00ffff'>LOADED:  </span>{'mode_A': 'standard', 'expanded_channels': 32, 'step_number': 4, 'kernel_size': 3, 'seed_torch': 2}"
      ],
      "text/plain": [
       "<IPython.core.display.Markdown object>"
      ]
     },
     "metadata": {},
     "output_type": "display_data"
    },
    {
     "data": {
      "text/markdown": [
       "<span style='color: #00ffff'>LOADED:  </span>{'mode_A': 'standard', 'expanded_channels': 32, 'step_number': 4, 'kernel_size': 3, 'seed_torch': 3}"
      ],
      "text/plain": [
       "<IPython.core.display.Markdown object>"
      ]
     },
     "metadata": {},
     "output_type": "display_data"
    },
    {
     "data": {
      "text/markdown": [
       "<span style='color: #00ffff'>LOADED:  </span>{'mode_A': 'standard', 'expanded_channels': 32, 'step_number': 4, 'kernel_size': 5, 'seed_torch': 1}"
      ],
      "text/plain": [
       "<IPython.core.display.Markdown object>"
      ]
     },
     "metadata": {},
     "output_type": "display_data"
    },
    {
     "data": {
      "text/markdown": [
       "<span style='color: #00ffff'>LOADED:  </span>{'mode_A': 'standard', 'expanded_channels': 32, 'step_number': 4, 'kernel_size': 5, 'seed_torch': 2}"
      ],
      "text/plain": [
       "<IPython.core.display.Markdown object>"
      ]
     },
     "metadata": {},
     "output_type": "display_data"
    },
    {
     "data": {
      "text/markdown": [
       "<span style='color: #00ffff'>LOADED:  </span>{'mode_A': 'standard', 'expanded_channels': 32, 'step_number': 4, 'kernel_size': 5, 'seed_torch': 3}"
      ],
      "text/plain": [
       "<IPython.core.display.Markdown object>"
      ]
     },
     "metadata": {},
     "output_type": "display_data"
    },
    {
     "data": {
      "text/markdown": [
       "<span style='color: #00ffff'>LOADED:  </span>{'mode_A': 'standard', 'expanded_channels': 32, 'step_number': 3, 'kernel_size': 3, 'seed_torch': 1}"
      ],
      "text/plain": [
       "<IPython.core.display.Markdown object>"
      ]
     },
     "metadata": {},
     "output_type": "display_data"
    },
    {
     "data": {
      "text/markdown": [
       "<span style='color: #00ffff'>LOADED:  </span>{'mode_A': 'standard', 'expanded_channels': 32, 'step_number': 3, 'kernel_size': 3, 'seed_torch': 2}"
      ],
      "text/plain": [
       "<IPython.core.display.Markdown object>"
      ]
     },
     "metadata": {},
     "output_type": "display_data"
    },
    {
     "data": {
      "text/markdown": [
       "<span style='color: #00ffff'>LOADED:  </span>{'mode_A': 'standard', 'expanded_channels': 32, 'step_number': 3, 'kernel_size': 3, 'seed_torch': 3}"
      ],
      "text/plain": [
       "<IPython.core.display.Markdown object>"
      ]
     },
     "metadata": {},
     "output_type": "display_data"
    },
    {
     "data": {
      "text/markdown": [
       "<span style='color: #00ffff'>LOADED:  </span>{'mode_A': 'standard', 'expanded_channels': 32, 'step_number': 3, 'kernel_size': 5, 'seed_torch': 1}"
      ],
      "text/plain": [
       "<IPython.core.display.Markdown object>"
      ]
     },
     "metadata": {},
     "output_type": "display_data"
    },
    {
     "data": {
      "text/markdown": [
       "<span style='color: #00ffff'>LOADED:  </span>{'mode_A': 'standard', 'expanded_channels': 32, 'step_number': 3, 'kernel_size': 5, 'seed_torch': 2}"
      ],
      "text/plain": [
       "<IPython.core.display.Markdown object>"
      ]
     },
     "metadata": {},
     "output_type": "display_data"
    },
    {
     "data": {
      "text/markdown": [
       "<span style='color: #00ffff'>LOADED:  </span>{'mode_A': 'standard', 'expanded_channels': 32, 'step_number': 3, 'kernel_size': 5, 'seed_torch': 3}"
      ],
      "text/plain": [
       "<IPython.core.display.Markdown object>"
      ]
     },
     "metadata": {},
     "output_type": "display_data"
    },
    {
     "data": {
      "text/markdown": [
       "<span style='color: #00ffff'>LOADED:  </span>{'mode_A': 'standard', 'expanded_channels': 16, 'step_number': 4, 'kernel_size': 3, 'seed_torch': 1}"
      ],
      "text/plain": [
       "<IPython.core.display.Markdown object>"
      ]
     },
     "metadata": {},
     "output_type": "display_data"
    },
    {
     "data": {
      "text/markdown": [
       "<span style='color: #00ffff'>LOADED:  </span>{'mode_A': 'standard', 'expanded_channels': 16, 'step_number': 4, 'kernel_size': 3, 'seed_torch': 2}"
      ],
      "text/plain": [
       "<IPython.core.display.Markdown object>"
      ]
     },
     "metadata": {},
     "output_type": "display_data"
    },
    {
     "data": {
      "text/markdown": [
       "<span style='color: #00ffff'>LOADED:  </span>{'mode_A': 'standard', 'expanded_channels': 16, 'step_number': 4, 'kernel_size': 3, 'seed_torch': 3}"
      ],
      "text/plain": [
       "<IPython.core.display.Markdown object>"
      ]
     },
     "metadata": {},
     "output_type": "display_data"
    },
    {
     "data": {
      "text/markdown": [
       "<span style='color: #00ffff'>LOADED:  </span>{'mode_A': 'standard', 'expanded_channels': 16, 'step_number': 4, 'kernel_size': 5, 'seed_torch': 1}"
      ],
      "text/plain": [
       "<IPython.core.display.Markdown object>"
      ]
     },
     "metadata": {},
     "output_type": "display_data"
    },
    {
     "data": {
      "text/markdown": [
       "<span style='color: #00ffff'>LOADED:  </span>{'mode_A': 'standard', 'expanded_channels': 16, 'step_number': 4, 'kernel_size': 5, 'seed_torch': 2}"
      ],
      "text/plain": [
       "<IPython.core.display.Markdown object>"
      ]
     },
     "metadata": {},
     "output_type": "display_data"
    },
    {
     "data": {
      "text/markdown": [
       "<span style='color: #00ffff'>LOADED:  </span>{'mode_A': 'standard', 'expanded_channels': 16, 'step_number': 4, 'kernel_size': 5, 'seed_torch': 3}"
      ],
      "text/plain": [
       "<IPython.core.display.Markdown object>"
      ]
     },
     "metadata": {},
     "output_type": "display_data"
    },
    {
     "data": {
      "text/markdown": [
       "<span style='color: #00ffff'>LOADED:  </span>{'mode_A': 'standard', 'expanded_channels': 16, 'step_number': 3, 'kernel_size': 3, 'seed_torch': 1}"
      ],
      "text/plain": [
       "<IPython.core.display.Markdown object>"
      ]
     },
     "metadata": {},
     "output_type": "display_data"
    },
    {
     "data": {
      "text/markdown": [
       "<span style='color: #00ffff'>LOADED:  </span>{'mode_A': 'standard', 'expanded_channels': 16, 'step_number': 3, 'kernel_size': 3, 'seed_torch': 2}"
      ],
      "text/plain": [
       "<IPython.core.display.Markdown object>"
      ]
     },
     "metadata": {},
     "output_type": "display_data"
    },
    {
     "data": {
      "text/markdown": [
       "<span style='color: #00ffff'>LOADED:  </span>{'mode_A': 'standard', 'expanded_channels': 16, 'step_number': 3, 'kernel_size': 3, 'seed_torch': 3}"
      ],
      "text/plain": [
       "<IPython.core.display.Markdown object>"
      ]
     },
     "metadata": {},
     "output_type": "display_data"
    },
    {
     "data": {
      "text/markdown": [
       "<span style='color: #00ffff'>LOADED:  </span>{'mode_A': 'standard', 'expanded_channels': 16, 'step_number': 3, 'kernel_size': 5, 'seed_torch': 1}"
      ],
      "text/plain": [
       "<IPython.core.display.Markdown object>"
      ]
     },
     "metadata": {},
     "output_type": "display_data"
    },
    {
     "data": {
      "text/markdown": [
       "<span style='color: #00ffff'>LOADED:  </span>{'mode_A': 'standard', 'expanded_channels': 16, 'step_number': 3, 'kernel_size': 5, 'seed_torch': 2}"
      ],
      "text/plain": [
       "<IPython.core.display.Markdown object>"
      ]
     },
     "metadata": {},
     "output_type": "display_data"
    },
    {
     "data": {
      "text/markdown": [
       "<span style='color: #00ffff'>LOADED:  </span>{'mode_A': 'standard', 'expanded_channels': 16, 'step_number': 3, 'kernel_size': 5, 'seed_torch': 3}"
      ],
      "text/plain": [
       "<IPython.core.display.Markdown object>"
      ]
     },
     "metadata": {},
     "output_type": "display_data"
    },
    {
     "data": {
      "text/markdown": [
       "<span style='color: #00ffff'>LOADED:  </span>{'mode_A': 'standard', 'expanded_channels': 8, 'step_number': 4, 'kernel_size': 3, 'seed_torch': 1}"
      ],
      "text/plain": [
       "<IPython.core.display.Markdown object>"
      ]
     },
     "metadata": {},
     "output_type": "display_data"
    },
    {
     "data": {
      "text/markdown": [
       "<span style='color: #00ffff'>LOADED:  </span>{'mode_A': 'standard', 'expanded_channels': 8, 'step_number': 4, 'kernel_size': 3, 'seed_torch': 2}"
      ],
      "text/plain": [
       "<IPython.core.display.Markdown object>"
      ]
     },
     "metadata": {},
     "output_type": "display_data"
    },
    {
     "data": {
      "text/markdown": [
       "<span style='color: #00ffff'>LOADED:  </span>{'mode_A': 'standard', 'expanded_channels': 8, 'step_number': 4, 'kernel_size': 3, 'seed_torch': 3}"
      ],
      "text/plain": [
       "<IPython.core.display.Markdown object>"
      ]
     },
     "metadata": {},
     "output_type": "display_data"
    },
    {
     "data": {
      "text/markdown": [
       "<span style='color: #00ffff'>LOADED:  </span>{'mode_A': 'standard', 'expanded_channels': 8, 'step_number': 4, 'kernel_size': 5, 'seed_torch': 1}"
      ],
      "text/plain": [
       "<IPython.core.display.Markdown object>"
      ]
     },
     "metadata": {},
     "output_type": "display_data"
    },
    {
     "data": {
      "text/markdown": [
       "<span style='color: #00ffff'>LOADED:  </span>{'mode_A': 'standard', 'expanded_channels': 8, 'step_number': 4, 'kernel_size': 5, 'seed_torch': 2}"
      ],
      "text/plain": [
       "<IPython.core.display.Markdown object>"
      ]
     },
     "metadata": {},
     "output_type": "display_data"
    },
    {
     "data": {
      "text/markdown": [
       "<span style='color: #00ffff'>LOADED:  </span>{'mode_A': 'standard', 'expanded_channels': 8, 'step_number': 4, 'kernel_size': 5, 'seed_torch': 3}"
      ],
      "text/plain": [
       "<IPython.core.display.Markdown object>"
      ]
     },
     "metadata": {},
     "output_type": "display_data"
    },
    {
     "data": {
      "text/markdown": [
       "<span style='color: #00ffff'>LOADED:  </span>{'mode_A': 'standard', 'expanded_channels': 8, 'step_number': 3, 'kernel_size': 3, 'seed_torch': 1}"
      ],
      "text/plain": [
       "<IPython.core.display.Markdown object>"
      ]
     },
     "metadata": {},
     "output_type": "display_data"
    },
    {
     "data": {
      "text/markdown": [
       "<span style='color: #00ffff'>LOADED:  </span>{'mode_A': 'standard', 'expanded_channels': 8, 'step_number': 3, 'kernel_size': 3, 'seed_torch': 2}"
      ],
      "text/plain": [
       "<IPython.core.display.Markdown object>"
      ]
     },
     "metadata": {},
     "output_type": "display_data"
    },
    {
     "data": {
      "text/markdown": [
       "<span style='color: #00ffff'>LOADED:  </span>{'mode_A': 'standard', 'expanded_channels': 8, 'step_number': 3, 'kernel_size': 3, 'seed_torch': 3}"
      ],
      "text/plain": [
       "<IPython.core.display.Markdown object>"
      ]
     },
     "metadata": {},
     "output_type": "display_data"
    },
    {
     "data": {
      "text/markdown": [
       "<span style='color: #00ffff'>LOADED:  </span>{'mode_A': 'standard', 'expanded_channels': 8, 'step_number': 3, 'kernel_size': 5, 'seed_torch': 1}"
      ],
      "text/plain": [
       "<IPython.core.display.Markdown object>"
      ]
     },
     "metadata": {},
     "output_type": "display_data"
    },
    {
     "data": {
      "text/markdown": [
       "<span style='color: #00ffff'>LOADED:  </span>{'mode_A': 'standard', 'expanded_channels': 8, 'step_number': 3, 'kernel_size': 5, 'seed_torch': 2}"
      ],
      "text/plain": [
       "<IPython.core.display.Markdown object>"
      ]
     },
     "metadata": {},
     "output_type": "display_data"
    },
    {
     "data": {
      "text/markdown": [
       "<span style='color: #00ffff'>LOADED:  </span>{'mode_A': 'standard', 'expanded_channels': 8, 'step_number': 3, 'kernel_size': 5, 'seed_torch': 3}"
      ],
      "text/plain": [
       "<IPython.core.display.Markdown object>"
      ]
     },
     "metadata": {},
     "output_type": "display_data"
    },
    {
     "data": {
      "text/markdown": [
       "<span style='color: #00ffff'>LOADED:  </span>{'mode_A': 'rakeness', 'expanded_channels': 64, 'step_number': 4, 'kernel_size': 3, 'seed_torch': 1}"
      ],
      "text/plain": [
       "<IPython.core.display.Markdown object>"
      ]
     },
     "metadata": {},
     "output_type": "display_data"
    },
    {
     "data": {
      "text/markdown": [
       "<span style='color: #00ffff'>LOADED:  </span>{'mode_A': 'rakeness', 'expanded_channels': 64, 'step_number': 4, 'kernel_size': 3, 'seed_torch': 2}"
      ],
      "text/plain": [
       "<IPython.core.display.Markdown object>"
      ]
     },
     "metadata": {},
     "output_type": "display_data"
    },
    {
     "data": {
      "text/markdown": [
       "<span style='color: #00ffff'>LOADED:  </span>{'mode_A': 'rakeness', 'expanded_channels': 64, 'step_number': 4, 'kernel_size': 3, 'seed_torch': 3}"
      ],
      "text/plain": [
       "<IPython.core.display.Markdown object>"
      ]
     },
     "metadata": {},
     "output_type": "display_data"
    },
    {
     "data": {
      "text/markdown": [
       "<span style='color: #00ffff'>LOADED:  </span>{'mode_A': 'rakeness', 'expanded_channels': 64, 'step_number': 4, 'kernel_size': 5, 'seed_torch': 1}"
      ],
      "text/plain": [
       "<IPython.core.display.Markdown object>"
      ]
     },
     "metadata": {},
     "output_type": "display_data"
    },
    {
     "data": {
      "text/markdown": [
       "<span style='color: #00ffff'>LOADED:  </span>{'mode_A': 'rakeness', 'expanded_channels': 64, 'step_number': 4, 'kernel_size': 5, 'seed_torch': 2}"
      ],
      "text/plain": [
       "<IPython.core.display.Markdown object>"
      ]
     },
     "metadata": {},
     "output_type": "display_data"
    },
    {
     "data": {
      "text/markdown": [
       "<span style='color: #00ffff'>LOADED:  </span>{'mode_A': 'rakeness', 'expanded_channels': 64, 'step_number': 4, 'kernel_size': 5, 'seed_torch': 3}"
      ],
      "text/plain": [
       "<IPython.core.display.Markdown object>"
      ]
     },
     "metadata": {},
     "output_type": "display_data"
    },
    {
     "data": {
      "text/markdown": [
       "<span style='color: #00ffff'>LOADED:  </span>{'mode_A': 'rakeness', 'expanded_channels': 64, 'step_number': 3, 'kernel_size': 3, 'seed_torch': 1}"
      ],
      "text/plain": [
       "<IPython.core.display.Markdown object>"
      ]
     },
     "metadata": {},
     "output_type": "display_data"
    },
    {
     "data": {
      "text/markdown": [
       "<span style='color: #00ffff'>LOADED:  </span>{'mode_A': 'rakeness', 'expanded_channels': 64, 'step_number': 3, 'kernel_size': 3, 'seed_torch': 2}"
      ],
      "text/plain": [
       "<IPython.core.display.Markdown object>"
      ]
     },
     "metadata": {},
     "output_type": "display_data"
    },
    {
     "data": {
      "text/markdown": [
       "<span style='color: #00ffff'>LOADED:  </span>{'mode_A': 'rakeness', 'expanded_channels': 64, 'step_number': 3, 'kernel_size': 3, 'seed_torch': 3}"
      ],
      "text/plain": [
       "<IPython.core.display.Markdown object>"
      ]
     },
     "metadata": {},
     "output_type": "display_data"
    },
    {
     "data": {
      "text/markdown": [
       "<span style='color: #00ffff'>LOADED:  </span>{'mode_A': 'rakeness', 'expanded_channels': 64, 'step_number': 3, 'kernel_size': 5, 'seed_torch': 1}"
      ],
      "text/plain": [
       "<IPython.core.display.Markdown object>"
      ]
     },
     "metadata": {},
     "output_type": "display_data"
    },
    {
     "data": {
      "text/markdown": [
       "<span style='color: #00ffff'>LOADED:  </span>{'mode_A': 'rakeness', 'expanded_channels': 64, 'step_number': 3, 'kernel_size': 5, 'seed_torch': 2}"
      ],
      "text/plain": [
       "<IPython.core.display.Markdown object>"
      ]
     },
     "metadata": {},
     "output_type": "display_data"
    },
    {
     "data": {
      "text/markdown": [
       "<span style='color: #00ffff'>LOADED:  </span>{'mode_A': 'rakeness', 'expanded_channels': 64, 'step_number': 3, 'kernel_size': 5, 'seed_torch': 3}"
      ],
      "text/plain": [
       "<IPython.core.display.Markdown object>"
      ]
     },
     "metadata": {},
     "output_type": "display_data"
    },
    {
     "data": {
      "text/markdown": [
       "<span style='color: #00ffff'>LOADED:  </span>{'mode_A': 'rakeness', 'expanded_channels': 32, 'step_number': 4, 'kernel_size': 3, 'seed_torch': 1}"
      ],
      "text/plain": [
       "<IPython.core.display.Markdown object>"
      ]
     },
     "metadata": {},
     "output_type": "display_data"
    },
    {
     "data": {
      "text/markdown": [
       "<span style='color: #00ffff'>LOADED:  </span>{'mode_A': 'rakeness', 'expanded_channels': 32, 'step_number': 4, 'kernel_size': 3, 'seed_torch': 2}"
      ],
      "text/plain": [
       "<IPython.core.display.Markdown object>"
      ]
     },
     "metadata": {},
     "output_type": "display_data"
    },
    {
     "data": {
      "text/markdown": [
       "<span style='color: #00ffff'>LOADED:  </span>{'mode_A': 'rakeness', 'expanded_channels': 32, 'step_number': 4, 'kernel_size': 3, 'seed_torch': 3}"
      ],
      "text/plain": [
       "<IPython.core.display.Markdown object>"
      ]
     },
     "metadata": {},
     "output_type": "display_data"
    },
    {
     "data": {
      "text/markdown": [
       "<span style='color: #00ffff'>LOADED:  </span>{'mode_A': 'rakeness', 'expanded_channels': 32, 'step_number': 4, 'kernel_size': 5, 'seed_torch': 1}"
      ],
      "text/plain": [
       "<IPython.core.display.Markdown object>"
      ]
     },
     "metadata": {},
     "output_type": "display_data"
    },
    {
     "data": {
      "text/markdown": [
       "<span style='color: #00ffff'>LOADED:  </span>{'mode_A': 'rakeness', 'expanded_channels': 32, 'step_number': 4, 'kernel_size': 5, 'seed_torch': 2}"
      ],
      "text/plain": [
       "<IPython.core.display.Markdown object>"
      ]
     },
     "metadata": {},
     "output_type": "display_data"
    },
    {
     "data": {
      "text/markdown": [
       "<span style='color: #00ffff'>LOADED:  </span>{'mode_A': 'rakeness', 'expanded_channels': 32, 'step_number': 4, 'kernel_size': 5, 'seed_torch': 3}"
      ],
      "text/plain": [
       "<IPython.core.display.Markdown object>"
      ]
     },
     "metadata": {},
     "output_type": "display_data"
    },
    {
     "data": {
      "text/markdown": [
       "<span style='color: #00ffff'>LOADED:  </span>{'mode_A': 'rakeness', 'expanded_channels': 32, 'step_number': 3, 'kernel_size': 3, 'seed_torch': 1}"
      ],
      "text/plain": [
       "<IPython.core.display.Markdown object>"
      ]
     },
     "metadata": {},
     "output_type": "display_data"
    },
    {
     "data": {
      "text/markdown": [
       "<span style='color: #00ffff'>LOADED:  </span>{'mode_A': 'rakeness', 'expanded_channels': 32, 'step_number': 3, 'kernel_size': 3, 'seed_torch': 2}"
      ],
      "text/plain": [
       "<IPython.core.display.Markdown object>"
      ]
     },
     "metadata": {},
     "output_type": "display_data"
    },
    {
     "data": {
      "text/markdown": [
       "<span style='color: #00ffff'>LOADED:  </span>{'mode_A': 'rakeness', 'expanded_channels': 32, 'step_number': 3, 'kernel_size': 3, 'seed_torch': 3}"
      ],
      "text/plain": [
       "<IPython.core.display.Markdown object>"
      ]
     },
     "metadata": {},
     "output_type": "display_data"
    },
    {
     "data": {
      "text/markdown": [
       "<span style='color: #00ffff'>LOADED:  </span>{'mode_A': 'rakeness', 'expanded_channels': 32, 'step_number': 3, 'kernel_size': 5, 'seed_torch': 1}"
      ],
      "text/plain": [
       "<IPython.core.display.Markdown object>"
      ]
     },
     "metadata": {},
     "output_type": "display_data"
    },
    {
     "data": {
      "text/markdown": [
       "<span style='color: #00ffff'>LOADED:  </span>{'mode_A': 'rakeness', 'expanded_channels': 32, 'step_number': 3, 'kernel_size': 5, 'seed_torch': 2}"
      ],
      "text/plain": [
       "<IPython.core.display.Markdown object>"
      ]
     },
     "metadata": {},
     "output_type": "display_data"
    },
    {
     "data": {
      "text/markdown": [
       "<span style='color: #00ffff'>LOADED:  </span>{'mode_A': 'rakeness', 'expanded_channels': 32, 'step_number': 3, 'kernel_size': 5, 'seed_torch': 3}"
      ],
      "text/plain": [
       "<IPython.core.display.Markdown object>"
      ]
     },
     "metadata": {},
     "output_type": "display_data"
    },
    {
     "data": {
      "text/markdown": [
       "<span style='color: #00ffff'>LOADED:  </span>{'mode_A': 'rakeness', 'expanded_channels': 16, 'step_number': 4, 'kernel_size': 3, 'seed_torch': 1}"
      ],
      "text/plain": [
       "<IPython.core.display.Markdown object>"
      ]
     },
     "metadata": {},
     "output_type": "display_data"
    },
    {
     "data": {
      "text/markdown": [
       "<span style='color: #00ffff'>LOADED:  </span>{'mode_A': 'rakeness', 'expanded_channels': 16, 'step_number': 4, 'kernel_size': 3, 'seed_torch': 2}"
      ],
      "text/plain": [
       "<IPython.core.display.Markdown object>"
      ]
     },
     "metadata": {},
     "output_type": "display_data"
    },
    {
     "data": {
      "text/markdown": [
       "<span style='color: #00ffff'>LOADED:  </span>{'mode_A': 'rakeness', 'expanded_channels': 16, 'step_number': 4, 'kernel_size': 3, 'seed_torch': 3}"
      ],
      "text/plain": [
       "<IPython.core.display.Markdown object>"
      ]
     },
     "metadata": {},
     "output_type": "display_data"
    },
    {
     "data": {
      "text/markdown": [
       "<span style='color: #00ffff'>LOADED:  </span>{'mode_A': 'rakeness', 'expanded_channels': 16, 'step_number': 4, 'kernel_size': 5, 'seed_torch': 1}"
      ],
      "text/plain": [
       "<IPython.core.display.Markdown object>"
      ]
     },
     "metadata": {},
     "output_type": "display_data"
    },
    {
     "data": {
      "text/markdown": [
       "<span style='color: #00ffff'>LOADED:  </span>{'mode_A': 'rakeness', 'expanded_channels': 16, 'step_number': 4, 'kernel_size': 5, 'seed_torch': 2}"
      ],
      "text/plain": [
       "<IPython.core.display.Markdown object>"
      ]
     },
     "metadata": {},
     "output_type": "display_data"
    },
    {
     "data": {
      "text/markdown": [
       "<span style='color: #00ffff'>LOADED:  </span>{'mode_A': 'rakeness', 'expanded_channels': 16, 'step_number': 4, 'kernel_size': 5, 'seed_torch': 3}"
      ],
      "text/plain": [
       "<IPython.core.display.Markdown object>"
      ]
     },
     "metadata": {},
     "output_type": "display_data"
    },
    {
     "data": {
      "text/markdown": [
       "<span style='color: #00ffff'>LOADED:  </span>{'mode_A': 'rakeness', 'expanded_channels': 16, 'step_number': 3, 'kernel_size': 3, 'seed_torch': 1}"
      ],
      "text/plain": [
       "<IPython.core.display.Markdown object>"
      ]
     },
     "metadata": {},
     "output_type": "display_data"
    },
    {
     "data": {
      "text/markdown": [
       "<span style='color: #00ffff'>LOADED:  </span>{'mode_A': 'rakeness', 'expanded_channels': 16, 'step_number': 3, 'kernel_size': 3, 'seed_torch': 2}"
      ],
      "text/plain": [
       "<IPython.core.display.Markdown object>"
      ]
     },
     "metadata": {},
     "output_type": "display_data"
    },
    {
     "data": {
      "text/markdown": [
       "<span style='color: #00ffff'>LOADED:  </span>{'mode_A': 'rakeness', 'expanded_channels': 16, 'step_number': 3, 'kernel_size': 3, 'seed_torch': 3}"
      ],
      "text/plain": [
       "<IPython.core.display.Markdown object>"
      ]
     },
     "metadata": {},
     "output_type": "display_data"
    },
    {
     "data": {
      "text/markdown": [
       "<span style='color: #00ffff'>LOADED:  </span>{'mode_A': 'rakeness', 'expanded_channels': 16, 'step_number': 3, 'kernel_size': 5, 'seed_torch': 1}"
      ],
      "text/plain": [
       "<IPython.core.display.Markdown object>"
      ]
     },
     "metadata": {},
     "output_type": "display_data"
    },
    {
     "data": {
      "text/markdown": [
       "<span style='color: #00ffff'>LOADED:  </span>{'mode_A': 'rakeness', 'expanded_channels': 16, 'step_number': 3, 'kernel_size': 5, 'seed_torch': 2}"
      ],
      "text/plain": [
       "<IPython.core.display.Markdown object>"
      ]
     },
     "metadata": {},
     "output_type": "display_data"
    },
    {
     "data": {
      "text/markdown": [
       "<span style='color: #00ffff'>LOADED:  </span>{'mode_A': 'rakeness', 'expanded_channels': 16, 'step_number': 3, 'kernel_size': 5, 'seed_torch': 3}"
      ],
      "text/plain": [
       "<IPython.core.display.Markdown object>"
      ]
     },
     "metadata": {},
     "output_type": "display_data"
    },
    {
     "data": {
      "text/markdown": [
       "<span style='color: #00ffff'>LOADED:  </span>{'mode_A': 'rakeness', 'expanded_channels': 8, 'step_number': 4, 'kernel_size': 3, 'seed_torch': 1}"
      ],
      "text/plain": [
       "<IPython.core.display.Markdown object>"
      ]
     },
     "metadata": {},
     "output_type": "display_data"
    },
    {
     "data": {
      "text/markdown": [
       "<span style='color: #00ffff'>LOADED:  </span>{'mode_A': 'rakeness', 'expanded_channels': 8, 'step_number': 4, 'kernel_size': 3, 'seed_torch': 2}"
      ],
      "text/plain": [
       "<IPython.core.display.Markdown object>"
      ]
     },
     "metadata": {},
     "output_type": "display_data"
    },
    {
     "data": {
      "text/markdown": [
       "<span style='color: #00ffff'>LOADED:  </span>{'mode_A': 'rakeness', 'expanded_channels': 8, 'step_number': 4, 'kernel_size': 3, 'seed_torch': 3}"
      ],
      "text/plain": [
       "<IPython.core.display.Markdown object>"
      ]
     },
     "metadata": {},
     "output_type": "display_data"
    },
    {
     "data": {
      "text/markdown": [
       "<span style='color: #00ffff'>LOADED:  </span>{'mode_A': 'rakeness', 'expanded_channels': 8, 'step_number': 4, 'kernel_size': 5, 'seed_torch': 1}"
      ],
      "text/plain": [
       "<IPython.core.display.Markdown object>"
      ]
     },
     "metadata": {},
     "output_type": "display_data"
    },
    {
     "data": {
      "text/markdown": [
       "<span style='color: #00ffff'>LOADED:  </span>{'mode_A': 'rakeness', 'expanded_channels': 8, 'step_number': 4, 'kernel_size': 5, 'seed_torch': 2}"
      ],
      "text/plain": [
       "<IPython.core.display.Markdown object>"
      ]
     },
     "metadata": {},
     "output_type": "display_data"
    },
    {
     "data": {
      "text/markdown": [
       "<span style='color: #00ffff'>LOADED:  </span>{'mode_A': 'rakeness', 'expanded_channels': 8, 'step_number': 4, 'kernel_size': 5, 'seed_torch': 3}"
      ],
      "text/plain": [
       "<IPython.core.display.Markdown object>"
      ]
     },
     "metadata": {},
     "output_type": "display_data"
    },
    {
     "data": {
      "text/markdown": [
       "<span style='color: #00ffff'>LOADED:  </span>{'mode_A': 'rakeness', 'expanded_channels': 8, 'step_number': 3, 'kernel_size': 3, 'seed_torch': 1}"
      ],
      "text/plain": [
       "<IPython.core.display.Markdown object>"
      ]
     },
     "metadata": {},
     "output_type": "display_data"
    },
    {
     "data": {
      "text/markdown": [
       "<span style='color: #00ffff'>LOADED:  </span>{'mode_A': 'rakeness', 'expanded_channels': 8, 'step_number': 3, 'kernel_size': 3, 'seed_torch': 2}"
      ],
      "text/plain": [
       "<IPython.core.display.Markdown object>"
      ]
     },
     "metadata": {},
     "output_type": "display_data"
    },
    {
     "data": {
      "text/markdown": [
       "<span style='color: #00ffff'>LOADED:  </span>{'mode_A': 'rakeness', 'expanded_channels': 8, 'step_number': 3, 'kernel_size': 3, 'seed_torch': 3}"
      ],
      "text/plain": [
       "<IPython.core.display.Markdown object>"
      ]
     },
     "metadata": {},
     "output_type": "display_data"
    },
    {
     "data": {
      "text/markdown": [
       "<span style='color: #00ffff'>LOADED:  </span>{'mode_A': 'rakeness', 'expanded_channels': 8, 'step_number': 3, 'kernel_size': 5, 'seed_torch': 1}"
      ],
      "text/plain": [
       "<IPython.core.display.Markdown object>"
      ]
     },
     "metadata": {},
     "output_type": "display_data"
    },
    {
     "data": {
      "text/markdown": [
       "<span style='color: #00ffff'>LOADED:  </span>{'mode_A': 'rakeness', 'expanded_channels': 8, 'step_number': 3, 'kernel_size': 5, 'seed_torch': 2}"
      ],
      "text/plain": [
       "<IPython.core.display.Markdown object>"
      ]
     },
     "metadata": {},
     "output_type": "display_data"
    },
    {
     "data": {
      "text/markdown": [
       "<span style='color: #00ffff'>LOADED:  </span>{'mode_A': 'rakeness', 'expanded_channels': 8, 'step_number': 3, 'kernel_size': 5, 'seed_torch': 3}"
      ],
      "text/plain": [
       "<IPython.core.display.Markdown object>"
      ]
     },
     "metadata": {},
     "output_type": "display_data"
    }
   ],
   "source": [
    "bundle_all, param_unique_list = unravel_bundle_param(bundle_param)\n",
    "model_list = np.array([from_bundle_to_model(b, device, verbose=True) for b in bundle_all])\n",
    "\n",
    "ind_loaded = model_list!=None\n",
    "\n",
    "print(f\"       number of models: {len(model_list)}\\n\")\n",
    "print(f\"LOADED number of models: {len(model_list[ind_loaded])}\\n\")\n",
    "\n",
    "for _m, _p in zip(model_list, param_unique_list):\n",
    "    if _m is not None:\n",
    "        display(Markdown(color('LOADED:  ', '', _p, code=\"00ffff\")));\n",
    "    else:\n",
    "        display(Markdown(color('MISSING: ', '', _p)));\n",
    "\n",
    "model_list, param_unique_list = model_list[ind_loaded], np.array(param_unique_list)[ind_loaded]"
   ]
  },
  {
   "cell_type": "markdown",
   "metadata": {},
   "source": [
    "### Extract ECG (dataset)"
   ]
  },
  {
   "cell_type": "code",
   "execution_count": 17,
   "metadata": {},
   "outputs": [],
   "source": [
    "path_ecg = from_bundle_to_ecg_path(bundle_param)\n",
    "\n",
    "with open(path_ecg, 'rb') as f:\n",
    "    ecg = pkl.load(f)[:, np.newaxis]\n"
   ]
  },
  {
   "cell_type": "markdown",
   "metadata": {},
   "source": [
    "### Extract A (sensing matrix)"
   ]
  },
  {
   "cell_type": "code",
   "execution_count": 18,
   "metadata": {},
   "outputs": [
    {
     "name": "stdout",
     "output_type": "stream",
     "text": [
      "Loading sensing matrix standard (rsnr: 17.82dB (with bpdn) -- seed: 52744)\n",
      "Loading sensing matrix rakeness (rsnr: 27.64dB (with bpdn) -- seed: 30808)\n"
     ]
    }
   ],
   "source": [
    "\n",
    "dict_A = {}\n",
    "l_mode_A = bundle_param['mode_A']\n",
    "if type(l_mode_A) is not list:\n",
    "    l_mode_A = [l_mode_A]\n",
    "\n",
    "\n",
    "for _mode_A in l_mode_A:\n",
    "\n",
    "    _bundle_param = bundle_param.copy()\n",
    "    _bundle_param['mode_A'] = _mode_A\n",
    "    path_A = from_bundle_to_A_path(_bundle_param)\n",
    "\n",
    "    if os.path.isfile(path_A):\n",
    "        with open(path_A, 'rb') as f:\n",
    "            A = pkl.load(f)[0]\n",
    "        print(f\"Loading sensing matrix\", _mode_A,\n",
    "                f\"(rsnr: {A['rsnr']:.2f}dB (with bpdn) -- seed: {A['seed']})\")\n",
    "        dict_A[_mode_A] = A['matrix']\n",
    "\n",
    "    else:\n",
    "        warnings.warn(\"Sensing matrix generation. \"\\\n",
    "                        \"Generate with 'best_A_bpdn' for better performances\")\n",
    "        \n",
    "        path_corr = os.path.join(dataset_dir, 'correlation', corr_str + '.pkl')\n",
    "        with open(path_corr, 'rb') as f: corr = pkl.load(f)\n",
    "        \n",
    "        dict_A[_mode_A] = generate_sensing_matrix(\n",
    "                    shape = (m, n), \n",
    "                    mode=_mode_A, \n",
    "                    antipodal=False, \n",
    "                    orthogonal=orth,\n",
    "                    correlation=corr,\n",
    "                    loc=.25, \n",
    "                    seed=seed_A)\n",
    "        print('generated A', _mode_A)\n",
    "        print('A shape:', A.shape)"
   ]
  },
  {
   "cell_type": "code",
   "execution_count": 19,
   "metadata": {},
   "outputs": [],
   "source": [
    "dict_test_loader = {}\n",
    "\n",
    "for _mode_A, _A in dict_A.items():\n",
    "\n",
    "    xall = x_to_dataset(ecg, _A, xbar_index=[1, 2])\n",
    "    \n",
    "    ds = [(xb_, x_) for xb_, x_ in zip(xall['xbarT'], xall['x'])]\n",
    "\n",
    "    train_size = int(0.7 * len(ecg))\n",
    "    val_size = int(0.1 * len(ecg))\n",
    "    test_size = int(0.2 * len(ecg))\n",
    "    train_dataset, val_dataset, test_dataset = random_split(ds, [train_size, val_size, test_size])\n",
    "\n",
    "    # create DataLoaders\n",
    "    batch_size = 64\n",
    "    test_loader = DataLoader(test_dataset, batch_size=batch_size, shuffle=False)\n",
    "\n",
    "    dict_test_loader[_mode_A] = test_loader"
   ]
  },
  {
   "cell_type": "code",
   "execution_count": 20,
   "metadata": {},
   "outputs": [],
   "source": [
    "criterion = nn.MSELoss()"
   ]
  },
  {
   "cell_type": "code",
   "execution_count": null,
   "metadata": {},
   "outputs": [
    {
     "name": "stderr",
     "output_type": "stream",
     "text": [
      " 15%|█▍        | 14/96 [00:17<01:42,  1.25s/it]"
     ]
    }
   ],
   "source": [
    "list_res = []\n",
    "for _model, _p_dict in tqdm(zip(model_list, param_unique_list), total=len(model_list)):\n",
    "    \n",
    "    _t_loader = dict_test_loader[_p_dict['mode_A']]\n",
    "\n",
    "    snr_ = 0.0\n",
    "    test_loss = 0\n",
    "    with torch.no_grad():\n",
    "        for inputs, targets in _t_loader:\n",
    "\n",
    "            inputs, targets = inputs.to(device), targets.to(device)\n",
    "            \n",
    "            outputs = _model(inputs)\n",
    "            loss = criterion(outputs, targets)\n",
    "            test_loss += loss.item()\n",
    "            \n",
    "            snr_ += np.mean(compute_rsnr(outputs.detach().cpu().numpy(),\n",
    "                                        targets.detach().cpu().numpy()))\n",
    "            \n",
    "    test_loss /= len(test_loader)\n",
    "    snr_ /= len(test_loader)\n",
    "\n",
    "    _p_dict['SNR'] = snr_\n",
    "    _p_dict['param'] = get_size_model(_model)\n",
    "\n",
    "    list_res += [_p_dict]"
   ]
  },
  {
   "cell_type": "code",
   "execution_count": 24,
   "metadata": {},
   "outputs": [
    {
     "name": "stdout",
     "output_type": "stream",
     "text": [
      "A: standard\t ch: 64\t step: 4\t k: 3\t seed: 1\t SNR: 34.27, (96.9%) param: 11_509_633 (64.7%)\t index: 1.50\n",
      "A: standard\t ch: 64\t step: 4\t k: 3\t seed: 2\t SNR: 34.42, (97.3%) param: 11_509_633 (64.7%)\t index: 1.50\n",
      "A: standard\t ch: 64\t step: 4\t k: 3\t seed: 3\t SNR: 34.45, (97.4%) param: 11_509_633 (64.7%)\t index: 1.51\n",
      "A: standard\t ch: 64\t step: 4\t k: 5\t seed: 1\t SNR: 34.31, (97.0%) param: 17_784_833 (100.0%)\t index: 0.97\n",
      "A: standard\t ch: 64\t step: 4\t k: 5\t seed: 2\t SNR: 34.46, (97.4%) param: 17_784_833 (100.0%)\t index: 0.97\n",
      "A: standard\t ch: 64\t step: 4\t k: 5\t seed: 3\t SNR: 34.54, (97.7%) param: 17_784_833 (100.0%)\t index: 0.98\n",
      "A: standard\t ch: 64\t step: 3\t k: 3\t seed: 1\t SNR: 34.39, (97.2%) param: 2_854_785 (16.1%)\t index: 6.06\n",
      "A: standard\t ch: 64\t step: 3\t k: 3\t seed: 2\t SNR: 34.16, (96.6%) param: 2_854_785 (16.1%)\t index: 6.02\n",
      "A: standard\t ch: 64\t step: 3\t k: 3\t seed: 3\t SNR: 34.61, (97.9%) param: 2_854_785 (16.1%)\t index: 6.10\n",
      "A: standard\t ch: 64\t step: 3\t k: 5\t seed: 1\t SNR: 34.38, (97.2%) param: 4_411_393 (24.8%)\t index: 3.92\n",
      "A: standard\t ch: 64\t step: 3\t k: 5\t seed: 2\t SNR: 34.53, (97.6%) param: 4_411_393 (24.8%)\t index: 3.94\n",
      "A: standard\t ch: 64\t step: 3\t k: 5\t seed: 3\t SNR: 34.42, (97.3%) param: 4_411_393 (24.8%)\t index: 3.92\n",
      "A: standard\t ch: 32\t step: 4\t k: 3\t seed: 1\t SNR: 34.48, (97.5%) param: 2_879_425 (16.2%)\t index: 6.02\n",
      "A: standard\t ch: 32\t step: 4\t k: 3\t seed: 2\t SNR: 34.45, (97.4%) param: 2_879_425 (16.2%)\t index: 6.02\n",
      "A: standard\t ch: 32\t step: 4\t k: 3\t seed: 3\t SNR: 34.44, (97.4%) param: 2_879_425 (16.2%)\t index: 6.01\n",
      "A: standard\t ch: 32\t step: 4\t k: 5\t seed: 1\t SNR: 34.41, (97.3%) param: 4_448_257 (25.0%)\t index: 3.89\n",
      "A: standard\t ch: 32\t step: 4\t k: 5\t seed: 2\t SNR: 34.38, (97.2%) param: 4_448_257 (25.0%)\t index: 3.89\n",
      "A: standard\t ch: 32\t step: 4\t k: 5\t seed: 3\t SNR: 34.50, (97.5%) param: 4_448_257 (25.0%)\t index: 3.90\n",
      "A: standard\t ch: 32\t step: 3\t k: 3\t seed: 1\t SNR: 34.35, (97.1%) param: 714_689 (4.0%)\t index: 24.17\n",
      "A: standard\t ch: 32\t step: 3\t k: 3\t seed: 2\t SNR: 34.30, (97.0%) param: 714_689 (4.0%)\t index: 24.13\n",
      "A: standard\t ch: 32\t step: 3\t k: 3\t seed: 3\t SNR: 34.34, (97.1%) param: 714_689 (4.0%)\t index: 24.16\n",
      "A: standard\t ch: 32\t step: 3\t k: 5\t seed: 1\t SNR: 34.27, (96.9%) param: 1_103_873 (6.2%)\t index: 15.61\n",
      "A: standard\t ch: 32\t step: 3\t k: 5\t seed: 2\t SNR: 34.30, (97.0%) param: 1_103_873 (6.2%)\t index: 15.62\n",
      "A: standard\t ch: 32\t step: 3\t k: 5\t seed: 3\t SNR: 34.31, (97.0%) param: 1_103_873 (6.2%)\t index: 15.63\n",
      "A: standard\t ch: 16\t step: 4\t k: 3\t seed: 1\t SNR: 34.29, (96.9%) param: 720_865 (4.1%)\t index: 23.92\n",
      "A: standard\t ch: 16\t step: 4\t k: 3\t seed: 2\t SNR: 34.30, (97.0%) param: 720_865 (4.1%)\t index: 23.93\n",
      "A: standard\t ch: 16\t step: 4\t k: 3\t seed: 3\t SNR: 34.27, (96.9%) param: 720_865 (4.1%)\t index: 23.90\n",
      "A: standard\t ch: 16\t step: 4\t k: 5\t seed: 1\t SNR: 34.37, (97.2%) param: 1_113_089 (6.3%)\t index: 15.53\n",
      "A: standard\t ch: 16\t step: 4\t k: 5\t seed: 2\t SNR: 34.34, (97.1%) param: 1_113_089 (6.3%)\t index: 15.51\n",
      "A: standard\t ch: 16\t step: 4\t k: 5\t seed: 3\t SNR: 34.34, (97.1%) param: 1_113_089 (6.3%)\t index: 15.51\n",
      "A: standard\t ch: 16\t step: 3\t k: 3\t seed: 1\t SNR: 33.95, (96.0%) param: 179_169 (1.0%)\t index: 95.27\n",
      "A: standard\t ch: 16\t step: 3\t k: 3\t seed: 2\t SNR: 34.03, (96.2%) param: 179_169 (1.0%)\t index: 95.50\n",
      "A: standard\t ch: 16\t step: 3\t k: 3\t seed: 3\t SNR: 34.05, (96.3%) param: 179_169 (1.0%)\t index: 95.55\n",
      "A: standard\t ch: 16\t step: 3\t k: 5\t seed: 1\t SNR: 34.13, (96.5%) param: 276_481 (1.6%)\t index: 62.07\n",
      "A: standard\t ch: 16\t step: 3\t k: 5\t seed: 2\t SNR: 34.15, (96.6%) param: 276_481 (1.6%)\t index: 62.11\n",
      "A: standard\t ch: 16\t step: 3\t k: 5\t seed: 3\t SNR: 34.13, (96.5%) param: 276_481 (1.6%)\t index: 62.07\n",
      "A: standard\t ch: 8\t step: 4\t k: 3\t seed: 1\t SNR: 34.00, (96.1%) param: 180_721 (1.0%)\t index: 94.60\n",
      "A: standard\t ch: 8\t step: 4\t k: 3\t seed: 2\t SNR: 33.88, (95.8%) param: 180_721 (1.0%)\t index: 94.25\n",
      "A: standard\t ch: 8\t step: 4\t k: 3\t seed: 3\t SNR: 34.06, (96.3%) param: 180_721 (1.0%)\t index: 94.77\n",
      "A: standard\t ch: 8\t step: 4\t k: 5\t seed: 1\t SNR: 34.16, (96.6%) param: 278_785 (1.6%)\t index: 61.61\n",
      "A: standard\t ch: 8\t step: 4\t k: 5\t seed: 2\t SNR: 34.19, (96.7%) param: 278_785 (1.6%)\t index: 61.66\n",
      "A: standard\t ch: 8\t step: 4\t k: 5\t seed: 3\t SNR: 34.16, (96.6%) param: 278_785 (1.6%)\t index: 61.62\n",
      "A: standard\t ch: 8\t step: 3\t k: 3\t seed: 1\t SNR: 33.08, (93.5%) param: 45_041 (0.3%)\t index: 369.32\n",
      "A: standard\t ch: 8\t step: 3\t k: 3\t seed: 2\t SNR: 33.09, (93.6%) param: 45_041 (0.3%)\t index: 369.46\n",
      "A: standard\t ch: 8\t step: 3\t k: 3\t seed: 3\t SNR: 33.25, (94.0%) param: 45_041 (0.3%)\t index: 371.19\n",
      "A: standard\t ch: 8\t step: 3\t k: 5\t seed: 1\t SNR: 33.78, (95.5%) param: 69_377 (0.4%)\t index: 244.83\n",
      "A: standard\t ch: 8\t step: 3\t k: 5\t seed: 2\t SNR: 33.65, (95.1%) param: 69_377 (0.4%)\t index: 243.89\n",
      "A: standard\t ch: 8\t step: 3\t k: 5\t seed: 3\t SNR: 33.62, (95.0%) param: 69_377 (0.4%)\t index: 243.65\n",
      "A: rakeness\t ch: 64\t step: 4\t k: 3\t seed: 1\t SNR: 35.35, (99.9%) param: 11_509_633 (64.7%)\t index: 1.54\n",
      "A: rakeness\t ch: 64\t step: 4\t k: 3\t seed: 2\t SNR: 35.37, (100.0%) param: 11_509_633 (64.7%)\t index: 1.55\n",
      "A: rakeness\t ch: 64\t step: 4\t k: 3\t seed: 3\t SNR: 34.71, (98.1%) param: 11_509_633 (64.7%)\t index: 1.52\n",
      "A: rakeness\t ch: 64\t step: 4\t k: 5\t seed: 1\t SNR: 35.36, (100.0%) param: 17_784_833 (100.0%)\t index: 1.00\n",
      "A: rakeness\t ch: 64\t step: 4\t k: 5\t seed: 2\t SNR: 35.30, (99.8%) param: 17_784_833 (100.0%)\t index: 1.00\n",
      "A: rakeness\t ch: 64\t step: 4\t k: 5\t seed: 3\t SNR: 34.17, (96.6%) param: 17_784_833 (100.0%)\t index: 0.97\n",
      "A: rakeness\t ch: 64\t step: 3\t k: 3\t seed: 1\t SNR: 35.17, (99.4%) param: 2_854_785 (16.1%)\t index: 6.20\n",
      "A: rakeness\t ch: 64\t step: 3\t k: 3\t seed: 2\t SNR: 35.36, (100.0%) param: 2_854_785 (16.1%)\t index: 6.23\n",
      "A: rakeness\t ch: 64\t step: 3\t k: 3\t seed: 3\t SNR: 34.54, (97.7%) param: 2_854_785 (16.1%)\t index: 6.08\n",
      "A: rakeness\t ch: 64\t step: 3\t k: 5\t seed: 1\t SNR: 35.32, (99.9%) param: 4_411_393 (24.8%)\t index: 4.03\n",
      "A: rakeness\t ch: 64\t step: 3\t k: 5\t seed: 2\t SNR: 35.36, (100.0%) param: 4_411_393 (24.8%)\t index: 4.03\n",
      "A: rakeness\t ch: 64\t step: 3\t k: 5\t seed: 3\t SNR: 35.04, (99.1%) param: 4_411_393 (24.8%)\t index: 3.99\n",
      "A: rakeness\t ch: 32\t step: 4\t k: 3\t seed: 1\t SNR: 35.19, (99.5%) param: 2_879_425 (16.2%)\t index: 6.15\n",
      "A: rakeness\t ch: 32\t step: 4\t k: 3\t seed: 2\t SNR: 35.28, (99.8%) param: 2_879_425 (16.2%)\t index: 6.16\n",
      "A: rakeness\t ch: 32\t step: 4\t k: 3\t seed: 3\t SNR: 35.06, (99.1%) param: 2_879_425 (16.2%)\t index: 6.12\n",
      "A: rakeness\t ch: 32\t step: 4\t k: 5\t seed: 1\t SNR: 35.15, (99.4%) param: 4_448_257 (25.0%)\t index: 3.97\n",
      "A: rakeness\t ch: 32\t step: 4\t k: 5\t seed: 2\t SNR: 35.35, (99.9%) param: 4_448_257 (25.0%)\t index: 4.00\n",
      "A: rakeness\t ch: 32\t step: 4\t k: 5\t seed: 3\t SNR: 35.10, (99.2%) param: 4_448_257 (25.0%)\t index: 3.97\n",
      "A: rakeness\t ch: 32\t step: 3\t k: 3\t seed: 1\t SNR: 35.22, (99.6%) param: 714_689 (4.0%)\t index: 24.78\n",
      "A: rakeness\t ch: 32\t step: 3\t k: 3\t seed: 2\t SNR: 35.14, (99.4%) param: 714_689 (4.0%)\t index: 24.73\n",
      "A: rakeness\t ch: 32\t step: 3\t k: 3\t seed: 3\t SNR: 35.11, (99.3%) param: 714_689 (4.0%)\t index: 24.70\n",
      "A: rakeness\t ch: 32\t step: 3\t k: 5\t seed: 1\t SNR: 35.13, (99.3%) param: 1_103_873 (6.2%)\t index: 16.00\n",
      "A: rakeness\t ch: 32\t step: 3\t k: 5\t seed: 2\t SNR: 35.30, (99.8%) param: 1_103_873 (6.2%)\t index: 16.08\n",
      "A: rakeness\t ch: 32\t step: 3\t k: 5\t seed: 3\t SNR: 35.07, (99.1%) param: 1_103_873 (6.2%)\t index: 15.97\n",
      "A: rakeness\t ch: 16\t step: 4\t k: 3\t seed: 1\t SNR: 35.09, (99.2%) param: 720_865 (4.1%)\t index: 24.48\n",
      "A: rakeness\t ch: 16\t step: 4\t k: 3\t seed: 2\t SNR: 35.09, (99.2%) param: 720_865 (4.1%)\t index: 24.48\n",
      "A: rakeness\t ch: 16\t step: 4\t k: 3\t seed: 3\t SNR: 35.03, (99.1%) param: 720_865 (4.1%)\t index: 24.44\n",
      "A: rakeness\t ch: 16\t step: 4\t k: 5\t seed: 1\t SNR: 35.11, (99.3%) param: 1_113_089 (6.3%)\t index: 15.86\n",
      "A: rakeness\t ch: 16\t step: 4\t k: 5\t seed: 2\t SNR: 35.19, (99.5%) param: 1_113_089 (6.3%)\t index: 15.90\n",
      "A: rakeness\t ch: 16\t step: 4\t k: 5\t seed: 3\t SNR: 35.12, (99.3%) param: 1_113_089 (6.3%)\t index: 15.87\n",
      "A: rakeness\t ch: 16\t step: 3\t k: 3\t seed: 1\t SNR: 34.89, (98.7%) param: 179_169 (1.0%)\t index: 97.92\n",
      "A: rakeness\t ch: 16\t step: 3\t k: 3\t seed: 2\t SNR: 34.89, (98.6%) param: 179_169 (1.0%)\t index: 97.92\n",
      "A: rakeness\t ch: 16\t step: 3\t k: 3\t seed: 3\t SNR: 34.86, (98.6%) param: 179_169 (1.0%)\t index: 97.83\n",
      "A: rakeness\t ch: 16\t step: 3\t k: 5\t seed: 1\t SNR: 34.90, (98.7%) param: 276_481 (1.6%)\t index: 63.47\n",
      "A: rakeness\t ch: 16\t step: 3\t k: 5\t seed: 2\t SNR: 35.01, (99.0%) param: 276_481 (1.6%)\t index: 63.66\n",
      "A: rakeness\t ch: 16\t step: 3\t k: 5\t seed: 3\t SNR: 34.94, (98.8%) param: 276_481 (1.6%)\t index: 63.54\n",
      "A: rakeness\t ch: 8\t step: 4\t k: 3\t seed: 1\t SNR: 34.82, (98.4%) param: 180_721 (1.0%)\t index: 96.88\n",
      "A: rakeness\t ch: 8\t step: 4\t k: 3\t seed: 2\t SNR: 34.87, (98.6%) param: 180_721 (1.0%)\t index: 97.02\n",
      "A: rakeness\t ch: 8\t step: 4\t k: 3\t seed: 3\t SNR: 34.80, (98.4%) param: 180_721 (1.0%)\t index: 96.83\n",
      "A: rakeness\t ch: 8\t step: 4\t k: 5\t seed: 1\t SNR: 35.02, (99.0%) param: 278_785 (1.6%)\t index: 63.16\n",
      "A: rakeness\t ch: 8\t step: 4\t k: 5\t seed: 2\t SNR: 34.98, (98.9%) param: 278_785 (1.6%)\t index: 63.09\n",
      "A: rakeness\t ch: 8\t step: 4\t k: 5\t seed: 3\t SNR: 34.99, (98.9%) param: 278_785 (1.6%)\t index: 63.11\n",
      "A: rakeness\t ch: 8\t step: 3\t k: 3\t seed: 1\t SNR: 34.39, (97.2%) param: 45_041 (0.3%)\t index: 383.95\n",
      "A: rakeness\t ch: 8\t step: 3\t k: 3\t seed: 2\t SNR: 34.30, (97.0%) param: 45_041 (0.3%)\t index: 382.90\n",
      "A: rakeness\t ch: 8\t step: 3\t k: 3\t seed: 3\t SNR: 34.43, (97.4%) param: 45_041 (0.3%)\t index: 384.42\n",
      "A: rakeness\t ch: 8\t step: 3\t k: 5\t seed: 1\t SNR: 34.76, (98.3%) param: 69_377 (0.4%)\t index: 251.91\n",
      "A: rakeness\t ch: 8\t step: 3\t k: 5\t seed: 2\t SNR: 34.73, (98.2%) param: 69_377 (0.4%)\t index: 251.69\n",
      "A: rakeness\t ch: 8\t step: 3\t k: 5\t seed: 3\t SNR: 34.76, (98.3%) param: 69_377 (0.4%)\t index: 251.91\n"
     ]
    }
   ],
   "source": [
    "snr_max = np.max([i['SNR'] for i in list_res])\n",
    "param_max = np.max([i['param'] for i in list_res])\n",
    "for _p_dict in list_res:\n",
    "\n",
    "    print(f\"A: {_p_dict['mode_A']}\\t\",\n",
    "            f\"ch: {_p_dict['expanded_channels']}\\t\",\n",
    "            f\"step: {_p_dict['step_number']}\\t\",\n",
    "            f\"k: {_p_dict['kernel_size']}\\t\",\n",
    "            f\"seed: {_p_dict['seed_torch']}\\t\",\n",
    "            f\"SNR: {_p_dict['SNR']:.2f}, ({_p_dict['SNR']/snr_max *100:.1f}%)\",\n",
    "            f\"param: {_p_dict['param']:_} ({_p_dict['param']/param_max*100:.1f}%)\\t\",\n",
    "            f\"index: {(_p_dict['SNR']/snr_max)/(_p_dict['param']/param_max):.2f}\")"
   ]
  },
  {
   "cell_type": "code",
   "execution_count": null,
   "metadata": {},
   "outputs": [],
   "source": []
  },
  {
   "cell_type": "code",
   "execution_count": null,
   "metadata": {},
   "outputs": [],
   "source": []
  },
  {
   "cell_type": "code",
   "execution_count": null,
   "metadata": {},
   "outputs": [],
   "source": []
  },
  {
   "cell_type": "markdown",
   "metadata": {},
   "source": [
    "# Multi Unet Training "
   ]
  },
  {
   "cell_type": "markdown",
   "metadata": {},
   "source": [
    "### Log parameters"
   ]
  },
  {
   "cell_type": "code",
   "execution_count": 9,
   "metadata": {},
   "outputs": [],
   "source": [
    "nohup_type = 'serial' # None or 'serial' or 'parallel'"
   ]
  },
  {
   "cell_type": "markdown",
   "metadata": {},
   "source": [
    "### Experiment path"
   ]
  },
  {
   "cell_type": "code",
   "execution_count": 10,
   "metadata": {},
   "outputs": [],
   "source": [
    "# path_py = os.path.join('experiments', 'Unet_xbar.py')\n",
    "path_py = os.path.join('Unet_xbar.py')"
   ]
  },
  {
   "cell_type": "markdown",
   "metadata": {},
   "source": [
    "### Parameters"
   ]
  },
  {
   "cell_type": "code",
   "execution_count": 33,
   "metadata": {},
   "outputs": [],
   "source": [
    "#### DATASET PARAMETERS ####\n",
    "\n",
    "# _size_ecg_cmd_ = 2_000_000\n",
    "size_ecg = 100_000\n",
    "n = 128\n",
    "seed_ecg = 42\n",
    "\n",
    "#### A PARAMETERS ####\n",
    "\n",
    "modeA = ['standard', 'rakeness']\n",
    "m = 48\n",
    "str_orth = \"True\"\n",
    "seed_A = 0\n",
    "index_A = 0\n",
    "str_corr = '96af96a7ddfcb2f6059092c250e18f2a'\n",
    "\n",
    "#### UNET PARAMETERS ####\n",
    "\n",
    "in_channels = 1\n",
    "seed_torch = 3\n",
    "expanded_channels = [64, 32, 16, 8]\n",
    "step_number = [4, 3, 2]\n",
    "kernel_size = [3, 5]\n",
    "str_residual = \"True\"\n",
    "str_use_batch_norm = \"False\"\n",
    "str_simple_pool = \"False\"\n",
    "batch_size = 256\n",
    "lr = 0.0001\n",
    "\n",
    "#### HARDWARE PARAMETERS ####\n",
    "\n",
    "str_gpus = \"3\"\n",
    "threads = 1\n",
    "workers = 1\n",
    "\n",
    "#### OTHERS ####\n",
    "str_retrain = \"False\"\n",
    "str_resume_train = \"True\"\n",
    "\n",
    "_b = cell_vars(pop='_b')"
   ]
  },
  {
   "cell_type": "code",
   "execution_count": 34,
   "metadata": {},
   "outputs": [
    {
     "data": {
      "text/plain": [
       "{'size_ecg': 100000,\n",
       " 'n': 128,\n",
       " 'seed_ecg': 42,\n",
       " 'modeA': ['standard', 'rakeness'],\n",
       " 'm': 48,\n",
       " 'str_orth': 'True',\n",
       " 'seed_A': 0,\n",
       " 'index_A': 0,\n",
       " 'str_corr': '96af96a7ddfcb2f6059092c250e18f2a',\n",
       " 'in_channels': 1,\n",
       " 'seed_torch': 3,\n",
       " 'expanded_channels': [64, 32, 16, 8],\n",
       " 'step_number': [4, 3, 2],\n",
       " 'kernel_size': [3, 5],\n",
       " 'str_residual': 'True',\n",
       " 'str_use_batch_norm': 'False',\n",
       " 'str_simple_pool': 'False',\n",
       " 'batch_size': 256,\n",
       " 'lr': 0.0001,\n",
       " 'str_gpus': '3',\n",
       " 'threads': 1,\n",
       " 'workers': 1,\n",
       " 'str_retrain': 'False',\n",
       " 'str_resume_train': 'True'}"
      ]
     },
     "execution_count": 34,
     "metadata": {},
     "output_type": "execute_result"
    }
   ],
   "source": [
    "# dict_bundle_cmd = cell_vars(offset=0)\n",
    "dict_bundle_cmd = _b.copy()\n",
    "dict_bundle_cmd"
   ]
  },
  {
   "cell_type": "markdown",
   "metadata": {},
   "source": [
    "### Unravel"
   ]
  },
  {
   "cell_type": "code",
   "execution_count": 35,
   "metadata": {},
   "outputs": [
    {
     "name": "stdout",
     "output_type": "stream",
     "text": [
      "number of cmd for bash in the same instruction: 48\n"
     ]
    }
   ],
   "source": [
    "dict_bundle_cmd_unravel = unravel_bundle_param(dict_bundle_cmd)[0]\n",
    "print('number of cmd for bash in the same instruction:', len(dict_bundle_cmd_unravel))"
   ]
  },
  {
   "cell_type": "markdown",
   "metadata": {},
   "source": [
    "### Crate distinct bash commands"
   ]
  },
  {
   "cell_type": "code",
   "execution_count": 36,
   "metadata": {},
   "outputs": [
    {
     "name": "stdout",
     "output_type": "stream",
     "text": [
      "example: first cmd line:\n",
      "python Unet_xbar.py --size_ecg 100000 -n 128 --seed_ecg 42 -m 48 --str_orth True --seed_A 0 --index_A 0 --str_corr 96af96a7ddfcb2f6059092c250e18f2a --in_channels 1 --seed_torch 3 --str_residual True --str_use_batch_norm False --str_simple_pool False --batch_size 256 --lr 0.0001 --str_gpus 3 --threads 1 --workers 1 --str_retrain False --str_resume_train True --modeA standard --expanded_channels 64 --step_number 4 --kernel_size 3\n"
     ]
    }
   ],
   "source": [
    "cmd_bash = []\n",
    "for bundle in dict_bundle_cmd_unravel:\n",
    "    cmd_bash += [from_bundle_to_cmd_bash(path_py, bundle, nohup=False)]\n",
    "\n",
    "print(\"example: first cmd line:\")\n",
    "print(cmd_bash[0])\n"
   ]
  },
  {
   "cell_type": "markdown",
   "metadata": {},
   "source": [
    "### File for bash results"
   ]
  },
  {
   "cell_type": "code",
   "execution_count": 37,
   "metadata": {},
   "outputs": [],
   "source": [
    "res_file = f\"nohup_gpu={str(str_gpus)}_seedtorch={str(seed_torch)}.log\""
   ]
  },
  {
   "cell_type": "markdown",
   "metadata": {},
   "source": [
    "### Merge in one bash command"
   ]
  },
  {
   "cell_type": "code",
   "execution_count": 38,
   "metadata": {},
   "outputs": [],
   "source": [
    "\n",
    "if nohup_type is not None:\n",
    "    if nohup_type=='parallel':\n",
    "        sep_str = f\"; nohup \"\n",
    "    elif nohup_type=='serial':\n",
    "        sep_str = f\" >{res_file} && \"\n",
    "    else:\n",
    "        assert False, \"nohup_type not in [None, 'parallel' or 'serial'] can be used\"\n",
    "else:\n",
    "    sep_str = f\"; \"\n",
    "\n",
    "cmd_bash_final = sep_str.join(cmd_bash)\n",
    "\n",
    "if nohup_type is not None:\n",
    "    if nohup_type=='serial':\n",
    "        cmd_bash_final = f\"nohup sh -c '{cmd_bash_final}'\"\n",
    "\n",
    "if nohup_type:\n",
    "    cmd_bash_final = cmd_bash_final + ' &> nohup_HEI_tmp &'"
   ]
  },
  {
   "cell_type": "markdown",
   "metadata": {},
   "source": [
    "### Bash commands"
   ]
  },
  {
   "cell_type": "code",
   "execution_count": 40,
   "metadata": {},
   "outputs": [
    {
     "name": "stdout",
     "output_type": "stream",
     "text": [
      "nohup sh -c 'python Unet_xbar.py --size_ecg 100000 -n 128 --seed_ecg 42 -m 48 --str_orth True --seed_A 0 --index_A 0 --str_corr 96af96a7ddfcb2f6059092c250e18f2a --in_channels 1 --seed_torch 3 --str_residual True --str_use_batch_norm False --str_simple_pool False --batch_size 256 --lr 0.0001 --str_gpus 3 --threads 1 --workers 1 --str_retrain False --str_resume_train True --modeA standard --expanded_channels 64 --step_number 4 --kernel_size 3 >nohup_gpu=3_seedtorch=3.log && python Unet_xbar.py --size_ecg 100000 -n 128 --seed_ecg 42 -m 48 --str_orth True --seed_A 0 --index_A 0 --str_corr 96af96a7ddfcb2f6059092c250e18f2a --in_channels 1 --seed_torch 3 --str_residual True --str_use_batch_norm False --str_simple_pool False --batch_size 256 --lr 0.0001 --str_gpus 3 --threads 1 --workers 1 --str_retrain False --str_resume_train True --modeA standard --expanded_channels 64 --step_number 4 --kernel_size 5 >nohup_gpu=3_seedtorch=3.log && python Unet_xbar.py --size_ecg 100000 -n 128 --seed_ecg 42 -m 48 --str_orth True --seed_A 0 --index_A 0 --str_corr 96af96a7ddfcb2f6059092c250e18f2a --in_channels 1 --seed_torch 3 --str_residual True --str_use_batch_norm False --str_simple_pool False --batch_size 256 --lr 0.0001 --str_gpus 3 --threads 1 --workers 1 --str_retrain False --str_resume_train True --modeA standard --expanded_channels 64 --step_number 3 --kernel_size 3 >nohup_gpu=3_seedtorch=3.log && python Unet_xbar.py --size_ecg 100000 -n 128 --seed_ecg 42 -m 48 --str_orth True --seed_A 0 --index_A 0 --str_corr 96af96a7ddfcb2f6059092c250e18f2a --in_channels 1 --seed_torch 3 --str_residual True --str_use_batch_norm False --str_simple_pool False --batch_size 256 --lr 0.0001 --str_gpus 3 --threads 1 --workers 1 --str_retrain False --str_resume_train True --modeA standard --expanded_channels 64 --step_number 3 --kernel_size 5 >nohup_gpu=3_seedtorch=3.log && python Unet_xbar.py --size_ecg 100000 -n 128 --seed_ecg 42 -m 48 --str_orth True --seed_A 0 --index_A 0 --str_corr 96af96a7ddfcb2f6059092c250e18f2a --in_channels 1 --seed_torch 3 --str_residual True --str_use_batch_norm False --str_simple_pool False --batch_size 256 --lr 0.0001 --str_gpus 3 --threads 1 --workers 1 --str_retrain False --str_resume_train True --modeA standard --expanded_channels 64 --step_number 2 --kernel_size 3 >nohup_gpu=3_seedtorch=3.log && python Unet_xbar.py --size_ecg 100000 -n 128 --seed_ecg 42 -m 48 --str_orth True --seed_A 0 --index_A 0 --str_corr 96af96a7ddfcb2f6059092c250e18f2a --in_channels 1 --seed_torch 3 --str_residual True --str_use_batch_norm False --str_simple_pool False --batch_size 256 --lr 0.0001 --str_gpus 3 --threads 1 --workers 1 --str_retrain False --str_resume_train True --modeA standard --expanded_channels 64 --step_number 2 --kernel_size 5 >nohup_gpu=3_seedtorch=3.log && python Unet_xbar.py --size_ecg 100000 -n 128 --seed_ecg 42 -m 48 --str_orth True --seed_A 0 --index_A 0 --str_corr 96af96a7ddfcb2f6059092c250e18f2a --in_channels 1 --seed_torch 3 --str_residual True --str_use_batch_norm False --str_simple_pool False --batch_size 256 --lr 0.0001 --str_gpus 3 --threads 1 --workers 1 --str_retrain False --str_resume_train True --modeA standard --expanded_channels 32 --step_number 4 --kernel_size 3 >nohup_gpu=3_seedtorch=3.log && python Unet_xbar.py --size_ecg 100000 -n 128 --seed_ecg 42 -m 48 --str_orth True --seed_A 0 --index_A 0 --str_corr 96af96a7ddfcb2f6059092c250e18f2a --in_channels 1 --seed_torch 3 --str_residual True --str_use_batch_norm False --str_simple_pool False --batch_size 256 --lr 0.0001 --str_gpus 3 --threads 1 --workers 1 --str_retrain False --str_resume_train True --modeA standard --expanded_channels 32 --step_number 4 --kernel_size 5 >nohup_gpu=3_seedtorch=3.log && python Unet_xbar.py --size_ecg 100000 -n 128 --seed_ecg 42 -m 48 --str_orth True --seed_A 0 --index_A 0 --str_corr 96af96a7ddfcb2f6059092c250e18f2a --in_channels 1 --seed_torch 3 --str_residual True --str_use_batch_norm False --str_simple_pool False --batch_size 256 --lr 0.0001 --str_gpus 3 --threads 1 --workers 1 --str_retrain False --str_resume_train True --modeA standard --expanded_channels 32 --step_number 3 --kernel_size 3 >nohup_gpu=3_seedtorch=3.log && python Unet_xbar.py --size_ecg 100000 -n 128 --seed_ecg 42 -m 48 --str_orth True --seed_A 0 --index_A 0 --str_corr 96af96a7ddfcb2f6059092c250e18f2a --in_channels 1 --seed_torch 3 --str_residual True --str_use_batch_norm False --str_simple_pool False --batch_size 256 --lr 0.0001 --str_gpus 3 --threads 1 --workers 1 --str_retrain False --str_resume_train True --modeA standard --expanded_channels 32 --step_number 3 --kernel_size 5 >nohup_gpu=3_seedtorch=3.log && python Unet_xbar.py --size_ecg 100000 -n 128 --seed_ecg 42 -m 48 --str_orth True --seed_A 0 --index_A 0 --str_corr 96af96a7ddfcb2f6059092c250e18f2a --in_channels 1 --seed_torch 3 --str_residual True --str_use_batch_norm False --str_simple_pool False --batch_size 256 --lr 0.0001 --str_gpus 3 --threads 1 --workers 1 --str_retrain False --str_resume_train True --modeA standard --expanded_channels 32 --step_number 2 --kernel_size 3 >nohup_gpu=3_seedtorch=3.log && python Unet_xbar.py --size_ecg 100000 -n 128 --seed_ecg 42 -m 48 --str_orth True --seed_A 0 --index_A 0 --str_corr 96af96a7ddfcb2f6059092c250e18f2a --in_channels 1 --seed_torch 3 --str_residual True --str_use_batch_norm False --str_simple_pool False --batch_size 256 --lr 0.0001 --str_gpus 3 --threads 1 --workers 1 --str_retrain False --str_resume_train True --modeA standard --expanded_channels 32 --step_number 2 --kernel_size 5 >nohup_gpu=3_seedtorch=3.log && python Unet_xbar.py --size_ecg 100000 -n 128 --seed_ecg 42 -m 48 --str_orth True --seed_A 0 --index_A 0 --str_corr 96af96a7ddfcb2f6059092c250e18f2a --in_channels 1 --seed_torch 3 --str_residual True --str_use_batch_norm False --str_simple_pool False --batch_size 256 --lr 0.0001 --str_gpus 3 --threads 1 --workers 1 --str_retrain False --str_resume_train True --modeA standard --expanded_channels 16 --step_number 4 --kernel_size 3 >nohup_gpu=3_seedtorch=3.log && python Unet_xbar.py --size_ecg 100000 -n 128 --seed_ecg 42 -m 48 --str_orth True --seed_A 0 --index_A 0 --str_corr 96af96a7ddfcb2f6059092c250e18f2a --in_channels 1 --seed_torch 3 --str_residual True --str_use_batch_norm False --str_simple_pool False --batch_size 256 --lr 0.0001 --str_gpus 3 --threads 1 --workers 1 --str_retrain False --str_resume_train True --modeA standard --expanded_channels 16 --step_number 4 --kernel_size 5 >nohup_gpu=3_seedtorch=3.log && python Unet_xbar.py --size_ecg 100000 -n 128 --seed_ecg 42 -m 48 --str_orth True --seed_A 0 --index_A 0 --str_corr 96af96a7ddfcb2f6059092c250e18f2a --in_channels 1 --seed_torch 3 --str_residual True --str_use_batch_norm False --str_simple_pool False --batch_size 256 --lr 0.0001 --str_gpus 3 --threads 1 --workers 1 --str_retrain False --str_resume_train True --modeA standard --expanded_channels 16 --step_number 3 --kernel_size 3 >nohup_gpu=3_seedtorch=3.log && python Unet_xbar.py --size_ecg 100000 -n 128 --seed_ecg 42 -m 48 --str_orth True --seed_A 0 --index_A 0 --str_corr 96af96a7ddfcb2f6059092c250e18f2a --in_channels 1 --seed_torch 3 --str_residual True --str_use_batch_norm False --str_simple_pool False --batch_size 256 --lr 0.0001 --str_gpus 3 --threads 1 --workers 1 --str_retrain False --str_resume_train True --modeA standard --expanded_channels 16 --step_number 3 --kernel_size 5 >nohup_gpu=3_seedtorch=3.log && python Unet_xbar.py --size_ecg 100000 -n 128 --seed_ecg 42 -m 48 --str_orth True --seed_A 0 --index_A 0 --str_corr 96af96a7ddfcb2f6059092c250e18f2a --in_channels 1 --seed_torch 3 --str_residual True --str_use_batch_norm False --str_simple_pool False --batch_size 256 --lr 0.0001 --str_gpus 3 --threads 1 --workers 1 --str_retrain False --str_resume_train True --modeA standard --expanded_channels 16 --step_number 2 --kernel_size 3 >nohup_gpu=3_seedtorch=3.log && python Unet_xbar.py --size_ecg 100000 -n 128 --seed_ecg 42 -m 48 --str_orth True --seed_A 0 --index_A 0 --str_corr 96af96a7ddfcb2f6059092c250e18f2a --in_channels 1 --seed_torch 3 --str_residual True --str_use_batch_norm False --str_simple_pool False --batch_size 256 --lr 0.0001 --str_gpus 3 --threads 1 --workers 1 --str_retrain False --str_resume_train True --modeA standard --expanded_channels 16 --step_number 2 --kernel_size 5 >nohup_gpu=3_seedtorch=3.log && python Unet_xbar.py --size_ecg 100000 -n 128 --seed_ecg 42 -m 48 --str_orth True --seed_A 0 --index_A 0 --str_corr 96af96a7ddfcb2f6059092c250e18f2a --in_channels 1 --seed_torch 3 --str_residual True --str_use_batch_norm False --str_simple_pool False --batch_size 256 --lr 0.0001 --str_gpus 3 --threads 1 --workers 1 --str_retrain False --str_resume_train True --modeA standard --expanded_channels 8 --step_number 4 --kernel_size 3 >nohup_gpu=3_seedtorch=3.log && python Unet_xbar.py --size_ecg 100000 -n 128 --seed_ecg 42 -m 48 --str_orth True --seed_A 0 --index_A 0 --str_corr 96af96a7ddfcb2f6059092c250e18f2a --in_channels 1 --seed_torch 3 --str_residual True --str_use_batch_norm False --str_simple_pool False --batch_size 256 --lr 0.0001 --str_gpus 3 --threads 1 --workers 1 --str_retrain False --str_resume_train True --modeA standard --expanded_channels 8 --step_number 4 --kernel_size 5 >nohup_gpu=3_seedtorch=3.log && python Unet_xbar.py --size_ecg 100000 -n 128 --seed_ecg 42 -m 48 --str_orth True --seed_A 0 --index_A 0 --str_corr 96af96a7ddfcb2f6059092c250e18f2a --in_channels 1 --seed_torch 3 --str_residual True --str_use_batch_norm False --str_simple_pool False --batch_size 256 --lr 0.0001 --str_gpus 3 --threads 1 --workers 1 --str_retrain False --str_resume_train True --modeA standard --expanded_channels 8 --step_number 3 --kernel_size 3 >nohup_gpu=3_seedtorch=3.log && python Unet_xbar.py --size_ecg 100000 -n 128 --seed_ecg 42 -m 48 --str_orth True --seed_A 0 --index_A 0 --str_corr 96af96a7ddfcb2f6059092c250e18f2a --in_channels 1 --seed_torch 3 --str_residual True --str_use_batch_norm False --str_simple_pool False --batch_size 256 --lr 0.0001 --str_gpus 3 --threads 1 --workers 1 --str_retrain False --str_resume_train True --modeA standard --expanded_channels 8 --step_number 3 --kernel_size 5 >nohup_gpu=3_seedtorch=3.log && python Unet_xbar.py --size_ecg 100000 -n 128 --seed_ecg 42 -m 48 --str_orth True --seed_A 0 --index_A 0 --str_corr 96af96a7ddfcb2f6059092c250e18f2a --in_channels 1 --seed_torch 3 --str_residual True --str_use_batch_norm False --str_simple_pool False --batch_size 256 --lr 0.0001 --str_gpus 3 --threads 1 --workers 1 --str_retrain False --str_resume_train True --modeA standard --expanded_channels 8 --step_number 2 --kernel_size 3 >nohup_gpu=3_seedtorch=3.log && python Unet_xbar.py --size_ecg 100000 -n 128 --seed_ecg 42 -m 48 --str_orth True --seed_A 0 --index_A 0 --str_corr 96af96a7ddfcb2f6059092c250e18f2a --in_channels 1 --seed_torch 3 --str_residual True --str_use_batch_norm False --str_simple_pool False --batch_size 256 --lr 0.0001 --str_gpus 3 --threads 1 --workers 1 --str_retrain False --str_resume_train True --modeA standard --expanded_channels 8 --step_number 2 --kernel_size 5 >nohup_gpu=3_seedtorch=3.log && python Unet_xbar.py --size_ecg 100000 -n 128 --seed_ecg 42 -m 48 --str_orth True --seed_A 0 --index_A 0 --str_corr 96af96a7ddfcb2f6059092c250e18f2a --in_channels 1 --seed_torch 3 --str_residual True --str_use_batch_norm False --str_simple_pool False --batch_size 256 --lr 0.0001 --str_gpus 3 --threads 1 --workers 1 --str_retrain False --str_resume_train True --modeA rakeness --expanded_channels 64 --step_number 4 --kernel_size 3 >nohup_gpu=3_seedtorch=3.log && python Unet_xbar.py --size_ecg 100000 -n 128 --seed_ecg 42 -m 48 --str_orth True --seed_A 0 --index_A 0 --str_corr 96af96a7ddfcb2f6059092c250e18f2a --in_channels 1 --seed_torch 3 --str_residual True --str_use_batch_norm False --str_simple_pool False --batch_size 256 --lr 0.0001 --str_gpus 3 --threads 1 --workers 1 --str_retrain False --str_resume_train True --modeA rakeness --expanded_channels 64 --step_number 4 --kernel_size 5 >nohup_gpu=3_seedtorch=3.log && python Unet_xbar.py --size_ecg 100000 -n 128 --seed_ecg 42 -m 48 --str_orth True --seed_A 0 --index_A 0 --str_corr 96af96a7ddfcb2f6059092c250e18f2a --in_channels 1 --seed_torch 3 --str_residual True --str_use_batch_norm False --str_simple_pool False --batch_size 256 --lr 0.0001 --str_gpus 3 --threads 1 --workers 1 --str_retrain False --str_resume_train True --modeA rakeness --expanded_channels 64 --step_number 3 --kernel_size 3 >nohup_gpu=3_seedtorch=3.log && python Unet_xbar.py --size_ecg 100000 -n 128 --seed_ecg 42 -m 48 --str_orth True --seed_A 0 --index_A 0 --str_corr 96af96a7ddfcb2f6059092c250e18f2a --in_channels 1 --seed_torch 3 --str_residual True --str_use_batch_norm False --str_simple_pool False --batch_size 256 --lr 0.0001 --str_gpus 3 --threads 1 --workers 1 --str_retrain False --str_resume_train True --modeA rakeness --expanded_channels 64 --step_number 3 --kernel_size 5 >nohup_gpu=3_seedtorch=3.log && python Unet_xbar.py --size_ecg 100000 -n 128 --seed_ecg 42 -m 48 --str_orth True --seed_A 0 --index_A 0 --str_corr 96af96a7ddfcb2f6059092c250e18f2a --in_channels 1 --seed_torch 3 --str_residual True --str_use_batch_norm False --str_simple_pool False --batch_size 256 --lr 0.0001 --str_gpus 3 --threads 1 --workers 1 --str_retrain False --str_resume_train True --modeA rakeness --expanded_channels 64 --step_number 2 --kernel_size 3 >nohup_gpu=3_seedtorch=3.log && python Unet_xbar.py --size_ecg 100000 -n 128 --seed_ecg 42 -m 48 --str_orth True --seed_A 0 --index_A 0 --str_corr 96af96a7ddfcb2f6059092c250e18f2a --in_channels 1 --seed_torch 3 --str_residual True --str_use_batch_norm False --str_simple_pool False --batch_size 256 --lr 0.0001 --str_gpus 3 --threads 1 --workers 1 --str_retrain False --str_resume_train True --modeA rakeness --expanded_channels 64 --step_number 2 --kernel_size 5 >nohup_gpu=3_seedtorch=3.log && python Unet_xbar.py --size_ecg 100000 -n 128 --seed_ecg 42 -m 48 --str_orth True --seed_A 0 --index_A 0 --str_corr 96af96a7ddfcb2f6059092c250e18f2a --in_channels 1 --seed_torch 3 --str_residual True --str_use_batch_norm False --str_simple_pool False --batch_size 256 --lr 0.0001 --str_gpus 3 --threads 1 --workers 1 --str_retrain False --str_resume_train True --modeA rakeness --expanded_channels 32 --step_number 4 --kernel_size 3 >nohup_gpu=3_seedtorch=3.log && python Unet_xbar.py --size_ecg 100000 -n 128 --seed_ecg 42 -m 48 --str_orth True --seed_A 0 --index_A 0 --str_corr 96af96a7ddfcb2f6059092c250e18f2a --in_channels 1 --seed_torch 3 --str_residual True --str_use_batch_norm False --str_simple_pool False --batch_size 256 --lr 0.0001 --str_gpus 3 --threads 1 --workers 1 --str_retrain False --str_resume_train True --modeA rakeness --expanded_channels 32 --step_number 4 --kernel_size 5 >nohup_gpu=3_seedtorch=3.log && python Unet_xbar.py --size_ecg 100000 -n 128 --seed_ecg 42 -m 48 --str_orth True --seed_A 0 --index_A 0 --str_corr 96af96a7ddfcb2f6059092c250e18f2a --in_channels 1 --seed_torch 3 --str_residual True --str_use_batch_norm False --str_simple_pool False --batch_size 256 --lr 0.0001 --str_gpus 3 --threads 1 --workers 1 --str_retrain False --str_resume_train True --modeA rakeness --expanded_channels 32 --step_number 3 --kernel_size 3 >nohup_gpu=3_seedtorch=3.log && python Unet_xbar.py --size_ecg 100000 -n 128 --seed_ecg 42 -m 48 --str_orth True --seed_A 0 --index_A 0 --str_corr 96af96a7ddfcb2f6059092c250e18f2a --in_channels 1 --seed_torch 3 --str_residual True --str_use_batch_norm False --str_simple_pool False --batch_size 256 --lr 0.0001 --str_gpus 3 --threads 1 --workers 1 --str_retrain False --str_resume_train True --modeA rakeness --expanded_channels 32 --step_number 3 --kernel_size 5 >nohup_gpu=3_seedtorch=3.log && python Unet_xbar.py --size_ecg 100000 -n 128 --seed_ecg 42 -m 48 --str_orth True --seed_A 0 --index_A 0 --str_corr 96af96a7ddfcb2f6059092c250e18f2a --in_channels 1 --seed_torch 3 --str_residual True --str_use_batch_norm False --str_simple_pool False --batch_size 256 --lr 0.0001 --str_gpus 3 --threads 1 --workers 1 --str_retrain False --str_resume_train True --modeA rakeness --expanded_channels 32 --step_number 2 --kernel_size 3 >nohup_gpu=3_seedtorch=3.log && python Unet_xbar.py --size_ecg 100000 -n 128 --seed_ecg 42 -m 48 --str_orth True --seed_A 0 --index_A 0 --str_corr 96af96a7ddfcb2f6059092c250e18f2a --in_channels 1 --seed_torch 3 --str_residual True --str_use_batch_norm False --str_simple_pool False --batch_size 256 --lr 0.0001 --str_gpus 3 --threads 1 --workers 1 --str_retrain False --str_resume_train True --modeA rakeness --expanded_channels 32 --step_number 2 --kernel_size 5 >nohup_gpu=3_seedtorch=3.log && python Unet_xbar.py --size_ecg 100000 -n 128 --seed_ecg 42 -m 48 --str_orth True --seed_A 0 --index_A 0 --str_corr 96af96a7ddfcb2f6059092c250e18f2a --in_channels 1 --seed_torch 3 --str_residual True --str_use_batch_norm False --str_simple_pool False --batch_size 256 --lr 0.0001 --str_gpus 3 --threads 1 --workers 1 --str_retrain False --str_resume_train True --modeA rakeness --expanded_channels 16 --step_number 4 --kernel_size 3 >nohup_gpu=3_seedtorch=3.log && python Unet_xbar.py --size_ecg 100000 -n 128 --seed_ecg 42 -m 48 --str_orth True --seed_A 0 --index_A 0 --str_corr 96af96a7ddfcb2f6059092c250e18f2a --in_channels 1 --seed_torch 3 --str_residual True --str_use_batch_norm False --str_simple_pool False --batch_size 256 --lr 0.0001 --str_gpus 3 --threads 1 --workers 1 --str_retrain False --str_resume_train True --modeA rakeness --expanded_channels 16 --step_number 4 --kernel_size 5 >nohup_gpu=3_seedtorch=3.log && python Unet_xbar.py --size_ecg 100000 -n 128 --seed_ecg 42 -m 48 --str_orth True --seed_A 0 --index_A 0 --str_corr 96af96a7ddfcb2f6059092c250e18f2a --in_channels 1 --seed_torch 3 --str_residual True --str_use_batch_norm False --str_simple_pool False --batch_size 256 --lr 0.0001 --str_gpus 3 --threads 1 --workers 1 --str_retrain False --str_resume_train True --modeA rakeness --expanded_channels 16 --step_number 3 --kernel_size 3 >nohup_gpu=3_seedtorch=3.log && python Unet_xbar.py --size_ecg 100000 -n 128 --seed_ecg 42 -m 48 --str_orth True --seed_A 0 --index_A 0 --str_corr 96af96a7ddfcb2f6059092c250e18f2a --in_channels 1 --seed_torch 3 --str_residual True --str_use_batch_norm False --str_simple_pool False --batch_size 256 --lr 0.0001 --str_gpus 3 --threads 1 --workers 1 --str_retrain False --str_resume_train True --modeA rakeness --expanded_channels 16 --step_number 3 --kernel_size 5 >nohup_gpu=3_seedtorch=3.log && python Unet_xbar.py --size_ecg 100000 -n 128 --seed_ecg 42 -m 48 --str_orth True --seed_A 0 --index_A 0 --str_corr 96af96a7ddfcb2f6059092c250e18f2a --in_channels 1 --seed_torch 3 --str_residual True --str_use_batch_norm False --str_simple_pool False --batch_size 256 --lr 0.0001 --str_gpus 3 --threads 1 --workers 1 --str_retrain False --str_resume_train True --modeA rakeness --expanded_channels 16 --step_number 2 --kernel_size 3 >nohup_gpu=3_seedtorch=3.log && python Unet_xbar.py --size_ecg 100000 -n 128 --seed_ecg 42 -m 48 --str_orth True --seed_A 0 --index_A 0 --str_corr 96af96a7ddfcb2f6059092c250e18f2a --in_channels 1 --seed_torch 3 --str_residual True --str_use_batch_norm False --str_simple_pool False --batch_size 256 --lr 0.0001 --str_gpus 3 --threads 1 --workers 1 --str_retrain False --str_resume_train True --modeA rakeness --expanded_channels 16 --step_number 2 --kernel_size 5 >nohup_gpu=3_seedtorch=3.log && python Unet_xbar.py --size_ecg 100000 -n 128 --seed_ecg 42 -m 48 --str_orth True --seed_A 0 --index_A 0 --str_corr 96af96a7ddfcb2f6059092c250e18f2a --in_channels 1 --seed_torch 3 --str_residual True --str_use_batch_norm False --str_simple_pool False --batch_size 256 --lr 0.0001 --str_gpus 3 --threads 1 --workers 1 --str_retrain False --str_resume_train True --modeA rakeness --expanded_channels 8 --step_number 4 --kernel_size 3 >nohup_gpu=3_seedtorch=3.log && python Unet_xbar.py --size_ecg 100000 -n 128 --seed_ecg 42 -m 48 --str_orth True --seed_A 0 --index_A 0 --str_corr 96af96a7ddfcb2f6059092c250e18f2a --in_channels 1 --seed_torch 3 --str_residual True --str_use_batch_norm False --str_simple_pool False --batch_size 256 --lr 0.0001 --str_gpus 3 --threads 1 --workers 1 --str_retrain False --str_resume_train True --modeA rakeness --expanded_channels 8 --step_number 4 --kernel_size 5 >nohup_gpu=3_seedtorch=3.log && python Unet_xbar.py --size_ecg 100000 -n 128 --seed_ecg 42 -m 48 --str_orth True --seed_A 0 --index_A 0 --str_corr 96af96a7ddfcb2f6059092c250e18f2a --in_channels 1 --seed_torch 3 --str_residual True --str_use_batch_norm False --str_simple_pool False --batch_size 256 --lr 0.0001 --str_gpus 3 --threads 1 --workers 1 --str_retrain False --str_resume_train True --modeA rakeness --expanded_channels 8 --step_number 3 --kernel_size 3 >nohup_gpu=3_seedtorch=3.log && python Unet_xbar.py --size_ecg 100000 -n 128 --seed_ecg 42 -m 48 --str_orth True --seed_A 0 --index_A 0 --str_corr 96af96a7ddfcb2f6059092c250e18f2a --in_channels 1 --seed_torch 3 --str_residual True --str_use_batch_norm False --str_simple_pool False --batch_size 256 --lr 0.0001 --str_gpus 3 --threads 1 --workers 1 --str_retrain False --str_resume_train True --modeA rakeness --expanded_channels 8 --step_number 3 --kernel_size 5 >nohup_gpu=3_seedtorch=3.log && python Unet_xbar.py --size_ecg 100000 -n 128 --seed_ecg 42 -m 48 --str_orth True --seed_A 0 --index_A 0 --str_corr 96af96a7ddfcb2f6059092c250e18f2a --in_channels 1 --seed_torch 3 --str_residual True --str_use_batch_norm False --str_simple_pool False --batch_size 256 --lr 0.0001 --str_gpus 3 --threads 1 --workers 1 --str_retrain False --str_resume_train True --modeA rakeness --expanded_channels 8 --step_number 2 --kernel_size 3 >nohup_gpu=3_seedtorch=3.log && python Unet_xbar.py --size_ecg 100000 -n 128 --seed_ecg 42 -m 48 --str_orth True --seed_A 0 --index_A 0 --str_corr 96af96a7ddfcb2f6059092c250e18f2a --in_channels 1 --seed_torch 3 --str_residual True --str_use_batch_norm False --str_simple_pool False --batch_size 256 --lr 0.0001 --str_gpus 3 --threads 1 --workers 1 --str_retrain False --str_resume_train True --modeA rakeness --expanded_channels 8 --step_number 2 --kernel_size 5' &> nohup_HEI_tmp &\n"
     ]
    }
   ],
   "source": [
    "print(cmd_bash_final)"
   ]
  },
  {
   "cell_type": "code",
   "execution_count": null,
   "metadata": {},
   "outputs": [],
   "source": []
  },
  {
   "cell_type": "code",
   "execution_count": null,
   "metadata": {},
   "outputs": [],
   "source": []
  },
  {
   "cell_type": "code",
   "execution_count": null,
   "metadata": {},
   "outputs": [],
   "source": []
  },
  {
   "cell_type": "markdown",
   "metadata": {},
   "source": [
    "# Unet Parameter exploration"
   ]
  },
  {
   "cell_type": "code",
   "execution_count": null,
   "metadata": {},
   "outputs": [
    {
     "name": "stdout",
     "output_type": "stream",
     "text": [
      "{'unet_param': 11521409, 'expanded_channels': 64, 'step_number': 4, 'kernel_size': 3}\n",
      "{'unet_param': 17796609, 'expanded_channels': 64, 'step_number': 4, 'kernel_size': 5}\n",
      "{'unet_param': 24071809, 'expanded_channels': 64, 'step_number': 4, 'kernel_size': 7}\n",
      "{'unet_param': 2860417, 'expanded_channels': 64, 'step_number': 3, 'kernel_size': 3}\n",
      "{'unet_param': 4417025, 'expanded_channels': 64, 'step_number': 3, 'kernel_size': 5}\n",
      "{'unet_param': 5973633, 'expanded_channels': 64, 'step_number': 3, 'kernel_size': 7}\n",
      "{'unet_param': 692609, 'expanded_channels': 64, 'step_number': 2, 'kernel_size': 3}\n",
      "{'unet_param': 1069569, 'expanded_channels': 64, 'step_number': 2, 'kernel_size': 5}\n",
      "{'unet_param': 1446529, 'expanded_channels': 64, 'step_number': 2, 'kernel_size': 7}\n",
      "{'unet_param': 2885313, 'expanded_channels': 32, 'step_number': 4, 'kernel_size': 3}\n",
      "{'unet_param': 4454145, 'expanded_channels': 32, 'step_number': 4, 'kernel_size': 5}\n",
      "{'unet_param': 6022977, 'expanded_channels': 32, 'step_number': 4, 'kernel_size': 7}\n",
      "{'unet_param': 717505, 'expanded_channels': 32, 'step_number': 3, 'kernel_size': 3}\n",
      "{'unet_param': 1106689, 'expanded_channels': 32, 'step_number': 3, 'kernel_size': 5}\n",
      "{'unet_param': 1495873, 'expanded_channels': 32, 'step_number': 3, 'kernel_size': 7}\n",
      "{'unet_param': 174273, 'expanded_channels': 32, 'step_number': 2, 'kernel_size': 3}\n",
      "{'unet_param': 268545, 'expanded_channels': 32, 'step_number': 2, 'kernel_size': 5}\n",
      "{'unet_param': 362817, 'expanded_channels': 32, 'step_number': 2, 'kernel_size': 7}\n",
      "{'unet_param': 723809, 'expanded_channels': 16, 'step_number': 4, 'kernel_size': 3}\n",
      "{'unet_param': 1116033, 'expanded_channels': 16, 'step_number': 4, 'kernel_size': 5}\n",
      "{'unet_param': 1508257, 'expanded_channels': 16, 'step_number': 4, 'kernel_size': 7}\n",
      "{'unet_param': 180577, 'expanded_channels': 16, 'step_number': 3, 'kernel_size': 3}\n",
      "{'unet_param': 277889, 'expanded_channels': 16, 'step_number': 3, 'kernel_size': 5}\n",
      "{'unet_param': 375201, 'expanded_channels': 16, 'step_number': 3, 'kernel_size': 7}\n",
      "{'unet_param': 44129, 'expanded_channels': 16, 'step_number': 2, 'kernel_size': 3}\n",
      "{'unet_param': 67713, 'expanded_channels': 16, 'step_number': 2, 'kernel_size': 5}\n",
      "{'unet_param': 91297, 'expanded_channels': 16, 'step_number': 2, 'kernel_size': 7}\n"
     ]
    }
   ],
   "source": [
    "list_expanded_channels = [64, 32, 16]\n",
    "list_step_number = [4, 3, 2]\n",
    "list_kernel_size = [3, 5, 7]\n",
    "\n",
    "# file_param = 'dummy_Unet_param.pkl'\n",
    "\n",
    "_unet_many_param(list_expanded_channels, list_step_number, \n",
    "                 list_kernel_size, \n",
    "                #  file_param,\n",
    "                 )"
   ]
  },
  {
   "cell_type": "markdown",
   "metadata": {},
   "source": [
    "### Extract a layer"
   ]
  },
  {
   "cell_type": "code",
   "execution_count": null,
   "metadata": {},
   "outputs": [
    {
     "name": "stdout",
     "output_type": "stream",
     "text": [
      "total parameter of the Unet: 11521409\n"
     ]
    }
   ],
   "source": [
    "unet_param = get_size_model(model)\n",
    "print(f'total parameter of the Unet: {unet_param}')"
   ]
  },
  {
   "cell_type": "code",
   "execution_count": null,
   "metadata": {},
   "outputs": [
    {
     "name": "stdout",
     "output_type": "stream",
     "text": [
      "Conv1d(64, 64, kernel_size=(3,), stride=(1,), padding=(1,)) \n",
      "\n",
      "Param: 12352\n"
     ]
    }
   ],
   "source": [
    "layer_name_list = ['down', 'down_0', 'conv', 'conv_op', '3']\n",
    "sub_model = get_generic_l(model, layer_name_list)\n",
    "print(sub_model, '\\n\\nParam:', get_size_model(sub_model))"
   ]
  },
  {
   "cell_type": "code",
   "execution_count": null,
   "metadata": {},
   "outputs": [
    {
     "name": "stdout",
     "output_type": "stream",
     "text": [
      "DoubleConv(\n",
      "  (conv_op): Sequential(\n",
      "    (0): Conv1d(1, 64, kernel_size=(3,), stride=(1,), padding=(1,))\n",
      "    (1): BatchNorm1d(64, eps=1e-05, momentum=0.1, affine=True, track_running_stats=True)\n",
      "    (2): ReLU(inplace=True)\n",
      "    (3): Conv1d(64, 64, kernel_size=(3,), stride=(1,), padding=(1,))\n",
      "    (4): BatchNorm1d(64, eps=1e-05, momentum=0.1, affine=True, track_running_stats=True)\n",
      "    (5): ReLU(inplace=True)\n",
      "  )\n",
      ") \n",
      "\n",
      "Param: 12864\n"
     ]
    }
   ],
   "source": [
    "layer_name_list = ['down', 'down_0', 'conv']\n",
    "sub_model = get_generic_l(model, layer_name_list)\n",
    "print(sub_model, '\\n\\nParam:', get_size_model(sub_model))"
   ]
  },
  {
   "cell_type": "markdown",
   "metadata": {},
   "source": [
    "# OTHER"
   ]
  },
  {
   "cell_type": "code",
   "execution_count": 42,
   "metadata": {},
   "outputs": [
    {
     "data": {
      "text/plain": [
       "UNet(\n",
       "  (down): DownSeq(\n",
       "    (down_0): DownSample(\n",
       "      (conv): DoubleConv(\n",
       "        (conv_op): Sequential(\n",
       "          (0): Conv1d(1, 64, kernel_size=(5,), stride=(1,), padding=(2,))\n",
       "          (1): BatchNorm1d(64, eps=1e-05, momentum=0.1, affine=True, track_running_stats=True)\n",
       "          (2): ReLU(inplace=True)\n",
       "          (3): Conv1d(64, 64, kernel_size=(5,), stride=(1,), padding=(2,))\n",
       "          (4): BatchNorm1d(64, eps=1e-05, momentum=0.1, affine=True, track_running_stats=True)\n",
       "          (5): ReLU(inplace=True)\n",
       "        )\n",
       "      )\n",
       "      (pool): Conv1d(64, 64, kernel_size=(2,), stride=(2,))\n",
       "    )\n",
       "    (down_1): DownSample(\n",
       "      (conv): DoubleConv(\n",
       "        (conv_op): Sequential(\n",
       "          (0): Conv1d(64, 128, kernel_size=(5,), stride=(1,), padding=(2,))\n",
       "          (1): BatchNorm1d(128, eps=1e-05, momentum=0.1, affine=True, track_running_stats=True)\n",
       "          (2): ReLU(inplace=True)\n",
       "          (3): Conv1d(128, 128, kernel_size=(5,), stride=(1,), padding=(2,))\n",
       "          (4): BatchNorm1d(128, eps=1e-05, momentum=0.1, affine=True, track_running_stats=True)\n",
       "          (5): ReLU(inplace=True)\n",
       "        )\n",
       "      )\n",
       "      (pool): Conv1d(128, 128, kernel_size=(2,), stride=(2,))\n",
       "    )\n",
       "    (down_2): DownSample(\n",
       "      (conv): DoubleConv(\n",
       "        (conv_op): Sequential(\n",
       "          (0): Conv1d(128, 256, kernel_size=(5,), stride=(1,), padding=(2,))\n",
       "          (1): BatchNorm1d(256, eps=1e-05, momentum=0.1, affine=True, track_running_stats=True)\n",
       "          (2): ReLU(inplace=True)\n",
       "          (3): Conv1d(256, 256, kernel_size=(5,), stride=(1,), padding=(2,))\n",
       "          (4): BatchNorm1d(256, eps=1e-05, momentum=0.1, affine=True, track_running_stats=True)\n",
       "          (5): ReLU(inplace=True)\n",
       "        )\n",
       "      )\n",
       "      (pool): Conv1d(256, 256, kernel_size=(2,), stride=(2,))\n",
       "    )\n",
       "    (down_3): DownSample(\n",
       "      (conv): DoubleConv(\n",
       "        (conv_op): Sequential(\n",
       "          (0): Conv1d(256, 512, kernel_size=(5,), stride=(1,), padding=(2,))\n",
       "          (1): BatchNorm1d(512, eps=1e-05, momentum=0.1, affine=True, track_running_stats=True)\n",
       "          (2): ReLU(inplace=True)\n",
       "          (3): Conv1d(512, 512, kernel_size=(5,), stride=(1,), padding=(2,))\n",
       "          (4): BatchNorm1d(512, eps=1e-05, momentum=0.1, affine=True, track_running_stats=True)\n",
       "          (5): ReLU(inplace=True)\n",
       "        )\n",
       "      )\n",
       "      (pool): Conv1d(512, 512, kernel_size=(2,), stride=(2,))\n",
       "    )\n",
       "  )\n",
       "  (bottle_neck): DoubleConv(\n",
       "    (conv_op): Sequential(\n",
       "      (0): Conv1d(512, 1024, kernel_size=(5,), stride=(1,), padding=(2,))\n",
       "      (1): BatchNorm1d(1024, eps=1e-05, momentum=0.1, affine=True, track_running_stats=True)\n",
       "      (2): ReLU(inplace=True)\n",
       "      (3): Conv1d(1024, 1024, kernel_size=(5,), stride=(1,), padding=(2,))\n",
       "      (4): BatchNorm1d(1024, eps=1e-05, momentum=0.1, affine=True, track_running_stats=True)\n",
       "      (5): ReLU(inplace=True)\n",
       "    )\n",
       "  )\n",
       "  (up): UpSeq(\n",
       "    (up_4): UpSample(\n",
       "      (up): ConvTranspose1d(1024, 512, kernel_size=(2,), stride=(2,))\n",
       "      (conv): DoubleConv(\n",
       "        (conv_op): Sequential(\n",
       "          (0): Conv1d(1024, 512, kernel_size=(5,), stride=(1,), padding=(2,))\n",
       "          (1): BatchNorm1d(512, eps=1e-05, momentum=0.1, affine=True, track_running_stats=True)\n",
       "          (2): ReLU(inplace=True)\n",
       "          (3): Conv1d(512, 512, kernel_size=(5,), stride=(1,), padding=(2,))\n",
       "          (4): BatchNorm1d(512, eps=1e-05, momentum=0.1, affine=True, track_running_stats=True)\n",
       "          (5): ReLU(inplace=True)\n",
       "        )\n",
       "      )\n",
       "    )\n",
       "    (up_3): UpSample(\n",
       "      (up): ConvTranspose1d(512, 256, kernel_size=(2,), stride=(2,))\n",
       "      (conv): DoubleConv(\n",
       "        (conv_op): Sequential(\n",
       "          (0): Conv1d(512, 256, kernel_size=(5,), stride=(1,), padding=(2,))\n",
       "          (1): BatchNorm1d(256, eps=1e-05, momentum=0.1, affine=True, track_running_stats=True)\n",
       "          (2): ReLU(inplace=True)\n",
       "          (3): Conv1d(256, 256, kernel_size=(5,), stride=(1,), padding=(2,))\n",
       "          (4): BatchNorm1d(256, eps=1e-05, momentum=0.1, affine=True, track_running_stats=True)\n",
       "          (5): ReLU(inplace=True)\n",
       "        )\n",
       "      )\n",
       "    )\n",
       "    (up_2): UpSample(\n",
       "      (up): ConvTranspose1d(256, 128, kernel_size=(2,), stride=(2,))\n",
       "      (conv): DoubleConv(\n",
       "        (conv_op): Sequential(\n",
       "          (0): Conv1d(256, 128, kernel_size=(5,), stride=(1,), padding=(2,))\n",
       "          (1): BatchNorm1d(128, eps=1e-05, momentum=0.1, affine=True, track_running_stats=True)\n",
       "          (2): ReLU(inplace=True)\n",
       "          (3): Conv1d(128, 128, kernel_size=(5,), stride=(1,), padding=(2,))\n",
       "          (4): BatchNorm1d(128, eps=1e-05, momentum=0.1, affine=True, track_running_stats=True)\n",
       "          (5): ReLU(inplace=True)\n",
       "        )\n",
       "      )\n",
       "    )\n",
       "    (up_1): UpSample(\n",
       "      (up): ConvTranspose1d(128, 64, kernel_size=(2,), stride=(2,))\n",
       "      (conv): DoubleConv(\n",
       "        (conv_op): Sequential(\n",
       "          (0): Conv1d(128, 64, kernel_size=(5,), stride=(1,), padding=(2,))\n",
       "          (1): BatchNorm1d(64, eps=1e-05, momentum=0.1, affine=True, track_running_stats=True)\n",
       "          (2): ReLU(inplace=True)\n",
       "          (3): Conv1d(64, 64, kernel_size=(5,), stride=(1,), padding=(2,))\n",
       "          (4): BatchNorm1d(64, eps=1e-05, momentum=0.1, affine=True, track_running_stats=True)\n",
       "          (5): ReLU(inplace=True)\n",
       "        )\n",
       "      )\n",
       "    )\n",
       "  )\n",
       "  (out): Conv1d(64, 1, kernel_size=(1,), stride=(1,))\n",
       ")"
      ]
     },
     "execution_count": 42,
     "metadata": {},
     "output_type": "execute_result"
    }
   ],
   "source": [
    "_model = UNet(in_channels=in_channels, num_classes=in_channels,\n",
    "                expanded_channels=expanded_channels, steps_num=step_number,\n",
    "                kernel_size=5, residual=residual,\n",
    "                use_batch_norm=use_batch_norm, simple_pool=simple_pool)\n",
    "\n",
    "_model.to(device)"
   ]
  },
  {
   "cell_type": "code",
   "execution_count": null,
   "metadata": {},
   "outputs": [],
   "source": []
  },
  {
   "cell_type": "code",
   "execution_count": 41,
   "metadata": {},
   "outputs": [
    {
     "name": "stdout",
     "output_type": "stream",
     "text": [
      "{'mode_A': 'rakeness', 'use_batch_norm': False, 'seed_torch': 3} -- SNR: 0.66\n"
     ]
    }
   ],
   "source": [
    "\n",
    "_t_loader = dict_test_loader[_p_dict['mode_A']]\n",
    "\n",
    "snr_ = 0.0\n",
    "test_loss = 0\n",
    "with torch.no_grad():\n",
    "    for inputs, targets in _t_loader:\n",
    "\n",
    "        inputs, targets = inputs.to(device), targets.to(device)\n",
    "        \n",
    "        outputs = _model(inputs)\n",
    "        loss = criterion(outputs, targets)\n",
    "        test_loss += loss.item()\n",
    "        \n",
    "        snr_ += np.mean(compute_rsnr(outputs.detach().cpu().numpy(),\n",
    "                                    targets.detach().cpu().numpy()))\n",
    "        \n",
    "test_loss /= len(test_loader)\n",
    "snr_ /= len(test_loader)\n",
    "\n",
    "print(f'{_p_dict} -- SNR: {snr_:.2f}')"
   ]
  },
  {
   "cell_type": "code",
   "execution_count": null,
   "metadata": {},
   "outputs": [],
   "source": []
  }
 ],
 "metadata": {
  "kernelspec": {
   "display_name": "xtorch",
   "language": "python",
   "name": "python3"
  },
  "language_info": {
   "codemirror_mode": {
    "name": "ipython",
    "version": 3
   },
   "file_extension": ".py",
   "mimetype": "text/x-python",
   "name": "python",
   "nbconvert_exporter": "python",
   "pygments_lexer": "ipython3",
   "version": "3.10.9"
  }
 },
 "nbformat": 4,
 "nbformat_minor": 2
}
