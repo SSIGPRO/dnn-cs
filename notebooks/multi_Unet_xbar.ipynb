{
 "cells": [
  {
   "cell_type": "markdown",
   "metadata": {},
   "source": [
    "# Imports"
   ]
  },
  {
   "cell_type": "markdown",
   "metadata": {},
   "source": [
    "### Import modules"
   ]
  },
  {
   "cell_type": "code",
   "execution_count": 1,
   "metadata": {},
   "outputs": [],
   "source": [
    "import os\n",
    "from tqdm import tqdm\n",
    "import pickle as pkl\n",
    "import itertools as iter\n",
    "from matplotlib import pyplot as plt\n",
    "import sys; sys.path.append('..')\n",
    "from experiments.functions_Filippo import *\n",
    "import warnings\n",
    "import itertools\n",
    "from IPython.display import Markdown\n",
    "import io\n",
    "import pandas as pd\n",
    "import seaborn as sns\n",
    "import time\n",
    "import wfdb\n",
    "from scipy import signal\n",
    "\n",
    "from ecgdetectors import Detectors\n",
    "\n",
    "import torch\n",
    "torch.manual_seed(0);\n",
    "import torch.nn as nn\n",
    "from torch.optim.lr_scheduler import ReduceLROnPlateau\n",
    "import torch.utils\n",
    "import torch.utils.data\n",
    "from torch.utils.data import DataLoader, random_split\n"
   ]
  },
  {
   "cell_type": "markdown",
   "metadata": {},
   "source": [
    "### Import local modules"
   ]
  },
  {
   "cell_type": "code",
   "execution_count": 2,
   "metadata": {},
   "outputs": [],
   "source": [
    "root = os.path.dirname(os.path.dirname(os.path.realpath('__file__')))\n",
    "sys.path.insert(0, os.path.join(root, 'src'))\n",
    "\n",
    "\n",
    "from dataset import dataset_dir\n",
    "from cs import generate_sensing_matrix\n",
    "from cs.utils import compute_rsnr\n",
    "from models.unet import UNet"
   ]
  },
  {
   "cell_type": "markdown",
   "metadata": {},
   "source": [
    "### Hardware settings"
   ]
  },
  {
   "cell_type": "code",
   "execution_count": 3,
   "metadata": {},
   "outputs": [],
   "source": [
    "gpus = \"3\"\n",
    "os.environ[\"CUDA_DEVICE_ORDER\"]=\"PCI_BUS_ID\"\n",
    "os.environ[\"CUDA_VISIBLE_DEVICES\"]=gpus\n",
    "\n",
    "os.environ['SCIPY_USE_PROPACK'] = \"True\"\n",
    "\n",
    "# limit number of parallel threads numpy spawns\n",
    "workers_mp = 1 # number of workers for mp.pool\n",
    "threads_np = \"1\" # number of threads np generates for every worker\n",
    "\n",
    "os.environ[\"OMP_NUM_THREADS\"] = threads_np\n",
    "os.environ[\"OPENBLAS_NUM_THREADS\"] = threads_np\n",
    "os.environ[\"MKL_NUM_THREADS\"] = threads_np\n",
    "os.environ[\"VECLIB_MAXIMUM_THREADS\"] = threads_np\n",
    "os.environ[\"NUMEXPR_NUM_THREADS\"] = threads_np\n",
    "import numpy as np"
   ]
  },
  {
   "cell_type": "code",
   "execution_count": 4,
   "metadata": {},
   "outputs": [],
   "source": [
    "def cell_vars(pop=None, verbose=False):\n",
    "    _bundle = get_cell_vars_as_dict(ipy=get_ipython(), out=io.StringIO(), glob=globals(), offset=0)\n",
    "    \n",
    "    if pop is not None and pop in _bundle.keys():\n",
    "        _bundle.pop(pop)\n",
    "\n",
    "    for k, v in _bundle.items():\n",
    "        _b = _bundle.copy()\n",
    "        _b.pop(k)\n",
    "        if v==_b or v=={}:\n",
    "            _bundle.pop(k)\n",
    "            break;\n",
    "    \n",
    "    if verbose: [print(k) for k in _bundle]\n",
    "    return _bundle"
   ]
  },
  {
   "cell_type": "markdown",
   "metadata": {},
   "source": [
    "# Multi Unet Exploration"
   ]
  },
  {
   "cell_type": "code",
   "execution_count": 5,
   "metadata": {},
   "outputs": [],
   "source": [
    "bundle_param = {}"
   ]
  },
  {
   "cell_type": "markdown",
   "metadata": {},
   "source": [
    "### Dataset parameters"
   ]
  },
  {
   "cell_type": "code",
   "execution_count": 6,
   "metadata": {},
   "outputs": [],
   "source": [
    "# N = 10_000\n",
    "N = 2_000_000\n",
    "# N = 100_000\n",
    "n = 128\n",
    "n_iddb = 128\n",
    "n_mit_bih = 128\n",
    "# seed_ecg = 42\n",
    "seed_ecg = 11\n",
    "fs = 256 # sampling freq\n",
    "hr0 = 60 # heart rate low\n",
    "hr1 = 100 # hear rate high\n",
    "isnr = 1000 # dB (intrinsic snr)\n",
    "\n",
    "_b = cell_vars(pop='_b')"
   ]
  },
  {
   "cell_type": "code",
   "execution_count": 7,
   "metadata": {},
   "outputs": [],
   "source": [
    "bundle_param = bundle_param | _b"
   ]
  },
  {
   "cell_type": "markdown",
   "metadata": {},
   "source": [
    "### A parameters"
   ]
  },
  {
   "cell_type": "code",
   "execution_count": 8,
   "metadata": {},
   "outputs": [],
   "source": [
    "# m = [48]\n",
    "# m = [16, 32, 48]\n",
    "m = 32\n",
    "# N_try_A = [1_000]\n",
    "N_try_A = 100\n",
    "mode_A = 'rakeness'\n",
    "seed_A = 0\n",
    "index_A = 0\n",
    "orth = True\n",
    "str_corr = '96af96a7ddfcb2f6059092c250e18f2a'\n",
    "loc = 0.25 # localization for rakeness\n",
    "\n",
    "_b = cell_vars(pop='_b')"
   ]
  },
  {
   "cell_type": "code",
   "execution_count": 9,
   "metadata": {},
   "outputs": [],
   "source": [
    "bundle_param = bundle_param | _b"
   ]
  },
  {
   "cell_type": "markdown",
   "metadata": {},
   "source": [
    "### Unet parameters"
   ]
  },
  {
   "cell_type": "code",
   "execution_count": 10,
   "metadata": {},
   "outputs": [],
   "source": [
    "in_channels = 1\n",
    "out_channels = 1\n",
    "# expanded_channels = [64, 32, 16]\n",
    "expanded_channels = 32\n",
    "# step_number = [4, 3, 2]\n",
    "step_number = 3\n",
    "# kernel_size = [3, 5, 7]\n",
    "kernel_size = 3\n",
    "residual = True\n",
    "use_batch_norm = False\n",
    "simple_pool = False\n",
    "# seed_torch = 0\n",
    "# seed_torch = [0, 1, 2, 3]\n",
    "seed_torch = [0, 1, 2, 3]\n",
    "# seed_torch = 0\n",
    "# seed_torch = [0, 1, 2, 3]\n",
    "# white_noise_var = 0.001\n",
    "white_noise_var = 0\n",
    "white_noise_isnr = [20.0, 25.0, 30.0, 35.0, 40.0, 45.0, 50.0, 55.0]\n",
    "# white_noise_isnr = [25.0, 35.5, 45.0]\n",
    "str_x_as_input = True\n",
    "str_A_init = True\n",
    "str_A_freeze = True\n",
    "\n",
    "_b = cell_vars(pop='_b')"
   ]
  },
  {
   "cell_type": "code",
   "execution_count": 11,
   "metadata": {},
   "outputs": [],
   "source": [
    "bundle_param = bundle_param | _b"
   ]
  },
  {
   "cell_type": "markdown",
   "metadata": {},
   "source": [
    "### Dataset for A generation"
   ]
  },
  {
   "cell_type": "code",
   "execution_count": 12,
   "metadata": {},
   "outputs": [],
   "source": [
    "_ecg_N_forA = 10_000\n",
    "_n_forA = 128\n",
    "_fs_forA = 256\n",
    "_hr0_forA = 60\n",
    "_hr1_forA = 100\n",
    "_isnr_forA = 35\n",
    "_seed_forA = 0\n",
    "\n",
    "_b = cell_vars(pop='_b')"
   ]
  },
  {
   "cell_type": "code",
   "execution_count": 13,
   "metadata": {},
   "outputs": [],
   "source": [
    "bundle_param_A_dataset = _b.copy()\n",
    "bundle_param = bundle_param_A_dataset | bundle_param\n",
    "for k, v in bundle_param.items():\n",
    "    if type(v) is list and len(v)==1:\n",
    "        bundle_param[k] = v[0];"
   ]
  },
  {
   "cell_type": "code",
   "execution_count": 14,
   "metadata": {},
   "outputs": [
    {
     "data": {
      "text/plain": [
       "{'_ecg_N_forA': 10000,\n",
       " '_n_forA': 128,\n",
       " '_fs_forA': 256,\n",
       " '_hr0_forA': 60,\n",
       " '_hr1_forA': 100,\n",
       " '_isnr_forA': 35,\n",
       " '_seed_forA': 0,\n",
       " 'N': 2000000,\n",
       " 'n': 128,\n",
       " 'n_iddb': 128,\n",
       " 'n_mit_bih': 128,\n",
       " 'seed_ecg': 11,\n",
       " 'fs': 256,\n",
       " 'hr0': 60,\n",
       " 'hr1': 100,\n",
       " 'isnr': 1000,\n",
       " 'm': 32,\n",
       " 'N_try_A': 100,\n",
       " 'mode_A': 'rakeness',\n",
       " 'seed_A': 0,\n",
       " 'index_A': 0,\n",
       " 'orth': True,\n",
       " 'str_corr': '96af96a7ddfcb2f6059092c250e18f2a',\n",
       " 'loc': 0.25,\n",
       " 'in_channels': 1,\n",
       " 'out_channels': 1,\n",
       " 'expanded_channels': 32,\n",
       " 'step_number': 3,\n",
       " 'kernel_size': 3,\n",
       " 'residual': True,\n",
       " 'use_batch_norm': False,\n",
       " 'simple_pool': False,\n",
       " 'seed_torch': [0, 1, 2, 3],\n",
       " 'white_noise_var': 0,\n",
       " 'white_noise_isnr': [20.0, 25.0, 30.0, 35.0, 40.0, 45.0, 50.0, 55.0],\n",
       " 'str_x_as_input': True,\n",
       " 'str_A_init': True,\n",
       " 'str_A_freeze': True}"
      ]
     },
     "execution_count": 14,
     "metadata": {},
     "output_type": "execute_result"
    }
   ],
   "source": [
    "bundle_param"
   ]
  },
  {
   "cell_type": "code",
   "execution_count": 15,
   "metadata": {},
   "outputs": [
    {
     "data": {
      "text/plain": [
       "{'seed_torch': [0, 1, 2, 3],\n",
       " 'white_noise_isnr': [20.0, 25.0, 30.0, 35.0, 40.0, 45.0, 50.0, 55.0]}"
      ]
     },
     "execution_count": 15,
     "metadata": {},
     "output_type": "execute_result"
    }
   ],
   "source": [
    "bundle_param_iter = {_k: _v for _k, _v in bundle_param.items() if type(_v) is list}\n",
    "bundle_param_iter"
   ]
  },
  {
   "cell_type": "markdown",
   "metadata": {},
   "source": [
    "#### Select GPU"
   ]
  },
  {
   "cell_type": "code",
   "execution_count": 16,
   "metadata": {},
   "outputs": [
    {
     "name": "stdout",
     "output_type": "stream",
     "text": [
      "Using cuda:0 device\n"
     ]
    }
   ],
   "source": [
    "use_cuda = torch.cuda.is_available()\n",
    "cuda_index = torch.cuda.device_count() - 1\n",
    "device = torch.device(f\"cuda:{cuda_index}\" if use_cuda else \"cpu\")\n",
    "print(f\"Using {device} device\")"
   ]
  },
  {
   "cell_type": "markdown",
   "metadata": {},
   "source": [
    "### Extract ECG (dataset)"
   ]
  },
  {
   "cell_type": "markdown",
   "metadata": {},
   "source": [
    "#### SYNTH"
   ]
  },
  {
   "cell_type": "code",
   "execution_count": 17,
   "metadata": {},
   "outputs": [],
   "source": [
    "path_ecg = from_bundle_to_ecg_path(bundle_param)\n",
    "\n",
    "with open(path_ecg, 'rb') as f:\n",
    "    ecg_synth = pkl.load(f)[:, np.newaxis]"
   ]
  },
  {
   "cell_type": "markdown",
   "metadata": {},
   "source": [
    "#### REAL ECG IDDB"
   ]
  },
  {
   "cell_type": "code",
   "execution_count": 18,
   "metadata": {},
   "outputs": [],
   "source": [
    "\n",
    "\n",
    "db_dir = 'ecgiddb'\n",
    "dl_dir = 'miao'\n",
    "# str_type_signal = 'ECG I filtered'\n",
    "str_type_signal = 'ECG I'\n",
    "\n",
    "overlap = n_iddb//5\n",
    "\n",
    "if not(os.path.exists(dl_dir)):\n",
    "    wfdb.io.dl_database(db_dir, dl_dir, records='all', annotators=None, keep_subdirs=True, overwrite=False)\n",
    "\n",
    "ecg_iddb = None\n",
    "ecg_iddb_filt = None\n",
    "\n",
    "for _p in os.listdir(dl_dir):\n",
    "    _path = os.path.join(dl_dir, _p)\n",
    "    \n",
    "    for _p2 in os.listdir(_path):\n",
    "\n",
    "        if _p2[-4:] == '.dat':\n",
    "\n",
    "            _p2 = _p2.replace('.dat', '')\n",
    "\n",
    "            _path2 = os.path.join(_path, _p2)\n",
    "\n",
    "            record = wfdb.io.rdrecord(_path2)\n",
    "            \n",
    "            _fs = record.fs\n",
    "\n",
    "            record, record_filt = record.to_dataframe()['ECG I'].to_numpy(), record.to_dataframe()['ECG I filtered'].to_numpy()\n",
    "            \n",
    "            record = signal.resample_poly(record, fs, _fs)\n",
    "            record_filt = signal.resample_poly(record_filt, fs, _fs)\n",
    "\n",
    "            record = split_with_overlap(record, segment_length=n_iddb, overlap=overlap)\n",
    "            record_filt = split_with_overlap(record_filt, segment_length=n_iddb, overlap=overlap)\n",
    "\n",
    "            if ecg_iddb is None:\n",
    "                ecg_iddb = record\n",
    "                ecg_iddb_filt = record_filt\n",
    "\n",
    "            else:\n",
    "                ecg_iddb = np.append(ecg_iddb, record, axis=-2)\n",
    "                ecg_iddb_filt = np.append(ecg_iddb_filt, record_filt, axis=-2)\n",
    "\n",
    "\n",
    "            \n",
    "ecg_iddb = ecg_iddb[1:, np.newaxis]\n",
    "ecg_iddb_filt = ecg_iddb_filt[1:, np.newaxis]"
   ]
  },
  {
   "cell_type": "markdown",
   "metadata": {},
   "source": [
    "#### REAL ECG MIT-BIH-Arrhythmia"
   ]
  },
  {
   "cell_type": "code",
   "execution_count": 19,
   "metadata": {},
   "outputs": [
    {
     "name": "stderr",
     "output_type": "stream",
     "text": [
      "100%|██████████| 48/48 [00:03<00:00, 12.95it/s]\n"
     ]
    }
   ],
   "source": [
    "db_dir = 'mitdb'\n",
    "dl_dir = 'MIT-BIH-Arrhythmia'\n",
    "\n",
    "\n",
    "if not(os.path.exists(dl_dir)):\n",
    "    wfdb.io.dl_database(db_dir, dl_dir, records='all', annotators='all', keep_subdirs=True, overwrite=False)\n",
    "\n",
    "overlap = n_mit_bih//5\n",
    "\n",
    "ecg_mit_bih = None\n",
    "ecg_mit_bih_r_peaks = None\n",
    "\n",
    "\n",
    "listdir = os.listdir(dl_dir)\n",
    "listdir = np.unique([s.split('.')[0] for s in listdir])\n",
    "\n",
    "for _p2 in tqdm(listdir):\n",
    "    \n",
    "    ### .dat & .atr\n",
    "\n",
    "    _path2 = os.path.join(dl_dir, _p2)\n",
    "\n",
    "    record = wfdb.io.rdrecord(_path2)\n",
    "    ann = wfdb.io.rdann(_path2, extension='atr')\n",
    "    \n",
    "    _fs = record.fs\n",
    "    \n",
    "    record = record.p_signal[:, 0]\n",
    "    record = signal.resample_poly(record, fs, _fs)\n",
    "    r_peaks_ind = np.array(ann.sample)\n",
    "\n",
    "    r_peaks_ind = np.floor(r_peaks_ind * fs / _fs).astype(int)\n",
    "    \n",
    "    r_peaks = np.zeros(np.shape(record))\n",
    "    \n",
    "    r_peaks[r_peaks_ind] = 1\n",
    "\n",
    "    record = split_with_overlap(record, segment_length=n_mit_bih, overlap=overlap)\n",
    "    r_peaks = split_with_overlap(r_peaks, segment_length=n_mit_bih, overlap=overlap)\n",
    "\n",
    "    if ecg_mit_bih is None:\n",
    "        ecg_mit_bih = record\n",
    "        ecg_mit_bih_r_peaks = r_peaks\n",
    "\n",
    "    else:\n",
    "        ecg_mit_bih = np.append(ecg_mit_bih, record, axis=-2)\n",
    "        ecg_mit_bih_r_peaks = np.append(ecg_mit_bih_r_peaks, r_peaks, axis=-2)\n",
    "        \n",
    "ecg_mit_bih = ecg_mit_bih[:, np.newaxis]"
   ]
  },
  {
   "cell_type": "code",
   "execution_count": 20,
   "metadata": {},
   "outputs": [
    {
     "data": {
      "text/plain": [
       "[<matplotlib.lines.Line2D at 0x7f46967bb4d0>]"
      ]
     },
     "execution_count": 20,
     "metadata": {},
     "output_type": "execute_result"
    },
    {
     "data": {
      "image/png": "[encoded data removed]",
      "text/plain": [
       "<Figure size 640x480 with 1 Axes>"
      ]
     },
     "metadata": {},
     "output_type": "display_data"
    }
   ],
   "source": [
    "_ind = np.random.randint(0, len(ecg_mit_bih_r_peaks))\n",
    "plt.plot(ecg_mit_bih[_ind][0])\n",
    "plt.ylim(-1.5, 3.5)\n",
    "plt.plot(ecg_mit_bih_r_peaks[_ind],)\n"
   ]
  },
  {
   "cell_type": "markdown",
   "metadata": {},
   "source": [
    "### ECG peak detections"
   ]
  },
  {
   "cell_type": "code",
   "execution_count": 21,
   "metadata": {},
   "outputs": [
    {
     "name": "stdout",
     "output_type": "stream",
     "text": [
      "[81]\n",
      "[74]\n"
     ]
    },
    {
     "ename": "IndexError",
     "evalue": "pop from empty list",
     "output_type": "error",
     "traceback": [
      "\u001b[0;31m---------------------------------------------------------------------------\u001b[0m",
      "\u001b[0;31mIndexError\u001b[0m                                Traceback (most recent call last)",
      "Cell \u001b[0;32mIn[21], line 20\u001b[0m\n\u001b[1;32m     17\u001b[0m _z[r_peaks] \u001b[38;5;241m=\u001b[39m \u001b[38;5;241m1\u001b[39m\n\u001b[1;32m     18\u001b[0m plt\u001b[38;5;241m.\u001b[39mplot(_z, label\u001b[38;5;241m=\u001b[39m\u001b[38;5;124m'\u001b[39m\u001b[38;5;124mchristov\u001b[39m\u001b[38;5;124m'\u001b[39m)\n\u001b[0;32m---> 20\u001b[0m r_peaks \u001b[38;5;241m=\u001b[39m detectors\u001b[38;5;241m.\u001b[39mengzee_detector(_ecg)\n\u001b[1;32m     21\u001b[0m \u001b[38;5;28mprint\u001b[39m(r_peaks)\n\u001b[1;32m     22\u001b[0m _z \u001b[38;5;241m=\u001b[39m np\u001b[38;5;241m.\u001b[39mzeros(np\u001b[38;5;241m.\u001b[39mshape(_ecg))\n",
      "File \u001b[0;32m~/miniconda3/envs/torch-one/lib/python3.12/site-packages/ecgdetectors.py:383\u001b[0m, in \u001b[0;36mDetectors.engzee_detector\u001b[0;34m(self, unfiltered_ecg)\u001b[0m\n\u001b[1;32m    380\u001b[0m         thf \u001b[38;5;241m=\u001b[39m \u001b[38;5;28;01mFalse\u001b[39;00m\n\u001b[1;32m    382\u001b[0m \u001b[38;5;66;03m# removing the 1st detection as it 1st needs the QRS complex amplitude for the threshold\u001b[39;00m\n\u001b[0;32m--> 383\u001b[0m r_peaks\u001b[38;5;241m.\u001b[39mpop(\u001b[38;5;241m0\u001b[39m)\n\u001b[1;32m    384\u001b[0m \u001b[38;5;28;01mreturn\u001b[39;00m r_peaks\n",
      "\u001b[0;31mIndexError\u001b[0m: pop from empty list"
     ]
    },
    {
     "data": {
      "image/png": "[encoded data removed]",
      "text/plain": [
       "<Figure size 640x480 with 1 Axes>"
      ]
     },
     "metadata": {},
     "output_type": "display_data"
    }
   ],
   "source": [
    "_ind = np.random.randint(0, len(ecg_mit_bih_r_peaks))\n",
    "_ecg = ecg_mit_bih[_ind][0]\n",
    "plt.plot(_ecg)\n",
    "plt.ylim(-1.5, 3.5)\n",
    "plt.plot(ecg_mit_bih_r_peaks[_ind], label='label')\n",
    "\n",
    "detectors = Detectors(fs)\n",
    "r_peaks = detectors.hamilton_detector(_ecg)\n",
    "print(r_peaks)\n",
    "_z = np.zeros(np.shape(_ecg))\n",
    "_z[r_peaks] = 1\n",
    "plt.plot(_z, label='hamilton')\n",
    "\n",
    "r_peaks = detectors.christov_detector(_ecg)\n",
    "print(r_peaks)\n",
    "_z = np.zeros(np.shape(_ecg))\n",
    "_z[r_peaks] = 1\n",
    "plt.plot(_z, label='christov')\n",
    "\n",
    "r_peaks = detectors.engzee_detector(_ecg)\n",
    "print(r_peaks)\n",
    "_z = np.zeros(np.shape(_ecg))\n",
    "_z[r_peaks] = 1\n",
    "plt.plot(_z, label='engzee')\n",
    "\n",
    "r_peaks = detectors.pan_tompkins_detector(_ecg)\n",
    "print(r_peaks)\n",
    "_z = np.zeros(np.shape(_ecg))\n",
    "_z[r_peaks] = 1\n",
    "plt.plot(_z, label='pan_tompkins')\n",
    "\n",
    "r_peaks = detectors.swt_detector(_ecg)\n",
    "print(r_peaks)\n",
    "_z = np.zeros(np.shape(_ecg))\n",
    "_z[r_peaks] = 1\n",
    "plt.plot(_z, label='swt')\n",
    "\n",
    "plt.legend()"
   ]
  },
  {
   "cell_type": "markdown",
   "metadata": {},
   "source": [
    "### Extract A (sensing matrix)"
   ]
  },
  {
   "cell_type": "code",
   "execution_count": 22,
   "metadata": {},
   "outputs": [
    {
     "name": "stdout",
     "output_type": "stream",
     "text": [
      "/srv/newpenny/dnn-cs/tsoc/data/ecg_N=10000_n=128_fs=256_hr=60-100_isnr=35_seed=0/A_Filippo/sensing_matrix_M=100_m=32_mode=rakeness_seed=0_loc=0.25_corr=96af96a7ddfcb2f6059092c250e18f2a.pkl\n",
      "Loading sensing matrix rakeness (rsnr: 20.49dB (with bpdn) -- seed: 1651)\n"
     ]
    }
   ],
   "source": [
    "dict_A = {}\n",
    "for _mode_A, _m, _N_try_A in itertools.product(\n",
    "    *to_list(bundle_param['mode_A'], bundle_param['m'], bundle_param['N_try_A'])):\n",
    "\n",
    "    _bundle_param = bundle_param.copy()\n",
    "    _bundle_param['mode_A'] = _mode_A\n",
    "    _bundle_param['m'] = _m\n",
    "    _bundle_param['N_try_A'] = _N_try_A\n",
    "    path_A = from_bundle_to_A_path(_bundle_param)\n",
    "\n",
    "\n",
    "    print(path_A)\n",
    "    # assert False\n",
    "    if os.path.isfile(path_A):\n",
    "        with open(path_A, 'rb') as f:\n",
    "            A = pkl.load(f)[0]\n",
    "        print(f\"Loading sensing matrix\", _mode_A,\n",
    "                f\"(rsnr: {A['rsnr']:.2f}dB (with bpdn) -- seed: {A['seed']})\")\n",
    "        dict_A[_mode_A] = A['matrix']\n",
    "\n",
    "    else:\n",
    "        warnings.warn(\"Sensing matrix generation. \"\\\n",
    "                        \"Generate with 'best_A_bpdn' for better performances\")\n",
    "        \n",
    "        path_corr = os.path.join(dataset_dir, 'correlation', str_corr + '.pkl')\n",
    "        with open(path_corr, 'rb') as f: corr = pkl.load(f)\n",
    "        \n",
    "        dict_A[_mode_A] = generate_sensing_matrix(\n",
    "                    shape = (_m, n), \n",
    "                    mode=_mode_A, \n",
    "                    antipodal=False, \n",
    "                    orthogonal=orth,\n",
    "                    correlation=corr,\n",
    "                    loc=.25, \n",
    "                    seed=seed_A)\n",
    "        print('generated A', _mode_A)"
   ]
  },
  {
   "cell_type": "code",
   "execution_count": 23,
   "metadata": {},
   "outputs": [
    {
     "name": "stdout",
     "output_type": "stream",
     "text": [
      "2.6016055826742725e-51\n"
     ]
    }
   ],
   "source": [
    "isnr_test = 1000\n",
    "\n",
    "axis = -1\n",
    "norm_signal = np.mean(np.linalg.norm(ecg_synth, axis=axis))\n",
    "norm_noise = norm_signal / 10**(isnr_test / 20)\n",
    "white_noise_var_test = norm_noise / np.sqrt(ecg_synth.shape[axis])\n",
    "print(white_noise_var_test)"
   ]
  },
  {
   "cell_type": "code",
   "execution_count": 24,
   "metadata": {},
   "outputs": [],
   "source": [
    "transform = AddGaussianNoise(std=white_noise_var)\n",
    "df_test_loader_synth = from_ecg_to_df_loader(ecg_synth, \n",
    "                                      dict_A,\n",
    "                                      in_channels, \n",
    "                                      str_x_as_input,\n",
    "                                      64,\n",
    "                                      transform=transform,\n",
    "                                      transform_test=True)\n",
    "\n",
    "df_test_loader_iddb = from_ecg_to_df_loader(ecg_iddb, \n",
    "                                      dict_A,\n",
    "                                      in_channels, \n",
    "                                      str_x_as_input,\n",
    "                                      64)\n",
    "\n",
    "df_test_loader_mit_bih = from_ecg_to_df_loader(ecg_mit_bih, \n",
    "                                      dict_A,\n",
    "                                      in_channels, \n",
    "                                      str_x_as_input,\n",
    "                                      64)"
   ]
  },
  {
   "cell_type": "code",
   "execution_count": 25,
   "metadata": {},
   "outputs": [],
   "source": [
    "dict_test_loader_synth = {'rakeness': df_test_loader_synth.iloc[2]['data_loader']}\n",
    "dict_test_loader_iddb = {'rakeness': df_test_loader_iddb.iloc[2]['data_loader']}\n",
    "dict_test_loader_mit_bih = {'rakeness': df_test_loader_mit_bih.iloc[2]['data_loader']}"
   ]
  },
  {
   "cell_type": "markdown",
   "metadata": {},
   "source": [
    "### Path and Loading"
   ]
  },
  {
   "cell_type": "code",
   "execution_count": 61,
   "metadata": {},
   "outputs": [
    {
     "name": "stdout",
     "output_type": "stream",
     "text": [
      "LOADING MODELS:\n"
     ]
    },
    {
     "name": "stderr",
     "output_type": "stream",
     "text": [
      "100%|██████████| 32/32 [00:09<00:00,  3.39it/s]"
     ]
    },
    {
     "name": "stdout",
     "output_type": "stream",
     "text": [
      "\n",
      "TOTAL  number of models: 32\n",
      "\n",
      "LOADED number of models: 32\n",
      "\n"
     ]
    },
    {
     "name": "stderr",
     "output_type": "stream",
     "text": [
      "\n"
     ]
    },
    {
     "data": {
      "text/markdown": [
       "<span style='color: #00ffff'>LOADED:  </span>{'seed_torch': 0, 'white_noise_isnr': 20.0}"
      ],
      "text/plain": [
       "<IPython.core.display.Markdown object>"
      ]
     },
     "metadata": {},
     "output_type": "display_data"
    },
    {
     "data": {
      "text/markdown": [
       "<span style='color: #00ffff'>LOADED:  </span>{'seed_torch': 0, 'white_noise_isnr': 25.0}"
      ],
      "text/plain": [
       "<IPython.core.display.Markdown object>"
      ]
     },
     "metadata": {},
     "output_type": "display_data"
    },
    {
     "data": {
      "text/markdown": [
       "<span style='color: #00ffff'>LOADED:  </span>{'seed_torch': 0, 'white_noise_isnr': 30.0}"
      ],
      "text/plain": [
       "<IPython.core.display.Markdown object>"
      ]
     },
     "metadata": {},
     "output_type": "display_data"
    },
    {
     "data": {
      "text/markdown": [
       "<span style='color: #00ffff'>LOADED:  </span>{'seed_torch': 0, 'white_noise_isnr': 35.0}"
      ],
      "text/plain": [
       "<IPython.core.display.Markdown object>"
      ]
     },
     "metadata": {},
     "output_type": "display_data"
    },
    {
     "data": {
      "text/markdown": [
       "<span style='color: #00ffff'>LOADED:  </span>{'seed_torch': 0, 'white_noise_isnr': 40.0}"
      ],
      "text/plain": [
       "<IPython.core.display.Markdown object>"
      ]
     },
     "metadata": {},
     "output_type": "display_data"
    },
    {
     "data": {
      "text/markdown": [
       "<span style='color: #00ffff'>LOADED:  </span>{'seed_torch': 0, 'white_noise_isnr': 45.0}"
      ],
      "text/plain": [
       "<IPython.core.display.Markdown object>"
      ]
     },
     "metadata": {},
     "output_type": "display_data"
    },
    {
     "data": {
      "text/markdown": [
       "<span style='color: #00ffff'>LOADED:  </span>{'seed_torch': 0, 'white_noise_isnr': 50.0}"
      ],
      "text/plain": [
       "<IPython.core.display.Markdown object>"
      ]
     },
     "metadata": {},
     "output_type": "display_data"
    },
    {
     "data": {
      "text/markdown": [
       "<span style='color: #00ffff'>LOADED:  </span>{'seed_torch': 0, 'white_noise_isnr': 55.0}"
      ],
      "text/plain": [
       "<IPython.core.display.Markdown object>"
      ]
     },
     "metadata": {},
     "output_type": "display_data"
    },
    {
     "data": {
      "text/markdown": [
       "<span style='color: #00ffff'>LOADED:  </span>{'seed_torch': 1, 'white_noise_isnr': 20.0}"
      ],
      "text/plain": [
       "<IPython.core.display.Markdown object>"
      ]
     },
     "metadata": {},
     "output_type": "display_data"
    },
    {
     "data": {
      "text/markdown": [
       "<span style='color: #00ffff'>LOADED:  </span>{'seed_torch': 1, 'white_noise_isnr': 25.0}"
      ],
      "text/plain": [
       "<IPython.core.display.Markdown object>"
      ]
     },
     "metadata": {},
     "output_type": "display_data"
    },
    {
     "data": {
      "text/markdown": [
       "<span style='color: #00ffff'>LOADED:  </span>{'seed_torch': 1, 'white_noise_isnr': 30.0}"
      ],
      "text/plain": [
       "<IPython.core.display.Markdown object>"
      ]
     },
     "metadata": {},
     "output_type": "display_data"
    },
    {
     "data": {
      "text/markdown": [
       "<span style='color: #00ffff'>LOADED:  </span>{'seed_torch': 1, 'white_noise_isnr': 35.0}"
      ],
      "text/plain": [
       "<IPython.core.display.Markdown object>"
      ]
     },
     "metadata": {},
     "output_type": "display_data"
    },
    {
     "data": {
      "text/markdown": [
       "<span style='color: #00ffff'>LOADED:  </span>{'seed_torch': 1, 'white_noise_isnr': 40.0}"
      ],
      "text/plain": [
       "<IPython.core.display.Markdown object>"
      ]
     },
     "metadata": {},
     "output_type": "display_data"
    },
    {
     "data": {
      "text/markdown": [
       "<span style='color: #00ffff'>LOADED:  </span>{'seed_torch': 1, 'white_noise_isnr': 45.0}"
      ],
      "text/plain": [
       "<IPython.core.display.Markdown object>"
      ]
     },
     "metadata": {},
     "output_type": "display_data"
    },
    {
     "data": {
      "text/markdown": [
       "<span style='color: #00ffff'>LOADED:  </span>{'seed_torch': 1, 'white_noise_isnr': 50.0}"
      ],
      "text/plain": [
       "<IPython.core.display.Markdown object>"
      ]
     },
     "metadata": {},
     "output_type": "display_data"
    },
    {
     "data": {
      "text/markdown": [
       "<span style='color: #00ffff'>LOADED:  </span>{'seed_torch': 1, 'white_noise_isnr': 55.0}"
      ],
      "text/plain": [
       "<IPython.core.display.Markdown object>"
      ]
     },
     "metadata": {},
     "output_type": "display_data"
    },
    {
     "data": {
      "text/markdown": [
       "<span style='color: #00ffff'>LOADED:  </span>{'seed_torch': 2, 'white_noise_isnr': 20.0}"
      ],
      "text/plain": [
       "<IPython.core.display.Markdown object>"
      ]
     },
     "metadata": {},
     "output_type": "display_data"
    },
    {
     "data": {
      "text/markdown": [
       "<span style='color: #00ffff'>LOADED:  </span>{'seed_torch': 2, 'white_noise_isnr': 25.0}"
      ],
      "text/plain": [
       "<IPython.core.display.Markdown object>"
      ]
     },
     "metadata": {},
     "output_type": "display_data"
    },
    {
     "data": {
      "text/markdown": [
       "<span style='color: #00ffff'>LOADED:  </span>{'seed_torch': 2, 'white_noise_isnr': 30.0}"
      ],
      "text/plain": [
       "<IPython.core.display.Markdown object>"
      ]
     },
     "metadata": {},
     "output_type": "display_data"
    },
    {
     "data": {
      "text/markdown": [
       "<span style='color: #00ffff'>LOADED:  </span>{'seed_torch': 2, 'white_noise_isnr': 35.0}"
      ],
      "text/plain": [
       "<IPython.core.display.Markdown object>"
      ]
     },
     "metadata": {},
     "output_type": "display_data"
    },
    {
     "data": {
      "text/markdown": [
       "<span style='color: #00ffff'>LOADED:  </span>{'seed_torch': 2, 'white_noise_isnr': 40.0}"
      ],
      "text/plain": [
       "<IPython.core.display.Markdown object>"
      ]
     },
     "metadata": {},
     "output_type": "display_data"
    },
    {
     "data": {
      "text/markdown": [
       "<span style='color: #00ffff'>LOADED:  </span>{'seed_torch': 2, 'white_noise_isnr': 45.0}"
      ],
      "text/plain": [
       "<IPython.core.display.Markdown object>"
      ]
     },
     "metadata": {},
     "output_type": "display_data"
    },
    {
     "data": {
      "text/markdown": [
       "<span style='color: #00ffff'>LOADED:  </span>{'seed_torch': 2, 'white_noise_isnr': 50.0}"
      ],
      "text/plain": [
       "<IPython.core.display.Markdown object>"
      ]
     },
     "metadata": {},
     "output_type": "display_data"
    },
    {
     "data": {
      "text/markdown": [
       "<span style='color: #00ffff'>LOADED:  </span>{'seed_torch': 2, 'white_noise_isnr': 55.0}"
      ],
      "text/plain": [
       "<IPython.core.display.Markdown object>"
      ]
     },
     "metadata": {},
     "output_type": "display_data"
    },
    {
     "data": {
      "text/markdown": [
       "<span style='color: #00ffff'>LOADED:  </span>{'seed_torch': 3, 'white_noise_isnr': 20.0}"
      ],
      "text/plain": [
       "<IPython.core.display.Markdown object>"
      ]
     },
     "metadata": {},
     "output_type": "display_data"
    },
    {
     "data": {
      "text/markdown": [
       "<span style='color: #00ffff'>LOADED:  </span>{'seed_torch': 3, 'white_noise_isnr': 25.0}"
      ],
      "text/plain": [
       "<IPython.core.display.Markdown object>"
      ]
     },
     "metadata": {},
     "output_type": "display_data"
    },
    {
     "data": {
      "text/markdown": [
       "<span style='color: #00ffff'>LOADED:  </span>{'seed_torch': 3, 'white_noise_isnr': 30.0}"
      ],
      "text/plain": [
       "<IPython.core.display.Markdown object>"
      ]
     },
     "metadata": {},
     "output_type": "display_data"
    },
    {
     "data": {
      "text/markdown": [
       "<span style='color: #00ffff'>LOADED:  </span>{'seed_torch': 3, 'white_noise_isnr': 35.0}"
      ],
      "text/plain": [
       "<IPython.core.display.Markdown object>"
      ]
     },
     "metadata": {},
     "output_type": "display_data"
    },
    {
     "data": {
      "text/markdown": [
       "<span style='color: #00ffff'>LOADED:  </span>{'seed_torch': 3, 'white_noise_isnr': 40.0}"
      ],
      "text/plain": [
       "<IPython.core.display.Markdown object>"
      ]
     },
     "metadata": {},
     "output_type": "display_data"
    },
    {
     "data": {
      "text/markdown": [
       "<span style='color: #00ffff'>LOADED:  </span>{'seed_torch': 3, 'white_noise_isnr': 45.0}"
      ],
      "text/plain": [
       "<IPython.core.display.Markdown object>"
      ]
     },
     "metadata": {},
     "output_type": "display_data"
    },
    {
     "data": {
      "text/markdown": [
       "<span style='color: #00ffff'>LOADED:  </span>{'seed_torch': 3, 'white_noise_isnr': 50.0}"
      ],
      "text/plain": [
       "<IPython.core.display.Markdown object>"
      ]
     },
     "metadata": {},
     "output_type": "display_data"
    },
    {
     "data": {
      "text/markdown": [
       "<span style='color: #00ffff'>LOADED:  </span>{'seed_torch': 3, 'white_noise_isnr': 55.0}"
      ],
      "text/plain": [
       "<IPython.core.display.Markdown object>"
      ]
     },
     "metadata": {},
     "output_type": "display_data"
    }
   ],
   "source": [
    "verbose_load  = True\n",
    "verbose_debug = False\n",
    "bundle_all, param_unique_list = unravel_bundle_param(bundle_param)\n",
    "print('LOADING MODELS:')\n",
    "model_list = np.array([from_bundle_to_model(b, device, A=A['matrix'], verbose=verbose_debug) for b in tqdm(bundle_all)])\n",
    "\n",
    "ind_loaded = model_list!=None\n",
    "\n",
    "print()\n",
    "print(f\"TOTAL  number of models: {len(model_list)}\\n\")\n",
    "print(f\"LOADED number of models: {len(model_list[ind_loaded])}\\n\")\n",
    "\n",
    "if verbose_load:\n",
    "    for _m, _p in zip(model_list, param_unique_list):\n",
    "        if _m is not None:\n",
    "            display(Markdown(color('LOADED:  ', '', _p, code=\"00ffff\")));\n",
    "        else:\n",
    "            display(Markdown(color('MISSING: ', '', _p)));\n",
    "\n",
    "model_list = model_list[ind_loaded]\n",
    "param_unique_list = np.array(param_unique_list)[ind_loaded] \n",
    "bundle_loaded = np.array(bundle_all)[ind_loaded]"
   ]
  },
  {
   "cell_type": "code",
   "execution_count": 70,
   "metadata": {},
   "outputs": [],
   "source": [
    "df_param_unique = pd.DataFrame(list(param_unique_list))\n",
    "df_param_unique['model'] = model_list\n",
    "df_bundle_loaded = pd.DataFrame(list(bundle_loaded))\n",
    "df_bundle_loaded['model'] = model_list"
   ]
  },
  {
   "cell_type": "markdown",
   "metadata": {},
   "source": [
    "### Test Models"
   ]
  },
  {
   "cell_type": "code",
   "execution_count": 27,
   "metadata": {},
   "outputs": [],
   "source": [
    "criterion = nn.MSELoss()"
   ]
  },
  {
   "cell_type": "code",
   "execution_count": null,
   "metadata": {},
   "outputs": [
    {
     "name": "stderr",
     "output_type": "stream",
     "text": [
      "100%|██████████| 32/32 [00:19<00:00,  1.62it/s]\n"
     ]
    },
    {
     "data": {
      "text/html": [
       "<div>\n",
       "<style scoped>\n",
       "    .dataframe tbody tr th:only-of-type {\n",
       "        vertical-align: middle;\n",
       "    }\n",
       "\n",
       "    .dataframe tbody tr th {\n",
       "        vertical-align: top;\n",
       "    }\n",
       "\n",
       "    .dataframe thead th {\n",
       "        text-align: right;\n",
       "    }\n",
       "</style>\n",
       "<table border=\"1\" class=\"dataframe\">\n",
       "  <thead>\n",
       "    <tr style=\"text-align: right;\">\n",
       "      <th></th>\n",
       "      <th>seed_torch</th>\n",
       "      <th>white_noise_isnr</th>\n",
       "      <th>SNR</th>\n",
       "    </tr>\n",
       "  </thead>\n",
       "  <tbody>\n",
       "    <tr>\n",
       "      <th>0</th>\n",
       "      <td>0</td>\n",
       "      <td>20.0</td>\n",
       "      <td>7.486167</td>\n",
       "    </tr>\n",
       "    <tr>\n",
       "      <th>1</th>\n",
       "      <td>0</td>\n",
       "      <td>25.0</td>\n",
       "      <td>7.956934</td>\n",
       "    </tr>\n",
       "    <tr>\n",
       "      <th>2</th>\n",
       "      <td>0</td>\n",
       "      <td>30.0</td>\n",
       "      <td>8.195643</td>\n",
       "    </tr>\n",
       "    <tr>\n",
       "      <th>3</th>\n",
       "      <td>0</td>\n",
       "      <td>35.0</td>\n",
       "      <td>8.688719</td>\n",
       "    </tr>\n",
       "    <tr>\n",
       "      <th>4</th>\n",
       "      <td>0</td>\n",
       "      <td>40.0</td>\n",
       "      <td>7.296960</td>\n",
       "    </tr>\n",
       "    <tr>\n",
       "      <th>5</th>\n",
       "      <td>0</td>\n",
       "      <td>45.0</td>\n",
       "      <td>9.165399</td>\n",
       "    </tr>\n",
       "    <tr>\n",
       "      <th>6</th>\n",
       "      <td>0</td>\n",
       "      <td>50.0</td>\n",
       "      <td>9.231647</td>\n",
       "    </tr>\n",
       "    <tr>\n",
       "      <th>7</th>\n",
       "      <td>0</td>\n",
       "      <td>55.0</td>\n",
       "      <td>8.893234</td>\n",
       "    </tr>\n",
       "    <tr>\n",
       "      <th>8</th>\n",
       "      <td>1</td>\n",
       "      <td>20.0</td>\n",
       "      <td>6.969467</td>\n",
       "    </tr>\n",
       "    <tr>\n",
       "      <th>9</th>\n",
       "      <td>1</td>\n",
       "      <td>25.0</td>\n",
       "      <td>6.805835</td>\n",
       "    </tr>\n",
       "    <tr>\n",
       "      <th>10</th>\n",
       "      <td>1</td>\n",
       "      <td>30.0</td>\n",
       "      <td>7.987700</td>\n",
       "    </tr>\n",
       "    <tr>\n",
       "      <th>11</th>\n",
       "      <td>1</td>\n",
       "      <td>35.0</td>\n",
       "      <td>8.403408</td>\n",
       "    </tr>\n",
       "    <tr>\n",
       "      <th>12</th>\n",
       "      <td>1</td>\n",
       "      <td>40.0</td>\n",
       "      <td>8.897253</td>\n",
       "    </tr>\n",
       "    <tr>\n",
       "      <th>13</th>\n",
       "      <td>1</td>\n",
       "      <td>45.0</td>\n",
       "      <td>9.202170</td>\n",
       "    </tr>\n",
       "    <tr>\n",
       "      <th>14</th>\n",
       "      <td>1</td>\n",
       "      <td>50.0</td>\n",
       "      <td>9.331878</td>\n",
       "    </tr>\n",
       "    <tr>\n",
       "      <th>15</th>\n",
       "      <td>1</td>\n",
       "      <td>55.0</td>\n",
       "      <td>9.241143</td>\n",
       "    </tr>\n",
       "    <tr>\n",
       "      <th>16</th>\n",
       "      <td>2</td>\n",
       "      <td>20.0</td>\n",
       "      <td>7.062274</td>\n",
       "    </tr>\n",
       "    <tr>\n",
       "      <th>17</th>\n",
       "      <td>2</td>\n",
       "      <td>25.0</td>\n",
       "      <td>7.486707</td>\n",
       "    </tr>\n",
       "    <tr>\n",
       "      <th>18</th>\n",
       "      <td>2</td>\n",
       "      <td>30.0</td>\n",
       "      <td>8.158259</td>\n",
       "    </tr>\n",
       "    <tr>\n",
       "      <th>19</th>\n",
       "      <td>2</td>\n",
       "      <td>35.0</td>\n",
       "      <td>8.541439</td>\n",
       "    </tr>\n",
       "    <tr>\n",
       "      <th>20</th>\n",
       "      <td>2</td>\n",
       "      <td>40.0</td>\n",
       "      <td>8.755743</td>\n",
       "    </tr>\n",
       "    <tr>\n",
       "      <th>21</th>\n",
       "      <td>2</td>\n",
       "      <td>45.0</td>\n",
       "      <td>9.288103</td>\n",
       "    </tr>\n",
       "    <tr>\n",
       "      <th>22</th>\n",
       "      <td>2</td>\n",
       "      <td>50.0</td>\n",
       "      <td>9.356442</td>\n",
       "    </tr>\n",
       "    <tr>\n",
       "      <th>23</th>\n",
       "      <td>2</td>\n",
       "      <td>55.0</td>\n",
       "      <td>9.154370</td>\n",
       "    </tr>\n",
       "    <tr>\n",
       "      <th>24</th>\n",
       "      <td>3</td>\n",
       "      <td>20.0</td>\n",
       "      <td>7.059876</td>\n",
       "    </tr>\n",
       "    <tr>\n",
       "      <th>25</th>\n",
       "      <td>3</td>\n",
       "      <td>25.0</td>\n",
       "      <td>7.681602</td>\n",
       "    </tr>\n",
       "    <tr>\n",
       "      <th>26</th>\n",
       "      <td>3</td>\n",
       "      <td>30.0</td>\n",
       "      <td>8.054185</td>\n",
       "    </tr>\n",
       "    <tr>\n",
       "      <th>27</th>\n",
       "      <td>3</td>\n",
       "      <td>35.0</td>\n",
       "      <td>8.408982</td>\n",
       "    </tr>\n",
       "    <tr>\n",
       "      <th>28</th>\n",
       "      <td>3</td>\n",
       "      <td>40.0</td>\n",
       "      <td>9.014362</td>\n",
       "    </tr>\n",
       "    <tr>\n",
       "      <th>29</th>\n",
       "      <td>3</td>\n",
       "      <td>45.0</td>\n",
       "      <td>8.976830</td>\n",
       "    </tr>\n",
       "    <tr>\n",
       "      <th>30</th>\n",
       "      <td>3</td>\n",
       "      <td>50.0</td>\n",
       "      <td>9.014358</td>\n",
       "    </tr>\n",
       "    <tr>\n",
       "      <th>31</th>\n",
       "      <td>3</td>\n",
       "      <td>55.0</td>\n",
       "      <td>9.150438</td>\n",
       "    </tr>\n",
       "  </tbody>\n",
       "</table>\n",
       "</div>"
      ],
      "text/plain": [
       "    seed_torch  white_noise_isnr       SNR\n",
       "0            0              20.0  7.486167\n",
       "1            0              25.0  7.956934\n",
       "2            0              30.0  8.195643\n",
       "3            0              35.0  8.688719\n",
       "4            0              40.0  7.296960\n",
       "5            0              45.0  9.165399\n",
       "6            0              50.0  9.231647\n",
       "7            0              55.0  8.893234\n",
       "8            1              20.0  6.969467\n",
       "9            1              25.0  6.805835\n",
       "10           1              30.0  7.987700\n",
       "11           1              35.0  8.403408\n",
       "12           1              40.0  8.897253\n",
       "13           1              45.0  9.202170\n",
       "14           1              50.0  9.331878\n",
       "15           1              55.0  9.241143\n",
       "16           2              20.0  7.062274\n",
       "17           2              25.0  7.486707\n",
       "18           2              30.0  8.158259\n",
       "19           2              35.0  8.541439\n",
       "20           2              40.0  8.755743\n",
       "21           2              45.0  9.288103\n",
       "22           2              50.0  9.356442\n",
       "23           2              55.0  9.154370\n",
       "24           3              20.0  7.059876\n",
       "25           3              25.0  7.681602\n",
       "26           3              30.0  8.054185\n",
       "27           3              35.0  8.408982\n",
       "28           3              40.0  9.014362\n",
       "29           3              45.0  8.976830\n",
       "30           3              50.0  9.014358\n",
       "31           3              55.0  9.150438"
      ]
     },
     "execution_count": 28,
     "metadata": {},
     "output_type": "execute_result"
    }
   ],
   "source": [
    "list_res_iddb = test_model(model_list, param_unique_list, \n",
    "                           bundle_loaded, dict_test_loader_iddb, \n",
    "                           device, criterion, compute_rsnr)\n",
    "\n",
    "df_res_iddb = pd.DataFrame(list_res_iddb).rename(columns={'SNR': 'SNR_iddb'}, inplace=True)\n",
    "df_res_iddb"
   ]
  },
  {
   "cell_type": "code",
   "execution_count": null,
   "metadata": {},
   "outputs": [],
   "source": []
  },
  {
   "cell_type": "code",
   "execution_count": null,
   "metadata": {},
   "outputs": [
    {
     "name": "stderr",
     "output_type": "stream",
     "text": [
      "100%|██████████| 32/32 [04:39<00:00,  8.74s/it]\n"
     ]
    },
    {
     "data": {
      "text/html": [
       "<div>\n",
       "<style scoped>\n",
       "    .dataframe tbody tr th:only-of-type {\n",
       "        vertical-align: middle;\n",
       "    }\n",
       "\n",
       "    .dataframe tbody tr th {\n",
       "        vertical-align: top;\n",
       "    }\n",
       "\n",
       "    .dataframe thead th {\n",
       "        text-align: right;\n",
       "    }\n",
       "</style>\n",
       "<table border=\"1\" class=\"dataframe\">\n",
       "  <thead>\n",
       "    <tr style=\"text-align: right;\">\n",
       "      <th></th>\n",
       "      <th>seed_torch</th>\n",
       "      <th>white_noise_isnr</th>\n",
       "      <th>SNR</th>\n",
       "    </tr>\n",
       "  </thead>\n",
       "  <tbody>\n",
       "    <tr>\n",
       "      <th>0</th>\n",
       "      <td>0</td>\n",
       "      <td>20.0</td>\n",
       "      <td>10.380116</td>\n",
       "    </tr>\n",
       "    <tr>\n",
       "      <th>1</th>\n",
       "      <td>0</td>\n",
       "      <td>25.0</td>\n",
       "      <td>11.579282</td>\n",
       "    </tr>\n",
       "    <tr>\n",
       "      <th>2</th>\n",
       "      <td>0</td>\n",
       "      <td>30.0</td>\n",
       "      <td>12.875220</td>\n",
       "    </tr>\n",
       "    <tr>\n",
       "      <th>3</th>\n",
       "      <td>0</td>\n",
       "      <td>35.0</td>\n",
       "      <td>13.438989</td>\n",
       "    </tr>\n",
       "    <tr>\n",
       "      <th>4</th>\n",
       "      <td>0</td>\n",
       "      <td>40.0</td>\n",
       "      <td>11.763893</td>\n",
       "    </tr>\n",
       "    <tr>\n",
       "      <th>5</th>\n",
       "      <td>0</td>\n",
       "      <td>45.0</td>\n",
       "      <td>14.940818</td>\n",
       "    </tr>\n",
       "    <tr>\n",
       "      <th>6</th>\n",
       "      <td>0</td>\n",
       "      <td>50.0</td>\n",
       "      <td>14.052678</td>\n",
       "    </tr>\n",
       "    <tr>\n",
       "      <th>7</th>\n",
       "      <td>0</td>\n",
       "      <td>55.0</td>\n",
       "      <td>14.052230</td>\n",
       "    </tr>\n",
       "    <tr>\n",
       "      <th>8</th>\n",
       "      <td>1</td>\n",
       "      <td>20.0</td>\n",
       "      <td>8.664681</td>\n",
       "    </tr>\n",
       "    <tr>\n",
       "      <th>9</th>\n",
       "      <td>1</td>\n",
       "      <td>25.0</td>\n",
       "      <td>7.385890</td>\n",
       "    </tr>\n",
       "    <tr>\n",
       "      <th>10</th>\n",
       "      <td>1</td>\n",
       "      <td>30.0</td>\n",
       "      <td>11.866478</td>\n",
       "    </tr>\n",
       "    <tr>\n",
       "      <th>11</th>\n",
       "      <td>1</td>\n",
       "      <td>35.0</td>\n",
       "      <td>13.087968</td>\n",
       "    </tr>\n",
       "    <tr>\n",
       "      <th>12</th>\n",
       "      <td>1</td>\n",
       "      <td>40.0</td>\n",
       "      <td>13.923540</td>\n",
       "    </tr>\n",
       "    <tr>\n",
       "      <th>13</th>\n",
       "      <td>1</td>\n",
       "      <td>45.0</td>\n",
       "      <td>14.456071</td>\n",
       "    </tr>\n",
       "    <tr>\n",
       "      <th>14</th>\n",
       "      <td>1</td>\n",
       "      <td>50.0</td>\n",
       "      <td>15.362916</td>\n",
       "    </tr>\n",
       "    <tr>\n",
       "      <th>15</th>\n",
       "      <td>1</td>\n",
       "      <td>55.0</td>\n",
       "      <td>14.785952</td>\n",
       "    </tr>\n",
       "    <tr>\n",
       "      <th>16</th>\n",
       "      <td>2</td>\n",
       "      <td>20.0</td>\n",
       "      <td>9.247782</td>\n",
       "    </tr>\n",
       "    <tr>\n",
       "      <th>17</th>\n",
       "      <td>2</td>\n",
       "      <td>25.0</td>\n",
       "      <td>10.004428</td>\n",
       "    </tr>\n",
       "    <tr>\n",
       "      <th>18</th>\n",
       "      <td>2</td>\n",
       "      <td>30.0</td>\n",
       "      <td>12.996324</td>\n",
       "    </tr>\n",
       "    <tr>\n",
       "      <th>19</th>\n",
       "      <td>2</td>\n",
       "      <td>35.0</td>\n",
       "      <td>13.873019</td>\n",
       "    </tr>\n",
       "    <tr>\n",
       "      <th>20</th>\n",
       "      <td>2</td>\n",
       "      <td>40.0</td>\n",
       "      <td>13.862511</td>\n",
       "    </tr>\n",
       "    <tr>\n",
       "      <th>21</th>\n",
       "      <td>2</td>\n",
       "      <td>45.0</td>\n",
       "      <td>15.044857</td>\n",
       "    </tr>\n",
       "    <tr>\n",
       "      <th>22</th>\n",
       "      <td>2</td>\n",
       "      <td>50.0</td>\n",
       "      <td>15.346030</td>\n",
       "    </tr>\n",
       "    <tr>\n",
       "      <th>23</th>\n",
       "      <td>2</td>\n",
       "      <td>55.0</td>\n",
       "      <td>14.299498</td>\n",
       "    </tr>\n",
       "    <tr>\n",
       "      <th>24</th>\n",
       "      <td>3</td>\n",
       "      <td>20.0</td>\n",
       "      <td>8.833631</td>\n",
       "    </tr>\n",
       "    <tr>\n",
       "      <th>25</th>\n",
       "      <td>3</td>\n",
       "      <td>25.0</td>\n",
       "      <td>11.737254</td>\n",
       "    </tr>\n",
       "    <tr>\n",
       "      <th>26</th>\n",
       "      <td>3</td>\n",
       "      <td>30.0</td>\n",
       "      <td>13.023908</td>\n",
       "    </tr>\n",
       "    <tr>\n",
       "      <th>27</th>\n",
       "      <td>3</td>\n",
       "      <td>35.0</td>\n",
       "      <td>13.762419</td>\n",
       "    </tr>\n",
       "    <tr>\n",
       "      <th>28</th>\n",
       "      <td>3</td>\n",
       "      <td>40.0</td>\n",
       "      <td>14.832723</td>\n",
       "    </tr>\n",
       "    <tr>\n",
       "      <th>29</th>\n",
       "      <td>3</td>\n",
       "      <td>45.0</td>\n",
       "      <td>14.865472</td>\n",
       "    </tr>\n",
       "    <tr>\n",
       "      <th>30</th>\n",
       "      <td>3</td>\n",
       "      <td>50.0</td>\n",
       "      <td>14.631817</td>\n",
       "    </tr>\n",
       "    <tr>\n",
       "      <th>31</th>\n",
       "      <td>3</td>\n",
       "      <td>55.0</td>\n",
       "      <td>15.110317</td>\n",
       "    </tr>\n",
       "  </tbody>\n",
       "</table>\n",
       "</div>"
      ],
      "text/plain": [
       "    seed_torch  white_noise_isnr        SNR\n",
       "0            0              20.0  10.380116\n",
       "1            0              25.0  11.579282\n",
       "2            0              30.0  12.875220\n",
       "3            0              35.0  13.438989\n",
       "4            0              40.0  11.763893\n",
       "5            0              45.0  14.940818\n",
       "6            0              50.0  14.052678\n",
       "7            0              55.0  14.052230\n",
       "8            1              20.0   8.664681\n",
       "9            1              25.0   7.385890\n",
       "10           1              30.0  11.866478\n",
       "11           1              35.0  13.087968\n",
       "12           1              40.0  13.923540\n",
       "13           1              45.0  14.456071\n",
       "14           1              50.0  15.362916\n",
       "15           1              55.0  14.785952\n",
       "16           2              20.0   9.247782\n",
       "17           2              25.0  10.004428\n",
       "18           2              30.0  12.996324\n",
       "19           2              35.0  13.873019\n",
       "20           2              40.0  13.862511\n",
       "21           2              45.0  15.044857\n",
       "22           2              50.0  15.346030\n",
       "23           2              55.0  14.299498\n",
       "24           3              20.0   8.833631\n",
       "25           3              25.0  11.737254\n",
       "26           3              30.0  13.023908\n",
       "27           3              35.0  13.762419\n",
       "28           3              40.0  14.832723\n",
       "29           3              45.0  14.865472\n",
       "30           3              50.0  14.631817\n",
       "31           3              55.0  15.110317"
      ]
     },
     "execution_count": 29,
     "metadata": {},
     "output_type": "execute_result"
    }
   ],
   "source": [
    "list_res_mit_bih = test_model(model_list, param_unique_list, \n",
    "                           bundle_loaded, dict_test_loader_mit_bih, \n",
    "                           device, criterion, compute_rsnr)\n",
    "\n",
    "df_res_mit_bih = pd.DataFrame(list_res_mit_bih).rename(columns={'SNR': 'SNR_mit_bih'}, inplace=True)\n",
    "df_res_mit_bih"
   ]
  },
  {
   "cell_type": "code",
   "execution_count": null,
   "metadata": {},
   "outputs": [
    {
     "name": "stderr",
     "output_type": "stream",
     "text": [
      "100%|██████████| 32/32 [26:45<00:00, 50.18s/it]\n"
     ]
    },
    {
     "data": {
      "text/html": [
       "<div>\n",
       "<style scoped>\n",
       "    .dataframe tbody tr th:only-of-type {\n",
       "        vertical-align: middle;\n",
       "    }\n",
       "\n",
       "    .dataframe tbody tr th {\n",
       "        vertical-align: top;\n",
       "    }\n",
       "\n",
       "    .dataframe thead th {\n",
       "        text-align: right;\n",
       "    }\n",
       "</style>\n",
       "<table border=\"1\" class=\"dataframe\">\n",
       "  <thead>\n",
       "    <tr style=\"text-align: right;\">\n",
       "      <th></th>\n",
       "      <th>seed_torch</th>\n",
       "      <th>white_noise_isnr</th>\n",
       "      <th>SNR</th>\n",
       "    </tr>\n",
       "  </thead>\n",
       "  <tbody>\n",
       "    <tr>\n",
       "      <th>0</th>\n",
       "      <td>0</td>\n",
       "      <td>20.0</td>\n",
       "      <td>41.612180</td>\n",
       "    </tr>\n",
       "    <tr>\n",
       "      <th>1</th>\n",
       "      <td>0</td>\n",
       "      <td>25.0</td>\n",
       "      <td>44.250706</td>\n",
       "    </tr>\n",
       "    <tr>\n",
       "      <th>2</th>\n",
       "      <td>0</td>\n",
       "      <td>30.0</td>\n",
       "      <td>46.618938</td>\n",
       "    </tr>\n",
       "    <tr>\n",
       "      <th>3</th>\n",
       "      <td>0</td>\n",
       "      <td>35.0</td>\n",
       "      <td>49.128206</td>\n",
       "    </tr>\n",
       "    <tr>\n",
       "      <th>4</th>\n",
       "      <td>0</td>\n",
       "      <td>40.0</td>\n",
       "      <td>36.527073</td>\n",
       "    </tr>\n",
       "    <tr>\n",
       "      <th>5</th>\n",
       "      <td>0</td>\n",
       "      <td>45.0</td>\n",
       "      <td>52.043029</td>\n",
       "    </tr>\n",
       "    <tr>\n",
       "      <th>6</th>\n",
       "      <td>0</td>\n",
       "      <td>50.0</td>\n",
       "      <td>52.438666</td>\n",
       "    </tr>\n",
       "    <tr>\n",
       "      <th>7</th>\n",
       "      <td>0</td>\n",
       "      <td>55.0</td>\n",
       "      <td>48.887111</td>\n",
       "    </tr>\n",
       "    <tr>\n",
       "      <th>8</th>\n",
       "      <td>1</td>\n",
       "      <td>20.0</td>\n",
       "      <td>41.593888</td>\n",
       "    </tr>\n",
       "    <tr>\n",
       "      <th>9</th>\n",
       "      <td>1</td>\n",
       "      <td>25.0</td>\n",
       "      <td>44.250966</td>\n",
       "    </tr>\n",
       "    <tr>\n",
       "      <th>10</th>\n",
       "      <td>1</td>\n",
       "      <td>30.0</td>\n",
       "      <td>46.546075</td>\n",
       "    </tr>\n",
       "    <tr>\n",
       "      <th>11</th>\n",
       "      <td>1</td>\n",
       "      <td>35.0</td>\n",
       "      <td>48.975608</td>\n",
       "    </tr>\n",
       "    <tr>\n",
       "      <th>12</th>\n",
       "      <td>1</td>\n",
       "      <td>40.0</td>\n",
       "      <td>50.986560</td>\n",
       "    </tr>\n",
       "    <tr>\n",
       "      <th>13</th>\n",
       "      <td>1</td>\n",
       "      <td>45.0</td>\n",
       "      <td>51.990670</td>\n",
       "    </tr>\n",
       "    <tr>\n",
       "      <th>14</th>\n",
       "      <td>1</td>\n",
       "      <td>50.0</td>\n",
       "      <td>52.297017</td>\n",
       "    </tr>\n",
       "    <tr>\n",
       "      <th>15</th>\n",
       "      <td>1</td>\n",
       "      <td>55.0</td>\n",
       "      <td>52.770130</td>\n",
       "    </tr>\n",
       "    <tr>\n",
       "      <th>16</th>\n",
       "      <td>2</td>\n",
       "      <td>20.0</td>\n",
       "      <td>41.656236</td>\n",
       "    </tr>\n",
       "    <tr>\n",
       "      <th>17</th>\n",
       "      <td>2</td>\n",
       "      <td>25.0</td>\n",
       "      <td>44.252868</td>\n",
       "    </tr>\n",
       "    <tr>\n",
       "      <th>18</th>\n",
       "      <td>2</td>\n",
       "      <td>30.0</td>\n",
       "      <td>46.571565</td>\n",
       "    </tr>\n",
       "    <tr>\n",
       "      <th>19</th>\n",
       "      <td>2</td>\n",
       "      <td>35.0</td>\n",
       "      <td>49.027375</td>\n",
       "    </tr>\n",
       "    <tr>\n",
       "      <th>20</th>\n",
       "      <td>2</td>\n",
       "      <td>40.0</td>\n",
       "      <td>51.041894</td>\n",
       "    </tr>\n",
       "    <tr>\n",
       "      <th>21</th>\n",
       "      <td>2</td>\n",
       "      <td>45.0</td>\n",
       "      <td>51.780485</td>\n",
       "    </tr>\n",
       "    <tr>\n",
       "      <th>22</th>\n",
       "      <td>2</td>\n",
       "      <td>50.0</td>\n",
       "      <td>52.836982</td>\n",
       "    </tr>\n",
       "    <tr>\n",
       "      <th>23</th>\n",
       "      <td>2</td>\n",
       "      <td>55.0</td>\n",
       "      <td>52.811561</td>\n",
       "    </tr>\n",
       "    <tr>\n",
       "      <th>24</th>\n",
       "      <td>3</td>\n",
       "      <td>20.0</td>\n",
       "      <td>41.610981</td>\n",
       "    </tr>\n",
       "    <tr>\n",
       "      <th>25</th>\n",
       "      <td>3</td>\n",
       "      <td>25.0</td>\n",
       "      <td>44.208164</td>\n",
       "    </tr>\n",
       "    <tr>\n",
       "      <th>26</th>\n",
       "      <td>3</td>\n",
       "      <td>30.0</td>\n",
       "      <td>46.809376</td>\n",
       "    </tr>\n",
       "    <tr>\n",
       "      <th>27</th>\n",
       "      <td>3</td>\n",
       "      <td>35.0</td>\n",
       "      <td>48.764029</td>\n",
       "    </tr>\n",
       "    <tr>\n",
       "      <th>28</th>\n",
       "      <td>3</td>\n",
       "      <td>40.0</td>\n",
       "      <td>49.894370</td>\n",
       "    </tr>\n",
       "    <tr>\n",
       "      <th>29</th>\n",
       "      <td>3</td>\n",
       "      <td>45.0</td>\n",
       "      <td>51.533150</td>\n",
       "    </tr>\n",
       "    <tr>\n",
       "      <th>30</th>\n",
       "      <td>3</td>\n",
       "      <td>50.0</td>\n",
       "      <td>52.084731</td>\n",
       "    </tr>\n",
       "    <tr>\n",
       "      <th>31</th>\n",
       "      <td>3</td>\n",
       "      <td>55.0</td>\n",
       "      <td>52.108357</td>\n",
       "    </tr>\n",
       "  </tbody>\n",
       "</table>\n",
       "</div>"
      ],
      "text/plain": [
       "    seed_torch  white_noise_isnr        SNR\n",
       "0            0              20.0  41.612180\n",
       "1            0              25.0  44.250706\n",
       "2            0              30.0  46.618938\n",
       "3            0              35.0  49.128206\n",
       "4            0              40.0  36.527073\n",
       "5            0              45.0  52.043029\n",
       "6            0              50.0  52.438666\n",
       "7            0              55.0  48.887111\n",
       "8            1              20.0  41.593888\n",
       "9            1              25.0  44.250966\n",
       "10           1              30.0  46.546075\n",
       "11           1              35.0  48.975608\n",
       "12           1              40.0  50.986560\n",
       "13           1              45.0  51.990670\n",
       "14           1              50.0  52.297017\n",
       "15           1              55.0  52.770130\n",
       "16           2              20.0  41.656236\n",
       "17           2              25.0  44.252868\n",
       "18           2              30.0  46.571565\n",
       "19           2              35.0  49.027375\n",
       "20           2              40.0  51.041894\n",
       "21           2              45.0  51.780485\n",
       "22           2              50.0  52.836982\n",
       "23           2              55.0  52.811561\n",
       "24           3              20.0  41.610981\n",
       "25           3              25.0  44.208164\n",
       "26           3              30.0  46.809376\n",
       "27           3              35.0  48.764029\n",
       "28           3              40.0  49.894370\n",
       "29           3              45.0  51.533150\n",
       "30           3              50.0  52.084731\n",
       "31           3              55.0  52.108357"
      ]
     },
     "execution_count": 71,
     "metadata": {},
     "output_type": "execute_result"
    }
   ],
   "source": [
    "list_res_synth = test_model(model_list, param_unique_list, \n",
    "                           bundle_loaded, dict_test_loader_synth, \n",
    "                           device, criterion, compute_rsnr)\n",
    "\n",
    "df_res_synth = pd.DataFrame(list_res_synth).rename(columns={'SNR': 'SNR_synth'}, inplace=True)\n",
    "df_res_synth"
   ]
  },
  {
   "cell_type": "markdown",
   "metadata": {},
   "source": [
    "#### Group by"
   ]
  },
  {
   "cell_type": "code",
   "execution_count": 41,
   "metadata": {},
   "outputs": [],
   "source": [
    "df_res = df_res_iddb.merge(df_res_mit_bih, on=['seed_torch', 'white_noise_isnr'], how='inner', suffixes=('', '_dup'))\n",
    "if 'df_res_synth' in locals():\n",
    "    df_res = df_res.merge(df_res_synth, on=['seed_torch', 'white_noise_isnr'], how='inner', suffixes=('', '_dup'))"
   ]
  },
  {
   "cell_type": "code",
   "execution_count": 42,
   "metadata": {},
   "outputs": [],
   "source": [
    "k_groupby = [k for k in bundle_param_iter.keys() if 'seed' not in k]"
   ]
  },
  {
   "cell_type": "code",
   "execution_count": 44,
   "metadata": {},
   "outputs": [
    {
     "data": {
      "text/plain": [
       "['white_noise_isnr']"
      ]
     },
     "execution_count": 44,
     "metadata": {},
     "output_type": "execute_result"
    }
   ],
   "source": [
    "k_groupby"
   ]
  },
  {
   "cell_type": "code",
   "execution_count": 48,
   "metadata": {},
   "outputs": [],
   "source": [
    "\n",
    "_df = df_res.groupby(k_groupby)\n",
    "_df = pd.concat([_df['SNR_iddb'].median(), \n",
    "                 _df['SNR_iddb'].std(),\n",
    "                 _df['SNR_mit_bih'].median(), \n",
    "                 _df['SNR_mit_bih'].std(),],\n",
    "                 keys=['SNR_iddb_median', 'SNR_iddb_std', 'SNR_mit_bih_median', 'SNR_mit_bih_std'], axis=1)\n"
   ]
  },
  {
   "cell_type": "code",
   "execution_count": 49,
   "metadata": {},
   "outputs": [
    {
     "data": {
      "text/html": [
       "<div>\n",
       "<style scoped>\n",
       "    .dataframe tbody tr th:only-of-type {\n",
       "        vertical-align: middle;\n",
       "    }\n",
       "\n",
       "    .dataframe tbody tr th {\n",
       "        vertical-align: top;\n",
       "    }\n",
       "\n",
       "    .dataframe thead th {\n",
       "        text-align: right;\n",
       "    }\n",
       "</style>\n",
       "<table border=\"1\" class=\"dataframe\">\n",
       "  <thead>\n",
       "    <tr style=\"text-align: right;\">\n",
       "      <th></th>\n",
       "      <th>SNR_iddb_median</th>\n",
       "      <th>SNR_iddb_std</th>\n",
       "      <th>SNR_mit_bih_median</th>\n",
       "      <th>SNR_mit_bih_std</th>\n",
       "    </tr>\n",
       "    <tr>\n",
       "      <th>white_noise_isnr</th>\n",
       "      <th></th>\n",
       "      <th></th>\n",
       "      <th></th>\n",
       "      <th></th>\n",
       "    </tr>\n",
       "  </thead>\n",
       "  <tbody>\n",
       "    <tr>\n",
       "      <th>20.0</th>\n",
       "      <td>7.061075</td>\n",
       "      <td>0.231873</td>\n",
       "      <td>9.040707</td>\n",
       "      <td>0.772258</td>\n",
       "    </tr>\n",
       "    <tr>\n",
       "      <th>25.0</th>\n",
       "      <td>7.584154</td>\n",
       "      <td>0.490789</td>\n",
       "      <td>10.791855</td>\n",
       "      <td>2.018321</td>\n",
       "    </tr>\n",
       "    <tr>\n",
       "      <th>30.0</th>\n",
       "      <td>8.106222</td>\n",
       "      <td>0.095302</td>\n",
       "      <td>12.935772</td>\n",
       "      <td>0.553119</td>\n",
       "    </tr>\n",
       "    <tr>\n",
       "      <th>35.0</th>\n",
       "      <td>8.475211</td>\n",
       "      <td>0.134776</td>\n",
       "      <td>13.600704</td>\n",
       "      <td>0.353509</td>\n",
       "    </tr>\n",
       "    <tr>\n",
       "      <th>40.0</th>\n",
       "      <td>8.826498</td>\n",
       "      <td>0.803071</td>\n",
       "      <td>13.893026</td>\n",
       "      <td>1.299283</td>\n",
       "    </tr>\n",
       "    <tr>\n",
       "      <th>45.0</th>\n",
       "      <td>9.183785</td>\n",
       "      <td>0.131346</td>\n",
       "      <td>14.903145</td>\n",
       "      <td>0.257866</td>\n",
       "    </tr>\n",
       "    <tr>\n",
       "      <th>50.0</th>\n",
       "      <td>9.281763</td>\n",
       "      <td>0.155799</td>\n",
       "      <td>14.988923</td>\n",
       "      <td>0.630461</td>\n",
       "    </tr>\n",
       "    <tr>\n",
       "      <th>55.0</th>\n",
       "      <td>9.152404</td>\n",
       "      <td>0.150322</td>\n",
       "      <td>14.542725</td>\n",
       "      <td>0.475948</td>\n",
       "    </tr>\n",
       "  </tbody>\n",
       "</table>\n",
       "</div>"
      ],
      "text/plain": [
       "                  SNR_iddb_median  SNR_iddb_std  SNR_mit_bih_median  \\\n",
       "white_noise_isnr                                                      \n",
       "20.0                     7.061075      0.231873            9.040707   \n",
       "25.0                     7.584154      0.490789           10.791855   \n",
       "30.0                     8.106222      0.095302           12.935772   \n",
       "35.0                     8.475211      0.134776           13.600704   \n",
       "40.0                     8.826498      0.803071           13.893026   \n",
       "45.0                     9.183785      0.131346           14.903145   \n",
       "50.0                     9.281763      0.155799           14.988923   \n",
       "55.0                     9.152404      0.150322           14.542725   \n",
       "\n",
       "                  SNR_mit_bih_std  \n",
       "white_noise_isnr                   \n",
       "20.0                     0.772258  \n",
       "25.0                     2.018321  \n",
       "30.0                     0.553119  \n",
       "35.0                     0.353509  \n",
       "40.0                     1.299283  \n",
       "45.0                     0.257866  \n",
       "50.0                     0.630461  \n",
       "55.0                     0.475948  "
      ]
     },
     "execution_count": 49,
     "metadata": {},
     "output_type": "execute_result"
    }
   ],
   "source": [
    "_df"
   ]
  },
  {
   "cell_type": "code",
   "execution_count": 50,
   "metadata": {},
   "outputs": [
    {
     "name": "stdout",
     "output_type": "stream",
     "text": [
      "m: 32\n",
      "seed_torch: [0, 1, 2, 3]\n",
      "white_noise_isnr: [20.0, 25.0, 30.0, 35.0, 40.0, 45.0, 50.0, 55.0]\n"
     ]
    },
    {
     "data": {
      "text/html": [
       "<style type=\"text/css\">\n",
       "#T_0a044_row0_col0, #T_0a044_row0_col2, #T_0a044_row2_col1, #T_0a044_row5_col3 {\n",
       "  background-color: #ebf3eb;\n",
       "  color: #000000;\n",
       "}\n",
       "#T_0a044_row0_col1 {\n",
       "  background-color: #bdddbd;\n",
       "  color: #000000;\n",
       "}\n",
       "#T_0a044_row0_col3 {\n",
       "  background-color: #a6d2a6;\n",
       "  color: #000000;\n",
       "}\n",
       "#T_0a044_row1_col0 {\n",
       "  background-color: #b3d8b3;\n",
       "  color: #000000;\n",
       "}\n",
       "#T_0a044_row1_col1 {\n",
       "  background-color: #67b267;\n",
       "  color: #f1f1f1;\n",
       "}\n",
       "#T_0a044_row1_col2 {\n",
       "  background-color: #a6d1a6;\n",
       "  color: #000000;\n",
       "}\n",
       "#T_0a044_row1_col3, #T_0a044_row4_col1, #T_0a044_row6_col0, #T_0a044_row6_col2 {\n",
       "  background-color: #008000;\n",
       "  color: #f1f1f1;\n",
       "}\n",
       "#T_0a044_row2_col0 {\n",
       "  background-color: #7cbd7c;\n",
       "  color: #000000;\n",
       "}\n",
       "#T_0a044_row2_col2 {\n",
       "  background-color: #51a851;\n",
       "  color: #f1f1f1;\n",
       "}\n",
       "#T_0a044_row2_col3 {\n",
       "  background-color: #c4e0c4;\n",
       "  color: #000000;\n",
       "}\n",
       "#T_0a044_row3_col0 {\n",
       "  background-color: #55a955;\n",
       "  color: #f1f1f1;\n",
       "}\n",
       "#T_0a044_row3_col1 {\n",
       "  background-color: #deedde;\n",
       "  color: #000000;\n",
       "}\n",
       "#T_0a044_row3_col2 {\n",
       "  background-color: #369b36;\n",
       "  color: #f1f1f1;\n",
       "}\n",
       "#T_0a044_row3_col3, #T_0a044_row5_col1 {\n",
       "  background-color: #dfeddf;\n",
       "  color: #000000;\n",
       "}\n",
       "#T_0a044_row4_col0 {\n",
       "  background-color: #309730;\n",
       "  color: #f1f1f1;\n",
       "}\n",
       "#T_0a044_row4_col2 {\n",
       "  background-color: #2b952b;\n",
       "  color: #f1f1f1;\n",
       "}\n",
       "#T_0a044_row4_col3 {\n",
       "  background-color: #60af60;\n",
       "  color: #f1f1f1;\n",
       "}\n",
       "#T_0a044_row5_col0 {\n",
       "  background-color: #0a850a;\n",
       "  color: #f1f1f1;\n",
       "}\n",
       "#T_0a044_row5_col2 {\n",
       "  background-color: #038103;\n",
       "  color: #f1f1f1;\n",
       "}\n",
       "#T_0a044_row6_col1 {\n",
       "  background-color: #d7e9d7;\n",
       "  color: #000000;\n",
       "}\n",
       "#T_0a044_row6_col3 {\n",
       "  background-color: #b9dbb9;\n",
       "  color: #000000;\n",
       "}\n",
       "#T_0a044_row7_col0 {\n",
       "  background-color: #0d860d;\n",
       "  color: #f1f1f1;\n",
       "}\n",
       "#T_0a044_row7_col1 {\n",
       "  background-color: #d9ead9;\n",
       "  color: #000000;\n",
       "}\n",
       "#T_0a044_row7_col2 {\n",
       "  background-color: #118911;\n",
       "  color: #f1f1f1;\n",
       "}\n",
       "#T_0a044_row7_col3 {\n",
       "  background-color: #cee5ce;\n",
       "  color: #000000;\n",
       "}\n",
       "</style>\n",
       "<table id=\"T_0a044\">\n",
       "  <thead>\n",
       "    <tr>\n",
       "      <th class=\"blank level0\" >&nbsp;</th>\n",
       "      <th id=\"T_0a044_level0_col0\" class=\"col_heading level0 col0\" >SNR_iddb_median</th>\n",
       "      <th id=\"T_0a044_level0_col1\" class=\"col_heading level0 col1\" >SNR_iddb_std</th>\n",
       "      <th id=\"T_0a044_level0_col2\" class=\"col_heading level0 col2\" >SNR_mit_bih_median</th>\n",
       "      <th id=\"T_0a044_level0_col3\" class=\"col_heading level0 col3\" >SNR_mit_bih_std</th>\n",
       "    </tr>\n",
       "    <tr>\n",
       "      <th class=\"index_name level0\" >white_noise_isnr</th>\n",
       "      <th class=\"blank col0\" >&nbsp;</th>\n",
       "      <th class=\"blank col1\" >&nbsp;</th>\n",
       "      <th class=\"blank col2\" >&nbsp;</th>\n",
       "      <th class=\"blank col3\" >&nbsp;</th>\n",
       "    </tr>\n",
       "  </thead>\n",
       "  <tbody>\n",
       "    <tr>\n",
       "      <th id=\"T_0a044_level0_row0\" class=\"row_heading level0 row0\" >20.000000</th>\n",
       "      <td id=\"T_0a044_row0_col0\" class=\"data row0 col0\" >7.061075</td>\n",
       "      <td id=\"T_0a044_row0_col1\" class=\"data row0 col1\" >0.231873</td>\n",
       "      <td id=\"T_0a044_row0_col2\" class=\"data row0 col2\" >9.040707</td>\n",
       "      <td id=\"T_0a044_row0_col3\" class=\"data row0 col3\" >0.772258</td>\n",
       "    </tr>\n",
       "    <tr>\n",
       "      <th id=\"T_0a044_level0_row1\" class=\"row_heading level0 row1\" >25.000000</th>\n",
       "      <td id=\"T_0a044_row1_col0\" class=\"data row1 col0\" >7.584154</td>\n",
       "      <td id=\"T_0a044_row1_col1\" class=\"data row1 col1\" >0.490789</td>\n",
       "      <td id=\"T_0a044_row1_col2\" class=\"data row1 col2\" >10.791855</td>\n",
       "      <td id=\"T_0a044_row1_col3\" class=\"data row1 col3\" >2.018321</td>\n",
       "    </tr>\n",
       "    <tr>\n",
       "      <th id=\"T_0a044_level0_row2\" class=\"row_heading level0 row2\" >30.000000</th>\n",
       "      <td id=\"T_0a044_row2_col0\" class=\"data row2 col0\" >8.106222</td>\n",
       "      <td id=\"T_0a044_row2_col1\" class=\"data row2 col1\" >0.095302</td>\n",
       "      <td id=\"T_0a044_row2_col2\" class=\"data row2 col2\" >12.935772</td>\n",
       "      <td id=\"T_0a044_row2_col3\" class=\"data row2 col3\" >0.553119</td>\n",
       "    </tr>\n",
       "    <tr>\n",
       "      <th id=\"T_0a044_level0_row3\" class=\"row_heading level0 row3\" >35.000000</th>\n",
       "      <td id=\"T_0a044_row3_col0\" class=\"data row3 col0\" >8.475211</td>\n",
       "      <td id=\"T_0a044_row3_col1\" class=\"data row3 col1\" >0.134776</td>\n",
       "      <td id=\"T_0a044_row3_col2\" class=\"data row3 col2\" >13.600704</td>\n",
       "      <td id=\"T_0a044_row3_col3\" class=\"data row3 col3\" >0.353509</td>\n",
       "    </tr>\n",
       "    <tr>\n",
       "      <th id=\"T_0a044_level0_row4\" class=\"row_heading level0 row4\" >40.000000</th>\n",
       "      <td id=\"T_0a044_row4_col0\" class=\"data row4 col0\" >8.826498</td>\n",
       "      <td id=\"T_0a044_row4_col1\" class=\"data row4 col1\" >0.803071</td>\n",
       "      <td id=\"T_0a044_row4_col2\" class=\"data row4 col2\" >13.893026</td>\n",
       "      <td id=\"T_0a044_row4_col3\" class=\"data row4 col3\" >1.299283</td>\n",
       "    </tr>\n",
       "    <tr>\n",
       "      <th id=\"T_0a044_level0_row5\" class=\"row_heading level0 row5\" >45.000000</th>\n",
       "      <td id=\"T_0a044_row5_col0\" class=\"data row5 col0\" >9.183785</td>\n",
       "      <td id=\"T_0a044_row5_col1\" class=\"data row5 col1\" >0.131346</td>\n",
       "      <td id=\"T_0a044_row5_col2\" class=\"data row5 col2\" >14.903145</td>\n",
       "      <td id=\"T_0a044_row5_col3\" class=\"data row5 col3\" >0.257866</td>\n",
       "    </tr>\n",
       "    <tr>\n",
       "      <th id=\"T_0a044_level0_row6\" class=\"row_heading level0 row6\" >50.000000</th>\n",
       "      <td id=\"T_0a044_row6_col0\" class=\"data row6 col0\" >9.281763</td>\n",
       "      <td id=\"T_0a044_row6_col1\" class=\"data row6 col1\" >0.155799</td>\n",
       "      <td id=\"T_0a044_row6_col2\" class=\"data row6 col2\" >14.988923</td>\n",
       "      <td id=\"T_0a044_row6_col3\" class=\"data row6 col3\" >0.630461</td>\n",
       "    </tr>\n",
       "    <tr>\n",
       "      <th id=\"T_0a044_level0_row7\" class=\"row_heading level0 row7\" >55.000000</th>\n",
       "      <td id=\"T_0a044_row7_col0\" class=\"data row7 col0\" >9.152404</td>\n",
       "      <td id=\"T_0a044_row7_col1\" class=\"data row7 col1\" >0.150322</td>\n",
       "      <td id=\"T_0a044_row7_col2\" class=\"data row7 col2\" >14.542725</td>\n",
       "      <td id=\"T_0a044_row7_col3\" class=\"data row7 col3\" >0.475948</td>\n",
       "    </tr>\n",
       "  </tbody>\n",
       "</table>\n"
      ],
      "text/plain": [
       "<pandas.io.formats.style.Styler at 0x7f45895b36b0>"
      ]
     },
     "execution_count": 50,
     "metadata": {},
     "output_type": "execute_result"
    }
   ],
   "source": [
    "print(f'm: {m}')\n",
    "[print(f'{k}: {v}') for k, v in bundle_param_iter.items()]\n",
    "cm = sns.light_palette(\"green\", as_cmap=True)\n",
    "_df.style.background_gradient(cmap=cm)"
   ]
  },
  {
   "cell_type": "markdown",
   "metadata": {},
   "source": [
    "### Images"
   ]
  },
  {
   "cell_type": "code",
   "execution_count": 107,
   "metadata": {},
   "outputs": [],
   "source": [
    "_white_noise_isnr = [20.0, 35.0, 50.0]\n",
    "_seed_torch = [1]\n"
   ]
  },
  {
   "cell_type": "code",
   "execution_count": null,
   "metadata": {},
   "outputs": [
    {
     "data": {
      "text/plain": [
       "(3, 1, 128)"
      ]
     },
     "execution_count": 109,
     "metadata": {},
     "output_type": "execute_result"
    }
   ],
   "source": []
  },
  {
   "cell_type": "code",
   "execution_count": null,
   "metadata": {},
   "outputs": [
    {
     "data": {
      "image/png": "[encoded data removed]",
      "text/plain": [
       "<Figure size 1500x1000 with 9 Axes>"
      ]
     },
     "metadata": {},
     "output_type": "display_data"
    }
   ],
   "source": [
    "_data = ecg_iddb\n",
    "_n_plot = 3\n",
    "\n",
    "max_iter = len(_white_noise_isnr) * len(_seed_torch)\n",
    "\n",
    "inds = np.random.randint(0, len(_data), _n_plot) # 4008, 10689\n",
    "\n",
    "fig, axs = plt.subplots(max_iter, _n_plot, figsize=(5*_n_plot, 10), sharey=True, sharex=True)\n",
    "fig.suptitle('iddb', fontsize=20, fontweight=\"bold\")\n",
    "with torch.no_grad():\n",
    "\n",
    "    for ax, (_w, _s) in zip(axs, itertools.product(_white_noise_isnr, _seed_torch)):\n",
    "\n",
    "\n",
    "        _df = df_bundle_loaded[(df_param_unique['white_noise_isnr']==_w) &\n",
    "                            (df_param_unique['seed_torch']==_s)]\n",
    "        \n",
    "        _model = _df['model'].iloc[0]\n",
    "\n",
    "        for _ax, _ind in zip(ax, inds):\n",
    "\n",
    "            inp = torch.tensor(_data[_ind][np.newaxis], dtype=torch.float)\n",
    "\n",
    "            out = _model(inp.to(device)).cpu()\n",
    "\n",
    "            _snr = compute_rsnr(inp, out)[0][0]\n",
    "\n",
    "            _ax.plot(inp[0, 0], label='ground truth')\n",
    "            _ax.plot(out[0, 0], label='reconstructed')\n",
    "            _ax.title.set_text(f'ind={_ind} -- RSNR={_snr: .2f}')\n",
    "            _ax.set(ylim=(np.quantile(ecg_iddb, 0.001), np.quantile(ecg_iddb_filt, 0.999)))\n",
    "            _ax.legend()"
   ]
  },
  {
   "cell_type": "code",
   "execution_count": null,
   "metadata": {},
   "outputs": [
    {
     "data": {
      "image/png": "[encoded data removed]",
      "text/plain": [
       "<Figure size 1500x1000 with 9 Axes>"
      ]
     },
     "metadata": {},
     "output_type": "display_data"
    }
   ],
   "source": [
    "_data = ecg_mit_bih\n",
    "_n_plot = 3\n",
    "\n",
    "max_iter = len(_white_noise_isnr) * len(_seed_torch)\n",
    "\n",
    "inds = np.random.randint(0, len(_data), _n_plot) # 4008, 10689\n",
    "\n",
    "fig, axs = plt.subplots(max_iter, _n_plot, figsize=(5*_n_plot, 10), sharey=True, sharex=True)\n",
    "fig.suptitle('mit_bih', fontsize=20, fontweight=\"bold\")\n",
    "with torch.no_grad():\n",
    "\n",
    "    for ax, (_w, _s) in zip(axs, itertools.product(_white_noise_isnr, _seed_torch)):\n",
    "\n",
    "\n",
    "        _df = df_bundle_loaded[(df_param_unique['white_noise_isnr']==_w) &\n",
    "                            (df_param_unique['seed_torch']==_s)]\n",
    "        \n",
    "        _model = _df['model'].iloc[0]\n",
    "\n",
    "        for _ax, _ind in zip(ax, inds):\n",
    "\n",
    "            inp = torch.tensor(_data[_ind][np.newaxis], dtype=torch.float)\n",
    "\n",
    "            out = _model(inp.to(device)).cpu()\n",
    "\n",
    "            _snr = compute_rsnr(inp, out)[0][0]\n",
    "\n",
    "            _ax.plot(inp[0, 0], label='ground truth')\n",
    "            _ax.plot(out[0, 0], label='reconstructed')\n",
    "            _ax.title.set_text(f'ind={_ind} -- RSNR={_snr: .2f}')\n",
    "            _ax.set(ylim=(np.quantile(ecg_iddb, 0.001), np.quantile(ecg_iddb_filt, 0.999)))\n",
    "            _ax.legend()"
   ]
  },
  {
   "cell_type": "code",
   "execution_count": null,
   "metadata": {},
   "outputs": [],
   "source": [
    "model_graph = draw_graph(model, input_size=(1,3,224,224), expand_nested=True, depth=1)\n",
    "model_graph.visual_graph"
   ]
  },
  {
   "cell_type": "code",
   "execution_count": null,
   "metadata": {},
   "outputs": [],
   "source": []
  },
  {
   "cell_type": "markdown",
   "metadata": {},
   "source": [
    "# Multi Unet Training "
   ]
  },
  {
   "cell_type": "markdown",
   "metadata": {},
   "source": [
    "### Log parameters"
   ]
  },
  {
   "cell_type": "code",
   "execution_count": 17,
   "metadata": {},
   "outputs": [],
   "source": [
    "nohup_type = 'serial' # None or 'serial' or 'parallel'"
   ]
  },
  {
   "cell_type": "markdown",
   "metadata": {},
   "source": [
    "### Experiment path"
   ]
  },
  {
   "cell_type": "code",
   "execution_count": 18,
   "metadata": {},
   "outputs": [],
   "source": [
    "# path_py = os.path.join('experiments', 'Unet_xbar.py')\n",
    "path_py = os.path.join('Unet_xbar.py')"
   ]
  },
  {
   "cell_type": "markdown",
   "metadata": {},
   "source": [
    "### Parameters"
   ]
  },
  {
   "cell_type": "code",
   "execution_count": 26,
   "metadata": {},
   "outputs": [],
   "source": [
    "#### DATASET PARAMETERS ####\n",
    "\n",
    "size_ecg = 2_000_000\n",
    "# size_ecg = 100_000\n",
    "n = 128\n",
    "seed_ecg = 11\n",
    "isnr = 1000\n",
    "\n",
    "#### A PARAMETERS ####\n",
    "\n",
    "modeA = 'rakeness'\n",
    "m = 16                  ################## !!!!!!!! ##################\n",
    "str_orth = \"True\"\n",
    "seed_A = 0\n",
    "index_A = 0\n",
    "str_corr = '96af96a7ddfcb2f6059092c250e18f2a'\n",
    "N_try_A = 100\n",
    "\n",
    "_ecg_N_forA = 10_000\n",
    "_n_forA = 128\n",
    "_fs_forA = 256\n",
    "_hr0_forA = 60\n",
    "_hr1_forA = 100\n",
    "_isnr_forA = 35\n",
    "_seed_forA = 0\n",
    "\n",
    "#### UNET PARAMETERS ####\n",
    "\n",
    "in_channels = 1\n",
    "seed_torch = [0, 1, 2, 3]\n",
    "expanded_channels = 32\n",
    "step_number = 3\n",
    "kernel_size = 3\n",
    "str_residual = \"True\"\n",
    "str_use_batch_norm = \"False\"\n",
    "str_simple_pool = \"False\"\n",
    "batch_size = 1024\n",
    "lr = 0.001\n",
    "white_noise_var = 0\n",
    "white_noise_isnr = [20, 25, 30, 35, 40, 45, 50, 55]\n",
    "str_x_as_input = True\n",
    "str_A_init = True\n",
    "str_A_freeze = True\n",
    "\n",
    "\n",
    "#### HARDWARE PARAMETERS ####\n",
    "\n",
    "str_gpus = \"3\"\n",
    "threads = 1\n",
    "workers = 1\n",
    "\n",
    "#### OTHERS ####\n",
    "str_retrain = \"False\"\n",
    "str_resume_train = \"False\"\n",
    "\n",
    "_b = cell_vars(pop='_b')"
   ]
  },
  {
   "cell_type": "code",
   "execution_count": 27,
   "metadata": {},
   "outputs": [
    {
     "name": "stdout",
     "output_type": "stream",
     "text": [
      "all parameters:\n"
     ]
    },
    {
     "data": {
      "text/plain": [
       "{'size_ecg': 2000000,\n",
       " 'n': 128,\n",
       " 'seed_ecg': 11,\n",
       " 'isnr': 1000,\n",
       " 'modeA': 'rakeness',\n",
       " 'm': 16,\n",
       " 'str_orth': 'True',\n",
       " 'seed_A': 0,\n",
       " 'index_A': 0,\n",
       " 'str_corr': '96af96a7ddfcb2f6059092c250e18f2a',\n",
       " 'N_try_A': 100,\n",
       " '_ecg_N_forA': 10000,\n",
       " '_n_forA': 128,\n",
       " '_fs_forA': 256,\n",
       " '_hr0_forA': 60,\n",
       " '_hr1_forA': 100,\n",
       " '_isnr_forA': 35,\n",
       " '_seed_forA': 0,\n",
       " 'in_channels': 1,\n",
       " 'seed_torch': [0, 1, 2, 3],\n",
       " 'expanded_channels': 32,\n",
       " 'step_number': 3,\n",
       " 'kernel_size': 3,\n",
       " 'str_residual': 'True',\n",
       " 'str_use_batch_norm': 'False',\n",
       " 'str_simple_pool': 'False',\n",
       " 'batch_size': 1024,\n",
       " 'lr': 0.001,\n",
       " 'white_noise_var': 0,\n",
       " 'white_noise_isnr': [20, 25, 30, 35, 40, 45, 50, 55],\n",
       " 'str_x_as_input': True,\n",
       " 'str_A_init': True,\n",
       " 'str_A_freeze': True,\n",
       " 'str_gpus': '3',\n",
       " 'threads': 1,\n",
       " 'workers': 1,\n",
       " 'str_retrain': 'False',\n",
       " 'str_resume_train': 'False'}"
      ]
     },
     "execution_count": 27,
     "metadata": {},
     "output_type": "execute_result"
    }
   ],
   "source": [
    "# dict_bundle_cmd = cell_vars(offset=0)\n",
    "dict_bundle_cmd = _b.copy()\n",
    "print('all parameters:')\n",
    "dict_bundle_cmd"
   ]
  },
  {
   "cell_type": "markdown",
   "metadata": {},
   "source": [
    "### Unravel"
   ]
  },
  {
   "cell_type": "code",
   "execution_count": 28,
   "metadata": {},
   "outputs": [
    {
     "name": "stdout",
     "output_type": "stream",
     "text": [
      "loop over:\n",
      "-- seed_torch : [0, 1, 2, 3]\n",
      "-- white_noise_isnr : [20, 25, 30, 35, 40, 45, 50, 55]\n",
      "\n",
      "tot cmd: 32\n"
     ]
    }
   ],
   "source": [
    "for k, v in dict_bundle_cmd.items():\n",
    "    if type(v) is list and len(v)==1:\n",
    "        dict_bundle_cmd[k] = v[0];\n",
    "dict_bundle_cmd_iter = {_k: _v for _k, _v in dict_bundle_cmd.items() if type(_v) is list}\n",
    "print('loop over:')\n",
    "[print('--', k, ':', v) for k, v in dict_bundle_cmd_iter.items()];\n",
    "\n",
    "print()\n",
    "\n",
    "dict_bundle_cmd_unravel = unravel_bundle_param(dict_bundle_cmd)[0]\n",
    "print('tot cmd:', len(dict_bundle_cmd_unravel))"
   ]
  },
  {
   "cell_type": "markdown",
   "metadata": {},
   "source": [
    "### Crate distinct bash commands"
   ]
  },
  {
   "cell_type": "code",
   "execution_count": 29,
   "metadata": {},
   "outputs": [
    {
     "name": "stdout",
     "output_type": "stream",
     "text": [
      "example: first cmd line:\n",
      "python Unet_xbar.py --size_ecg 2000000 -n 128 --seed_ecg 11 --isnr 1000 --modeA rakeness -m 16 --str_orth True --seed_A 0 --index_A 0 --str_corr 96af96a7ddfcb2f6059092c250e18f2a --N_try_A 100 --_ecg_N_forA 10000 --_n_forA 128 --_fs_forA 256 --_hr0_forA 60 --_hr1_forA 100 --_isnr_forA 35 --_seed_forA 0 --in_channels 1 --expanded_channels 32 --step_number 3 --kernel_size 3 --str_residual True --str_use_batch_norm False --str_simple_pool False --batch_size 1024 --lr 0.001 --white_noise_var 0 --str_x_as_input True --str_A_init True --str_A_freeze True --str_gpus 3 --threads 1 --workers 1 --str_retrain False --str_resume_train False --seed_torch 0 --white_noise_isnr 20\n"
     ]
    }
   ],
   "source": [
    "cmd_bash = []\n",
    "for bundle in dict_bundle_cmd_unravel:\n",
    "    cmd_bash += [from_bundle_to_cmd_bash(path_py, bundle, nohup=False)]\n",
    "\n",
    "print(\"example: first cmd line:\")\n",
    "print(cmd_bash[0])\n"
   ]
  },
  {
   "cell_type": "markdown",
   "metadata": {},
   "source": [
    "### File for bash results"
   ]
  },
  {
   "cell_type": "code",
   "execution_count": 30,
   "metadata": {},
   "outputs": [
    {
     "name": "stdout",
     "output_type": "stream",
     "text": [
      "res_single_file: nohup-2025_1_4_17_22-local-gpu=3-seed_torch=[0,1,2,3]-white_noise_isnr=[20,25,30,35,40,45,50,55].log\n",
      "res_global_file: nohup-2025_1_4_17_22-global-gpu=3-seed_torch=[0,1,2,3]-white_noise_isnr=[20,25,30,35,40,45,50,55].log\n"
     ]
    }
   ],
   "source": [
    "now = time.localtime()\n",
    "now = '_'.join(str(i) for i in [now.tm_year, now.tm_mon, now.tm_mday, now.tm_hour, now.tm_min])\n",
    "\n",
    "str_id_cmd = '-'.join([f\"{str(k).replace(' ', '')}={str(v).replace(' ', '')}\" \n",
    "                       for k, v in dict_bundle_cmd_iter.items()])\n",
    "\n",
    "res_single_file = f\"nohup-{now}-local-gpu={str(str_gpus)}-{str_id_cmd}.log\"\n",
    "res_global_file = f\"nohup-{now}-global-gpu={str(str_gpus)}-{str_id_cmd}.log\" \n",
    "print(\"res_single_file:\", res_single_file)\n",
    "print(\"res_global_file:\", res_global_file)"
   ]
  },
  {
   "cell_type": "markdown",
   "metadata": {},
   "source": [
    "### Merge in one bash command"
   ]
  },
  {
   "cell_type": "code",
   "execution_count": 31,
   "metadata": {},
   "outputs": [],
   "source": [
    "\n",
    "if nohup_type is not None:\n",
    "    if nohup_type=='parallel':\n",
    "        sep_str = f\"; nohup \"\n",
    "    elif nohup_type=='serial':\n",
    "        sep_str = f\" >{res_single_file} && \"\n",
    "    else:\n",
    "        assert False, \"nohup_type not in [None, 'parallel' or 'serial'] can be used\"\n",
    "else:\n",
    "    sep_str = f\"; \"\n",
    "\n",
    "cmd_bash_final = sep_str.join(cmd_bash)\n",
    "\n",
    "if nohup_type is not None:\n",
    "    if nohup_type=='serial':\n",
    "        cmd_bash_final = f\"nohup sh -c '{cmd_bash_final}'\"\n",
    "\n",
    "if nohup_type:\n",
    "    cmd_bash_final = cmd_bash_final + f\" &> {res_global_file} &\""
   ]
  },
  {
   "cell_type": "markdown",
   "metadata": {},
   "source": [
    "### Bash commands"
   ]
  },
  {
   "cell_type": "code",
   "execution_count": 32,
   "metadata": {},
   "outputs": [
    {
     "name": "stdout",
     "output_type": "stream",
     "text": [
      "nohup sh -c 'python Unet_xbar.py --size_ecg 2000000 -n 128 --seed_ecg 11 --isnr 1000 --modeA rakeness -m 16 --str_orth True --seed_A 0 --index_A 0 --str_corr 96af96a7ddfcb2f6059092c250e18f2a --N_try_A 100 --_ecg_N_forA 10000 --_n_forA 128 --_fs_forA 256 --_hr0_forA 60 --_hr1_forA 100 --_isnr_forA 35 --_seed_forA 0 --in_channels 1 --expanded_channels 32 --step_number 3 --kernel_size 3 --str_residual True --str_use_batch_norm False --str_simple_pool False --batch_size 1024 --lr 0.001 --white_noise_var 0 --str_x_as_input True --str_A_init True --str_A_freeze True --str_gpus 3 --threads 1 --workers 1 --str_retrain False --str_resume_train False --seed_torch 0 --white_noise_isnr 20 >nohup-2025_1_4_17_22-local-gpu=3-seed_torch=[0,1,2,3]-white_noise_isnr=[20,25,30,35,40,45,50,55].log && python Unet_xbar.py --size_ecg 2000000 -n 128 --seed_ecg 11 --isnr 1000 --modeA rakeness -m 16 --str_orth True --seed_A 0 --index_A 0 --str_corr 96af96a7ddfcb2f6059092c250e18f2a --N_try_A 100 --_ecg_N_forA 10000 --_n_forA 128 --_fs_forA 256 --_hr0_forA 60 --_hr1_forA 100 --_isnr_forA 35 --_seed_forA 0 --in_channels 1 --expanded_channels 32 --step_number 3 --kernel_size 3 --str_residual True --str_use_batch_norm False --str_simple_pool False --batch_size 1024 --lr 0.001 --white_noise_var 0 --str_x_as_input True --str_A_init True --str_A_freeze True --str_gpus 3 --threads 1 --workers 1 --str_retrain False --str_resume_train False --seed_torch 0 --white_noise_isnr 25 >nohup-2025_1_4_17_22-local-gpu=3-seed_torch=[0,1,2,3]-white_noise_isnr=[20,25,30,35,40,45,50,55].log && python Unet_xbar.py --size_ecg 2000000 -n 128 --seed_ecg 11 --isnr 1000 --modeA rakeness -m 16 --str_orth True --seed_A 0 --index_A 0 --str_corr 96af96a7ddfcb2f6059092c250e18f2a --N_try_A 100 --_ecg_N_forA 10000 --_n_forA 128 --_fs_forA 256 --_hr0_forA 60 --_hr1_forA 100 --_isnr_forA 35 --_seed_forA 0 --in_channels 1 --expanded_channels 32 --step_number 3 --kernel_size 3 --str_residual True --str_use_batch_norm False --str_simple_pool False --batch_size 1024 --lr 0.001 --white_noise_var 0 --str_x_as_input True --str_A_init True --str_A_freeze True --str_gpus 3 --threads 1 --workers 1 --str_retrain False --str_resume_train False --seed_torch 0 --white_noise_isnr 30 >nohup-2025_1_4_17_22-local-gpu=3-seed_torch=[0,1,2,3]-white_noise_isnr=[20,25,30,35,40,45,50,55].log && python Unet_xbar.py --size_ecg 2000000 -n 128 --seed_ecg 11 --isnr 1000 --modeA rakeness -m 16 --str_orth True --seed_A 0 --index_A 0 --str_corr 96af96a7ddfcb2f6059092c250e18f2a --N_try_A 100 --_ecg_N_forA 10000 --_n_forA 128 --_fs_forA 256 --_hr0_forA 60 --_hr1_forA 100 --_isnr_forA 35 --_seed_forA 0 --in_channels 1 --expanded_channels 32 --step_number 3 --kernel_size 3 --str_residual True --str_use_batch_norm False --str_simple_pool False --batch_size 1024 --lr 0.001 --white_noise_var 0 --str_x_as_input True --str_A_init True --str_A_freeze True --str_gpus 3 --threads 1 --workers 1 --str_retrain False --str_resume_train False --seed_torch 0 --white_noise_isnr 35 >nohup-2025_1_4_17_22-local-gpu=3-seed_torch=[0,1,2,3]-white_noise_isnr=[20,25,30,35,40,45,50,55].log && python Unet_xbar.py --size_ecg 2000000 -n 128 --seed_ecg 11 --isnr 1000 --modeA rakeness -m 16 --str_orth True --seed_A 0 --index_A 0 --str_corr 96af96a7ddfcb2f6059092c250e18f2a --N_try_A 100 --_ecg_N_forA 10000 --_n_forA 128 --_fs_forA 256 --_hr0_forA 60 --_hr1_forA 100 --_isnr_forA 35 --_seed_forA 0 --in_channels 1 --expanded_channels 32 --step_number 3 --kernel_size 3 --str_residual True --str_use_batch_norm False --str_simple_pool False --batch_size 1024 --lr 0.001 --white_noise_var 0 --str_x_as_input True --str_A_init True --str_A_freeze True --str_gpus 3 --threads 1 --workers 1 --str_retrain False --str_resume_train False --seed_torch 0 --white_noise_isnr 40 >nohup-2025_1_4_17_22-local-gpu=3-seed_torch=[0,1,2,3]-white_noise_isnr=[20,25,30,35,40,45,50,55].log && python Unet_xbar.py --size_ecg 2000000 -n 128 --seed_ecg 11 --isnr 1000 --modeA rakeness -m 16 --str_orth True --seed_A 0 --index_A 0 --str_corr 96af96a7ddfcb2f6059092c250e18f2a --N_try_A 100 --_ecg_N_forA 10000 --_n_forA 128 --_fs_forA 256 --_hr0_forA 60 --_hr1_forA 100 --_isnr_forA 35 --_seed_forA 0 --in_channels 1 --expanded_channels 32 --step_number 3 --kernel_size 3 --str_residual True --str_use_batch_norm False --str_simple_pool False --batch_size 1024 --lr 0.001 --white_noise_var 0 --str_x_as_input True --str_A_init True --str_A_freeze True --str_gpus 3 --threads 1 --workers 1 --str_retrain False --str_resume_train False --seed_torch 0 --white_noise_isnr 45 >nohup-2025_1_4_17_22-local-gpu=3-seed_torch=[0,1,2,3]-white_noise_isnr=[20,25,30,35,40,45,50,55].log && python Unet_xbar.py --size_ecg 2000000 -n 128 --seed_ecg 11 --isnr 1000 --modeA rakeness -m 16 --str_orth True --seed_A 0 --index_A 0 --str_corr 96af96a7ddfcb2f6059092c250e18f2a --N_try_A 100 --_ecg_N_forA 10000 --_n_forA 128 --_fs_forA 256 --_hr0_forA 60 --_hr1_forA 100 --_isnr_forA 35 --_seed_forA 0 --in_channels 1 --expanded_channels 32 --step_number 3 --kernel_size 3 --str_residual True --str_use_batch_norm False --str_simple_pool False --batch_size 1024 --lr 0.001 --white_noise_var 0 --str_x_as_input True --str_A_init True --str_A_freeze True --str_gpus 3 --threads 1 --workers 1 --str_retrain False --str_resume_train False --seed_torch 0 --white_noise_isnr 50 >nohup-2025_1_4_17_22-local-gpu=3-seed_torch=[0,1,2,3]-white_noise_isnr=[20,25,30,35,40,45,50,55].log && python Unet_xbar.py --size_ecg 2000000 -n 128 --seed_ecg 11 --isnr 1000 --modeA rakeness -m 16 --str_orth True --seed_A 0 --index_A 0 --str_corr 96af96a7ddfcb2f6059092c250e18f2a --N_try_A 100 --_ecg_N_forA 10000 --_n_forA 128 --_fs_forA 256 --_hr0_forA 60 --_hr1_forA 100 --_isnr_forA 35 --_seed_forA 0 --in_channels 1 --expanded_channels 32 --step_number 3 --kernel_size 3 --str_residual True --str_use_batch_norm False --str_simple_pool False --batch_size 1024 --lr 0.001 --white_noise_var 0 --str_x_as_input True --str_A_init True --str_A_freeze True --str_gpus 3 --threads 1 --workers 1 --str_retrain False --str_resume_train False --seed_torch 0 --white_noise_isnr 55 >nohup-2025_1_4_17_22-local-gpu=3-seed_torch=[0,1,2,3]-white_noise_isnr=[20,25,30,35,40,45,50,55].log && python Unet_xbar.py --size_ecg 2000000 -n 128 --seed_ecg 11 --isnr 1000 --modeA rakeness -m 16 --str_orth True --seed_A 0 --index_A 0 --str_corr 96af96a7ddfcb2f6059092c250e18f2a --N_try_A 100 --_ecg_N_forA 10000 --_n_forA 128 --_fs_forA 256 --_hr0_forA 60 --_hr1_forA 100 --_isnr_forA 35 --_seed_forA 0 --in_channels 1 --expanded_channels 32 --step_number 3 --kernel_size 3 --str_residual True --str_use_batch_norm False --str_simple_pool False --batch_size 1024 --lr 0.001 --white_noise_var 0 --str_x_as_input True --str_A_init True --str_A_freeze True --str_gpus 3 --threads 1 --workers 1 --str_retrain False --str_resume_train False --seed_torch 1 --white_noise_isnr 20 >nohup-2025_1_4_17_22-local-gpu=3-seed_torch=[0,1,2,3]-white_noise_isnr=[20,25,30,35,40,45,50,55].log && python Unet_xbar.py --size_ecg 2000000 -n 128 --seed_ecg 11 --isnr 1000 --modeA rakeness -m 16 --str_orth True --seed_A 0 --index_A 0 --str_corr 96af96a7ddfcb2f6059092c250e18f2a --N_try_A 100 --_ecg_N_forA 10000 --_n_forA 128 --_fs_forA 256 --_hr0_forA 60 --_hr1_forA 100 --_isnr_forA 35 --_seed_forA 0 --in_channels 1 --expanded_channels 32 --step_number 3 --kernel_size 3 --str_residual True --str_use_batch_norm False --str_simple_pool False --batch_size 1024 --lr 0.001 --white_noise_var 0 --str_x_as_input True --str_A_init True --str_A_freeze True --str_gpus 3 --threads 1 --workers 1 --str_retrain False --str_resume_train False --seed_torch 1 --white_noise_isnr 25 >nohup-2025_1_4_17_22-local-gpu=3-seed_torch=[0,1,2,3]-white_noise_isnr=[20,25,30,35,40,45,50,55].log && python Unet_xbar.py --size_ecg 2000000 -n 128 --seed_ecg 11 --isnr 1000 --modeA rakeness -m 16 --str_orth True --seed_A 0 --index_A 0 --str_corr 96af96a7ddfcb2f6059092c250e18f2a --N_try_A 100 --_ecg_N_forA 10000 --_n_forA 128 --_fs_forA 256 --_hr0_forA 60 --_hr1_forA 100 --_isnr_forA 35 --_seed_forA 0 --in_channels 1 --expanded_channels 32 --step_number 3 --kernel_size 3 --str_residual True --str_use_batch_norm False --str_simple_pool False --batch_size 1024 --lr 0.001 --white_noise_var 0 --str_x_as_input True --str_A_init True --str_A_freeze True --str_gpus 3 --threads 1 --workers 1 --str_retrain False --str_resume_train False --seed_torch 1 --white_noise_isnr 30 >nohup-2025_1_4_17_22-local-gpu=3-seed_torch=[0,1,2,3]-white_noise_isnr=[20,25,30,35,40,45,50,55].log && python Unet_xbar.py --size_ecg 2000000 -n 128 --seed_ecg 11 --isnr 1000 --modeA rakeness -m 16 --str_orth True --seed_A 0 --index_A 0 --str_corr 96af96a7ddfcb2f6059092c250e18f2a --N_try_A 100 --_ecg_N_forA 10000 --_n_forA 128 --_fs_forA 256 --_hr0_forA 60 --_hr1_forA 100 --_isnr_forA 35 --_seed_forA 0 --in_channels 1 --expanded_channels 32 --step_number 3 --kernel_size 3 --str_residual True --str_use_batch_norm False --str_simple_pool False --batch_size 1024 --lr 0.001 --white_noise_var 0 --str_x_as_input True --str_A_init True --str_A_freeze True --str_gpus 3 --threads 1 --workers 1 --str_retrain False --str_resume_train False --seed_torch 1 --white_noise_isnr 35 >nohup-2025_1_4_17_22-local-gpu=3-seed_torch=[0,1,2,3]-white_noise_isnr=[20,25,30,35,40,45,50,55].log && python Unet_xbar.py --size_ecg 2000000 -n 128 --seed_ecg 11 --isnr 1000 --modeA rakeness -m 16 --str_orth True --seed_A 0 --index_A 0 --str_corr 96af96a7ddfcb2f6059092c250e18f2a --N_try_A 100 --_ecg_N_forA 10000 --_n_forA 128 --_fs_forA 256 --_hr0_forA 60 --_hr1_forA 100 --_isnr_forA 35 --_seed_forA 0 --in_channels 1 --expanded_channels 32 --step_number 3 --kernel_size 3 --str_residual True --str_use_batch_norm False --str_simple_pool False --batch_size 1024 --lr 0.001 --white_noise_var 0 --str_x_as_input True --str_A_init True --str_A_freeze True --str_gpus 3 --threads 1 --workers 1 --str_retrain False --str_resume_train False --seed_torch 1 --white_noise_isnr 40 >nohup-2025_1_4_17_22-local-gpu=3-seed_torch=[0,1,2,3]-white_noise_isnr=[20,25,30,35,40,45,50,55].log && python Unet_xbar.py --size_ecg 2000000 -n 128 --seed_ecg 11 --isnr 1000 --modeA rakeness -m 16 --str_orth True --seed_A 0 --index_A 0 --str_corr 96af96a7ddfcb2f6059092c250e18f2a --N_try_A 100 --_ecg_N_forA 10000 --_n_forA 128 --_fs_forA 256 --_hr0_forA 60 --_hr1_forA 100 --_isnr_forA 35 --_seed_forA 0 --in_channels 1 --expanded_channels 32 --step_number 3 --kernel_size 3 --str_residual True --str_use_batch_norm False --str_simple_pool False --batch_size 1024 --lr 0.001 --white_noise_var 0 --str_x_as_input True --str_A_init True --str_A_freeze True --str_gpus 3 --threads 1 --workers 1 --str_retrain False --str_resume_train False --seed_torch 1 --white_noise_isnr 45 >nohup-2025_1_4_17_22-local-gpu=3-seed_torch=[0,1,2,3]-white_noise_isnr=[20,25,30,35,40,45,50,55].log && python Unet_xbar.py --size_ecg 2000000 -n 128 --seed_ecg 11 --isnr 1000 --modeA rakeness -m 16 --str_orth True --seed_A 0 --index_A 0 --str_corr 96af96a7ddfcb2f6059092c250e18f2a --N_try_A 100 --_ecg_N_forA 10000 --_n_forA 128 --_fs_forA 256 --_hr0_forA 60 --_hr1_forA 100 --_isnr_forA 35 --_seed_forA 0 --in_channels 1 --expanded_channels 32 --step_number 3 --kernel_size 3 --str_residual True --str_use_batch_norm False --str_simple_pool False --batch_size 1024 --lr 0.001 --white_noise_var 0 --str_x_as_input True --str_A_init True --str_A_freeze True --str_gpus 3 --threads 1 --workers 1 --str_retrain False --str_resume_train False --seed_torch 1 --white_noise_isnr 50 >nohup-2025_1_4_17_22-local-gpu=3-seed_torch=[0,1,2,3]-white_noise_isnr=[20,25,30,35,40,45,50,55].log && python Unet_xbar.py --size_ecg 2000000 -n 128 --seed_ecg 11 --isnr 1000 --modeA rakeness -m 16 --str_orth True --seed_A 0 --index_A 0 --str_corr 96af96a7ddfcb2f6059092c250e18f2a --N_try_A 100 --_ecg_N_forA 10000 --_n_forA 128 --_fs_forA 256 --_hr0_forA 60 --_hr1_forA 100 --_isnr_forA 35 --_seed_forA 0 --in_channels 1 --expanded_channels 32 --step_number 3 --kernel_size 3 --str_residual True --str_use_batch_norm False --str_simple_pool False --batch_size 1024 --lr 0.001 --white_noise_var 0 --str_x_as_input True --str_A_init True --str_A_freeze True --str_gpus 3 --threads 1 --workers 1 --str_retrain False --str_resume_train False --seed_torch 1 --white_noise_isnr 55 >nohup-2025_1_4_17_22-local-gpu=3-seed_torch=[0,1,2,3]-white_noise_isnr=[20,25,30,35,40,45,50,55].log && python Unet_xbar.py --size_ecg 2000000 -n 128 --seed_ecg 11 --isnr 1000 --modeA rakeness -m 16 --str_orth True --seed_A 0 --index_A 0 --str_corr 96af96a7ddfcb2f6059092c250e18f2a --N_try_A 100 --_ecg_N_forA 10000 --_n_forA 128 --_fs_forA 256 --_hr0_forA 60 --_hr1_forA 100 --_isnr_forA 35 --_seed_forA 0 --in_channels 1 --expanded_channels 32 --step_number 3 --kernel_size 3 --str_residual True --str_use_batch_norm False --str_simple_pool False --batch_size 1024 --lr 0.001 --white_noise_var 0 --str_x_as_input True --str_A_init True --str_A_freeze True --str_gpus 3 --threads 1 --workers 1 --str_retrain False --str_resume_train False --seed_torch 2 --white_noise_isnr 20 >nohup-2025_1_4_17_22-local-gpu=3-seed_torch=[0,1,2,3]-white_noise_isnr=[20,25,30,35,40,45,50,55].log && python Unet_xbar.py --size_ecg 2000000 -n 128 --seed_ecg 11 --isnr 1000 --modeA rakeness -m 16 --str_orth True --seed_A 0 --index_A 0 --str_corr 96af96a7ddfcb2f6059092c250e18f2a --N_try_A 100 --_ecg_N_forA 10000 --_n_forA 128 --_fs_forA 256 --_hr0_forA 60 --_hr1_forA 100 --_isnr_forA 35 --_seed_forA 0 --in_channels 1 --expanded_channels 32 --step_number 3 --kernel_size 3 --str_residual True --str_use_batch_norm False --str_simple_pool False --batch_size 1024 --lr 0.001 --white_noise_var 0 --str_x_as_input True --str_A_init True --str_A_freeze True --str_gpus 3 --threads 1 --workers 1 --str_retrain False --str_resume_train False --seed_torch 2 --white_noise_isnr 25 >nohup-2025_1_4_17_22-local-gpu=3-seed_torch=[0,1,2,3]-white_noise_isnr=[20,25,30,35,40,45,50,55].log && python Unet_xbar.py --size_ecg 2000000 -n 128 --seed_ecg 11 --isnr 1000 --modeA rakeness -m 16 --str_orth True --seed_A 0 --index_A 0 --str_corr 96af96a7ddfcb2f6059092c250e18f2a --N_try_A 100 --_ecg_N_forA 10000 --_n_forA 128 --_fs_forA 256 --_hr0_forA 60 --_hr1_forA 100 --_isnr_forA 35 --_seed_forA 0 --in_channels 1 --expanded_channels 32 --step_number 3 --kernel_size 3 --str_residual True --str_use_batch_norm False --str_simple_pool False --batch_size 1024 --lr 0.001 --white_noise_var 0 --str_x_as_input True --str_A_init True --str_A_freeze True --str_gpus 3 --threads 1 --workers 1 --str_retrain False --str_resume_train False --seed_torch 2 --white_noise_isnr 30 >nohup-2025_1_4_17_22-local-gpu=3-seed_torch=[0,1,2,3]-white_noise_isnr=[20,25,30,35,40,45,50,55].log && python Unet_xbar.py --size_ecg 2000000 -n 128 --seed_ecg 11 --isnr 1000 --modeA rakeness -m 16 --str_orth True --seed_A 0 --index_A 0 --str_corr 96af96a7ddfcb2f6059092c250e18f2a --N_try_A 100 --_ecg_N_forA 10000 --_n_forA 128 --_fs_forA 256 --_hr0_forA 60 --_hr1_forA 100 --_isnr_forA 35 --_seed_forA 0 --in_channels 1 --expanded_channels 32 --step_number 3 --kernel_size 3 --str_residual True --str_use_batch_norm False --str_simple_pool False --batch_size 1024 --lr 0.001 --white_noise_var 0 --str_x_as_input True --str_A_init True --str_A_freeze True --str_gpus 3 --threads 1 --workers 1 --str_retrain False --str_resume_train False --seed_torch 2 --white_noise_isnr 35 >nohup-2025_1_4_17_22-local-gpu=3-seed_torch=[0,1,2,3]-white_noise_isnr=[20,25,30,35,40,45,50,55].log && python Unet_xbar.py --size_ecg 2000000 -n 128 --seed_ecg 11 --isnr 1000 --modeA rakeness -m 16 --str_orth True --seed_A 0 --index_A 0 --str_corr 96af96a7ddfcb2f6059092c250e18f2a --N_try_A 100 --_ecg_N_forA 10000 --_n_forA 128 --_fs_forA 256 --_hr0_forA 60 --_hr1_forA 100 --_isnr_forA 35 --_seed_forA 0 --in_channels 1 --expanded_channels 32 --step_number 3 --kernel_size 3 --str_residual True --str_use_batch_norm False --str_simple_pool False --batch_size 1024 --lr 0.001 --white_noise_var 0 --str_x_as_input True --str_A_init True --str_A_freeze True --str_gpus 3 --threads 1 --workers 1 --str_retrain False --str_resume_train False --seed_torch 2 --white_noise_isnr 40 >nohup-2025_1_4_17_22-local-gpu=3-seed_torch=[0,1,2,3]-white_noise_isnr=[20,25,30,35,40,45,50,55].log && python Unet_xbar.py --size_ecg 2000000 -n 128 --seed_ecg 11 --isnr 1000 --modeA rakeness -m 16 --str_orth True --seed_A 0 --index_A 0 --str_corr 96af96a7ddfcb2f6059092c250e18f2a --N_try_A 100 --_ecg_N_forA 10000 --_n_forA 128 --_fs_forA 256 --_hr0_forA 60 --_hr1_forA 100 --_isnr_forA 35 --_seed_forA 0 --in_channels 1 --expanded_channels 32 --step_number 3 --kernel_size 3 --str_residual True --str_use_batch_norm False --str_simple_pool False --batch_size 1024 --lr 0.001 --white_noise_var 0 --str_x_as_input True --str_A_init True --str_A_freeze True --str_gpus 3 --threads 1 --workers 1 --str_retrain False --str_resume_train False --seed_torch 2 --white_noise_isnr 45 >nohup-2025_1_4_17_22-local-gpu=3-seed_torch=[0,1,2,3]-white_noise_isnr=[20,25,30,35,40,45,50,55].log && python Unet_xbar.py --size_ecg 2000000 -n 128 --seed_ecg 11 --isnr 1000 --modeA rakeness -m 16 --str_orth True --seed_A 0 --index_A 0 --str_corr 96af96a7ddfcb2f6059092c250e18f2a --N_try_A 100 --_ecg_N_forA 10000 --_n_forA 128 --_fs_forA 256 --_hr0_forA 60 --_hr1_forA 100 --_isnr_forA 35 --_seed_forA 0 --in_channels 1 --expanded_channels 32 --step_number 3 --kernel_size 3 --str_residual True --str_use_batch_norm False --str_simple_pool False --batch_size 1024 --lr 0.001 --white_noise_var 0 --str_x_as_input True --str_A_init True --str_A_freeze True --str_gpus 3 --threads 1 --workers 1 --str_retrain False --str_resume_train False --seed_torch 2 --white_noise_isnr 50 >nohup-2025_1_4_17_22-local-gpu=3-seed_torch=[0,1,2,3]-white_noise_isnr=[20,25,30,35,40,45,50,55].log && python Unet_xbar.py --size_ecg 2000000 -n 128 --seed_ecg 11 --isnr 1000 --modeA rakeness -m 16 --str_orth True --seed_A 0 --index_A 0 --str_corr 96af96a7ddfcb2f6059092c250e18f2a --N_try_A 100 --_ecg_N_forA 10000 --_n_forA 128 --_fs_forA 256 --_hr0_forA 60 --_hr1_forA 100 --_isnr_forA 35 --_seed_forA 0 --in_channels 1 --expanded_channels 32 --step_number 3 --kernel_size 3 --str_residual True --str_use_batch_norm False --str_simple_pool False --batch_size 1024 --lr 0.001 --white_noise_var 0 --str_x_as_input True --str_A_init True --str_A_freeze True --str_gpus 3 --threads 1 --workers 1 --str_retrain False --str_resume_train False --seed_torch 2 --white_noise_isnr 55 >nohup-2025_1_4_17_22-local-gpu=3-seed_torch=[0,1,2,3]-white_noise_isnr=[20,25,30,35,40,45,50,55].log && python Unet_xbar.py --size_ecg 2000000 -n 128 --seed_ecg 11 --isnr 1000 --modeA rakeness -m 16 --str_orth True --seed_A 0 --index_A 0 --str_corr 96af96a7ddfcb2f6059092c250e18f2a --N_try_A 100 --_ecg_N_forA 10000 --_n_forA 128 --_fs_forA 256 --_hr0_forA 60 --_hr1_forA 100 --_isnr_forA 35 --_seed_forA 0 --in_channels 1 --expanded_channels 32 --step_number 3 --kernel_size 3 --str_residual True --str_use_batch_norm False --str_simple_pool False --batch_size 1024 --lr 0.001 --white_noise_var 0 --str_x_as_input True --str_A_init True --str_A_freeze True --str_gpus 3 --threads 1 --workers 1 --str_retrain False --str_resume_train False --seed_torch 3 --white_noise_isnr 20 >nohup-2025_1_4_17_22-local-gpu=3-seed_torch=[0,1,2,3]-white_noise_isnr=[20,25,30,35,40,45,50,55].log && python Unet_xbar.py --size_ecg 2000000 -n 128 --seed_ecg 11 --isnr 1000 --modeA rakeness -m 16 --str_orth True --seed_A 0 --index_A 0 --str_corr 96af96a7ddfcb2f6059092c250e18f2a --N_try_A 100 --_ecg_N_forA 10000 --_n_forA 128 --_fs_forA 256 --_hr0_forA 60 --_hr1_forA 100 --_isnr_forA 35 --_seed_forA 0 --in_channels 1 --expanded_channels 32 --step_number 3 --kernel_size 3 --str_residual True --str_use_batch_norm False --str_simple_pool False --batch_size 1024 --lr 0.001 --white_noise_var 0 --str_x_as_input True --str_A_init True --str_A_freeze True --str_gpus 3 --threads 1 --workers 1 --str_retrain False --str_resume_train False --seed_torch 3 --white_noise_isnr 25 >nohup-2025_1_4_17_22-local-gpu=3-seed_torch=[0,1,2,3]-white_noise_isnr=[20,25,30,35,40,45,50,55].log && python Unet_xbar.py --size_ecg 2000000 -n 128 --seed_ecg 11 --isnr 1000 --modeA rakeness -m 16 --str_orth True --seed_A 0 --index_A 0 --str_corr 96af96a7ddfcb2f6059092c250e18f2a --N_try_A 100 --_ecg_N_forA 10000 --_n_forA 128 --_fs_forA 256 --_hr0_forA 60 --_hr1_forA 100 --_isnr_forA 35 --_seed_forA 0 --in_channels 1 --expanded_channels 32 --step_number 3 --kernel_size 3 --str_residual True --str_use_batch_norm False --str_simple_pool False --batch_size 1024 --lr 0.001 --white_noise_var 0 --str_x_as_input True --str_A_init True --str_A_freeze True --str_gpus 3 --threads 1 --workers 1 --str_retrain False --str_resume_train False --seed_torch 3 --white_noise_isnr 30 >nohup-2025_1_4_17_22-local-gpu=3-seed_torch=[0,1,2,3]-white_noise_isnr=[20,25,30,35,40,45,50,55].log && python Unet_xbar.py --size_ecg 2000000 -n 128 --seed_ecg 11 --isnr 1000 --modeA rakeness -m 16 --str_orth True --seed_A 0 --index_A 0 --str_corr 96af96a7ddfcb2f6059092c250e18f2a --N_try_A 100 --_ecg_N_forA 10000 --_n_forA 128 --_fs_forA 256 --_hr0_forA 60 --_hr1_forA 100 --_isnr_forA 35 --_seed_forA 0 --in_channels 1 --expanded_channels 32 --step_number 3 --kernel_size 3 --str_residual True --str_use_batch_norm False --str_simple_pool False --batch_size 1024 --lr 0.001 --white_noise_var 0 --str_x_as_input True --str_A_init True --str_A_freeze True --str_gpus 3 --threads 1 --workers 1 --str_retrain False --str_resume_train False --seed_torch 3 --white_noise_isnr 35 >nohup-2025_1_4_17_22-local-gpu=3-seed_torch=[0,1,2,3]-white_noise_isnr=[20,25,30,35,40,45,50,55].log && python Unet_xbar.py --size_ecg 2000000 -n 128 --seed_ecg 11 --isnr 1000 --modeA rakeness -m 16 --str_orth True --seed_A 0 --index_A 0 --str_corr 96af96a7ddfcb2f6059092c250e18f2a --N_try_A 100 --_ecg_N_forA 10000 --_n_forA 128 --_fs_forA 256 --_hr0_forA 60 --_hr1_forA 100 --_isnr_forA 35 --_seed_forA 0 --in_channels 1 --expanded_channels 32 --step_number 3 --kernel_size 3 --str_residual True --str_use_batch_norm False --str_simple_pool False --batch_size 1024 --lr 0.001 --white_noise_var 0 --str_x_as_input True --str_A_init True --str_A_freeze True --str_gpus 3 --threads 1 --workers 1 --str_retrain False --str_resume_train False --seed_torch 3 --white_noise_isnr 40 >nohup-2025_1_4_17_22-local-gpu=3-seed_torch=[0,1,2,3]-white_noise_isnr=[20,25,30,35,40,45,50,55].log && python Unet_xbar.py --size_ecg 2000000 -n 128 --seed_ecg 11 --isnr 1000 --modeA rakeness -m 16 --str_orth True --seed_A 0 --index_A 0 --str_corr 96af96a7ddfcb2f6059092c250e18f2a --N_try_A 100 --_ecg_N_forA 10000 --_n_forA 128 --_fs_forA 256 --_hr0_forA 60 --_hr1_forA 100 --_isnr_forA 35 --_seed_forA 0 --in_channels 1 --expanded_channels 32 --step_number 3 --kernel_size 3 --str_residual True --str_use_batch_norm False --str_simple_pool False --batch_size 1024 --lr 0.001 --white_noise_var 0 --str_x_as_input True --str_A_init True --str_A_freeze True --str_gpus 3 --threads 1 --workers 1 --str_retrain False --str_resume_train False --seed_torch 3 --white_noise_isnr 45 >nohup-2025_1_4_17_22-local-gpu=3-seed_torch=[0,1,2,3]-white_noise_isnr=[20,25,30,35,40,45,50,55].log && python Unet_xbar.py --size_ecg 2000000 -n 128 --seed_ecg 11 --isnr 1000 --modeA rakeness -m 16 --str_orth True --seed_A 0 --index_A 0 --str_corr 96af96a7ddfcb2f6059092c250e18f2a --N_try_A 100 --_ecg_N_forA 10000 --_n_forA 128 --_fs_forA 256 --_hr0_forA 60 --_hr1_forA 100 --_isnr_forA 35 --_seed_forA 0 --in_channels 1 --expanded_channels 32 --step_number 3 --kernel_size 3 --str_residual True --str_use_batch_norm False --str_simple_pool False --batch_size 1024 --lr 0.001 --white_noise_var 0 --str_x_as_input True --str_A_init True --str_A_freeze True --str_gpus 3 --threads 1 --workers 1 --str_retrain False --str_resume_train False --seed_torch 3 --white_noise_isnr 50 >nohup-2025_1_4_17_22-local-gpu=3-seed_torch=[0,1,2,3]-white_noise_isnr=[20,25,30,35,40,45,50,55].log && python Unet_xbar.py --size_ecg 2000000 -n 128 --seed_ecg 11 --isnr 1000 --modeA rakeness -m 16 --str_orth True --seed_A 0 --index_A 0 --str_corr 96af96a7ddfcb2f6059092c250e18f2a --N_try_A 100 --_ecg_N_forA 10000 --_n_forA 128 --_fs_forA 256 --_hr0_forA 60 --_hr1_forA 100 --_isnr_forA 35 --_seed_forA 0 --in_channels 1 --expanded_channels 32 --step_number 3 --kernel_size 3 --str_residual True --str_use_batch_norm False --str_simple_pool False --batch_size 1024 --lr 0.001 --white_noise_var 0 --str_x_as_input True --str_A_init True --str_A_freeze True --str_gpus 3 --threads 1 --workers 1 --str_retrain False --str_resume_train False --seed_torch 3 --white_noise_isnr 55' &> nohup-2025_1_4_17_22-global-gpu=3-seed_torch=[0,1,2,3]-white_noise_isnr=[20,25,30,35,40,45,50,55].log &\n"
     ]
    }
   ],
   "source": [
    "print(cmd_bash_final)"
   ]
  },
  {
   "cell_type": "code",
   "execution_count": null,
   "metadata": {},
   "outputs": [],
   "source": []
  },
  {
   "cell_type": "code",
   "execution_count": null,
   "metadata": {},
   "outputs": [],
   "source": []
  },
  {
   "cell_type": "code",
   "execution_count": null,
   "metadata": {},
   "outputs": [],
   "source": []
  },
  {
   "cell_type": "markdown",
   "metadata": {},
   "source": [
    "# Unet Parameter exploration"
   ]
  },
  {
   "cell_type": "code",
   "execution_count": null,
   "metadata": {},
   "outputs": [
    {
     "name": "stdout",
     "output_type": "stream",
     "text": [
      "{'unet_param': 11521409, 'expanded_channels': 64, 'step_number': 4, 'kernel_size': 3}\n",
      "{'unet_param': 17796609, 'expanded_channels': 64, 'step_number': 4, 'kernel_size': 5}\n",
      "{'unet_param': 24071809, 'expanded_channels': 64, 'step_number': 4, 'kernel_size': 7}\n",
      "{'unet_param': 2860417, 'expanded_channels': 64, 'step_number': 3, 'kernel_size': 3}\n",
      "{'unet_param': 4417025, 'expanded_channels': 64, 'step_number': 3, 'kernel_size': 5}\n",
      "{'unet_param': 5973633, 'expanded_channels': 64, 'step_number': 3, 'kernel_size': 7}\n",
      "{'unet_param': 692609, 'expanded_channels': 64, 'step_number': 2, 'kernel_size': 3}\n",
      "{'unet_param': 1069569, 'expanded_channels': 64, 'step_number': 2, 'kernel_size': 5}\n",
      "{'unet_param': 1446529, 'expanded_channels': 64, 'step_number': 2, 'kernel_size': 7}\n",
      "{'unet_param': 2885313, 'expanded_channels': 32, 'step_number': 4, 'kernel_size': 3}\n",
      "{'unet_param': 4454145, 'expanded_channels': 32, 'step_number': 4, 'kernel_size': 5}\n",
      "{'unet_param': 6022977, 'expanded_channels': 32, 'step_number': 4, 'kernel_size': 7}\n",
      "{'unet_param': 717505, 'expanded_channels': 32, 'step_number': 3, 'kernel_size': 3}\n",
      "{'unet_param': 1106689, 'expanded_channels': 32, 'step_number': 3, 'kernel_size': 5}\n",
      "{'unet_param': 1495873, 'expanded_channels': 32, 'step_number': 3, 'kernel_size': 7}\n",
      "{'unet_param': 174273, 'expanded_channels': 32, 'step_number': 2, 'kernel_size': 3}\n",
      "{'unet_param': 268545, 'expanded_channels': 32, 'step_number': 2, 'kernel_size': 5}\n",
      "{'unet_param': 362817, 'expanded_channels': 32, 'step_number': 2, 'kernel_size': 7}\n",
      "{'unet_param': 723809, 'expanded_channels': 16, 'step_number': 4, 'kernel_size': 3}\n",
      "{'unet_param': 1116033, 'expanded_channels': 16, 'step_number': 4, 'kernel_size': 5}\n",
      "{'unet_param': 1508257, 'expanded_channels': 16, 'step_number': 4, 'kernel_size': 7}\n",
      "{'unet_param': 180577, 'expanded_channels': 16, 'step_number': 3, 'kernel_size': 3}\n",
      "{'unet_param': 277889, 'expanded_channels': 16, 'step_number': 3, 'kernel_size': 5}\n",
      "{'unet_param': 375201, 'expanded_channels': 16, 'step_number': 3, 'kernel_size': 7}\n",
      "{'unet_param': 44129, 'expanded_channels': 16, 'step_number': 2, 'kernel_size': 3}\n",
      "{'unet_param': 67713, 'expanded_channels': 16, 'step_number': 2, 'kernel_size': 5}\n",
      "{'unet_param': 91297, 'expanded_channels': 16, 'step_number': 2, 'kernel_size': 7}\n"
     ]
    }
   ],
   "source": [
    "list_expanded_channels = [64, 32, 16]\n",
    "list_step_number = [4, 3, 2]\n",
    "list_kernel_size = [3, 5, 7]\n",
    "\n",
    "# file_param = 'dummy_Unet_param.pkl'\n",
    "\n",
    "_unet_many_param(list_expanded_channels, list_step_number, \n",
    "                 list_kernel_size, \n",
    "                #  file_param,\n",
    "                 )"
   ]
  },
  {
   "cell_type": "markdown",
   "metadata": {},
   "source": [
    "### Extract a layer"
   ]
  },
  {
   "cell_type": "code",
   "execution_count": null,
   "metadata": {},
   "outputs": [
    {
     "name": "stdout",
     "output_type": "stream",
     "text": [
      "total parameter of the Unet: 11521409\n"
     ]
    }
   ],
   "source": [
    "unet_param = get_size_model(model)\n",
    "print(f'total parameter of the Unet: {unet_param}')"
   ]
  },
  {
   "cell_type": "code",
   "execution_count": null,
   "metadata": {},
   "outputs": [
    {
     "name": "stdout",
     "output_type": "stream",
     "text": [
      "Conv1d(64, 64, kernel_size=(3,), stride=(1,), padding=(1,)) \n",
      "\n",
      "Param: 12352\n"
     ]
    }
   ],
   "source": [
    "layer_name_list = ['down', 'down_0', 'conv', 'conv_op', '3']\n",
    "sub_model = get_generic_l(model, layer_name_list)\n",
    "print(sub_model, '\\n\\nParam:', get_size_model(sub_model))"
   ]
  },
  {
   "cell_type": "code",
   "execution_count": null,
   "metadata": {},
   "outputs": [
    {
     "name": "stdout",
     "output_type": "stream",
     "text": [
      "DoubleConv(\n",
      "  (conv_op): Sequential(\n",
      "    (0): Conv1d(1, 64, kernel_size=(3,), stride=(1,), padding=(1,))\n",
      "    (1): BatchNorm1d(64, eps=1e-05, momentum=0.1, affine=True, track_running_stats=True)\n",
      "    (2): ReLU(inplace=True)\n",
      "    (3): Conv1d(64, 64, kernel_size=(3,), stride=(1,), padding=(1,))\n",
      "    (4): BatchNorm1d(64, eps=1e-05, momentum=0.1, affine=True, track_running_stats=True)\n",
      "    (5): ReLU(inplace=True)\n",
      "  )\n",
      ") \n",
      "\n",
      "Param: 12864\n"
     ]
    }
   ],
   "source": [
    "layer_name_list = ['down', 'down_0', 'conv']\n",
    "sub_model = get_generic_l(model, layer_name_list)\n",
    "print(sub_model, '\\n\\nParam:', get_size_model(sub_model))"
   ]
  },
  {
   "cell_type": "markdown",
   "metadata": {},
   "source": [
    "# Model debug"
   ]
  },
  {
   "cell_type": "code",
   "execution_count": 39,
   "metadata": {},
   "outputs": [
    {
     "data": {
      "text/plain": [
       "UNet(\n",
       "  (down): DownSeq(\n",
       "    (down_0): DownSample(\n",
       "      (conv): DoubleConv(\n",
       "        (conv_op): Sequential(\n",
       "          (0): Conv1d(2, 32, kernel_size=(3,), stride=(1,), padding=(1,))\n",
       "          (1): ReLU(inplace=True)\n",
       "          (2): Conv1d(32, 32, kernel_size=(3,), stride=(1,), padding=(1,))\n",
       "          (3): ReLU(inplace=True)\n",
       "        )\n",
       "      )\n",
       "      (pool): Conv1d(32, 32, kernel_size=(2,), stride=(2,))\n",
       "    )\n",
       "    (down_1): DownSample(\n",
       "      (conv): DoubleConv(\n",
       "        (conv_op): Sequential(\n",
       "          (0): Conv1d(32, 64, kernel_size=(3,), stride=(1,), padding=(1,))\n",
       "          (1): ReLU(inplace=True)\n",
       "          (2): Conv1d(64, 64, kernel_size=(3,), stride=(1,), padding=(1,))\n",
       "          (3): ReLU(inplace=True)\n",
       "        )\n",
       "      )\n",
       "      (pool): Conv1d(64, 64, kernel_size=(2,), stride=(2,))\n",
       "    )\n",
       "    (down_2): DownSample(\n",
       "      (conv): DoubleConv(\n",
       "        (conv_op): Sequential(\n",
       "          (0): Conv1d(64, 128, kernel_size=(3,), stride=(1,), padding=(1,))\n",
       "          (1): ReLU(inplace=True)\n",
       "          (2): Conv1d(128, 128, kernel_size=(3,), stride=(1,), padding=(1,))\n",
       "          (3): ReLU(inplace=True)\n",
       "        )\n",
       "      )\n",
       "      (pool): Conv1d(128, 128, kernel_size=(2,), stride=(2,))\n",
       "    )\n",
       "  )\n",
       "  (bottle_neck): DoubleConv(\n",
       "    (conv_op): Sequential(\n",
       "      (0): Conv1d(128, 256, kernel_size=(3,), stride=(1,), padding=(1,))\n",
       "      (1): ReLU(inplace=True)\n",
       "      (2): Conv1d(256, 256, kernel_size=(3,), stride=(1,), padding=(1,))\n",
       "      (3): ReLU(inplace=True)\n",
       "    )\n",
       "  )\n",
       "  (up): UpSeq(\n",
       "    (up_3): UpSample(\n",
       "      (up): ConvTranspose1d(256, 128, kernel_size=(2,), stride=(2,))\n",
       "      (conv): DoubleConv(\n",
       "        (conv_op): Sequential(\n",
       "          (0): Conv1d(256, 128, kernel_size=(3,), stride=(1,), padding=(1,))\n",
       "          (1): ReLU(inplace=True)\n",
       "          (2): Conv1d(128, 128, kernel_size=(3,), stride=(1,), padding=(1,))\n",
       "          (3): ReLU(inplace=True)\n",
       "        )\n",
       "      )\n",
       "    )\n",
       "    (up_2): UpSample(\n",
       "      (up): ConvTranspose1d(128, 64, kernel_size=(2,), stride=(2,))\n",
       "      (conv): DoubleConv(\n",
       "        (conv_op): Sequential(\n",
       "          (0): Conv1d(128, 64, kernel_size=(3,), stride=(1,), padding=(1,))\n",
       "          (1): ReLU(inplace=True)\n",
       "          (2): Conv1d(64, 64, kernel_size=(3,), stride=(1,), padding=(1,))\n",
       "          (3): ReLU(inplace=True)\n",
       "        )\n",
       "      )\n",
       "    )\n",
       "    (up_1): UpSample(\n",
       "      (up): ConvTranspose1d(64, 32, kernel_size=(2,), stride=(2,))\n",
       "      (conv): DoubleConv(\n",
       "        (conv_op): Sequential(\n",
       "          (0): Conv1d(64, 32, kernel_size=(3,), stride=(1,), padding=(1,))\n",
       "          (1): ReLU(inplace=True)\n",
       "          (2): Conv1d(32, 32, kernel_size=(3,), stride=(1,), padding=(1,))\n",
       "          (3): ReLU(inplace=True)\n",
       "        )\n",
       "      )\n",
       "    )\n",
       "  )\n",
       "  (out): Conv1d(32, 2, kernel_size=(1,), stride=(1,))\n",
       "  (out2): Conv1d(32, 1, kernel_size=(1,), stride=(1,))\n",
       ")"
      ]
     },
     "execution_count": 39,
     "metadata": {},
     "output_type": "execute_result"
    }
   ],
   "source": [
    "_model = UNet(in_channels = 2, \n",
    "              out_channels = 1, \n",
    "              expanded_channels = 32, \n",
    "              steps_num=3, \n",
    "              kernel_size=3, \n",
    "              simple_pool=False,\n",
    "              use_batch_norm=False, \n",
    "              residual=True)\n",
    "\n",
    "_model.to(device)"
   ]
  },
  {
   "cell_type": "code",
   "execution_count": null,
   "metadata": {},
   "outputs": [],
   "source": []
  },
  {
   "cell_type": "code",
   "execution_count": null,
   "metadata": {},
   "outputs": [
    {
     "name": "stdout",
     "output_type": "stream",
     "text": [
      "{'mode_A': 'rakeness', 'use_batch_norm': False, 'seed_torch': 3} -- SNR: 0.66\n"
     ]
    }
   ],
   "source": [
    "\n",
    "_t_loader = dict_test_loader[_p_dict['mode_A']]\n",
    "\n",
    "snr_ = 0.0\n",
    "test_loss = 0\n",
    "with torch.no_grad():\n",
    "    for inputs, targets in _t_loader:\n",
    "\n",
    "        inputs, targets = inputs.to(device), targets.to(device)\n",
    "        \n",
    "        outputs = _model(inputs)\n",
    "        loss = criterion(outputs, targets)\n",
    "        test_loss += loss.item()\n",
    "        \n",
    "        snr_ += np.mean(compute_rsnr(outputs.detach().cpu().numpy(),\n",
    "                                    targets.detach().cpu().numpy()))\n",
    "        \n",
    "test_loss /= len(test_loader)\n",
    "snr_ /= len(test_loader)\n",
    "\n",
    "print(f'{_p_dict} -- SNR: {snr_:.2f}')"
   ]
  },
  {
   "cell_type": "code",
   "execution_count": null,
   "metadata": {},
   "outputs": [],
   "source": []
  }
 ],
 "metadata": {
  "kernelspec": {
   "display_name": "torch-one",
   "language": "python",
   "name": "python3"
  },
  "language_info": {
   "codemirror_mode": {
    "name": "ipython",
    "version": 3
   },
   "file_extension": ".py",
   "mimetype": "text/x-python",
   "name": "python",
   "nbconvert_exporter": "python",
   "pygments_lexer": "ipython3",
   "version": "3.12.7"
  }
 },
 "nbformat": 4,
 "nbformat_minor": 2
}
