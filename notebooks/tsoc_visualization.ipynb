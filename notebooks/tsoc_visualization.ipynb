{
 "cells": [
  {
   "cell_type": "code",
   "execution_count": 1,
   "metadata": {},
   "outputs": [],
   "source": [
    "import os\n",
    "import sys\n",
    "import numpy as np\n",
    "import pandas as pd\n",
    "import pickle\n",
    "import tqdm\n",
    "import matplotlib.pyplot as plt\n",
    "import re\n",
    "\n",
    "root = os.path.dirname(os.path.dirname(os.path.realpath('__file__')))\n",
    "sys.path.insert(0, os.path.join(root, 'src'))\n",
    "\n",
    "from models import models_dir"
   ]
  },
  {
   "cell_type": "code",
   "execution_count": 4,
   "metadata": {},
   "outputs": [
    {
     "data": {
      "text/plain": [
       "['TSOC-N=2000000_n=128_m=48_fs=256_hr=60-100_isnr=35_mode=standard_src=best_ort=True_seedmat=52744_epochs=1000_bs=64_opt=adam_lr=0.001_th=0.5_tf=0.9_minlr=1e-05_p=40_mind=0.0001_seeddata=11_seedtrain=0.pth',\n",
       " 'TSOC-N=2000000_n=128_m=48_fs=256_hr=60-100_isnr=35_mode=standard_src=random_ort=False_seedmat=0_epochs=1000_bs=64_opt=adam_lr=0.001_th=0.5_tf=0.9_minlr=1e-05_p=40_mind=0.0001_seeddata=11_seedtrain=0.pth',\n",
       " 'TSOC-N=2000000_n=128_m=48_fs=256_hr=60-100_isnr=35_mode=rakeness_src=best_ort=True_seedmat=30808_epochs=1000_bs=64_opt=adam_lr=0.001_th=0.5_tf=0.9_minlr=1e-05_p=40_mind=0.0001_seeddata=11_seedtrain=0_corr=96af96a7ddfcb2f6059092c250e18f2a_loc=0.25.pth',\n",
       " 'TSOC-N=2000000_n=128_m=48_fs=256_hr=60-100_isnr=35_mode=standard_src=best_ort=True_seedmat=52744_epochs=1000_bs=50_opt=sgd_lr=0.1_th=0.5_tf=0.9_minlr=0.001_p=40_mind=0.0001_seeddata=11_seedtrain=0.pth',\n",
       " 'TSOC-N=2000000_n=128_m=48_fs=256_hr=60-100_isnr=35_mode=rakeness_src=best_ort=True_seedmat=30808_epochs=1000_bs=50_opt=sgd_lr=0.1_th=0.5_tf=0.9_minlr=0.001_p=40_mind=0.0001_seeddata=11_seedtrain=0_corr=96af96a7ddfcb2f6059092c250e18f2a_loc=0.25.pth',\n",
       " 'TSOC-N=2000000_n=128_m=32_fs=256_hr=60-100_isnr=35_mode=standard_src=random_ort=False_seedmat=0_epochs=1000_bs=50_opt=sgd_lr=0.1_th=0.5_tf=0.9_minlr=0.001_p=40_mind=0.0001_seeddata=11_seedtrain=0.pth',\n",
       " 'TSOC-N=2000000_n=128_m=48_fs=256_hr=60-100_isnr=35_mode=standard_src=random_ort=False_seedmat=0_epochs=1000_bs=50_opt=sgd_lr=0.1_th=0.5_tf=0.9_minlr=0.001_p=40_mind=0.0001_seeddata=11_seedtrain=0.pth',\n",
       " 'TSOC-N=2000000_n=128_m=32_fs=256_hr=60-100_isnr=35_mode=standard_src=random_ort=False_seedmat=0_epochs=1000_bs=50_opt=sgd_lr=0.1_th=0.5_tf=0.9_minlr=0.001_p=40_mind=0.0001_seeddata=11_seedtrain=1.pth',\n",
       " 'TSOC-N=2000000_n=128_m=48_fs=256_hr=60-100_isnr=35_mode=rakeness_src=best_ort=True_seedmat=30808_epochs=1000_bs=64_opt=adam_lr=0.001_th=0.5_tf=0.9_minlr=1e-05_p=40_mind=0.0001_seeddata=11_seedtrain=1_corr=96af96a7ddfcb2f6059092c250e18f2a_loc=0.25.pth',\n",
       " 'TSOC-N=2000000_n=128_m=48_fs=256_hr=60-100_isnr=35_mode=rakeness_src=best_ort=True_seedmat=75680_epochs=1000_bs=64_opt=adam_lr=0.001_th=0.5_tf=0.9_minlr=1e-05_p=40_mind=1e-05_seeddata=11_seedtrain=0_corr=96af96a7ddfcb2f6059092c250e18f2a_loc=0.25.pth',\n",
       " 'TSOC-N=2000000_n=128_m=48_fs=256_hr=60-100_isnr=35_mode=rakeness_src=best_ort=True_seedmat=75680_epochs=1000_bs=128_opt=adam_lr=0.001_th=0.5_tf=0.9_minlr=1e-05_p=40_mind=1e-05_seeddata=11_seedtrain=0_corr=96af96a7ddfcb2f6059092c250e18f2a_loc=0.25.pth',\n",
       " 'TSOC-N=2000000_n=128_m=48_fs=256_hr=60-100_isnr=35_mode=rakeness_src=best_ort=True_seedmat=30808_epochs=1000_bs=128_opt=adam_lr=0.001_th=0.5_tf=0.9_minlr=1e-05_p=40_mind=1e-05_seeddata=11_seedtrain=0_corr=96af96a7ddfcb2f6059092c250e18f2a_loc=0.25.pth',\n",
       " 'TSOC-N=2000000_n=128_m=48_fs=256_hr=60-100_isnr=35_mode=rakeness_src=best_ort=True_seedmat=30808_epochs=1000_bs=64_opt=adam_lr=0.001_th=0.5_tf=0.9_minlr=1e-05_p=40_mind=1e-05_seeddata=11_seedtrain=0_corr=96af96a7ddfcb2f6059092c250e18f2a_loc=0.25.pth',\n",
       " 'TSOC-N=2000000_n=128_m=48_fs=256_hr=60-100_isnr=35_mode=rakeness_src=best_ort=True_seedmat=75680_epochs=1000_bs=32_opt=adam_lr=0.001_th=0.5_tf=0.9_minlr=1e-05_p=40_mind=1e-05_seeddata=11_seedtrain=0_corr=96af96a7ddfcb2f6059092c250e18f2a_loc=0.25.pth',\n",
       " 'TSOC-N=2000000_n=128_m=48_fs=256_hr=60-100_isnr=35_mode=rakeness_src=best_ort=True_seedmat=77732_epochs=1000_bs=128_opt=adam_lr=0.001_th=0.5_tf=0.9_minlr=1e-05_p=40_mind=1e-05_seeddata=11_seedtrain=0_corr=96af96a7ddfcb2f6059092c250e18f2a_loc=0.25.pth',\n",
       " 'TSOC-N=2000000_n=128_m=48_fs=256_hr=60-100_isnr=35_mode=rakeness_src=best_ort=True_seedmat=88219_epochs=1000_bs=128_opt=adam_lr=0.001_th=0.5_tf=0.9_minlr=1e-05_p=40_mind=1e-05_seeddata=11_seedtrain=0_corr=96af96a7ddfcb2f6059092c250e18f2a_loc=0.25.pth',\n",
       " 'TSOC-N=2000000_n=128_m=48_fs=256_hr=60-100_isnr=35_mode=rakeness_src=best_ort=True_seedmat=77732_epochs=1000_bs=64_opt=adam_lr=0.001_th=0.5_tf=0.9_minlr=1e-05_p=40_mind=1e-05_seeddata=11_seedtrain=0_corr=96af96a7ddfcb2f6059092c250e18f2a_loc=0.25.pth',\n",
       " 'TSOC-N=2000000_n=128_m=48_fs=256_hr=60-100_isnr=35_mode=rakeness_src=best_ort=True_seedmat=88219_epochs=1000_bs=64_opt=adam_lr=0.001_th=0.5_tf=0.9_minlr=1e-05_p=40_mind=1e-05_seeddata=11_seedtrain=0_corr=96af96a7ddfcb2f6059092c250e18f2a_loc=0.25.pth',\n",
       " 'TSOC-N=2000000_n=128_m=48_fs=256_hr=60-100_isnr=35_mode=rakeness_src=best_ort=True_seedmat=30808_epochs=1000_bs=32_opt=adam_lr=0.001_th=0.5_tf=0.9_minlr=1e-05_p=40_mind=1e-05_seeddata=11_seedtrain=0_corr=96af96a7ddfcb2f6059092c250e18f2a_loc=0.25.pth',\n",
       " 'TSOC-N=2000000_n=128_m=48_fs=256_hr=60-100_isnr=35_mode=rakeness_src=best_ort=True_seedmat=75680_epochs=1000_bs=128_opt=adam_lr=0.001_th=0.5_tf=0.9_minlr=1e-05_p=40_mind=1e-05_seeddata=11_seedtrain=1_corr=96af96a7ddfcb2f6059092c250e18f2a_loc=0.25.pth',\n",
       " 'TSOC-N=2000000_n=128_m=48_fs=256_hr=60-100_isnr=35_mode=rakeness_src=best_ort=True_seedmat=30808_epochs=1000_bs=128_opt=adam_lr=0.001_th=0.5_tf=0.9_minlr=1e-05_p=40_mind=1e-05_seeddata=11_seedtrain=1_corr=96af96a7ddfcb2f6059092c250e18f2a_loc=0.25.pth',\n",
       " 'TSOC-N=2000000_n=128_m=48_fs=256_hr=60-100_isnr=35_mode=rakeness_src=best_ort=True_seedmat=75680_epochs=1000_bs=64_opt=adam_lr=0.001_th=0.5_tf=0.9_minlr=1e-05_p=40_mind=1e-05_seeddata=11_seedtrain=1_corr=96af96a7ddfcb2f6059092c250e18f2a_loc=0.25.pth',\n",
       " 'TSOC-N=2000000_n=128_m=48_fs=256_hr=60-100_isnr=35_mode=rakeness_src=best_ort=True_seedmat=30808_epochs=1000_bs=64_opt=adam_lr=0.001_th=0.5_tf=0.9_minlr=1e-05_p=40_mind=1e-05_seeddata=11_seedtrain=1_corr=96af96a7ddfcb2f6059092c250e18f2a_loc=0.25.pth',\n",
       " 'TSOC-N=2000000_n=128_m=48_fs=256_hr=60-100_isnr=35_mode=rakeness_src=best_ort=True_seedmat=88219_epochs=1000_bs=128_opt=adam_lr=0.001_th=0.5_tf=0.9_minlr=1e-05_p=40_mind=1e-05_seeddata=11_seedtrain=1_corr=96af96a7ddfcb2f6059092c250e18f2a_loc=0.25.pth',\n",
       " 'TSOC-N=2000000_n=128_m=48_fs=256_hr=60-100_isnr=35_mode=rakeness_src=best_ort=True_seedmat=77732_epochs=1000_bs=128_opt=adam_lr=0.001_th=0.5_tf=0.9_minlr=1e-05_p=40_mind=1e-05_seeddata=11_seedtrain=1_corr=96af96a7ddfcb2f6059092c250e18f2a_loc=0.25.pth']"
      ]
     },
     "execution_count": 4,
     "metadata": {},
     "output_type": "execute_result"
    }
   ],
   "source": [
    "epochs = 1000\n",
    "trained_models = os.listdir(f'{models_dir}TSOC')\n",
    "trained_models = [trained_model for trained_model in trained_models if f'epochs={epochs}' in trained_model]\n",
    "trained_models"
   ]
  },
  {
   "cell_type": "code",
   "execution_count": 5,
   "metadata": {},
   "outputs": [],
   "source": [
    "def parse_parameters(model_name):\n",
    "    model_name = model_name.split('.pth')[0]\n",
    "    model_name = model_name.split('TSOC-')[1]\n",
    "    params = model_name.split('_')\n",
    "    param_dict = {}\n",
    "    for param in params:\n",
    "        key, value = param.split('=')\n",
    "        # Attempt to convert to int, float, or keep as string\n",
    "        if value.isdigit():\n",
    "            param_dict[key] = int(value)\n",
    "        else:\n",
    "            try:\n",
    "                param_dict[key] = float(value)\n",
    "            except ValueError:\n",
    "                # Special case for booleans\n",
    "                if value.lower() in ['true', 'false']:\n",
    "                    param_dict[key] = value.lower() == 'true'\n",
    "                else:\n",
    "                    param_dict[key] = value\n",
    "\n",
    "    return param_dict"
   ]
  },
  {
   "cell_type": "markdown",
   "metadata": {},
   "source": [
    "## TSOC reconstruction evaluation"
   ]
  },
  {
   "cell_type": "markdown",
   "metadata": {},
   "source": [
    "### Evaluate models"
   ]
  },
  {
   "cell_type": "code",
   "execution_count": 6,
   "metadata": {},
   "outputs": [
    {
     "name": "stderr",
     "output_type": "stream",
     "text": [
      "INFO:root:Running test with parameters: n=128, m=48, epochs=1000, lr=0.001, opt=adam, batch_size=64, N_train=2000000, basis=sym6, fs=256, heart_rate=[60, 100], isnr=35, mode=standard, orthogonal=True, source=best, seed_matrix=52744, seed_training=0, processes=48, threshold=0.5, gpu=3, train_fraction=0.9, min_lr=1e-05, min_delta=0.0001, patience=40, N_test=10000, corr_name=96af96a7ddfcb2f6059092c250e18f2a, support_method=TSOC, seed_train_data=11, seed_test_data=66, M=1000, loc=0.25, results_folder=/srv/newpenny/dnn-cs/tsoc/results/TSOC/reconstruction, model_folder=/srv/newpenny/dnn-cs/tsoc/trained_models/TSOC\n"
     ]
    },
    {
     "name": "stdout",
     "output_type": "stream",
     "text": [
      "Model\n",
      "TSOC-N=2000000_n=128_m=48_fs=256_hr=60-100_isnr=35_mode=standard_src=best_ort=True_seedmat=52744_epochs=1000_bs=64_opt=adam_lr=0.001_th=0.5_tf=0.9_minlr=1e-05_p=40_mind=0.0001_seeddata=11_seedtrain=0\n",
      "has already been evaluated\n"
     ]
    },
    {
     "name": "stderr",
     "output_type": "stream",
     "text": [
      "INFO:root:Running test with parameters: n=128, m=48, epochs=1000, lr=0.001, opt=adam, batch_size=64, N_train=2000000, basis=sym6, fs=256, heart_rate=[60, 100], isnr=35, mode=standard, orthogonal=False, source=random, seed_matrix=0, seed_training=0, processes=48, threshold=0.5, gpu=3, train_fraction=0.9, min_lr=1e-05, min_delta=0.0001, patience=40, N_test=10000, corr_name=96af96a7ddfcb2f6059092c250e18f2a, support_method=TSOC, seed_train_data=11, seed_test_data=66, M=1000, loc=0.25, results_folder=/srv/newpenny/dnn-cs/tsoc/results/TSOC/reconstruction, model_folder=/srv/newpenny/dnn-cs/tsoc/trained_models/TSOC\n"
     ]
    },
    {
     "name": "stdout",
     "output_type": "stream",
     "text": [
      "Model\n",
      "TSOC-N=2000000_n=128_m=48_fs=256_hr=60-100_isnr=35_mode=standard_src=random_ort=False_seedmat=0_epochs=1000_bs=64_opt=adam_lr=0.001_th=0.5_tf=0.9_minlr=1e-05_p=40_mind=0.0001_seeddata=11_seedtrain=0\n",
      "has already been evaluated\n"
     ]
    },
    {
     "name": "stderr",
     "output_type": "stream",
     "text": [
      "INFO:root:Running test with parameters: n=128, m=48, epochs=1000, lr=0.001, opt=adam, batch_size=64, N_train=2000000, basis=sym6, fs=256, heart_rate=[60, 100], isnr=35, mode=rakeness, orthogonal=True, source=best, seed_matrix=30808, seed_training=0, processes=48, threshold=0.5, gpu=3, train_fraction=0.9, min_lr=1e-05, min_delta=0.0001, patience=40, N_test=10000, corr_name=96af96a7ddfcb2f6059092c250e18f2a, support_method=TSOC, seed_train_data=11, seed_test_data=66, M=1000, loc=0.25, results_folder=/srv/newpenny/dnn-cs/tsoc/results/TSOC/reconstruction, model_folder=/srv/newpenny/dnn-cs/tsoc/trained_models/TSOC\n"
     ]
    },
    {
     "name": "stdout",
     "output_type": "stream",
     "text": [
      "Model\n",
      "TSOC-N=2000000_n=128_m=48_fs=256_hr=60-100_isnr=35_mode=rakeness_src=best_ort=True_seedmat=30808_epochs=1000_bs=64_opt=adam_lr=0.001_th=0.5_tf=0.9_minlr=1e-05_p=40_mind=0.0001_seeddata=11_seedtrain=0_corr=96af96a7ddfcb2f6059092c250e18f2a_loc=0.25\n",
      "has already been evaluated\n"
     ]
    },
    {
     "name": "stderr",
     "output_type": "stream",
     "text": [
      "INFO:root:Running test with parameters: n=128, m=48, epochs=1000, lr=0.1, opt=sgd, batch_size=50, N_train=2000000, basis=sym6, fs=256, heart_rate=[60, 100], isnr=35, mode=standard, orthogonal=True, source=best, seed_matrix=52744, seed_training=0, processes=48, threshold=0.5, gpu=3, train_fraction=0.9, min_lr=0.001, min_delta=0.0001, patience=40, N_test=10000, corr_name=96af96a7ddfcb2f6059092c250e18f2a, support_method=TSOC, seed_train_data=11, seed_test_data=66, M=1000, loc=0.25, results_folder=/srv/newpenny/dnn-cs/tsoc/results/TSOC/reconstruction, model_folder=/srv/newpenny/dnn-cs/tsoc/trained_models/TSOC\n"
     ]
    },
    {
     "name": "stdout",
     "output_type": "stream",
     "text": [
      "Model\n",
      "TSOC-N=2000000_n=128_m=48_fs=256_hr=60-100_isnr=35_mode=standard_src=best_ort=True_seedmat=52744_epochs=1000_bs=50_opt=sgd_lr=0.1_th=0.5_tf=0.9_minlr=0.001_p=40_mind=0.0001_seeddata=11_seedtrain=0\n",
      "has already been evaluated\n"
     ]
    },
    {
     "name": "stderr",
     "output_type": "stream",
     "text": [
      "INFO:root:Running test with parameters: n=128, m=48, epochs=1000, lr=0.1, opt=sgd, batch_size=50, N_train=2000000, basis=sym6, fs=256, heart_rate=[60, 100], isnr=35, mode=rakeness, orthogonal=True, source=best, seed_matrix=30808, seed_training=0, processes=48, threshold=0.5, gpu=3, train_fraction=0.9, min_lr=0.001, min_delta=0.0001, patience=40, N_test=10000, corr_name=96af96a7ddfcb2f6059092c250e18f2a, support_method=TSOC, seed_train_data=11, seed_test_data=66, M=1000, loc=0.25, results_folder=/srv/newpenny/dnn-cs/tsoc/results/TSOC/reconstruction, model_folder=/srv/newpenny/dnn-cs/tsoc/trained_models/TSOC\n"
     ]
    },
    {
     "name": "stdout",
     "output_type": "stream",
     "text": [
      "Model\n",
      "TSOC-N=2000000_n=128_m=48_fs=256_hr=60-100_isnr=35_mode=rakeness_src=best_ort=True_seedmat=30808_epochs=1000_bs=50_opt=sgd_lr=0.1_th=0.5_tf=0.9_minlr=0.001_p=40_mind=0.0001_seeddata=11_seedtrain=0_corr=96af96a7ddfcb2f6059092c250e18f2a_loc=0.25\n",
      "has already been evaluated\n"
     ]
    },
    {
     "name": "stderr",
     "output_type": "stream",
     "text": [
      "INFO:root:Running test with parameters: n=128, m=32, epochs=1000, lr=0.1, opt=sgd, batch_size=50, N_train=2000000, basis=sym6, fs=256, heart_rate=[60, 100], isnr=35, mode=standard, orthogonal=False, source=random, seed_matrix=0, seed_training=0, processes=48, threshold=0.5, gpu=3, train_fraction=0.9, min_lr=0.001, min_delta=0.0001, patience=40, N_test=10000, corr_name=96af96a7ddfcb2f6059092c250e18f2a, support_method=TSOC, seed_train_data=11, seed_test_data=66, M=1000, loc=0.25, results_folder=/srv/newpenny/dnn-cs/tsoc/results/TSOC/reconstruction, model_folder=/srv/newpenny/dnn-cs/tsoc/trained_models/TSOC\n",
      "Traceback (most recent call last):\n",
      "  File \"/home/andriyenttsel/dnn-cs/notebooks/../experiments/decoder_evaluation.py\", line 191, in <module>\n",
      "    test(\n",
      "  File \"/home/andriyenttsel/dnn-cs/notebooks/../experiments/decoder_evaluation.py\", line 90, in test\n",
      "    with open(data_path, 'rb') as f:\n",
      "FileNotFoundError: [Errno 2] No such file or directory: '/srv/newpenny/dnn-cs/tsoc/data/ecg_N=10000_n=128_fs=256_hr=60-100_isnr=35_seed=66/supports_method=TSOC_mode=standard_m=32_orth=False_seed=0.pkl'\n",
      "INFO:root:Running test with parameters: n=128, m=48, epochs=1000, lr=0.1, opt=sgd, batch_size=50, N_train=2000000, basis=sym6, fs=256, heart_rate=[60, 100], isnr=35, mode=standard, orthogonal=False, source=random, seed_matrix=0, seed_training=0, processes=48, threshold=0.5, gpu=3, train_fraction=0.9, min_lr=0.001, min_delta=0.0001, patience=40, N_test=10000, corr_name=96af96a7ddfcb2f6059092c250e18f2a, support_method=TSOC, seed_train_data=11, seed_test_data=66, M=1000, loc=0.25, results_folder=/srv/newpenny/dnn-cs/tsoc/results/TSOC/reconstruction, model_folder=/srv/newpenny/dnn-cs/tsoc/trained_models/TSOC\n"
     ]
    },
    {
     "name": "stdout",
     "output_type": "stream",
     "text": [
      "Model\n",
      "TSOC-N=2000000_n=128_m=48_fs=256_hr=60-100_isnr=35_mode=standard_src=random_ort=False_seedmat=0_epochs=1000_bs=50_opt=sgd_lr=0.1_th=0.5_tf=0.9_minlr=0.001_p=40_mind=0.0001_seeddata=11_seedtrain=0\n",
      "has already been evaluated\n"
     ]
    },
    {
     "name": "stderr",
     "output_type": "stream",
     "text": [
      "INFO:root:Running test with parameters: n=128, m=32, epochs=1000, lr=0.1, opt=sgd, batch_size=50, N_train=2000000, basis=sym6, fs=256, heart_rate=[60, 100], isnr=35, mode=standard, orthogonal=False, source=random, seed_matrix=0, seed_training=1, processes=48, threshold=0.5, gpu=3, train_fraction=0.9, min_lr=0.001, min_delta=0.0001, patience=40, N_test=10000, corr_name=96af96a7ddfcb2f6059092c250e18f2a, support_method=TSOC, seed_train_data=11, seed_test_data=66, M=1000, loc=0.25, results_folder=/srv/newpenny/dnn-cs/tsoc/results/TSOC/reconstruction, model_folder=/srv/newpenny/dnn-cs/tsoc/trained_models/TSOC\n",
      "Traceback (most recent call last):\n",
      "  File \"/home/andriyenttsel/dnn-cs/notebooks/../experiments/decoder_evaluation.py\", line 191, in <module>\n",
      "    test(\n",
      "  File \"/home/andriyenttsel/dnn-cs/notebooks/../experiments/decoder_evaluation.py\", line 90, in test\n",
      "    with open(data_path, 'rb') as f:\n",
      "FileNotFoundError: [Errno 2] No such file or directory: '/srv/newpenny/dnn-cs/tsoc/data/ecg_N=10000_n=128_fs=256_hr=60-100_isnr=35_seed=66/supports_method=TSOC_mode=standard_m=32_orth=False_seed=0.pkl'\n",
      "INFO:root:Running test with parameters: n=128, m=48, epochs=1000, lr=0.001, opt=adam, batch_size=64, N_train=2000000, basis=sym6, fs=256, heart_rate=[60, 100], isnr=35, mode=rakeness, orthogonal=True, source=best, seed_matrix=30808, seed_training=1, processes=48, threshold=0.5, gpu=3, train_fraction=0.9, min_lr=1e-05, min_delta=0.0001, patience=40, N_test=10000, corr_name=96af96a7ddfcb2f6059092c250e18f2a, support_method=TSOC, seed_train_data=11, seed_test_data=66, M=1000, loc=0.25, results_folder=/srv/newpenny/dnn-cs/tsoc/results/TSOC/reconstruction, model_folder=/srv/newpenny/dnn-cs/tsoc/trained_models/TSOC\n"
     ]
    },
    {
     "name": "stdout",
     "output_type": "stream",
     "text": [
      "P: 35.219  TP: 29.295  TPR: 0.835  TNR: 0.988  ACC: 0.945\n"
     ]
    },
    {
     "name": "stderr",
     "output_type": "stream",
     "text": [
      "100%|██████████| 10000/10000 [00:04<00:00, 2428.07it/s]\n",
      "INFO:root:Running test with parameters: n=128, m=48, epochs=1000, lr=0.001, opt=adam, batch_size=64, N_train=2000000, basis=sym6, fs=256, heart_rate=[60, 100], isnr=35, mode=rakeness, orthogonal=True, source=best, seed_matrix=75680, seed_training=0, processes=48, threshold=0.5, gpu=3, train_fraction=0.9, min_lr=1e-05, min_delta=1e-05, patience=40, N_test=10000, corr_name=96af96a7ddfcb2f6059092c250e18f2a, support_method=TSOC, seed_train_data=11, seed_test_data=66, M=1000, loc=0.25, results_folder=/srv/newpenny/dnn-cs/tsoc/results/TSOC/reconstruction, model_folder=/srv/newpenny/dnn-cs/tsoc/trained_models/TSOC\n"
     ]
    },
    {
     "name": "stdout",
     "output_type": "stream",
     "text": [
      "P: 35.114  TP: 29.191  TPR: 0.835  TNR: 0.988  ACC: 0.945\n"
     ]
    },
    {
     "name": "stderr",
     "output_type": "stream",
     "text": [
      "100%|██████████| 10000/10000 [00:03<00:00, 2682.64it/s]\n",
      "INFO:root:Running test with parameters: n=128, m=48, epochs=1000, lr=0.001, opt=adam, batch_size=128, N_train=2000000, basis=sym6, fs=256, heart_rate=[60, 100], isnr=35, mode=rakeness, orthogonal=True, source=best, seed_matrix=75680, seed_training=0, processes=48, threshold=0.5, gpu=3, train_fraction=0.9, min_lr=1e-05, min_delta=1e-05, patience=40, N_test=10000, corr_name=96af96a7ddfcb2f6059092c250e18f2a, support_method=TSOC, seed_train_data=11, seed_test_data=66, M=1000, loc=0.25, results_folder=/srv/newpenny/dnn-cs/tsoc/results/TSOC/reconstruction, model_folder=/srv/newpenny/dnn-cs/tsoc/trained_models/TSOC\n"
     ]
    },
    {
     "name": "stdout",
     "output_type": "stream",
     "text": [
      "P: 35.11  TP: 29.316  TPR: 0.839  TNR: 0.988  ACC: 0.946\n"
     ]
    },
    {
     "name": "stderr",
     "output_type": "stream",
     "text": [
      "100%|██████████| 10000/10000 [00:03<00:00, 2534.07it/s]\n",
      "INFO:root:Running test with parameters: n=128, m=48, epochs=1000, lr=0.001, opt=adam, batch_size=128, N_train=2000000, basis=sym6, fs=256, heart_rate=[60, 100], isnr=35, mode=rakeness, orthogonal=True, source=best, seed_matrix=30808, seed_training=0, processes=48, threshold=0.5, gpu=3, train_fraction=0.9, min_lr=1e-05, min_delta=1e-05, patience=40, N_test=10000, corr_name=96af96a7ddfcb2f6059092c250e18f2a, support_method=TSOC, seed_train_data=11, seed_test_data=66, M=1000, loc=0.25, results_folder=/srv/newpenny/dnn-cs/tsoc/results/TSOC/reconstruction, model_folder=/srv/newpenny/dnn-cs/tsoc/trained_models/TSOC\n"
     ]
    },
    {
     "name": "stdout",
     "output_type": "stream",
     "text": [
      "P: 35.222  TP: 29.462  TPR: 0.84  TNR: 0.988  ACC: 0.946\n"
     ]
    },
    {
     "name": "stderr",
     "output_type": "stream",
     "text": [
      "100%|██████████| 10000/10000 [00:04<00:00, 2431.19it/s]\n",
      "INFO:root:Running test with parameters: n=128, m=48, epochs=1000, lr=0.001, opt=adam, batch_size=64, N_train=2000000, basis=sym6, fs=256, heart_rate=[60, 100], isnr=35, mode=rakeness, orthogonal=True, source=best, seed_matrix=30808, seed_training=0, processes=48, threshold=0.5, gpu=3, train_fraction=0.9, min_lr=1e-05, min_delta=1e-05, patience=40, N_test=10000, corr_name=96af96a7ddfcb2f6059092c250e18f2a, support_method=TSOC, seed_train_data=11, seed_test_data=66, M=1000, loc=0.25, results_folder=/srv/newpenny/dnn-cs/tsoc/results/TSOC/reconstruction, model_folder=/srv/newpenny/dnn-cs/tsoc/trained_models/TSOC\n"
     ]
    },
    {
     "name": "stdout",
     "output_type": "stream",
     "text": [
      "P: 35.219  TP: 29.344  TPR: 0.837  TNR: 0.988  ACC: 0.945\n"
     ]
    },
    {
     "name": "stderr",
     "output_type": "stream",
     "text": [
      "100%|██████████| 10000/10000 [00:03<00:00, 2721.36it/s]\n",
      "INFO:root:Running test with parameters: n=128, m=48, epochs=1000, lr=0.001, opt=adam, batch_size=32, N_train=2000000, basis=sym6, fs=256, heart_rate=[60, 100], isnr=35, mode=rakeness, orthogonal=True, source=best, seed_matrix=75680, seed_training=0, processes=48, threshold=0.5, gpu=3, train_fraction=0.9, min_lr=1e-05, min_delta=1e-05, patience=40, N_test=10000, corr_name=96af96a7ddfcb2f6059092c250e18f2a, support_method=TSOC, seed_train_data=11, seed_test_data=66, M=1000, loc=0.25, results_folder=/srv/newpenny/dnn-cs/tsoc/results/TSOC/reconstruction, model_folder=/srv/newpenny/dnn-cs/tsoc/trained_models/TSOC\n"
     ]
    },
    {
     "name": "stdout",
     "output_type": "stream",
     "text": [
      "P: 35.116  TP: 29.102  TPR: 0.832  TNR: 0.988  ACC: 0.944\n"
     ]
    },
    {
     "name": "stderr",
     "output_type": "stream",
     "text": [
      "100%|██████████| 10000/10000 [00:04<00:00, 2463.52it/s]\n",
      "INFO:root:Running test with parameters: n=128, m=48, epochs=1000, lr=0.001, opt=adam, batch_size=128, N_train=2000000, basis=sym6, fs=256, heart_rate=[60, 100], isnr=35, mode=rakeness, orthogonal=True, source=best, seed_matrix=77732, seed_training=0, processes=48, threshold=0.5, gpu=3, train_fraction=0.9, min_lr=1e-05, min_delta=1e-05, patience=40, N_test=10000, corr_name=96af96a7ddfcb2f6059092c250e18f2a, support_method=TSOC, seed_train_data=11, seed_test_data=66, M=1000, loc=0.25, results_folder=/srv/newpenny/dnn-cs/tsoc/results/TSOC/reconstruction, model_folder=/srv/newpenny/dnn-cs/tsoc/trained_models/TSOC\n"
     ]
    },
    {
     "name": "stdout",
     "output_type": "stream",
     "text": [
      "P: 35.018  TP: 29.246  TPR: 0.839  TNR: 0.988  ACC: 0.946\n"
     ]
    },
    {
     "name": "stderr",
     "output_type": "stream",
     "text": [
      "100%|██████████| 10000/10000 [00:03<00:00, 2572.76it/s]\n",
      "INFO:root:Running test with parameters: n=128, m=48, epochs=1000, lr=0.001, opt=adam, batch_size=128, N_train=2000000, basis=sym6, fs=256, heart_rate=[60, 100], isnr=35, mode=rakeness, orthogonal=True, source=best, seed_matrix=88219, seed_training=0, processes=48, threshold=0.5, gpu=3, train_fraction=0.9, min_lr=1e-05, min_delta=1e-05, patience=40, N_test=10000, corr_name=96af96a7ddfcb2f6059092c250e18f2a, support_method=TSOC, seed_train_data=11, seed_test_data=66, M=1000, loc=0.25, results_folder=/srv/newpenny/dnn-cs/tsoc/results/TSOC/reconstruction, model_folder=/srv/newpenny/dnn-cs/tsoc/trained_models/TSOC\n"
     ]
    },
    {
     "name": "stdout",
     "output_type": "stream",
     "text": [
      "P: 35.038  TP: 29.325  TPR: 0.841  TNR: 0.988  ACC: 0.946\n"
     ]
    },
    {
     "name": "stderr",
     "output_type": "stream",
     "text": [
      "100%|██████████| 10000/10000 [00:04<00:00, 2378.47it/s]\n",
      "INFO:root:Running test with parameters: n=128, m=48, epochs=1000, lr=0.001, opt=adam, batch_size=64, N_train=2000000, basis=sym6, fs=256, heart_rate=[60, 100], isnr=35, mode=rakeness, orthogonal=True, source=best, seed_matrix=77732, seed_training=0, processes=48, threshold=0.5, gpu=3, train_fraction=0.9, min_lr=1e-05, min_delta=1e-05, patience=40, N_test=10000, corr_name=96af96a7ddfcb2f6059092c250e18f2a, support_method=TSOC, seed_train_data=11, seed_test_data=66, M=1000, loc=0.25, results_folder=/srv/newpenny/dnn-cs/tsoc/results/TSOC/reconstruction, model_folder=/srv/newpenny/dnn-cs/tsoc/trained_models/TSOC\n"
     ]
    },
    {
     "name": "stdout",
     "output_type": "stream",
     "text": [
      "P: 35.014  TP: 29.155  TPR: 0.837  TNR: 0.988  ACC: 0.945\n"
     ]
    },
    {
     "name": "stderr",
     "output_type": "stream",
     "text": [
      "100%|██████████| 10000/10000 [00:03<00:00, 2631.56it/s]\n",
      "INFO:root:Running test with parameters: n=128, m=48, epochs=1000, lr=0.001, opt=adam, batch_size=64, N_train=2000000, basis=sym6, fs=256, heart_rate=[60, 100], isnr=35, mode=rakeness, orthogonal=True, source=best, seed_matrix=88219, seed_training=0, processes=48, threshold=0.5, gpu=3, train_fraction=0.9, min_lr=1e-05, min_delta=1e-05, patience=40, N_test=10000, corr_name=96af96a7ddfcb2f6059092c250e18f2a, support_method=TSOC, seed_train_data=11, seed_test_data=66, M=1000, loc=0.25, results_folder=/srv/newpenny/dnn-cs/tsoc/results/TSOC/reconstruction, model_folder=/srv/newpenny/dnn-cs/tsoc/trained_models/TSOC\n"
     ]
    },
    {
     "name": "stdout",
     "output_type": "stream",
     "text": [
      "P: 35.04  TP: 29.206  TPR: 0.837  TNR: 0.988  ACC: 0.945\n"
     ]
    },
    {
     "name": "stderr",
     "output_type": "stream",
     "text": [
      "100%|██████████| 10000/10000 [00:04<00:00, 2490.15it/s]\n",
      "INFO:root:Running test with parameters: n=128, m=48, epochs=1000, lr=0.001, opt=adam, batch_size=32, N_train=2000000, basis=sym6, fs=256, heart_rate=[60, 100], isnr=35, mode=rakeness, orthogonal=True, source=best, seed_matrix=30808, seed_training=0, processes=48, threshold=0.5, gpu=3, train_fraction=0.9, min_lr=1e-05, min_delta=1e-05, patience=40, N_test=10000, corr_name=96af96a7ddfcb2f6059092c250e18f2a, support_method=TSOC, seed_train_data=11, seed_test_data=66, M=1000, loc=0.25, results_folder=/srv/newpenny/dnn-cs/tsoc/results/TSOC/reconstruction, model_folder=/srv/newpenny/dnn-cs/tsoc/trained_models/TSOC\n"
     ]
    },
    {
     "name": "stdout",
     "output_type": "stream",
     "text": [
      "P: 35.218  TP: 29.197  TPR: 0.832  TNR: 0.988  ACC: 0.944\n"
     ]
    },
    {
     "name": "stderr",
     "output_type": "stream",
     "text": [
      "100%|██████████| 10000/10000 [00:03<00:00, 2573.47it/s]\n",
      "INFO:root:Running test with parameters: n=128, m=48, epochs=1000, lr=0.001, opt=adam, batch_size=128, N_train=2000000, basis=sym6, fs=256, heart_rate=[60, 100], isnr=35, mode=rakeness, orthogonal=True, source=best, seed_matrix=75680, seed_training=1, processes=48, threshold=0.5, gpu=3, train_fraction=0.9, min_lr=1e-05, min_delta=1e-05, patience=40, N_test=10000, corr_name=96af96a7ddfcb2f6059092c250e18f2a, support_method=TSOC, seed_train_data=11, seed_test_data=66, M=1000, loc=0.25, results_folder=/srv/newpenny/dnn-cs/tsoc/results/TSOC/reconstruction, model_folder=/srv/newpenny/dnn-cs/tsoc/trained_models/TSOC\n"
     ]
    },
    {
     "name": "stdout",
     "output_type": "stream",
     "text": [
      "P: 35.11  TP: 29.294  TPR: 0.838  TNR: 0.988  ACC: 0.946\n"
     ]
    },
    {
     "name": "stderr",
     "output_type": "stream",
     "text": [
      "100%|██████████| 10000/10000 [00:03<00:00, 2644.62it/s]\n",
      "INFO:root:Running test with parameters: n=128, m=48, epochs=1000, lr=0.001, opt=adam, batch_size=128, N_train=2000000, basis=sym6, fs=256, heart_rate=[60, 100], isnr=35, mode=rakeness, orthogonal=True, source=best, seed_matrix=30808, seed_training=1, processes=48, threshold=0.5, gpu=3, train_fraction=0.9, min_lr=1e-05, min_delta=1e-05, patience=40, N_test=10000, corr_name=96af96a7ddfcb2f6059092c250e18f2a, support_method=TSOC, seed_train_data=11, seed_test_data=66, M=1000, loc=0.25, results_folder=/srv/newpenny/dnn-cs/tsoc/results/TSOC/reconstruction, model_folder=/srv/newpenny/dnn-cs/tsoc/trained_models/TSOC\n"
     ]
    },
    {
     "name": "stdout",
     "output_type": "stream",
     "text": [
      "P: 35.222  TP: 29.464  TPR: 0.84  TNR: 0.988  ACC: 0.946\n"
     ]
    },
    {
     "name": "stderr",
     "output_type": "stream",
     "text": [
      "100%|██████████| 10000/10000 [00:03<00:00, 2515.59it/s]\n",
      "INFO:root:Running test with parameters: n=128, m=48, epochs=1000, lr=0.001, opt=adam, batch_size=64, N_train=2000000, basis=sym6, fs=256, heart_rate=[60, 100], isnr=35, mode=rakeness, orthogonal=True, source=best, seed_matrix=75680, seed_training=1, processes=48, threshold=0.5, gpu=3, train_fraction=0.9, min_lr=1e-05, min_delta=1e-05, patience=40, N_test=10000, corr_name=96af96a7ddfcb2f6059092c250e18f2a, support_method=TSOC, seed_train_data=11, seed_test_data=66, M=1000, loc=0.25, results_folder=/srv/newpenny/dnn-cs/tsoc/results/TSOC/reconstruction, model_folder=/srv/newpenny/dnn-cs/tsoc/trained_models/TSOC\n"
     ]
    },
    {
     "name": "stdout",
     "output_type": "stream",
     "text": [
      "P: 35.114  TP: 29.215  TPR: 0.836  TNR: 0.988  ACC: 0.945\n"
     ]
    },
    {
     "name": "stderr",
     "output_type": "stream",
     "text": [
      "100%|██████████| 10000/10000 [00:03<00:00, 2681.40it/s]\n",
      "INFO:root:Running test with parameters: n=128, m=48, epochs=1000, lr=0.001, opt=adam, batch_size=64, N_train=2000000, basis=sym6, fs=256, heart_rate=[60, 100], isnr=35, mode=rakeness, orthogonal=True, source=best, seed_matrix=30808, seed_training=1, processes=48, threshold=0.5, gpu=3, train_fraction=0.9, min_lr=1e-05, min_delta=1e-05, patience=40, N_test=10000, corr_name=96af96a7ddfcb2f6059092c250e18f2a, support_method=TSOC, seed_train_data=11, seed_test_data=66, M=1000, loc=0.25, results_folder=/srv/newpenny/dnn-cs/tsoc/results/TSOC/reconstruction, model_folder=/srv/newpenny/dnn-cs/tsoc/trained_models/TSOC\n"
     ]
    },
    {
     "name": "stdout",
     "output_type": "stream",
     "text": [
      "P: 35.219  TP: 29.313  TPR: 0.836  TNR: 0.988  ACC: 0.945\n"
     ]
    },
    {
     "name": "stderr",
     "output_type": "stream",
     "text": [
      "100%|██████████| 10000/10000 [00:03<00:00, 2548.52it/s]\n",
      "INFO:root:Running test with parameters: n=128, m=48, epochs=1000, lr=0.001, opt=adam, batch_size=128, N_train=2000000, basis=sym6, fs=256, heart_rate=[60, 100], isnr=35, mode=rakeness, orthogonal=True, source=best, seed_matrix=88219, seed_training=1, processes=48, threshold=0.5, gpu=3, train_fraction=0.9, min_lr=1e-05, min_delta=1e-05, patience=40, N_test=10000, corr_name=96af96a7ddfcb2f6059092c250e18f2a, support_method=TSOC, seed_train_data=11, seed_test_data=66, M=1000, loc=0.25, results_folder=/srv/newpenny/dnn-cs/tsoc/results/TSOC/reconstruction, model_folder=/srv/newpenny/dnn-cs/tsoc/trained_models/TSOC\n"
     ]
    },
    {
     "name": "stdout",
     "output_type": "stream",
     "text": [
      "P: 35.038  TP: 29.318  TPR: 0.841  TNR: 0.988  ACC: 0.946\n"
     ]
    },
    {
     "name": "stderr",
     "output_type": "stream",
     "text": [
      "100%|██████████| 10000/10000 [00:03<00:00, 2523.80it/s]\n",
      "INFO:root:Running test with parameters: n=128, m=48, epochs=1000, lr=0.001, opt=adam, batch_size=128, N_train=2000000, basis=sym6, fs=256, heart_rate=[60, 100], isnr=35, mode=rakeness, orthogonal=True, source=best, seed_matrix=77732, seed_training=1, processes=48, threshold=0.5, gpu=3, train_fraction=0.9, min_lr=1e-05, min_delta=1e-05, patience=40, N_test=10000, corr_name=96af96a7ddfcb2f6059092c250e18f2a, support_method=TSOC, seed_train_data=11, seed_test_data=66, M=1000, loc=0.25, results_folder=/srv/newpenny/dnn-cs/tsoc/results/TSOC/reconstruction, model_folder=/srv/newpenny/dnn-cs/tsoc/trained_models/TSOC\n"
     ]
    },
    {
     "name": "stdout",
     "output_type": "stream",
     "text": [
      "P: 35.018  TP: 29.305  TPR: 0.841  TNR: 0.988  ACC: 0.947\n"
     ]
    },
    {
     "name": "stderr",
     "output_type": "stream",
     "text": [
      "100%|██████████| 10000/10000 [00:03<00:00, 2730.38it/s]\n"
     ]
    }
   ],
   "source": [
    "for model_name in trained_models:\n",
    "    params = parse_parameters(model_name)\n",
    "    orthogonal_flag = \"--orthogonal\" if params['ort'] else \"\"\n",
    "    heart_rate = params['hr'].replace('-', ' ')\n",
    "    command = f\"\"\"\n",
    "        python ../experiments/decoder_evaluation.py \\\n",
    "            --n {params['n']} \\\n",
    "            --m {params['m']} \\\n",
    "            --seed_training {params['seedtrain']} \\\n",
    "            --mode {params['mode']} \\\n",
    "            --seed_matrix {params['seedmat']} \\\n",
    "            --isnr {params['isnr']} \\\n",
    "            --N_train {params['N']} \\\n",
    "            --train_fraction {params['tf']} \\\n",
    "            --N_test 10000 \\\n",
    "            --basis sym6 \\\n",
    "            --fs {params['fs']} \\\n",
    "            --heart_rate {heart_rate} \\\n",
    "            {orthogonal_flag} \\\n",
    "            --source {params['src']} \\\n",
    "            --processes 48 \\\n",
    "            --gpu 3 \\\n",
    "            --min_lr {params['minlr']} \\\n",
    "            --min_delta {params['mind']} \\\n",
    "            --patience {params['p']} \\\n",
    "            --batch_size {params['bs']} \\\n",
    "            --threshold {params['th']} \\\n",
    "            --epochs {params['epochs']} \\\n",
    "            --lr {params['lr']} \\\n",
    "            --optimizer {params['opt']}\n",
    "        \"\"\"\n",
    "    os.system(command)"
   ]
  },
  {
   "cell_type": "markdown",
   "metadata": {},
   "source": []
  },
  {
   "cell_type": "markdown",
   "metadata": {},
   "source": [
    "### Aggregate performance results"
   ]
  },
  {
   "cell_type": "code",
   "execution_count": 7,
   "metadata": {},
   "outputs": [
    {
     "data": {
      "text/plain": [
       "['TSOC-N=2000000_n=128_m=48_fs=256_hr=60-100_isnr=35_mode=standard_src=best_ort=True_seedmat=52744_epochs=1000_bs=64_opt=adam_lr=0.001_th=0.5_tf=0.9_minlr=1e-05_p=40_mind=0.0001_seeddata=11_seedtrain=0.pkl',\n",
       " 'TSOC-N=2000000_n=128_m=48_fs=256_hr=60-100_isnr=35_mode=rakeness_src=best_ort=True_seedmat=30808_epochs=1000_bs=64_opt=adam_lr=0.001_th=0.5_tf=0.9_minlr=1e-05_p=40_mind=0.0001_seeddata=11_seedtrain=0_corr=96af96a7ddfcb2f6059092c250e18f2a_loc=0.25.pkl',\n",
       " 'TSOC-N=2000000_n=128_m=48_fs=256_hr=60-100_isnr=35_mode=standard_src=best_ort=True_seedmat=52744_epochs=1000_bs=50_opt=sgd_lr=0.1_th=0.5_tf=0.9_minlr=0.001_p=40_mind=0.0001_seeddata=11_seedtrain=0.pkl',\n",
       " 'TSOC-N=2000000_n=128_m=48_fs=256_hr=60-100_isnr=35_mode=rakeness_src=best_ort=True_seedmat=30808_epochs=1000_bs=50_opt=sgd_lr=0.1_th=0.5_tf=0.9_minlr=0.001_p=40_mind=0.0001_seeddata=11_seedtrain=0_corr=96af96a7ddfcb2f6059092c250e18f2a_loc=0.25.pkl',\n",
       " 'TSOC-N=2000000_n=128_m=48_fs=256_hr=60-100_isnr=35_mode=standard_src=random_ort=False_seedmat=0_epochs=1000_bs=64_opt=adam_lr=0.001_th=0.5_tf=0.9_minlr=1e-05_p=40_mind=0.0001_seeddata=11_seedtrain=0.pkl',\n",
       " 'TSOC-N=2000000_n=128_m=48_fs=256_hr=60-100_isnr=35_mode=standard_src=random_ort=False_seedmat=0_epochs=1000_bs=50_opt=sgd_lr=0.1_th=0.5_tf=0.9_minlr=0.001_p=40_mind=0.0001_seeddata=11_seedtrain=0.pkl',\n",
       " 'TSOC-N=2000000_n=128_m=48_fs=256_hr=60-100_isnr=35_mode=rakeness_src=best_ort=True_seedmat=30808_epochs=1000_bs=64_opt=adam_lr=0.001_th=0.5_tf=0.9_minlr=1e-05_p=40_mind=0.0001_seeddata=11_seedtrain=1_corr=96af96a7ddfcb2f6059092c250e18f2a_loc=0.25.pkl',\n",
       " 'TSOC-N=2000000_n=128_m=48_fs=256_hr=60-100_isnr=35_mode=rakeness_src=best_ort=True_seedmat=75680_epochs=1000_bs=64_opt=adam_lr=0.001_th=0.5_tf=0.9_minlr=1e-05_p=40_mind=1e-05_seeddata=11_seedtrain=0_corr=96af96a7ddfcb2f6059092c250e18f2a_loc=0.25.pkl',\n",
       " 'TSOC-N=2000000_n=128_m=48_fs=256_hr=60-100_isnr=35_mode=rakeness_src=best_ort=True_seedmat=75680_epochs=1000_bs=128_opt=adam_lr=0.001_th=0.5_tf=0.9_minlr=1e-05_p=40_mind=1e-05_seeddata=11_seedtrain=0_corr=96af96a7ddfcb2f6059092c250e18f2a_loc=0.25.pkl',\n",
       " 'TSOC-N=2000000_n=128_m=48_fs=256_hr=60-100_isnr=35_mode=rakeness_src=best_ort=True_seedmat=30808_epochs=1000_bs=128_opt=adam_lr=0.001_th=0.5_tf=0.9_minlr=1e-05_p=40_mind=1e-05_seeddata=11_seedtrain=0_corr=96af96a7ddfcb2f6059092c250e18f2a_loc=0.25.pkl',\n",
       " 'TSOC-N=2000000_n=128_m=48_fs=256_hr=60-100_isnr=35_mode=rakeness_src=best_ort=True_seedmat=30808_epochs=1000_bs=64_opt=adam_lr=0.001_th=0.5_tf=0.9_minlr=1e-05_p=40_mind=1e-05_seeddata=11_seedtrain=0_corr=96af96a7ddfcb2f6059092c250e18f2a_loc=0.25.pkl',\n",
       " 'TSOC-N=2000000_n=128_m=48_fs=256_hr=60-100_isnr=35_mode=rakeness_src=best_ort=True_seedmat=75680_epochs=1000_bs=32_opt=adam_lr=0.001_th=0.5_tf=0.9_minlr=1e-05_p=40_mind=1e-05_seeddata=11_seedtrain=0_corr=96af96a7ddfcb2f6059092c250e18f2a_loc=0.25.pkl',\n",
       " 'TSOC-N=2000000_n=128_m=48_fs=256_hr=60-100_isnr=35_mode=rakeness_src=best_ort=True_seedmat=77732_epochs=1000_bs=128_opt=adam_lr=0.001_th=0.5_tf=0.9_minlr=1e-05_p=40_mind=1e-05_seeddata=11_seedtrain=0_corr=96af96a7ddfcb2f6059092c250e18f2a_loc=0.25.pkl',\n",
       " 'TSOC-N=2000000_n=128_m=48_fs=256_hr=60-100_isnr=35_mode=rakeness_src=best_ort=True_seedmat=88219_epochs=1000_bs=128_opt=adam_lr=0.001_th=0.5_tf=0.9_minlr=1e-05_p=40_mind=1e-05_seeddata=11_seedtrain=0_corr=96af96a7ddfcb2f6059092c250e18f2a_loc=0.25.pkl',\n",
       " 'TSOC-N=2000000_n=128_m=48_fs=256_hr=60-100_isnr=35_mode=rakeness_src=best_ort=True_seedmat=77732_epochs=1000_bs=64_opt=adam_lr=0.001_th=0.5_tf=0.9_minlr=1e-05_p=40_mind=1e-05_seeddata=11_seedtrain=0_corr=96af96a7ddfcb2f6059092c250e18f2a_loc=0.25.pkl',\n",
       " 'TSOC-N=2000000_n=128_m=48_fs=256_hr=60-100_isnr=35_mode=rakeness_src=best_ort=True_seedmat=88219_epochs=1000_bs=64_opt=adam_lr=0.001_th=0.5_tf=0.9_minlr=1e-05_p=40_mind=1e-05_seeddata=11_seedtrain=0_corr=96af96a7ddfcb2f6059092c250e18f2a_loc=0.25.pkl',\n",
       " 'TSOC-N=2000000_n=128_m=48_fs=256_hr=60-100_isnr=35_mode=rakeness_src=best_ort=True_seedmat=30808_epochs=1000_bs=32_opt=adam_lr=0.001_th=0.5_tf=0.9_minlr=1e-05_p=40_mind=1e-05_seeddata=11_seedtrain=0_corr=96af96a7ddfcb2f6059092c250e18f2a_loc=0.25.pkl',\n",
       " 'TSOC-N=2000000_n=128_m=48_fs=256_hr=60-100_isnr=35_mode=rakeness_src=best_ort=True_seedmat=75680_epochs=1000_bs=128_opt=adam_lr=0.001_th=0.5_tf=0.9_minlr=1e-05_p=40_mind=1e-05_seeddata=11_seedtrain=1_corr=96af96a7ddfcb2f6059092c250e18f2a_loc=0.25.pkl',\n",
       " 'TSOC-N=2000000_n=128_m=48_fs=256_hr=60-100_isnr=35_mode=rakeness_src=best_ort=True_seedmat=30808_epochs=1000_bs=128_opt=adam_lr=0.001_th=0.5_tf=0.9_minlr=1e-05_p=40_mind=1e-05_seeddata=11_seedtrain=1_corr=96af96a7ddfcb2f6059092c250e18f2a_loc=0.25.pkl',\n",
       " 'TSOC-N=2000000_n=128_m=48_fs=256_hr=60-100_isnr=35_mode=rakeness_src=best_ort=True_seedmat=75680_epochs=1000_bs=64_opt=adam_lr=0.001_th=0.5_tf=0.9_minlr=1e-05_p=40_mind=1e-05_seeddata=11_seedtrain=1_corr=96af96a7ddfcb2f6059092c250e18f2a_loc=0.25.pkl',\n",
       " 'TSOC-N=2000000_n=128_m=48_fs=256_hr=60-100_isnr=35_mode=rakeness_src=best_ort=True_seedmat=30808_epochs=1000_bs=64_opt=adam_lr=0.001_th=0.5_tf=0.9_minlr=1e-05_p=40_mind=1e-05_seeddata=11_seedtrain=1_corr=96af96a7ddfcb2f6059092c250e18f2a_loc=0.25.pkl',\n",
       " 'TSOC-N=2000000_n=128_m=48_fs=256_hr=60-100_isnr=35_mode=rakeness_src=best_ort=True_seedmat=88219_epochs=1000_bs=128_opt=adam_lr=0.001_th=0.5_tf=0.9_minlr=1e-05_p=40_mind=1e-05_seeddata=11_seedtrain=1_corr=96af96a7ddfcb2f6059092c250e18f2a_loc=0.25.pkl',\n",
       " 'TSOC-N=2000000_n=128_m=48_fs=256_hr=60-100_isnr=35_mode=rakeness_src=best_ort=True_seedmat=77732_epochs=1000_bs=128_opt=adam_lr=0.001_th=0.5_tf=0.9_minlr=1e-05_p=40_mind=1e-05_seeddata=11_seedtrain=1_corr=96af96a7ddfcb2f6059092c250e18f2a_loc=0.25.pkl']"
      ]
     },
     "execution_count": 7,
     "metadata": {},
     "output_type": "execute_result"
    }
   ],
   "source": [
    "results_folder = '/srv/newpenny/dnn-cs/tsoc/results/TSOC/reconstruction'\n",
    "os.listdir(results_folder)\n"
   ]
  },
  {
   "cell_type": "code",
   "execution_count": 27,
   "metadata": {},
   "outputs": [],
   "source": [
    "m_list = [32, 48, 64]\n",
    "mode_list = ['std', 'rak']\n",
    "ort_list = [True, False]\n",
    "seed_mat_list = []\n",
    "seed_train_list = [0, 1, 2, 3, 4]\n",
    "opt_list = ['adam', 'sgd']\n",
    "bs_list = [32, 64, 128]\n",
    "min_delta_list = [1e-4, 1e-5]\n",
    "\n",
    "index = pd.MultiIndex.from_product(\n",
    "    [m_list, mode_list, ort_list, seed_mat_list, seed_train_list, opt_list, bs_list, min_delta_list],\n",
    "      names=['m', 'mode', 'ort', 'seedmat', 'seedtrain', 'opt', 'bs', 'mind'])"
   ]
  },
  {
   "cell_type": "code",
   "execution_count": 28,
   "metadata": {},
   "outputs": [],
   "source": [
    "results = pd.DataFrame(index=index, columns=['P', 'TP', 'TPR', 'TNR', 'ACC', 'RSNR'], dtype=np.float64)\n",
    "# results = pd.DataFrame(columns=['P', 'TP', 'TPR', 'TNR', 'ACC', 'RSNR'], dtype=np.float64)\n",
    "for model_name in trained_models:\n",
    "    params = parse_parameters(model_name)\n",
    "    results_path = os.path.join(results_folder, f\"{model_name.split('.pth')[0]}.pkl\")\n",
    "    if os.path.exists(results_path):\n",
    "        result = pd.read_pickle(results_path)\n",
    "        results.loc[params['m'], params['mode'], params['ort'], params['seedmat'], params['seedtrain'], params['opt'], params['bs'], params['mind']] = result"
   ]
  },
  {
   "cell_type": "code",
   "execution_count": 29,
   "metadata": {},
   "outputs": [
    {
     "data": {
      "text/html": [
       "<div>\n",
       "<style scoped>\n",
       "    .dataframe tbody tr th:only-of-type {\n",
       "        vertical-align: middle;\n",
       "    }\n",
       "\n",
       "    .dataframe tbody tr th {\n",
       "        vertical-align: top;\n",
       "    }\n",
       "\n",
       "    .dataframe thead th {\n",
       "        text-align: right;\n",
       "    }\n",
       "</style>\n",
       "<table border=\"1\" class=\"dataframe\">\n",
       "  <thead>\n",
       "    <tr style=\"text-align: right;\">\n",
       "      <th></th>\n",
       "      <th></th>\n",
       "      <th></th>\n",
       "      <th></th>\n",
       "      <th></th>\n",
       "      <th></th>\n",
       "      <th>P</th>\n",
       "      <th>TP</th>\n",
       "      <th>TPR</th>\n",
       "      <th>TNR</th>\n",
       "      <th>ACC</th>\n",
       "      <th>RSNR</th>\n",
       "    </tr>\n",
       "    <tr>\n",
       "      <th>m</th>\n",
       "      <th>mode</th>\n",
       "      <th>ort</th>\n",
       "      <th>seedtrain</th>\n",
       "      <th>opt</th>\n",
       "      <th>mind</th>\n",
       "      <th></th>\n",
       "      <th></th>\n",
       "      <th></th>\n",
       "      <th></th>\n",
       "      <th></th>\n",
       "      <th></th>\n",
       "    </tr>\n",
       "  </thead>\n",
       "  <tbody>\n",
       "    <tr>\n",
       "      <th rowspan=\"4\" valign=\"top\">48</th>\n",
       "      <th rowspan=\"4\" valign=\"top\">rakeness</th>\n",
       "      <th rowspan=\"4\" valign=\"top\">True</th>\n",
       "      <th>1</th>\n",
       "      <th>adam</th>\n",
       "      <th>0.00001</th>\n",
       "      <td>35.219447</td>\n",
       "      <td>29.312898</td>\n",
       "      <td>0.835748</td>\n",
       "      <td>0.987916</td>\n",
       "      <td>0.944900</td>\n",
       "      <td>32.546757</td>\n",
       "    </tr>\n",
       "    <tr>\n",
       "      <th>0</th>\n",
       "      <th>adam</th>\n",
       "      <th>0.00001</th>\n",
       "      <td>35.219447</td>\n",
       "      <td>29.344447</td>\n",
       "      <td>0.836768</td>\n",
       "      <td>0.987927</td>\n",
       "      <td>0.945150</td>\n",
       "      <td>32.546387</td>\n",
       "    </tr>\n",
       "    <tr>\n",
       "      <th>1</th>\n",
       "      <th>adam</th>\n",
       "      <th>0.00010</th>\n",
       "      <td>35.219447</td>\n",
       "      <td>29.294785</td>\n",
       "      <td>0.835287</td>\n",
       "      <td>0.987997</td>\n",
       "      <td>0.944823</td>\n",
       "      <td>32.532460</td>\n",
       "    </tr>\n",
       "    <tr>\n",
       "      <th>0</th>\n",
       "      <th>adam</th>\n",
       "      <th>0.00010</th>\n",
       "      <td>35.219447</td>\n",
       "      <td>29.273587</td>\n",
       "      <td>0.834667</td>\n",
       "      <td>0.987873</td>\n",
       "      <td>0.944559</td>\n",
       "      <td>32.521255</td>\n",
       "    </tr>\n",
       "  </tbody>\n",
       "</table>\n",
       "</div>"
      ],
      "text/plain": [
       "                                                 P         TP       TPR  \\\n",
       "m  mode     ort  seedtrain opt  mind                                      \n",
       "48 rakeness True 1         adam 0.00001  35.219447  29.312898  0.835748   \n",
       "                 0         adam 0.00001  35.219447  29.344447  0.836768   \n",
       "                 1         adam 0.00010  35.219447  29.294785  0.835287   \n",
       "                 0         adam 0.00010  35.219447  29.273587  0.834667   \n",
       "\n",
       "                                              TNR       ACC       RSNR  \n",
       "m  mode     ort  seedtrain opt  mind                                    \n",
       "48 rakeness True 1         adam 0.00001  0.987916  0.944900  32.546757  \n",
       "                 0         adam 0.00001  0.987927  0.945150  32.546387  \n",
       "                 1         adam 0.00010  0.987997  0.944823  32.532460  \n",
       "                 0         adam 0.00010  0.987873  0.944559  32.521255  "
      ]
     },
     "execution_count": 29,
     "metadata": {},
     "output_type": "execute_result"
    }
   ],
   "source": [
    "# min delta\n",
    "results.xs(key=30808, level='seedmat').xs(key=64, level='bs').sort_values('RSNR', ascending=False)"
   ]
  },
  {
   "cell_type": "code",
   "execution_count": 30,
   "metadata": {},
   "outputs": [
    {
     "data": {
      "text/html": [
       "<div>\n",
       "<style scoped>\n",
       "    .dataframe tbody tr th:only-of-type {\n",
       "        vertical-align: middle;\n",
       "    }\n",
       "\n",
       "    .dataframe tbody tr th {\n",
       "        vertical-align: top;\n",
       "    }\n",
       "\n",
       "    .dataframe thead th {\n",
       "        text-align: right;\n",
       "    }\n",
       "</style>\n",
       "<table border=\"1\" class=\"dataframe\">\n",
       "  <thead>\n",
       "    <tr style=\"text-align: right;\">\n",
       "      <th></th>\n",
       "      <th></th>\n",
       "      <th></th>\n",
       "      <th></th>\n",
       "      <th></th>\n",
       "      <th></th>\n",
       "      <th>P</th>\n",
       "      <th>TP</th>\n",
       "      <th>TPR</th>\n",
       "      <th>TNR</th>\n",
       "      <th>ACC</th>\n",
       "      <th>RSNR</th>\n",
       "    </tr>\n",
       "    <tr>\n",
       "      <th>m</th>\n",
       "      <th>mode</th>\n",
       "      <th>ort</th>\n",
       "      <th>seedtrain</th>\n",
       "      <th>opt</th>\n",
       "      <th>bs</th>\n",
       "      <th></th>\n",
       "      <th></th>\n",
       "      <th></th>\n",
       "      <th></th>\n",
       "      <th></th>\n",
       "      <th></th>\n",
       "    </tr>\n",
       "  </thead>\n",
       "  <tbody>\n",
       "    <tr>\n",
       "      <th rowspan=\"5\" valign=\"top\">48</th>\n",
       "      <th rowspan=\"5\" valign=\"top\">rakeness</th>\n",
       "      <th rowspan=\"5\" valign=\"top\">True</th>\n",
       "      <th>0</th>\n",
       "      <th>adam</th>\n",
       "      <th>128</th>\n",
       "      <td>35.222409</td>\n",
       "      <td>29.461828</td>\n",
       "      <td>0.839948</td>\n",
       "      <td>0.988268</td>\n",
       "      <td>0.946287</td>\n",
       "      <td>32.628118</td>\n",
       "    </tr>\n",
       "    <tr>\n",
       "      <th rowspan=\"2\" valign=\"top\">1</th>\n",
       "      <th rowspan=\"2\" valign=\"top\">adam</th>\n",
       "      <th>128</th>\n",
       "      <td>35.222409</td>\n",
       "      <td>29.463608</td>\n",
       "      <td>0.839995</td>\n",
       "      <td>0.988369</td>\n",
       "      <td>0.946376</td>\n",
       "      <td>32.621216</td>\n",
       "    </tr>\n",
       "    <tr>\n",
       "      <th>64</th>\n",
       "      <td>35.219447</td>\n",
       "      <td>29.312898</td>\n",
       "      <td>0.835748</td>\n",
       "      <td>0.987916</td>\n",
       "      <td>0.944900</td>\n",
       "      <td>32.546757</td>\n",
       "    </tr>\n",
       "    <tr>\n",
       "      <th rowspan=\"2\" valign=\"top\">0</th>\n",
       "      <th rowspan=\"2\" valign=\"top\">adam</th>\n",
       "      <th>64</th>\n",
       "      <td>35.219447</td>\n",
       "      <td>29.344447</td>\n",
       "      <td>0.836768</td>\n",
       "      <td>0.987927</td>\n",
       "      <td>0.945150</td>\n",
       "      <td>32.546387</td>\n",
       "    </tr>\n",
       "    <tr>\n",
       "      <th>32</th>\n",
       "      <td>35.217951</td>\n",
       "      <td>29.196985</td>\n",
       "      <td>0.832486</td>\n",
       "      <td>0.987760</td>\n",
       "      <td>0.943901</td>\n",
       "      <td>32.473391</td>\n",
       "    </tr>\n",
       "  </tbody>\n",
       "</table>\n",
       "</div>"
      ],
      "text/plain": [
       "                                             P         TP       TPR       TNR  \\\n",
       "m  mode     ort  seedtrain opt  bs                                              \n",
       "48 rakeness True 0         adam 128  35.222409  29.461828  0.839948  0.988268   \n",
       "                 1         adam 128  35.222409  29.463608  0.839995  0.988369   \n",
       "                                64   35.219447  29.312898  0.835748  0.987916   \n",
       "                 0         adam 64   35.219447  29.344447  0.836768  0.987927   \n",
       "                                32   35.217951  29.196985  0.832486  0.987760   \n",
       "\n",
       "                                          ACC       RSNR  \n",
       "m  mode     ort  seedtrain opt  bs                        \n",
       "48 rakeness True 0         adam 128  0.946287  32.628118  \n",
       "                 1         adam 128  0.946376  32.621216  \n",
       "                                64   0.944900  32.546757  \n",
       "                 0         adam 64   0.945150  32.546387  \n",
       "                                32   0.943901  32.473391  "
      ]
     },
     "execution_count": 30,
     "metadata": {},
     "output_type": "execute_result"
    }
   ],
   "source": [
    "# batch size\n",
    "results.xs(key=30808, level='seedmat').xs(key=1e-5, level='mind').sort_values('RSNR', ascending=False)"
   ]
  },
  {
   "cell_type": "code",
   "execution_count": 18,
   "metadata": {},
   "outputs": [
    {
     "data": {
      "text/html": [
       "<div>\n",
       "<style scoped>\n",
       "    .dataframe tbody tr th:only-of-type {\n",
       "        vertical-align: middle;\n",
       "    }\n",
       "\n",
       "    .dataframe tbody tr th {\n",
       "        vertical-align: top;\n",
       "    }\n",
       "\n",
       "    .dataframe thead th {\n",
       "        text-align: right;\n",
       "    }\n",
       "</style>\n",
       "<table border=\"1\" class=\"dataframe\">\n",
       "  <thead>\n",
       "    <tr style=\"text-align: right;\">\n",
       "      <th></th>\n",
       "      <th></th>\n",
       "      <th></th>\n",
       "      <th></th>\n",
       "      <th></th>\n",
       "      <th></th>\n",
       "      <th></th>\n",
       "      <th>P</th>\n",
       "      <th>TP</th>\n",
       "      <th>TPR</th>\n",
       "      <th>TNR</th>\n",
       "      <th>ACC</th>\n",
       "      <th>RSNR</th>\n",
       "    </tr>\n",
       "    <tr>\n",
       "      <th>m</th>\n",
       "      <th>mode</th>\n",
       "      <th>ort</th>\n",
       "      <th>seedmat</th>\n",
       "      <th>seedtrain</th>\n",
       "      <th>opt</th>\n",
       "      <th>min_d</th>\n",
       "      <th></th>\n",
       "      <th></th>\n",
       "      <th></th>\n",
       "      <th></th>\n",
       "      <th></th>\n",
       "      <th></th>\n",
       "    </tr>\n",
       "  </thead>\n",
       "  <tbody>\n",
       "    <tr>\n",
       "      <th rowspan=\"8\" valign=\"top\">48</th>\n",
       "      <th rowspan=\"8\" valign=\"top\">rakeness</th>\n",
       "      <th rowspan=\"8\" valign=\"top\">True</th>\n",
       "      <th rowspan=\"2\" valign=\"top\">30808</th>\n",
       "      <th>0</th>\n",
       "      <th>adam</th>\n",
       "      <th>0.00001</th>\n",
       "      <td>35.222409</td>\n",
       "      <td>29.461828</td>\n",
       "      <td>0.839948</td>\n",
       "      <td>0.988268</td>\n",
       "      <td>0.946287</td>\n",
       "      <td>32.628118</td>\n",
       "    </tr>\n",
       "    <tr>\n",
       "      <th>1</th>\n",
       "      <th>adam</th>\n",
       "      <th>0.00001</th>\n",
       "      <td>35.222409</td>\n",
       "      <td>29.463608</td>\n",
       "      <td>0.839995</td>\n",
       "      <td>0.988369</td>\n",
       "      <td>0.946376</td>\n",
       "      <td>32.621216</td>\n",
       "    </tr>\n",
       "    <tr>\n",
       "      <th>77732</th>\n",
       "      <th>1</th>\n",
       "      <th>adam</th>\n",
       "      <th>0.00001</th>\n",
       "      <td>35.017900</td>\n",
       "      <td>29.305281</td>\n",
       "      <td>0.840939</td>\n",
       "      <td>0.988395</td>\n",
       "      <td>0.946731</td>\n",
       "      <td>32.542928</td>\n",
       "    </tr>\n",
       "    <tr>\n",
       "      <th rowspan=\"2\" valign=\"top\">88219</th>\n",
       "      <th>0</th>\n",
       "      <th>adam</th>\n",
       "      <th>0.00001</th>\n",
       "      <td>35.038370</td>\n",
       "      <td>29.324763</td>\n",
       "      <td>0.840735</td>\n",
       "      <td>0.987978</td>\n",
       "      <td>0.946424</td>\n",
       "      <td>32.530562</td>\n",
       "    </tr>\n",
       "    <tr>\n",
       "      <th>1</th>\n",
       "      <th>adam</th>\n",
       "      <th>0.00001</th>\n",
       "      <td>35.038370</td>\n",
       "      <td>29.318335</td>\n",
       "      <td>0.840520</td>\n",
       "      <td>0.987808</td>\n",
       "      <td>0.946247</td>\n",
       "      <td>32.521453</td>\n",
       "    </tr>\n",
       "    <tr>\n",
       "      <th>75680</th>\n",
       "      <th>0</th>\n",
       "      <th>adam</th>\n",
       "      <th>0.00001</th>\n",
       "      <td>35.109771</td>\n",
       "      <td>29.315862</td>\n",
       "      <td>0.838741</td>\n",
       "      <td>0.988267</td>\n",
       "      <td>0.946019</td>\n",
       "      <td>32.521272</td>\n",
       "    </tr>\n",
       "    <tr>\n",
       "      <th>77732</th>\n",
       "      <th>0</th>\n",
       "      <th>adam</th>\n",
       "      <th>0.00001</th>\n",
       "      <td>35.017900</td>\n",
       "      <td>29.245945</td>\n",
       "      <td>0.839264</td>\n",
       "      <td>0.988349</td>\n",
       "      <td>0.946241</td>\n",
       "      <td>32.510246</td>\n",
       "    </tr>\n",
       "    <tr>\n",
       "      <th>75680</th>\n",
       "      <th>1</th>\n",
       "      <th>adam</th>\n",
       "      <th>0.00001</th>\n",
       "      <td>35.109771</td>\n",
       "      <td>29.294205</td>\n",
       "      <td>0.838148</td>\n",
       "      <td>0.988275</td>\n",
       "      <td>0.945859</td>\n",
       "      <td>32.502708</td>\n",
       "    </tr>\n",
       "  </tbody>\n",
       "</table>\n",
       "</div>"
      ],
      "text/plain": [
       "                                                         P         TP  \\\n",
       "m  mode     ort  seedmat seedtrain opt  min_d                           \n",
       "48 rakeness True 30808   0         adam 0.00001  35.222409  29.461828   \n",
       "                         1         adam 0.00001  35.222409  29.463608   \n",
       "                 77732   1         adam 0.00001  35.017900  29.305281   \n",
       "                 88219   0         adam 0.00001  35.038370  29.324763   \n",
       "                         1         adam 0.00001  35.038370  29.318335   \n",
       "                 75680   0         adam 0.00001  35.109771  29.315862   \n",
       "                 77732   0         adam 0.00001  35.017900  29.245945   \n",
       "                 75680   1         adam 0.00001  35.109771  29.294205   \n",
       "\n",
       "                                                      TPR       TNR       ACC  \\\n",
       "m  mode     ort  seedmat seedtrain opt  min_d                                   \n",
       "48 rakeness True 30808   0         adam 0.00001  0.839948  0.988268  0.946287   \n",
       "                         1         adam 0.00001  0.839995  0.988369  0.946376   \n",
       "                 77732   1         adam 0.00001  0.840939  0.988395  0.946731   \n",
       "                 88219   0         adam 0.00001  0.840735  0.987978  0.946424   \n",
       "                         1         adam 0.00001  0.840520  0.987808  0.946247   \n",
       "                 75680   0         adam 0.00001  0.838741  0.988267  0.946019   \n",
       "                 77732   0         adam 0.00001  0.839264  0.988349  0.946241   \n",
       "                 75680   1         adam 0.00001  0.838148  0.988275  0.945859   \n",
       "\n",
       "                                                      RSNR  \n",
       "m  mode     ort  seedmat seedtrain opt  min_d               \n",
       "48 rakeness True 30808   0         adam 0.00001  32.628118  \n",
       "                         1         adam 0.00001  32.621216  \n",
       "                 77732   1         adam 0.00001  32.542928  \n",
       "                 88219   0         adam 0.00001  32.530562  \n",
       "                         1         adam 0.00001  32.521453  \n",
       "                 75680   0         adam 0.00001  32.521272  \n",
       "                 77732   0         adam 0.00001  32.510246  \n",
       "                 75680   1         adam 0.00001  32.502708  "
      ]
     },
     "execution_count": 18,
     "metadata": {},
     "output_type": "execute_result"
    }
   ],
   "source": [
    "results.xs(key=128, level='bs').sort_values('RSNR', ascending=False)"
   ]
  },
  {
   "cell_type": "code",
   "execution_count": null,
   "metadata": {},
   "outputs": [
    {
     "data": {
      "text/html": [
       "<div>\n",
       "<style scoped>\n",
       "    .dataframe tbody tr th:only-of-type {\n",
       "        vertical-align: middle;\n",
       "    }\n",
       "\n",
       "    .dataframe tbody tr th {\n",
       "        vertical-align: top;\n",
       "    }\n",
       "\n",
       "    .dataframe thead th {\n",
       "        text-align: right;\n",
       "    }\n",
       "</style>\n",
       "<table border=\"1\" class=\"dataframe\">\n",
       "  <thead>\n",
       "    <tr style=\"text-align: right;\">\n",
       "      <th></th>\n",
       "      <th></th>\n",
       "      <th></th>\n",
       "      <th></th>\n",
       "      <th></th>\n",
       "      <th></th>\n",
       "      <th></th>\n",
       "      <th>P</th>\n",
       "      <th>TP</th>\n",
       "      <th>TPR</th>\n",
       "      <th>TNR</th>\n",
       "      <th>ACC</th>\n",
       "      <th>RSNR</th>\n",
       "    </tr>\n",
       "    <tr>\n",
       "      <th>mode</th>\n",
       "      <th>ort</th>\n",
       "      <th>seedmat</th>\n",
       "      <th>seedtrain</th>\n",
       "      <th>opt</th>\n",
       "      <th>bs</th>\n",
       "      <th>min_d</th>\n",
       "      <th></th>\n",
       "      <th></th>\n",
       "      <th></th>\n",
       "      <th></th>\n",
       "      <th></th>\n",
       "      <th></th>\n",
       "    </tr>\n",
       "  </thead>\n",
       "  <tbody>\n",
       "    <tr>\n",
       "      <th rowspan=\"19\" valign=\"top\">rakeness</th>\n",
       "      <th rowspan=\"19\" valign=\"top\">True</th>\n",
       "      <th rowspan=\"4\" valign=\"top\">30808</th>\n",
       "      <th>0</th>\n",
       "      <th>adam</th>\n",
       "      <th>128</th>\n",
       "      <th>0.00001</th>\n",
       "      <td>35.222409</td>\n",
       "      <td>29.461828</td>\n",
       "      <td>0.839948</td>\n",
       "      <td>0.988268</td>\n",
       "      <td>0.946287</td>\n",
       "      <td>32.628118</td>\n",
       "    </tr>\n",
       "    <tr>\n",
       "      <th rowspan=\"2\" valign=\"top\">1</th>\n",
       "      <th rowspan=\"2\" valign=\"top\">adam</th>\n",
       "      <th>128</th>\n",
       "      <th>0.00001</th>\n",
       "      <td>35.222409</td>\n",
       "      <td>29.463608</td>\n",
       "      <td>0.839995</td>\n",
       "      <td>0.988369</td>\n",
       "      <td>0.946376</td>\n",
       "      <td>32.621216</td>\n",
       "    </tr>\n",
       "    <tr>\n",
       "      <th>64</th>\n",
       "      <th>0.00001</th>\n",
       "      <td>35.219447</td>\n",
       "      <td>29.312898</td>\n",
       "      <td>0.835748</td>\n",
       "      <td>0.987916</td>\n",
       "      <td>0.944900</td>\n",
       "      <td>32.546757</td>\n",
       "    </tr>\n",
       "    <tr>\n",
       "      <th>0</th>\n",
       "      <th>adam</th>\n",
       "      <th>64</th>\n",
       "      <th>0.00001</th>\n",
       "      <td>35.219447</td>\n",
       "      <td>29.344447</td>\n",
       "      <td>0.836768</td>\n",
       "      <td>0.987927</td>\n",
       "      <td>0.945150</td>\n",
       "      <td>32.546387</td>\n",
       "    </tr>\n",
       "    <tr>\n",
       "      <th>77732</th>\n",
       "      <th>1</th>\n",
       "      <th>adam</th>\n",
       "      <th>128</th>\n",
       "      <th>0.00001</th>\n",
       "      <td>35.017900</td>\n",
       "      <td>29.305281</td>\n",
       "      <td>0.840939</td>\n",
       "      <td>0.988395</td>\n",
       "      <td>0.946731</td>\n",
       "      <td>32.542928</td>\n",
       "    </tr>\n",
       "    <tr>\n",
       "      <th>30808</th>\n",
       "      <th>1</th>\n",
       "      <th>adam</th>\n",
       "      <th>64</th>\n",
       "      <th>0.00010</th>\n",
       "      <td>35.219447</td>\n",
       "      <td>29.294785</td>\n",
       "      <td>0.835287</td>\n",
       "      <td>0.987997</td>\n",
       "      <td>0.944823</td>\n",
       "      <td>32.532460</td>\n",
       "    </tr>\n",
       "    <tr>\n",
       "      <th rowspan=\"2\" valign=\"top\">88219</th>\n",
       "      <th>0</th>\n",
       "      <th>adam</th>\n",
       "      <th>128</th>\n",
       "      <th>0.00001</th>\n",
       "      <td>35.038370</td>\n",
       "      <td>29.324763</td>\n",
       "      <td>0.840735</td>\n",
       "      <td>0.987978</td>\n",
       "      <td>0.946424</td>\n",
       "      <td>32.530562</td>\n",
       "    </tr>\n",
       "    <tr>\n",
       "      <th>1</th>\n",
       "      <th>adam</th>\n",
       "      <th>128</th>\n",
       "      <th>0.00001</th>\n",
       "      <td>35.038370</td>\n",
       "      <td>29.318335</td>\n",
       "      <td>0.840520</td>\n",
       "      <td>0.987808</td>\n",
       "      <td>0.946247</td>\n",
       "      <td>32.521453</td>\n",
       "    </tr>\n",
       "    <tr>\n",
       "      <th>75680</th>\n",
       "      <th>0</th>\n",
       "      <th>adam</th>\n",
       "      <th>128</th>\n",
       "      <th>0.00001</th>\n",
       "      <td>35.109771</td>\n",
       "      <td>29.315862</td>\n",
       "      <td>0.838741</td>\n",
       "      <td>0.988267</td>\n",
       "      <td>0.946019</td>\n",
       "      <td>32.521272</td>\n",
       "    </tr>\n",
       "    <tr>\n",
       "      <th>30808</th>\n",
       "      <th>0</th>\n",
       "      <th>adam</th>\n",
       "      <th>64</th>\n",
       "      <th>0.00010</th>\n",
       "      <td>35.219447</td>\n",
       "      <td>29.273587</td>\n",
       "      <td>0.834667</td>\n",
       "      <td>0.987873</td>\n",
       "      <td>0.944559</td>\n",
       "      <td>32.521255</td>\n",
       "    </tr>\n",
       "    <tr>\n",
       "      <th>77732</th>\n",
       "      <th>0</th>\n",
       "      <th>adam</th>\n",
       "      <th>128</th>\n",
       "      <th>0.00001</th>\n",
       "      <td>35.017900</td>\n",
       "      <td>29.245945</td>\n",
       "      <td>0.839264</td>\n",
       "      <td>0.988349</td>\n",
       "      <td>0.946241</td>\n",
       "      <td>32.510246</td>\n",
       "    </tr>\n",
       "    <tr>\n",
       "      <th>75680</th>\n",
       "      <th>1</th>\n",
       "      <th>adam</th>\n",
       "      <th>128</th>\n",
       "      <th>0.00001</th>\n",
       "      <td>35.109771</td>\n",
       "      <td>29.294205</td>\n",
       "      <td>0.838148</td>\n",
       "      <td>0.988275</td>\n",
       "      <td>0.945859</td>\n",
       "      <td>32.502708</td>\n",
       "    </tr>\n",
       "    <tr>\n",
       "      <th>30808</th>\n",
       "      <th>0</th>\n",
       "      <th>adam</th>\n",
       "      <th>32</th>\n",
       "      <th>0.00001</th>\n",
       "      <td>35.217951</td>\n",
       "      <td>29.196985</td>\n",
       "      <td>0.832486</td>\n",
       "      <td>0.987760</td>\n",
       "      <td>0.943901</td>\n",
       "      <td>32.473391</td>\n",
       "    </tr>\n",
       "    <tr>\n",
       "      <th>88219</th>\n",
       "      <th>0</th>\n",
       "      <th>adam</th>\n",
       "      <th>64</th>\n",
       "      <th>0.00001</th>\n",
       "      <td>35.039809</td>\n",
       "      <td>29.206011</td>\n",
       "      <td>0.837228</td>\n",
       "      <td>0.987726</td>\n",
       "      <td>0.945313</td>\n",
       "      <td>32.459729</td>\n",
       "    </tr>\n",
       "    <tr>\n",
       "      <th>77732</th>\n",
       "      <th>0</th>\n",
       "      <th>adam</th>\n",
       "      <th>64</th>\n",
       "      <th>0.00001</th>\n",
       "      <td>35.013635</td>\n",
       "      <td>29.155454</td>\n",
       "      <td>0.836748</td>\n",
       "      <td>0.988049</td>\n",
       "      <td>0.945358</td>\n",
       "      <td>32.459227</td>\n",
       "    </tr>\n",
       "    <tr>\n",
       "      <th rowspan=\"2\" valign=\"top\">75680</th>\n",
       "      <th>1</th>\n",
       "      <th>adam</th>\n",
       "      <th>64</th>\n",
       "      <th>0.00001</th>\n",
       "      <td>35.113654</td>\n",
       "      <td>29.215267</td>\n",
       "      <td>0.835760</td>\n",
       "      <td>0.988035</td>\n",
       "      <td>0.945047</td>\n",
       "      <td>32.450061</td>\n",
       "    </tr>\n",
       "    <tr>\n",
       "      <th>0</th>\n",
       "      <th>adam</th>\n",
       "      <th>64</th>\n",
       "      <th>0.00001</th>\n",
       "      <td>35.113654</td>\n",
       "      <td>29.190983</td>\n",
       "      <td>0.835040</td>\n",
       "      <td>0.987892</td>\n",
       "      <td>0.944750</td>\n",
       "      <td>32.442438</td>\n",
       "    </tr>\n",
       "    <tr>\n",
       "      <th>30808</th>\n",
       "      <th>0</th>\n",
       "      <th>sgd</th>\n",
       "      <th>50</th>\n",
       "      <th>0.00010</th>\n",
       "      <td>35.217199</td>\n",
       "      <td>29.159999</td>\n",
       "      <td>0.831367</td>\n",
       "      <td>0.986779</td>\n",
       "      <td>0.942905</td>\n",
       "      <td>32.425831</td>\n",
       "    </tr>\n",
       "    <tr>\n",
       "      <th>75680</th>\n",
       "      <th>0</th>\n",
       "      <th>adam</th>\n",
       "      <th>32</th>\n",
       "      <th>0.00001</th>\n",
       "      <td>35.115615</td>\n",
       "      <td>29.102037</td>\n",
       "      <td>0.832422</td>\n",
       "      <td>0.987523</td>\n",
       "      <td>0.943774</td>\n",
       "      <td>32.393645</td>\n",
       "    </tr>\n",
       "    <tr>\n",
       "      <th rowspan=\"4\" valign=\"top\">standard</th>\n",
       "      <th rowspan=\"2\" valign=\"top\">True</th>\n",
       "      <th rowspan=\"2\" valign=\"top\">52744</th>\n",
       "      <th rowspan=\"2\" valign=\"top\">0</th>\n",
       "      <th>adam</th>\n",
       "      <th>64</th>\n",
       "      <th>0.00010</th>\n",
       "      <td>34.463575</td>\n",
       "      <td>28.784733</td>\n",
       "      <td>0.840723</td>\n",
       "      <td>0.987531</td>\n",
       "      <td>0.946291</td>\n",
       "      <td>31.010526</td>\n",
       "    </tr>\n",
       "    <tr>\n",
       "      <th>sgd</th>\n",
       "      <th>50</th>\n",
       "      <th>0.00010</th>\n",
       "      <td>34.466099</td>\n",
       "      <td>28.725199</td>\n",
       "      <td>0.838870</td>\n",
       "      <td>0.986719</td>\n",
       "      <td>0.945216</td>\n",
       "      <td>30.940460</td>\n",
       "    </tr>\n",
       "    <tr>\n",
       "      <th rowspan=\"2\" valign=\"top\">False</th>\n",
       "      <th rowspan=\"2\" valign=\"top\">0</th>\n",
       "      <th rowspan=\"2\" valign=\"top\">0</th>\n",
       "      <th>sgd</th>\n",
       "      <th>50</th>\n",
       "      <th>0.00010</th>\n",
       "      <td>34.746199</td>\n",
       "      <td>28.941499</td>\n",
       "      <td>0.839155</td>\n",
       "      <td>0.986920</td>\n",
       "      <td>0.944869</td>\n",
       "      <td>30.528137</td>\n",
       "    </tr>\n",
       "    <tr>\n",
       "      <th>adam</th>\n",
       "      <th>64</th>\n",
       "      <th>0.00010</th>\n",
       "      <td>34.750995</td>\n",
       "      <td>28.851015</td>\n",
       "      <td>0.836358</td>\n",
       "      <td>0.986727</td>\n",
       "      <td>0.943984</td>\n",
       "      <td>30.452367</td>\n",
       "    </tr>\n",
       "  </tbody>\n",
       "</table>\n",
       "</div>"
      ],
      "text/plain": [
       "                                                           P         TP  \\\n",
       "mode     ort   seedmat seedtrain opt  bs  min_d                           \n",
       "rakeness True  30808   0         adam 128 0.00001  35.222409  29.461828   \n",
       "                       1         adam 128 0.00001  35.222409  29.463608   \n",
       "                                      64  0.00001  35.219447  29.312898   \n",
       "                       0         adam 64  0.00001  35.219447  29.344447   \n",
       "               77732   1         adam 128 0.00001  35.017900  29.305281   \n",
       "               30808   1         adam 64  0.00010  35.219447  29.294785   \n",
       "               88219   0         adam 128 0.00001  35.038370  29.324763   \n",
       "                       1         adam 128 0.00001  35.038370  29.318335   \n",
       "               75680   0         adam 128 0.00001  35.109771  29.315862   \n",
       "               30808   0         adam 64  0.00010  35.219447  29.273587   \n",
       "               77732   0         adam 128 0.00001  35.017900  29.245945   \n",
       "               75680   1         adam 128 0.00001  35.109771  29.294205   \n",
       "               30808   0         adam 32  0.00001  35.217951  29.196985   \n",
       "               88219   0         adam 64  0.00001  35.039809  29.206011   \n",
       "               77732   0         adam 64  0.00001  35.013635  29.155454   \n",
       "               75680   1         adam 64  0.00001  35.113654  29.215267   \n",
       "                       0         adam 64  0.00001  35.113654  29.190983   \n",
       "               30808   0         sgd  50  0.00010  35.217199  29.159999   \n",
       "               75680   0         adam 32  0.00001  35.115615  29.102037   \n",
       "standard True  52744   0         adam 64  0.00010  34.463575  28.784733   \n",
       "                                 sgd  50  0.00010  34.466099  28.725199   \n",
       "         False 0       0         sgd  50  0.00010  34.746199  28.941499   \n",
       "                                 adam 64  0.00010  34.750995  28.851015   \n",
       "\n",
       "                                                        TPR       TNR  \\\n",
       "mode     ort   seedmat seedtrain opt  bs  min_d                         \n",
       "rakeness True  30808   0         adam 128 0.00001  0.839948  0.988268   \n",
       "                       1         adam 128 0.00001  0.839995  0.988369   \n",
       "                                      64  0.00001  0.835748  0.987916   \n",
       "                       0         adam 64  0.00001  0.836768  0.987927   \n",
       "               77732   1         adam 128 0.00001  0.840939  0.988395   \n",
       "               30808   1         adam 64  0.00010  0.835287  0.987997   \n",
       "               88219   0         adam 128 0.00001  0.840735  0.987978   \n",
       "                       1         adam 128 0.00001  0.840520  0.987808   \n",
       "               75680   0         adam 128 0.00001  0.838741  0.988267   \n",
       "               30808   0         adam 64  0.00010  0.834667  0.987873   \n",
       "               77732   0         adam 128 0.00001  0.839264  0.988349   \n",
       "               75680   1         adam 128 0.00001  0.838148  0.988275   \n",
       "               30808   0         adam 32  0.00001  0.832486  0.987760   \n",
       "               88219   0         adam 64  0.00001  0.837228  0.987726   \n",
       "               77732   0         adam 64  0.00001  0.836748  0.988049   \n",
       "               75680   1         adam 64  0.00001  0.835760  0.988035   \n",
       "                       0         adam 64  0.00001  0.835040  0.987892   \n",
       "               30808   0         sgd  50  0.00010  0.831367  0.986779   \n",
       "               75680   0         adam 32  0.00001  0.832422  0.987523   \n",
       "standard True  52744   0         adam 64  0.00010  0.840723  0.987531   \n",
       "                                 sgd  50  0.00010  0.838870  0.986719   \n",
       "         False 0       0         sgd  50  0.00010  0.839155  0.986920   \n",
       "                                 adam 64  0.00010  0.836358  0.986727   \n",
       "\n",
       "                                                        ACC       RSNR  \n",
       "mode     ort   seedmat seedtrain opt  bs  min_d                         \n",
       "rakeness True  30808   0         adam 128 0.00001  0.946287  32.628118  \n",
       "                       1         adam 128 0.00001  0.946376  32.621216  \n",
       "                                      64  0.00001  0.944900  32.546757  \n",
       "                       0         adam 64  0.00001  0.945150  32.546387  \n",
       "               77732   1         adam 128 0.00001  0.946731  32.542928  \n",
       "               30808   1         adam 64  0.00010  0.944823  32.532460  \n",
       "               88219   0         adam 128 0.00001  0.946424  32.530562  \n",
       "                       1         adam 128 0.00001  0.946247  32.521453  \n",
       "               75680   0         adam 128 0.00001  0.946019  32.521272  \n",
       "               30808   0         adam 64  0.00010  0.944559  32.521255  \n",
       "               77732   0         adam 128 0.00001  0.946241  32.510246  \n",
       "               75680   1         adam 128 0.00001  0.945859  32.502708  \n",
       "               30808   0         adam 32  0.00001  0.943901  32.473391  \n",
       "               88219   0         adam 64  0.00001  0.945313  32.459729  \n",
       "               77732   0         adam 64  0.00001  0.945358  32.459227  \n",
       "               75680   1         adam 64  0.00001  0.945047  32.450061  \n",
       "                       0         adam 64  0.00001  0.944750  32.442438  \n",
       "               30808   0         sgd  50  0.00010  0.942905  32.425831  \n",
       "               75680   0         adam 32  0.00001  0.943774  32.393645  \n",
       "standard True  52744   0         adam 64  0.00010  0.946291  31.010526  \n",
       "                                 sgd  50  0.00010  0.945216  30.940460  \n",
       "         False 0       0         sgd  50  0.00010  0.944869  30.528137  \n",
       "                                 adam 64  0.00010  0.943984  30.452367  "
      ]
     },
     "execution_count": 10,
     "metadata": {},
     "output_type": "execute_result"
    }
   ],
   "source": [
    "\n",
    "results.loc[48].sort_values('RSNR', ascending=False)"
   ]
  },
  {
   "cell_type": "code",
   "execution_count": 85,
   "metadata": {},
   "outputs": [
    {
     "name": "stdout",
     "output_type": "stream",
     "text": [
      "2.5.1\n"
     ]
    }
   ],
   "source": [
    "import torch\n",
    "print(torch.__version__)"
   ]
  },
  {
   "cell_type": "code",
   "execution_count": null,
   "metadata": {},
   "outputs": [],
   "source": []
  }
 ],
 "metadata": {
  "kernelspec": {
   "display_name": "dnncs",
   "language": "python",
   "name": "python3"
  },
  "language_info": {
   "codemirror_mode": {
    "name": "ipython",
    "version": 3
   },
   "file_extension": ".py",
   "mimetype": "text/x-python",
   "name": "python",
   "nbconvert_exporter": "python",
   "pygments_lexer": "ipython3",
   "version": "3.9.19"
  }
 },
 "nbformat": 4,
 "nbformat_minor": 2
}
