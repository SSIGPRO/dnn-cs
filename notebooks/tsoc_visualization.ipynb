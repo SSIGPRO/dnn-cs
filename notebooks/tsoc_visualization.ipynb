{
 "cells": [
  {
   "cell_type": "code",
   "execution_count": 31,
   "metadata": {},
   "outputs": [],
   "source": [
    "import os\n",
    "import sys\n",
    "import numpy as np\n",
    "import pandas as pd\n",
    "import pickle\n",
    "import tqdm\n",
    "import matplotlib.pyplot as plt\n",
    "import re\n",
    "\n",
    "root = os.path.dirname(os.path.dirname(os.path.realpath('__file__')))\n",
    "sys.path.insert(0, os.path.join(root, 'src'))\n",
    "\n",
    "from models import models_dir"
   ]
  },
  {
   "cell_type": "code",
   "execution_count": 32,
   "metadata": {},
   "outputs": [
    {
     "data": {
      "text/plain": [
       "['TSOC-N=2000000_n=128_m=48_fs=256_hr=60-100_isnr=35_mode=standard_src=best_ort=True_seedmat=52744_epochs=1000_bs=64_opt=adam_lr=0.001_th=0.5_tf=0.9_minlr=1e-05_p=40_mind=0.0001_seeddata=11_seedtrain=0.pth',\n",
       " 'TSOC-N=2000000_n=128_m=48_fs=256_hr=60-100_isnr=35_mode=standard_src=random_ort=False_seedmat=0_epochs=1000_bs=64_opt=adam_lr=0.001_th=0.5_tf=0.9_minlr=1e-05_p=40_mind=0.0001_seeddata=11_seedtrain=0.pth',\n",
       " 'TSOC-N=2000000_n=128_m=48_fs=256_hr=60-100_isnr=35_mode=rakeness_src=best_ort=True_seedmat=30808_epochs=1000_bs=64_opt=adam_lr=0.001_th=0.5_tf=0.9_minlr=1e-05_p=40_mind=0.0001_seeddata=11_seedtrain=0_corr=96af96a7ddfcb2f6059092c250e18f2a_loc=0.25.pth',\n",
       " 'TSOC-N=2000000_n=128_m=48_fs=256_hr=60-100_isnr=35_mode=standard_src=best_ort=True_seedmat=52744_epochs=1000_bs=50_opt=sgd_lr=0.1_th=0.5_tf=0.9_minlr=0.001_p=40_mind=0.0001_seeddata=11_seedtrain=0.pth',\n",
       " 'TSOC-N=2000000_n=128_m=48_fs=256_hr=60-100_isnr=35_mode=rakeness_src=best_ort=True_seedmat=30808_epochs=1000_bs=50_opt=sgd_lr=0.1_th=0.5_tf=0.9_minlr=0.001_p=40_mind=0.0001_seeddata=11_seedtrain=0_corr=96af96a7ddfcb2f6059092c250e18f2a_loc=0.25.pth',\n",
       " 'TSOC-N=2000000_n=128_m=32_fs=256_hr=60-100_isnr=35_mode=standard_src=random_ort=False_seedmat=0_epochs=1000_bs=50_opt=sgd_lr=0.1_th=0.5_tf=0.9_minlr=0.001_p=40_mind=0.0001_seeddata=11_seedtrain=0.pth',\n",
       " 'TSOC-N=2000000_n=128_m=48_fs=256_hr=60-100_isnr=35_mode=standard_src=random_ort=False_seedmat=0_epochs=1000_bs=50_opt=sgd_lr=0.1_th=0.5_tf=0.9_minlr=0.001_p=40_mind=0.0001_seeddata=11_seedtrain=0.pth']"
      ]
     },
     "execution_count": 32,
     "metadata": {},
     "output_type": "execute_result"
    }
   ],
   "source": [
    "epochs = 1000\n",
    "trained_models = os.listdir(f'{models_dir}TSOC')\n",
    "trained_models = [trained_model for trained_model in trained_models if f'epochs={epochs}' in trained_model]\n",
    "trained_models"
   ]
  },
  {
   "cell_type": "code",
   "execution_count": 33,
   "metadata": {},
   "outputs": [],
   "source": [
    "def parse_parameters(model_name):\n",
    "    model_name = model_name.split('.pth')[0]\n",
    "    model_name = model_name.split('TSOC-')[1]\n",
    "    params = model_name.split('_')\n",
    "    param_dict = {}\n",
    "    for param in params:\n",
    "        key, value = param.split('=')\n",
    "        # Attempt to convert to int, float, or keep as string\n",
    "        if value.isdigit():\n",
    "            param_dict[key] = int(value)\n",
    "        else:\n",
    "            try:\n",
    "                param_dict[key] = float(value)\n",
    "            except ValueError:\n",
    "                # Special case for booleans\n",
    "                if value.lower() in ['true', 'false']:\n",
    "                    param_dict[key] = value.lower() == 'true'\n",
    "                else:\n",
    "                    param_dict[key] = value\n",
    "\n",
    "    return param_dict"
   ]
  },
  {
   "cell_type": "markdown",
   "metadata": {},
   "source": [
    "## TSOC reconstruction evaluation"
   ]
  },
  {
   "cell_type": "markdown",
   "metadata": {},
   "source": [
    "### Evaluate models"
   ]
  },
  {
   "cell_type": "code",
   "execution_count": 83,
   "metadata": {},
   "outputs": [
    {
     "name": "stderr",
     "output_type": "stream",
     "text": [
      "INFO:root:Running test with parameters: n=128, m=48, epochs=1000, lr=0.001, opt=adam, batch_size=64, N_train=2000000, basis=sym6, fs=256, heart_rate=[60, 100], isnr=35, mode=standard, orthogonal=True, source=best, seed_matrix=52744, seed_training=0, processes=48, threshold=0.5, gpu=3, train_fraction=0.9, min_lr=1e-05, min_delta=0.0001, patience=40, N_test=10000, corr_name=96af96a7ddfcb2f6059092c250e18f2a, support_method=TSOC, seed_train_data=11, seed_test_data=66, M=1000, loc=0.25, results_folder=/srv/newpenny/dnn-cs/tsoc/results/TSOC/reconstruction, model_folder=/srv/newpenny/dnn-cs/tsoc/trained_models/TSOC\n"
     ]
    },
    {
     "name": "stdout",
     "output_type": "stream",
     "text": [
      "Model\n",
      "TSOC-N=2000000_n=128_m=48_fs=256_hr=60-100_isnr=35_mode=standard_src=best_ort=True_seedmat=52744_epochs=1000_bs=64_opt=adam_lr=0.001_th=0.5_tf=0.9_minlr=1e-05_p=40_mind=0.0001_seeddata=11_seedtrain=0\n",
      "has already been evaluated\n"
     ]
    },
    {
     "name": "stderr",
     "output_type": "stream",
     "text": [
      "INFO:root:Running test with parameters: n=128, m=48, epochs=1000, lr=0.001, opt=adam, batch_size=64, N_train=2000000, basis=sym6, fs=256, heart_rate=[60, 100], isnr=35, mode=standard, orthogonal=False, source=random, seed_matrix=0, seed_training=0, processes=48, threshold=0.5, gpu=3, train_fraction=0.9, min_lr=1e-05, min_delta=0.0001, patience=40, N_test=10000, corr_name=96af96a7ddfcb2f6059092c250e18f2a, support_method=TSOC, seed_train_data=11, seed_test_data=66, M=1000, loc=0.25, results_folder=/srv/newpenny/dnn-cs/tsoc/results/TSOC/reconstruction, model_folder=/srv/newpenny/dnn-cs/tsoc/trained_models/TSOC\n"
     ]
    },
    {
     "name": "stdout",
     "output_type": "stream",
     "text": [
      "Model\n",
      "TSOC-N=2000000_n=128_m=48_fs=256_hr=60-100_isnr=35_mode=standard_src=random_ort=False_seedmat=0_epochs=1000_bs=64_opt=adam_lr=0.001_th=0.5_tf=0.9_minlr=1e-05_p=40_mind=0.0001_seeddata=11_seedtrain=0\n",
      "has already been evaluated\n"
     ]
    },
    {
     "name": "stderr",
     "output_type": "stream",
     "text": [
      "INFO:root:Running test with parameters: n=128, m=48, epochs=1000, lr=0.001, opt=adam, batch_size=64, N_train=2000000, basis=sym6, fs=256, heart_rate=[60, 100], isnr=35, mode=rakeness, orthogonal=True, source=best, seed_matrix=30808, seed_training=0, processes=48, threshold=0.5, gpu=3, train_fraction=0.9, min_lr=1e-05, min_delta=0.0001, patience=40, N_test=10000, corr_name=96af96a7ddfcb2f6059092c250e18f2a, support_method=TSOC, seed_train_data=11, seed_test_data=66, M=1000, loc=0.25, results_folder=/srv/newpenny/dnn-cs/tsoc/results/TSOC/reconstruction, model_folder=/srv/newpenny/dnn-cs/tsoc/trained_models/TSOC\n"
     ]
    },
    {
     "name": "stdout",
     "output_type": "stream",
     "text": [
      "Model\n",
      "TSOC-N=2000000_n=128_m=48_fs=256_hr=60-100_isnr=35_mode=rakeness_src=best_ort=True_seedmat=30808_epochs=1000_bs=64_opt=adam_lr=0.001_th=0.5_tf=0.9_minlr=1e-05_p=40_mind=0.0001_seeddata=11_seedtrain=0_corr=96af96a7ddfcb2f6059092c250e18f2a_loc=0.25\n",
      "has already been evaluated\n"
     ]
    },
    {
     "name": "stderr",
     "output_type": "stream",
     "text": [
      "INFO:root:Running test with parameters: n=128, m=48, epochs=1000, lr=0.1, opt=sgd, batch_size=50, N_train=2000000, basis=sym6, fs=256, heart_rate=[60, 100], isnr=35, mode=standard, orthogonal=True, source=best, seed_matrix=52744, seed_training=0, processes=48, threshold=0.5, gpu=3, train_fraction=0.9, min_lr=0.001, min_delta=0.0001, patience=40, N_test=10000, corr_name=96af96a7ddfcb2f6059092c250e18f2a, support_method=TSOC, seed_train_data=11, seed_test_data=66, M=1000, loc=0.25, results_folder=/srv/newpenny/dnn-cs/tsoc/results/TSOC/reconstruction, model_folder=/srv/newpenny/dnn-cs/tsoc/trained_models/TSOC\n"
     ]
    },
    {
     "name": "stdout",
     "output_type": "stream",
     "text": [
      "Model\n",
      "TSOC-N=2000000_n=128_m=48_fs=256_hr=60-100_isnr=35_mode=standard_src=best_ort=True_seedmat=52744_epochs=1000_bs=50_opt=sgd_lr=0.1_th=0.5_tf=0.9_minlr=0.001_p=40_mind=0.0001_seeddata=11_seedtrain=0\n",
      "has already been evaluated\n"
     ]
    },
    {
     "name": "stderr",
     "output_type": "stream",
     "text": [
      "INFO:root:Running test with parameters: n=128, m=48, epochs=1000, lr=0.1, opt=sgd, batch_size=50, N_train=2000000, basis=sym6, fs=256, heart_rate=[60, 100], isnr=35, mode=rakeness, orthogonal=True, source=best, seed_matrix=30808, seed_training=0, processes=48, threshold=0.5, gpu=3, train_fraction=0.9, min_lr=0.001, min_delta=0.0001, patience=40, N_test=10000, corr_name=96af96a7ddfcb2f6059092c250e18f2a, support_method=TSOC, seed_train_data=11, seed_test_data=66, M=1000, loc=0.25, results_folder=/srv/newpenny/dnn-cs/tsoc/results/TSOC/reconstruction, model_folder=/srv/newpenny/dnn-cs/tsoc/trained_models/TSOC\n"
     ]
    },
    {
     "name": "stdout",
     "output_type": "stream",
     "text": [
      "Model\n",
      "TSOC-N=2000000_n=128_m=48_fs=256_hr=60-100_isnr=35_mode=rakeness_src=best_ort=True_seedmat=30808_epochs=1000_bs=50_opt=sgd_lr=0.1_th=0.5_tf=0.9_minlr=0.001_p=40_mind=0.0001_seeddata=11_seedtrain=0_corr=96af96a7ddfcb2f6059092c250e18f2a_loc=0.25\n",
      "has already been evaluated\n"
     ]
    },
    {
     "name": "stderr",
     "output_type": "stream",
     "text": [
      "INFO:root:Running test with parameters: n=128, m=32, epochs=1000, lr=0.1, opt=sgd, batch_size=50, N_train=2000000, basis=sym6, fs=256, heart_rate=[60, 100], isnr=35, mode=standard, orthogonal=False, source=random, seed_matrix=0, seed_training=0, processes=48, threshold=0.5, gpu=3, train_fraction=0.9, min_lr=0.001, min_delta=0.0001, patience=40, N_test=10000, corr_name=96af96a7ddfcb2f6059092c250e18f2a, support_method=TSOC, seed_train_data=11, seed_test_data=66, M=1000, loc=0.25, results_folder=/srv/newpenny/dnn-cs/tsoc/results/TSOC/reconstruction, model_folder=/srv/newpenny/dnn-cs/tsoc/trained_models/TSOC\n",
      "Traceback (most recent call last):\n",
      "  File \"/home/andriyenttsel/dnn-cs/notebooks/../experiments/decoder_evaluation.py\", line 191, in <module>\n",
      "    test(\n",
      "  File \"/home/andriyenttsel/dnn-cs/notebooks/../experiments/decoder_evaluation.py\", line 90, in test\n",
      "    with open(data_path, 'rb') as f:\n",
      "FileNotFoundError: [Errno 2] No such file or directory: '/srv/newpenny/dnn-cs/tsoc/data/ecg_N=10000_n=128_fs=256_hr=60-100_isnr=35_seed=66/supports_method=TSOC_mode=standard_m=32_orth=False_seed=0.pkl'\n",
      "INFO:root:Running test with parameters: n=128, m=48, epochs=1000, lr=0.1, opt=sgd, batch_size=50, N_train=2000000, basis=sym6, fs=256, heart_rate=[60, 100], isnr=35, mode=standard, orthogonal=False, source=random, seed_matrix=0, seed_training=0, processes=48, threshold=0.5, gpu=3, train_fraction=0.9, min_lr=0.001, min_delta=0.0001, patience=40, N_test=10000, corr_name=96af96a7ddfcb2f6059092c250e18f2a, support_method=TSOC, seed_train_data=11, seed_test_data=66, M=1000, loc=0.25, results_folder=/srv/newpenny/dnn-cs/tsoc/results/TSOC/reconstruction, model_folder=/srv/newpenny/dnn-cs/tsoc/trained_models/TSOC\n"
     ]
    },
    {
     "name": "stdout",
     "output_type": "stream",
     "text": [
      "Model\n",
      "TSOC-N=2000000_n=128_m=48_fs=256_hr=60-100_isnr=35_mode=standard_src=random_ort=False_seedmat=0_epochs=1000_bs=50_opt=sgd_lr=0.1_th=0.5_tf=0.9_minlr=0.001_p=40_mind=0.0001_seeddata=11_seedtrain=0\n",
      "has already been evaluated\n"
     ]
    }
   ],
   "source": [
    "for model_name in trained_models:\n",
    "    params = parse_parameters(model_name)\n",
    "    orthogonal_flag = \"--orthogonal\" if params['ort'] else \"\"\n",
    "    heart_rate = params['hr'].replace('-', ' ')\n",
    "    command = f\"\"\"\n",
    "        python ../experiments/decoder_evaluation.py \\\n",
    "            --n {params['n']} \\\n",
    "            --m {params['m']} \\\n",
    "            --seed_training {params['seedtrain']} \\\n",
    "            --mode {params['mode']} \\\n",
    "            --seed_matrix {params['seedmat']} \\\n",
    "            --isnr {params['isnr']} \\\n",
    "            --N_train {params['N']} \\\n",
    "            --train_fraction {params['tf']} \\\n",
    "            --N_test 10000 \\\n",
    "            --basis sym6 \\\n",
    "            --fs {params['fs']} \\\n",
    "            --heart_rate {heart_rate} \\\n",
    "            {orthogonal_flag} \\\n",
    "            --source {params['src']} \\\n",
    "            --processes 48 \\\n",
    "            --gpu 3 \\\n",
    "            --min_lr {params['minlr']} \\\n",
    "            --min_delta {params['mind']} \\\n",
    "            --patience {params['p']} \\\n",
    "            --batch_size {params['bs']} \\\n",
    "            --threshold {params['th']} \\\n",
    "            --epochs {params['epochs']} \\\n",
    "            --lr {params['lr']} \\\n",
    "            --optimizer {params['opt']}\n",
    "        \"\"\"\n",
    "    os.system(command)"
   ]
  },
  {
   "cell_type": "markdown",
   "metadata": {},
   "source": []
  },
  {
   "cell_type": "markdown",
   "metadata": {},
   "source": [
    "### Aggregate performance results"
   ]
  },
  {
   "cell_type": "code",
   "execution_count": 63,
   "metadata": {},
   "outputs": [
    {
     "data": {
      "text/plain": [
       "['TSOC-N=2000000_n=128_m=48_fs=256_hr=60-100_isnr=35_mode=standard_src=best_ort=True_seedmat=52744_epochs=1000_bs=64_opt=adam_lr=0.001_th=0.5_tf=0.9_minlr=1e-05_p=40_mind=0.0001_seeddata=11_seedtrain=0.pkl',\n",
       " 'TSOC-N=2000000_n=128_m=48_fs=256_hr=60-100_isnr=35_mode=rakeness_src=best_ort=True_seedmat=30808_epochs=1000_bs=64_opt=adam_lr=0.001_th=0.5_tf=0.9_minlr=1e-05_p=40_mind=0.0001_seeddata=11_seedtrain=0_corr=96af96a7ddfcb2f6059092c250e18f2a_loc=0.25.pkl',\n",
       " 'TSOC-N=2000000_n=128_m=48_fs=256_hr=60-100_isnr=35_mode=standard_src=best_ort=True_seedmat=52744_epochs=1000_bs=50_opt=sgd_lr=0.1_th=0.5_tf=0.9_minlr=0.001_p=40_mind=0.0001_seeddata=11_seedtrain=0.pkl',\n",
       " 'TSOC-N=2000000_n=128_m=48_fs=256_hr=60-100_isnr=35_mode=rakeness_src=best_ort=True_seedmat=30808_epochs=1000_bs=50_opt=sgd_lr=0.1_th=0.5_tf=0.9_minlr=0.001_p=40_mind=0.0001_seeddata=11_seedtrain=0_corr=96af96a7ddfcb2f6059092c250e18f2a_loc=0.25.pkl',\n",
       " 'TSOC-N=2000000_n=128_m=48_fs=256_hr=60-100_isnr=35_mode=standard_src=random_ort=False_seedmat=0_epochs=1000_bs=64_opt=adam_lr=0.001_th=0.5_tf=0.9_minlr=1e-05_p=40_mind=0.0001_seeddata=11_seedtrain=0.pkl',\n",
       " 'TSOC-N=2000000_n=128_m=48_fs=256_hr=60-100_isnr=35_mode=standard_src=random_ort=False_seedmat=0_epochs=1000_bs=50_opt=sgd_lr=0.1_th=0.5_tf=0.9_minlr=0.001_p=40_mind=0.0001_seeddata=11_seedtrain=0.pkl']"
      ]
     },
     "execution_count": 63,
     "metadata": {},
     "output_type": "execute_result"
    }
   ],
   "source": [
    "# save peformance\n",
    "results_folder = '/srv/newpenny/dnn-cs/tsoc/results/TSOC/reconstruction'\n",
    "os.listdir(results_folder)\n"
   ]
  },
  {
   "cell_type": "code",
   "execution_count": 78,
   "metadata": {},
   "outputs": [],
   "source": [
    "m_list = [32, 48, 64]\n",
    "mode_list = ['std', 'rak']\n",
    "ort_list = [True, False]\n",
    "seed_mat_list = []\n",
    "seed_train_list = [0, 1, 2, 3, 4]\n",
    "opt_list = ['adam', 'sgd']\n",
    "bs_list = [32, 64, 128]\n",
    "\n",
    "\n",
    "index = pd.MultiIndex.from_product(\n",
    "    [m_list, mode_list, ort_list, seed_mat_list, seed_train_list, opt_list, bs_list],\n",
    "      names=['m', 'mode', 'ort', 'seedmat', 'seedtrain', 'opt', 'bs'])"
   ]
  },
  {
   "cell_type": "code",
   "execution_count": 79,
   "metadata": {},
   "outputs": [],
   "source": [
    "results = pd.DataFrame(index=index, columns=['P', 'TP', 'TPR', 'TNR', 'ACC', 'RSNR'], dtype=np.float64)\n",
    "# results = pd.DataFrame(columns=['P', 'TP', 'TPR', 'TNR', 'ACC', 'RSNR'], dtype=np.float64)\n",
    "for model_name in trained_models:\n",
    "    params = parse_parameters(model_name)\n",
    "    results_path = os.path.join(results_folder, f\"{model_name.split('.pth')[0]}.pkl\")\n",
    "    if os.path.exists(results_path):\n",
    "        result = pd.read_pickle(results_path)\n",
    "        results.loc[params['m'], params['mode'], params['ort'], params['seedmat'], params['seedtrain'], params['opt'], params['bs']] = result"
   ]
  },
  {
   "cell_type": "code",
   "execution_count": 80,
   "metadata": {},
   "outputs": [
    {
     "data": {
      "text/html": [
       "<div>\n",
       "<style scoped>\n",
       "    .dataframe tbody tr th:only-of-type {\n",
       "        vertical-align: middle;\n",
       "    }\n",
       "\n",
       "    .dataframe tbody tr th {\n",
       "        vertical-align: top;\n",
       "    }\n",
       "\n",
       "    .dataframe thead th {\n",
       "        text-align: right;\n",
       "    }\n",
       "</style>\n",
       "<table border=\"1\" class=\"dataframe\">\n",
       "  <thead>\n",
       "    <tr style=\"text-align: right;\">\n",
       "      <th></th>\n",
       "      <th></th>\n",
       "      <th></th>\n",
       "      <th></th>\n",
       "      <th></th>\n",
       "      <th></th>\n",
       "      <th>P</th>\n",
       "      <th>TP</th>\n",
       "      <th>TPR</th>\n",
       "      <th>TNR</th>\n",
       "      <th>ACC</th>\n",
       "      <th>RSNR</th>\n",
       "    </tr>\n",
       "    <tr>\n",
       "      <th>mode</th>\n",
       "      <th>ort</th>\n",
       "      <th>seedmat</th>\n",
       "      <th>seedtrain</th>\n",
       "      <th>opt</th>\n",
       "      <th>bs</th>\n",
       "      <th></th>\n",
       "      <th></th>\n",
       "      <th></th>\n",
       "      <th></th>\n",
       "      <th></th>\n",
       "      <th></th>\n",
       "    </tr>\n",
       "  </thead>\n",
       "  <tbody>\n",
       "    <tr>\n",
       "      <th rowspan=\"2\" valign=\"top\">rakeness</th>\n",
       "      <th rowspan=\"2\" valign=\"top\">True</th>\n",
       "      <th rowspan=\"2\" valign=\"top\">30808</th>\n",
       "      <th rowspan=\"2\" valign=\"top\">0</th>\n",
       "      <th>adam</th>\n",
       "      <th>64</th>\n",
       "      <td>35.219447</td>\n",
       "      <td>29.273587</td>\n",
       "      <td>0.834667</td>\n",
       "      <td>0.987873</td>\n",
       "      <td>0.944559</td>\n",
       "      <td>32.521255</td>\n",
       "    </tr>\n",
       "    <tr>\n",
       "      <th>sgd</th>\n",
       "      <th>50</th>\n",
       "      <td>35.217199</td>\n",
       "      <td>29.159999</td>\n",
       "      <td>0.831367</td>\n",
       "      <td>0.986779</td>\n",
       "      <td>0.942905</td>\n",
       "      <td>32.425831</td>\n",
       "    </tr>\n",
       "    <tr>\n",
       "      <th rowspan=\"4\" valign=\"top\">standard</th>\n",
       "      <th rowspan=\"2\" valign=\"top\">True</th>\n",
       "      <th rowspan=\"2\" valign=\"top\">52744</th>\n",
       "      <th rowspan=\"2\" valign=\"top\">0</th>\n",
       "      <th>adam</th>\n",
       "      <th>64</th>\n",
       "      <td>34.463575</td>\n",
       "      <td>28.784733</td>\n",
       "      <td>0.840723</td>\n",
       "      <td>0.987531</td>\n",
       "      <td>0.946291</td>\n",
       "      <td>31.010526</td>\n",
       "    </tr>\n",
       "    <tr>\n",
       "      <th>sgd</th>\n",
       "      <th>50</th>\n",
       "      <td>34.466099</td>\n",
       "      <td>28.725199</td>\n",
       "      <td>0.838870</td>\n",
       "      <td>0.986719</td>\n",
       "      <td>0.945216</td>\n",
       "      <td>30.940460</td>\n",
       "    </tr>\n",
       "    <tr>\n",
       "      <th rowspan=\"2\" valign=\"top\">False</th>\n",
       "      <th rowspan=\"2\" valign=\"top\">0</th>\n",
       "      <th rowspan=\"2\" valign=\"top\">0</th>\n",
       "      <th>sgd</th>\n",
       "      <th>50</th>\n",
       "      <td>34.746199</td>\n",
       "      <td>28.941499</td>\n",
       "      <td>0.839155</td>\n",
       "      <td>0.986920</td>\n",
       "      <td>0.944869</td>\n",
       "      <td>30.528137</td>\n",
       "    </tr>\n",
       "    <tr>\n",
       "      <th>adam</th>\n",
       "      <th>64</th>\n",
       "      <td>34.750995</td>\n",
       "      <td>28.851015</td>\n",
       "      <td>0.836358</td>\n",
       "      <td>0.986727</td>\n",
       "      <td>0.943984</td>\n",
       "      <td>30.452367</td>\n",
       "    </tr>\n",
       "  </tbody>\n",
       "</table>\n",
       "</div>"
      ],
      "text/plain": [
       "                                                  P         TP       TPR  \\\n",
       "mode     ort   seedmat seedtrain opt  bs                                   \n",
       "rakeness True  30808   0         adam 64  35.219447  29.273587  0.834667   \n",
       "                                 sgd  50  35.217199  29.159999  0.831367   \n",
       "standard True  52744   0         adam 64  34.463575  28.784733  0.840723   \n",
       "                                 sgd  50  34.466099  28.725199  0.838870   \n",
       "         False 0       0         sgd  50  34.746199  28.941499  0.839155   \n",
       "                                 adam 64  34.750995  28.851015  0.836358   \n",
       "\n",
       "                                               TNR       ACC       RSNR  \n",
       "mode     ort   seedmat seedtrain opt  bs                                 \n",
       "rakeness True  30808   0         adam 64  0.987873  0.944559  32.521255  \n",
       "                                 sgd  50  0.986779  0.942905  32.425831  \n",
       "standard True  52744   0         adam 64  0.987531  0.946291  31.010526  \n",
       "                                 sgd  50  0.986719  0.945216  30.940460  \n",
       "         False 0       0         sgd  50  0.986920  0.944869  30.528137  \n",
       "                                 adam 64  0.986727  0.943984  30.452367  "
      ]
     },
     "execution_count": 80,
     "metadata": {},
     "output_type": "execute_result"
    }
   ],
   "source": [
    "results.loc[48].sort_values('RSNR', ascending=False)"
   ]
  },
  {
   "cell_type": "code",
   "execution_count": 85,
   "metadata": {},
   "outputs": [
    {
     "name": "stdout",
     "output_type": "stream",
     "text": [
      "2.5.1\n"
     ]
    }
   ],
   "source": [
    "import torch\n",
    "print(torch.__version__)"
   ]
  },
  {
   "cell_type": "code",
   "execution_count": null,
   "metadata": {},
   "outputs": [],
   "source": []
  }
 ],
 "metadata": {
  "kernelspec": {
   "display_name": "dnncs",
   "language": "python",
   "name": "python3"
  },
  "language_info": {
   "codemirror_mode": {
    "name": "ipython",
    "version": 3
   },
   "file_extension": ".py",
   "mimetype": "text/x-python",
   "name": "python",
   "nbconvert_exporter": "python",
   "pygments_lexer": "ipython3",
   "version": "3.9.19"
  }
 },
 "nbformat": 4,
 "nbformat_minor": 2
}
